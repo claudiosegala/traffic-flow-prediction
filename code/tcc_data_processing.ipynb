{
  "nbformat": 4,
  "nbformat_minor": 0,
  "metadata": {
    "colab": {
      "name": "tcc_data_processing.ipynb",
      "provenance": [],
      "include_colab_link": true
    },
    "kernelspec": {
      "name": "python3",
      "display_name": "Python 3"
    }
  },
  "cells": [
    {
      "cell_type": "markdown",
      "metadata": {
        "id": "view-in-github",
        "colab_type": "text"
      },
      "source": [
        "<a href=\"https://colab.research.google.com/github/claudiosegala/Monografia/blob/master/code/tcc_data_processing.ipynb\" target=\"_parent\"><img src=\"https://colab.research.google.com/assets/colab-badge.svg\" alt=\"Open In Colab\"/></a>"
      ]
    },
    {
      "cell_type": "code",
      "metadata": {
        "id": "2DKrCg_ujlkM",
        "colab_type": "code",
        "colab": {
          "base_uri": "https://localhost:8080/",
          "height": 141
        },
        "outputId": "4b018c49-2b7c-4e7f-e8d2-78b7edf72a4f"
      },
      "source": [
        "import google as g # To connect with google drive\n",
        "g.colab.drive.mount('/content/drive')"
      ],
      "execution_count": 2,
      "outputs": [
        {
          "output_type": "stream",
          "text": [
            "Go to this URL in a browser: https://accounts.google.com/o/oauth2/auth?client_id=947318989803-6bn6qk8qdgf4n4g3pfee6491hc0brc4i.apps.googleusercontent.com&redirect_uri=urn%3Aietf%3Awg%3Aoauth%3A2.0%3Aoob&scope=email%20https%3A%2F%2Fwww.googleapis.com%2Fauth%2Fdocs.test%20https%3A%2F%2Fwww.googleapis.com%2Fauth%2Fdrive%20https%3A%2F%2Fwww.googleapis.com%2Fauth%2Fdrive.photos.readonly%20https%3A%2F%2Fwww.googleapis.com%2Fauth%2Fpeopleapi.readonly&response_type=code\n",
            "\n",
            "Enter your authorization code:\n",
            "··········\n",
            "Mounted at /content/drive\n",
            "Drive already mounted at /content/drive; to attempt to forcibly remount, call drive.mount(\"/content/drive\", force_remount=True).\n"
          ],
          "name": "stdout"
        }
      ]
    },
    {
      "cell_type": "code",
      "metadata": {
        "id": "iwlEjSTqj8B5",
        "colab_type": "code",
        "colab": {
          "base_uri": "https://localhost:8080/",
          "height": 279
        },
        "outputId": "e63be154-623b-4a06-9e3d-8425b3bace3f"
      },
      "source": [
        "!pip install numpy\n",
        "!pip install pandas"
      ],
      "execution_count": 3,
      "outputs": [
        {
          "output_type": "stream",
          "text": [
            "Requirement already satisfied: numpy in /usr/local/lib/python3.6/dist-packages (1.17.3)\n",
            "Requirement already satisfied: pandas in /usr/local/lib/python3.6/dist-packages (0.25.3)\n",
            "Requirement already satisfied: python-dateutil>=2.6.1 in /usr/local/lib/python3.6/dist-packages (from pandas) (2.6.1)\n",
            "Requirement already satisfied: pytz>=2017.2 in /usr/local/lib/python3.6/dist-packages (from pandas) (2018.9)\n",
            "Requirement already satisfied: numpy>=1.13.3 in /usr/local/lib/python3.6/dist-packages (from pandas) (1.17.3)\n",
            "Requirement already satisfied: six>=1.5 in /usr/local/lib/python3.6/dist-packages (from python-dateutil>=2.6.1->pandas) (1.12.0)\n",
            "Requirement already satisfied: matplotlib in /usr/local/lib/python3.6/dist-packages (3.1.1)\n",
            "Requirement already satisfied: numpy>=1.11 in /usr/local/lib/python3.6/dist-packages (from matplotlib) (1.17.3)\n",
            "Requirement already satisfied: python-dateutil>=2.1 in /usr/local/lib/python3.6/dist-packages (from matplotlib) (2.6.1)\n",
            "Requirement already satisfied: kiwisolver>=1.0.1 in /usr/local/lib/python3.6/dist-packages (from matplotlib) (1.1.0)\n",
            "Requirement already satisfied: cycler>=0.10 in /usr/local/lib/python3.6/dist-packages (from matplotlib) (0.10.0)\n",
            "Requirement already satisfied: pyparsing!=2.0.4,!=2.1.2,!=2.1.6,>=2.0.1 in /usr/local/lib/python3.6/dist-packages (from matplotlib) (2.4.2)\n",
            "Requirement already satisfied: six>=1.5 in /usr/local/lib/python3.6/dist-packages (from python-dateutil>=2.1->matplotlib) (1.12.0)\n",
            "Requirement already satisfied: setuptools in /usr/local/lib/python3.6/dist-packages (from kiwisolver>=1.0.1->matplotlib) (41.4.0)\n"
          ],
          "name": "stdout"
        }
      ]
    },
    {
      "cell_type": "code",
      "metadata": {
        "id": "6AKrF-MekH-z",
        "colab_type": "code",
        "colab": {}
      },
      "source": [
        "import pandas as pd # data manipulation library\n",
        "import numpy as np # math library\n",
        "import datetime as dt # to discover week day"
      ],
      "execution_count": 0,
      "outputs": []
    },
    {
      "cell_type": "code",
      "metadata": {
        "id": "31-2TQiEkQWi",
        "colab_type": "code",
        "colab": {}
      },
      "source": [
        "TCC_FOLDER = '/content/drive/My Drive/TCC/'"
      ],
      "execution_count": 0,
      "outputs": []
    },
    {
      "cell_type": "code",
      "metadata": {
        "id": "12_oiu5Fkf4H",
        "colab_type": "code",
        "colab": {}
      },
      "source": [
        "DATASET_PATH = f\"{TCC_FOLDER}dataset/all_data_sorted.csv\""
      ],
      "execution_count": 0,
      "outputs": []
    },
    {
      "cell_type": "code",
      "metadata": {
        "id": "Q-J9ZspukjZA",
        "colab_type": "code",
        "colab": {}
      },
      "source": [
        "col_names = [\n",
        "  'Sensor',\n",
        "  'Date',\n",
        "  'Time',\n",
        "  'Lane',\n",
        "  'Speed',\n",
        "  'Max Speed',\n",
        "  'Size'\n",
        "]\n",
        "\n",
        "data = pd.read_csv(DATASET_PATH, ';', header=None, names=col_names)"
      ],
      "execution_count": 0,
      "outputs": []
    },
    {
      "cell_type": "code",
      "metadata": {
        "id": "rDnCz36rkr1X",
        "colab_type": "code",
        "colab": {
          "base_uri": "https://localhost:8080/",
          "height": 198
        },
        "outputId": "068f8da5-f176-4e0d-e2ef-35bf8e0d9a6b"
      },
      "source": [
        "data.head()"
      ],
      "execution_count": 8,
      "outputs": [
        {
          "output_type": "execute_result",
          "data": {
            "text/html": [
              "<div>\n",
              "<style scoped>\n",
              "    .dataframe tbody tr th:only-of-type {\n",
              "        vertical-align: middle;\n",
              "    }\n",
              "\n",
              "    .dataframe tbody tr th {\n",
              "        vertical-align: top;\n",
              "    }\n",
              "\n",
              "    .dataframe thead th {\n",
              "        text-align: right;\n",
              "    }\n",
              "</style>\n",
              "<table border=\"1\" class=\"dataframe\">\n",
              "  <thead>\n",
              "    <tr style=\"text-align: right;\">\n",
              "      <th></th>\n",
              "      <th>Sensor</th>\n",
              "      <th>Date</th>\n",
              "      <th>Time</th>\n",
              "      <th>Lane</th>\n",
              "      <th>Speed</th>\n",
              "      <th>Max Speed</th>\n",
              "      <th>Size</th>\n",
              "    </tr>\n",
              "  </thead>\n",
              "  <tbody>\n",
              "    <tr>\n",
              "      <th>0</th>\n",
              "      <td>RSI128</td>\n",
              "      <td>2016/05/01</td>\n",
              "      <td>00:00:09</td>\n",
              "      <td>1</td>\n",
              "      <td>26.0</td>\n",
              "      <td>60.0</td>\n",
              "      <td>0.0</td>\n",
              "    </tr>\n",
              "    <tr>\n",
              "      <th>1</th>\n",
              "      <td>RSI131</td>\n",
              "      <td>2016/05/01</td>\n",
              "      <td>00:00:09</td>\n",
              "      <td>2</td>\n",
              "      <td>20.0</td>\n",
              "      <td>60.0</td>\n",
              "      <td>1.1</td>\n",
              "    </tr>\n",
              "    <tr>\n",
              "      <th>2</th>\n",
              "      <td>RSI132</td>\n",
              "      <td>2016/05/01</td>\n",
              "      <td>00:00:09</td>\n",
              "      <td>1</td>\n",
              "      <td>45.0</td>\n",
              "      <td>60.0</td>\n",
              "      <td>0.0</td>\n",
              "    </tr>\n",
              "    <tr>\n",
              "      <th>3</th>\n",
              "      <td>RSI131</td>\n",
              "      <td>2016/05/01</td>\n",
              "      <td>00:00:10</td>\n",
              "      <td>1</td>\n",
              "      <td>40.0</td>\n",
              "      <td>60.0</td>\n",
              "      <td>0.5</td>\n",
              "    </tr>\n",
              "    <tr>\n",
              "      <th>4</th>\n",
              "      <td>RSI129</td>\n",
              "      <td>2016/05/01</td>\n",
              "      <td>00:00:12</td>\n",
              "      <td>1</td>\n",
              "      <td>35.0</td>\n",
              "      <td>60.0</td>\n",
              "      <td>0.0</td>\n",
              "    </tr>\n",
              "  </tbody>\n",
              "</table>\n",
              "</div>"
            ],
            "text/plain": [
              "   Sensor        Date      Time  Lane  Speed  Max Speed  Size\n",
              "0  RSI128  2016/05/01  00:00:09     1   26.0       60.0   0.0\n",
              "1  RSI131  2016/05/01  00:00:09     2   20.0       60.0   1.1\n",
              "2  RSI132  2016/05/01  00:00:09     1   45.0       60.0   0.0\n",
              "3  RSI131  2016/05/01  00:00:10     1   40.0       60.0   0.5\n",
              "4  RSI129  2016/05/01  00:00:12     1   35.0       60.0   0.0"
            ]
          },
          "metadata": {
            "tags": []
          },
          "execution_count": 8
        }
      ]
    },
    {
      "cell_type": "code",
      "metadata": {
        "id": "uBEuB3H8kuVJ",
        "colab_type": "code",
        "colab": {
          "base_uri": "https://localhost:8080/",
          "height": 288
        },
        "outputId": "2df69dc3-4a53-4c56-9ea2-08364b00d4ff"
      },
      "source": [
        "data.describe()"
      ],
      "execution_count": 9,
      "outputs": [
        {
          "output_type": "execute_result",
          "data": {
            "text/html": [
              "<div>\n",
              "<style scoped>\n",
              "    .dataframe tbody tr th:only-of-type {\n",
              "        vertical-align: middle;\n",
              "    }\n",
              "\n",
              "    .dataframe tbody tr th {\n",
              "        vertical-align: top;\n",
              "    }\n",
              "\n",
              "    .dataframe thead th {\n",
              "        text-align: right;\n",
              "    }\n",
              "</style>\n",
              "<table border=\"1\" class=\"dataframe\">\n",
              "  <thead>\n",
              "    <tr style=\"text-align: right;\">\n",
              "      <th></th>\n",
              "      <th>Lane</th>\n",
              "      <th>Speed</th>\n",
              "      <th>Max Speed</th>\n",
              "      <th>Size</th>\n",
              "    </tr>\n",
              "  </thead>\n",
              "  <tbody>\n",
              "    <tr>\n",
              "      <th>count</th>\n",
              "      <td>1.080178e+07</td>\n",
              "      <td>1.080178e+07</td>\n",
              "      <td>10801781.0</td>\n",
              "      <td>1.080178e+07</td>\n",
              "    </tr>\n",
              "    <tr>\n",
              "      <th>mean</th>\n",
              "      <td>1.656316e+00</td>\n",
              "      <td>3.654532e+01</td>\n",
              "      <td>60.0</td>\n",
              "      <td>1.049269e-01</td>\n",
              "    </tr>\n",
              "    <tr>\n",
              "      <th>std</th>\n",
              "      <td>7.029681e-01</td>\n",
              "      <td>1.133506e+01</td>\n",
              "      <td>0.0</td>\n",
              "      <td>8.707685e-01</td>\n",
              "    </tr>\n",
              "    <tr>\n",
              "      <th>min</th>\n",
              "      <td>1.000000e+00</td>\n",
              "      <td>1.000000e+00</td>\n",
              "      <td>60.0</td>\n",
              "      <td>0.000000e+00</td>\n",
              "    </tr>\n",
              "    <tr>\n",
              "      <th>25%</th>\n",
              "      <td>1.000000e+00</td>\n",
              "      <td>2.800000e+01</td>\n",
              "      <td>60.0</td>\n",
              "      <td>0.000000e+00</td>\n",
              "    </tr>\n",
              "    <tr>\n",
              "      <th>50%</th>\n",
              "      <td>2.000000e+00</td>\n",
              "      <td>3.700000e+01</td>\n",
              "      <td>60.0</td>\n",
              "      <td>0.000000e+00</td>\n",
              "    </tr>\n",
              "    <tr>\n",
              "      <th>75%</th>\n",
              "      <td>2.000000e+00</td>\n",
              "      <td>4.600000e+01</td>\n",
              "      <td>60.0</td>\n",
              "      <td>0.000000e+00</td>\n",
              "    </tr>\n",
              "    <tr>\n",
              "      <th>max</th>\n",
              "      <td>3.000000e+00</td>\n",
              "      <td>1.120000e+02</td>\n",
              "      <td>60.0</td>\n",
              "      <td>5.000000e+01</td>\n",
              "    </tr>\n",
              "  </tbody>\n",
              "</table>\n",
              "</div>"
            ],
            "text/plain": [
              "               Lane         Speed   Max Speed          Size\n",
              "count  1.080178e+07  1.080178e+07  10801781.0  1.080178e+07\n",
              "mean   1.656316e+00  3.654532e+01        60.0  1.049269e-01\n",
              "std    7.029681e-01  1.133506e+01         0.0  8.707685e-01\n",
              "min    1.000000e+00  1.000000e+00        60.0  0.000000e+00\n",
              "25%    1.000000e+00  2.800000e+01        60.0  0.000000e+00\n",
              "50%    2.000000e+00  3.700000e+01        60.0  0.000000e+00\n",
              "75%    2.000000e+00  4.600000e+01        60.0  0.000000e+00\n",
              "max    3.000000e+00  1.120000e+02        60.0  5.000000e+01"
            ]
          },
          "metadata": {
            "tags": []
          },
          "execution_count": 9
        }
      ]
    },
    {
      "cell_type": "code",
      "metadata": {
        "id": "9Aqc4gsDkowQ",
        "colab_type": "code",
        "colab": {
          "base_uri": "https://localhost:8080/",
          "height": 69
        },
        "outputId": "8b42e5c3-37c0-497f-9232-dbb837f51e3c"
      },
      "source": [
        "print(f\"It contains {len(data['Sensor'])} entries\\n\\n\")"
      ],
      "execution_count": 10,
      "outputs": [
        {
          "output_type": "stream",
          "text": [
            "It contains 10801781 entries\n",
            "\n",
            "\n"
          ],
          "name": "stdout"
        }
      ]
    },
    {
      "cell_type": "code",
      "metadata": {
        "id": "dp1laIywkz7N",
        "colab_type": "code",
        "colab": {
          "base_uri": "https://localhost:8080/",
          "height": 173
        },
        "outputId": "fb323bea-1345-47de-863f-c00921be51ea"
      },
      "source": [
        "print(f\"This dataset contains {len(set(data['Sensor']))} sensors.\")\n",
        "\n",
        "for val in set(data['Sensor']):\n",
        "  print(f\"Sensor {val} has {len(data[data['Sensor'] == val])}\")"
      ],
      "execution_count": 11,
      "outputs": [
        {
          "output_type": "stream",
          "text": [
            "This dataset contains 8 sensors.\n",
            "Sensor RSI128 has 536879\n",
            "Sensor RSI018 has 2029559\n",
            "Sensor RSI032 has 2117820\n",
            "Sensor RSI033 has 2382754\n",
            "Sensor RSI017 has 1686900\n",
            "Sensor RSI132 has 652998\n",
            "Sensor RSI131 has 816219\n",
            "Sensor RSI129 has 578652\n"
          ],
          "name": "stdout"
        }
      ]
    },
    {
      "cell_type": "code",
      "metadata": {
        "id": "D6yWCgzakxQP",
        "colab_type": "code",
        "colab": {}
      },
      "source": [
        "# Limit sensor usage\n",
        "data = data[data['Sensor'] == 'RSI128']"
      ],
      "execution_count": 0,
      "outputs": []
    },
    {
      "cell_type": "code",
      "metadata": {
        "id": "1j-eX_ErlBmy",
        "colab_type": "code",
        "colab": {}
      },
      "source": [
        "# Remove unnecessary columns\n",
        "data = data.drop(columns=['Sensor','Lane','Max Speed','Size'])"
      ],
      "execution_count": 0,
      "outputs": []
    },
    {
      "cell_type": "code",
      "metadata": {
        "id": "tsgErzk3lUlI",
        "colab_type": "code",
        "colab": {}
      },
      "source": [
        "# Get datetime\n",
        "data['Date'] = pd.to_datetime(data['Date'], format='%Y/%m/%d')"
      ],
      "execution_count": 0,
      "outputs": []
    },
    {
      "cell_type": "code",
      "metadata": {
        "id": "k7nF_WWDlaEs",
        "colab_type": "code",
        "colab": {}
      },
      "source": [
        "# Adjust type\n",
        "f = lambda x : tm.strptime(x, '%H:%M:%S')\n",
        "data['Time'] = data['Time'].apply(f)\n",
        "\n",
        "g = lambda x : dt.timedelta(hours=x.tm_hour,minutes=x.tm_min,seconds=x.tm_sec).total_seconds()\n",
        "data['Time'] = data['Time'].apply(g)\n",
        "\n",
        "h = lambda x : int(x)\n",
        "data['Time'] = data['Time'].apply(h)"
      ],
      "execution_count": 0,
      "outputs": []
    },
    {
      "cell_type": "code",
      "metadata": {
        "id": "K5c_FZ6-ledX",
        "colab_type": "code",
        "colab": {}
      },
      "source": [
        "# Create week day from date\n",
        "j = lambda x : x.weekday()\n",
        "data['WeekDay'] = data['Date'].apply(j)"
      ],
      "execution_count": 0,
      "outputs": []
    },
    {
      "cell_type": "code",
      "metadata": {
        "id": "ityRaQkmlxzs",
        "colab_type": "code",
        "colab": {
          "base_uri": "https://localhost:8080/",
          "height": 198
        },
        "outputId": "61026dea-fa18-4250-e131-4933da928473"
      },
      "source": [
        "data.head()"
      ],
      "execution_count": 17,
      "outputs": [
        {
          "output_type": "execute_result",
          "data": {
            "text/html": [
              "<div>\n",
              "<style scoped>\n",
              "    .dataframe tbody tr th:only-of-type {\n",
              "        vertical-align: middle;\n",
              "    }\n",
              "\n",
              "    .dataframe tbody tr th {\n",
              "        vertical-align: top;\n",
              "    }\n",
              "\n",
              "    .dataframe thead th {\n",
              "        text-align: right;\n",
              "    }\n",
              "</style>\n",
              "<table border=\"1\" class=\"dataframe\">\n",
              "  <thead>\n",
              "    <tr style=\"text-align: right;\">\n",
              "      <th></th>\n",
              "      <th>Date</th>\n",
              "      <th>Time</th>\n",
              "      <th>Speed</th>\n",
              "      <th>WeekDay</th>\n",
              "    </tr>\n",
              "  </thead>\n",
              "  <tbody>\n",
              "    <tr>\n",
              "      <th>0</th>\n",
              "      <td>2016-05-01</td>\n",
              "      <td>9</td>\n",
              "      <td>26.0</td>\n",
              "      <td>6</td>\n",
              "    </tr>\n",
              "    <tr>\n",
              "      <th>7</th>\n",
              "      <td>2016-05-01</td>\n",
              "      <td>18</td>\n",
              "      <td>32.0</td>\n",
              "      <td>6</td>\n",
              "    </tr>\n",
              "    <tr>\n",
              "      <th>39</th>\n",
              "      <td>2016-05-01</td>\n",
              "      <td>104</td>\n",
              "      <td>16.0</td>\n",
              "      <td>6</td>\n",
              "    </tr>\n",
              "    <tr>\n",
              "      <th>108</th>\n",
              "      <td>2016-05-01</td>\n",
              "      <td>206</td>\n",
              "      <td>22.0</td>\n",
              "      <td>6</td>\n",
              "    </tr>\n",
              "    <tr>\n",
              "      <th>160</th>\n",
              "      <td>2016-05-01</td>\n",
              "      <td>305</td>\n",
              "      <td>25.0</td>\n",
              "      <td>6</td>\n",
              "    </tr>\n",
              "  </tbody>\n",
              "</table>\n",
              "</div>"
            ],
            "text/plain": [
              "          Date  Time  Speed  WeekDay\n",
              "0   2016-05-01     9   26.0        6\n",
              "7   2016-05-01    18   32.0        6\n",
              "39  2016-05-01   104   16.0        6\n",
              "108 2016-05-01   206   22.0        6\n",
              "160 2016-05-01   305   25.0        6"
            ]
          },
          "metadata": {
            "tags": []
          },
          "execution_count": 17
        }
      ]
    },
    {
      "cell_type": "code",
      "metadata": {
        "id": "S07zoONNlzAI",
        "colab_type": "code",
        "colab": {
          "base_uri": "https://localhost:8080/",
          "height": 288
        },
        "outputId": "b4e0cc21-791a-49b2-a22d-1235f849691d"
      },
      "source": [
        "data.describe()"
      ],
      "execution_count": 18,
      "outputs": [
        {
          "output_type": "execute_result",
          "data": {
            "text/html": [
              "<div>\n",
              "<style scoped>\n",
              "    .dataframe tbody tr th:only-of-type {\n",
              "        vertical-align: middle;\n",
              "    }\n",
              "\n",
              "    .dataframe tbody tr th {\n",
              "        vertical-align: top;\n",
              "    }\n",
              "\n",
              "    .dataframe thead th {\n",
              "        text-align: right;\n",
              "    }\n",
              "</style>\n",
              "<table border=\"1\" class=\"dataframe\">\n",
              "  <thead>\n",
              "    <tr style=\"text-align: right;\">\n",
              "      <th></th>\n",
              "      <th>Time</th>\n",
              "      <th>Speed</th>\n",
              "      <th>WeekDay</th>\n",
              "    </tr>\n",
              "  </thead>\n",
              "  <tbody>\n",
              "    <tr>\n",
              "      <th>count</th>\n",
              "      <td>536879.000000</td>\n",
              "      <td>536879.000000</td>\n",
              "      <td>536879.000000</td>\n",
              "    </tr>\n",
              "    <tr>\n",
              "      <th>mean</th>\n",
              "      <td>51715.214387</td>\n",
              "      <td>31.078891</td>\n",
              "      <td>2.951632</td>\n",
              "    </tr>\n",
              "    <tr>\n",
              "      <th>std</th>\n",
              "      <td>17952.214406</td>\n",
              "      <td>7.168803</td>\n",
              "      <td>1.959146</td>\n",
              "    </tr>\n",
              "    <tr>\n",
              "      <th>min</th>\n",
              "      <td>3.000000</td>\n",
              "      <td>2.000000</td>\n",
              "      <td>0.000000</td>\n",
              "    </tr>\n",
              "    <tr>\n",
              "      <th>25%</th>\n",
              "      <td>38412.500000</td>\n",
              "      <td>26.000000</td>\n",
              "      <td>1.000000</td>\n",
              "    </tr>\n",
              "    <tr>\n",
              "      <th>50%</th>\n",
              "      <td>52364.000000</td>\n",
              "      <td>31.000000</td>\n",
              "      <td>3.000000</td>\n",
              "    </tr>\n",
              "    <tr>\n",
              "      <th>75%</th>\n",
              "      <td>65757.000000</td>\n",
              "      <td>35.000000</td>\n",
              "      <td>5.000000</td>\n",
              "    </tr>\n",
              "    <tr>\n",
              "      <th>max</th>\n",
              "      <td>86399.000000</td>\n",
              "      <td>67.000000</td>\n",
              "      <td>6.000000</td>\n",
              "    </tr>\n",
              "  </tbody>\n",
              "</table>\n",
              "</div>"
            ],
            "text/plain": [
              "                Time          Speed        WeekDay\n",
              "count  536879.000000  536879.000000  536879.000000\n",
              "mean    51715.214387      31.078891       2.951632\n",
              "std     17952.214406       7.168803       1.959146\n",
              "min         3.000000       2.000000       0.000000\n",
              "25%     38412.500000      26.000000       1.000000\n",
              "50%     52364.000000      31.000000       3.000000\n",
              "75%     65757.000000      35.000000       5.000000\n",
              "max     86399.000000      67.000000       6.000000"
            ]
          },
          "metadata": {
            "tags": []
          },
          "execution_count": 18
        }
      ]
    },
    {
      "cell_type": "code",
      "metadata": {
        "id": "3855zQW8lmcZ",
        "colab_type": "code",
        "colab": {
          "base_uri": "https://localhost:8080/",
          "height": 155
        },
        "outputId": "e9b01739-14cb-4042-d5b8-5adafc671d63"
      },
      "source": [
        "for col, cont in data.iteritems():\n",
        "  print(f\"Column {col} has {cont.isnull().sum()} null elements\")\n",
        "  print(f\"Column {col} has {cont.isna().sum()} nan elements\")"
      ],
      "execution_count": 19,
      "outputs": [
        {
          "output_type": "stream",
          "text": [
            "Column Date has 0 null elements\n",
            "Column Date has 0 nan elements\n",
            "Column Time has 0 null elements\n",
            "Column Time has 0 nan elements\n",
            "Column Speed has 0 null elements\n",
            "Column Speed has 0 nan elements\n",
            "Column WeekDay has 0 null elements\n",
            "Column WeekDay has 0 nan elements\n"
          ],
          "name": "stdout"
        }
      ]
    },
    {
      "cell_type": "code",
      "metadata": {
        "id": "K7iOR2rtlpy5",
        "colab_type": "code",
        "colab": {
          "base_uri": "https://localhost:8080/",
          "height": 141
        },
        "outputId": "5683e6b6-2be4-49e8-a3d3-c7164635af5c"
      },
      "source": [
        "start = data['Date'].min()\n",
        "end = data['Date'].max()\n",
        "\n",
        "print(f\"\\nThis data is from <{start}> to <{end}>. {(end - start).days + 1} days.\\n\")\n",
        "print(f\"It contains {len(data['Date'])} entries\\n\\n\")"
      ],
      "execution_count": 20,
      "outputs": [
        {
          "output_type": "stream",
          "text": [
            "\n",
            "This data is from <2016-05-01 00:00:00> to <2016-07-31 00:00:00>. 92 days.\n",
            "\n",
            "It contains 536879 entries\n",
            "\n",
            "\n"
          ],
          "name": "stdout"
        }
      ]
    },
    {
      "cell_type": "code",
      "metadata": {
        "id": "EO82r2iSmq89",
        "colab_type": "code",
        "colab": {}
      },
      "source": [
        "data.to_csv(f\"{TCC_FOLDER}dataset/dataset.csv\")"
      ],
      "execution_count": 0,
      "outputs": []
    }
  ]
}