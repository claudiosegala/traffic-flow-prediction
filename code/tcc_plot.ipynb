{
  "nbformat": 4,
  "nbformat_minor": 0,
  "metadata": {
    "colab": {
      "name": "tcc_plot.ipynb",
      "provenance": [],
      "collapsed_sections": [],
      "include_colab_link": true
    },
    "kernelspec": {
      "name": "python3",
      "display_name": "Python 3"
    }
  },
  "cells": [
    {
      "cell_type": "markdown",
      "metadata": {
        "id": "view-in-github",
        "colab_type": "text"
      },
      "source": [
        "<a href=\"https://colab.research.google.com/github/claudiosegala/Monografia/blob/master/code/tcc_plot.ipynb\" target=\"_parent\"><img src=\"https://colab.research.google.com/assets/colab-badge.svg\" alt=\"Open In Colab\"/></a>"
      ]
    },
    {
      "cell_type": "code",
      "metadata": {
        "id": "qOQXOswEO6XU",
        "colab_type": "code",
        "colab": {}
      },
      "source": [
        "import google as g # To connect with google drive\n",
        "g.colab.drive.mount('/content/drive')"
      ],
      "execution_count": 0,
      "outputs": []
    },
    {
      "cell_type": "code",
      "metadata": {
        "id": "h3fFPp_rNUCN",
        "colab_type": "code",
        "colab": {}
      },
      "source": [
        "!pip install matplotlib\n",
        "!pip install pandas\n",
        "!pip install numpy"
      ],
      "execution_count": 0,
      "outputs": []
    },
    {
      "cell_type": "code",
      "metadata": {
        "id": "8JuVvz-5Nde-",
        "colab_type": "code",
        "colab": {}
      },
      "source": [
        "import json\n",
        "import pandas as pd\n",
        "import matplotlib.pyplot as plt\n",
        "import numpy as np"
      ],
      "execution_count": 0,
      "outputs": []
    },
    {
      "cell_type": "code",
      "metadata": {
        "id": "c2i7pQLHN6lB",
        "colab_type": "code",
        "colab": {}
      },
      "source": [
        "PATH = '/content/drive/My Drive/TCC/'"
      ],
      "execution_count": 0,
      "outputs": []
    },
    {
      "cell_type": "code",
      "metadata": {
        "id": "7Gnp04cgN06W",
        "colab_type": "code",
        "colab": {}
      },
      "source": [
        "def plot_history (history, name):\n",
        "  \"\"\" Plot of History\n",
        "  \n",
        "  Plot the history of loss in the training session of a model\n",
        "  \n",
        "  Arguments:\n",
        "    history: the history returned by Keras fit of a model\n",
        "    name: the name of the model\n",
        "  \"\"\"\n",
        "  \n",
        "  path = f\"{PATH}plots/history/{name}\"\n",
        "  \n",
        "  plt.plot(history.history['loss'])\n",
        "  plt.plot(history.history['val_loss'])\n",
        "  plt.title(f\"Perda do Modelo {name}\")\n",
        "  plt.ylabel('Perda')\n",
        "  plt.xlabel('Época')\n",
        "  plt.legend(['treino', 'teste'], loc='upper left')\n",
        "  plt.rcdefaults()\n",
        "  \n",
        "  plt.savefig(path + \".png\", bbox_inches='tight')\n",
        "  # plt.savefig(path + \".pdf\")\n",
        "  \n",
        "  plt.close('all')"
      ],
      "execution_count": 0,
      "outputs": []
    },
    {
      "cell_type": "code",
      "metadata": {
        "id": "NSDJ1GU0N3XF",
        "colab_type": "code",
        "colab": {}
      },
      "source": [
        "def plot_prediction (Y, Y_hat, title):\n",
        "  \"\"\" Plot Prediction\n",
        "  \n",
        "  Plot the prediction (Flow x Time) of what was expected and what\n",
        "  was predicted.\n",
        "  \"\"\"\n",
        "\n",
        "  for i in range(len(Y)):\n",
        "    name = f\"{title} ({str(i+1).zfill(2)} of {len(Y)})\"\n",
        "    path = f\"{PATH}plots/prediction/{name}\"\n",
        "    \n",
        "    plt.plot(Y[i])\n",
        "    plt.plot(Y_hat[i])\n",
        "    plt.title(f\"Predição do Modelo {title}\")\n",
        "    plt.ylabel('Fluxo')\n",
        "    plt.xlabel('Tempo')\n",
        "    plt.legend(['esperado', 'observado'], loc='upper left')\n",
        "    plt.rcdefaults()\n",
        "\n",
        "    plt.savefig(path + \".png\", bbox_inches='tight')\n",
        "    # plt.savefig(path + \".pdf\")\n",
        "\n",
        "    plt.close('all')"
      ],
      "execution_count": 0,
      "outputs": []
    },
    {
      "cell_type": "code",
      "metadata": {
        "id": "-g_K0WlYOOct",
        "colab_type": "code",
        "colab": {}
      },
      "source": [
        "def plot_precision_bucket (results):\n",
        "  \"\"\" Plot Precision Bucket \n",
        "  \n",
        "  Plot a stack box graph of the precision mesuared by the buckets.\n",
        "  \"\"\"\n",
        "  \n",
        "  path = f\"{PATH}plots/precision\"\n",
        "  N = len(results)\n",
        "  ind = np.arange(N)    # the x locations for the groups\n",
        "  width = 0.35       # the width of the bars: can also be len(x) sequence\n",
        "  pre, bott = [], []\n",
        "  models = list(results.keys())\n",
        "  n_buckets = len(results[models[0]]['PRE'])\n",
        "    \n",
        "  for i in range(n_buckets):\n",
        "    pre.append([v[\"PRE\"][i] for v in results.values()])\n",
        "    \n",
        "    if i == 0:\n",
        "      bott.append([0] * N)\n",
        "    else:\n",
        "      bott.append([bott[i-1][j] + pre[i-1][j]  for j in range(N)])\n",
        "  \n",
        "  p, leg_lin, leg_lab = [], [], []\n",
        "  \n",
        "  for i in range(n_buckets):\n",
        "    _p = plt.bar(ind, tuple(pre[i]), width, bottom=tuple(bott[i]))\n",
        "    leg_lin.append(_p[0])\n",
        "    leg_lab.append(f\"Balde de {2**i}\")\n",
        "    p.append(_p)\n",
        "\n",
        "  plt.ylabel('Resultado')\n",
        "  plt.title('Precisão por modelo e balde')\n",
        "  plt.xticks(ind, models, rotation=90)\n",
        "  plt.yticks(np.arange(0, 1.05, 0.05))\n",
        "  plt.legend(tuple(leg_lin), tuple(leg_lab))\n",
        "  \n",
        "  plt.savefig(path + \".png\", bbox_inches='tight')\n",
        "  # plt.savefig(path + \".pdf\")\n",
        "\n",
        "  plt.close('all')"
      ],
      "execution_count": 0,
      "outputs": []
    },
    {
      "cell_type": "code",
      "metadata": {
        "id": "CIl05ekKOcKm",
        "colab_type": "code",
        "colab": {}
      },
      "source": [
        "def plot_performance(results, metric, y_label, title):\n",
        "  \"\"\" Plot Performance\n",
        "  \n",
        "  Plot a bar graph of the performance of some metric\n",
        "  \n",
        "  Arguments:\n",
        "    metric: the name of the property of the metric\n",
        "    y_label: the name of the label of the metric\n",
        "    title: the title of the plot\n",
        "  \"\"\"\n",
        "  \n",
        "  path = f\"{PATH}plots/performance/{title} Performance Bar\"\n",
        "  \n",
        "  models = tuple(results.keys())\n",
        "  y_pos = np.arange(len(models))\n",
        "  performance = [v[metric] for v in results.values()]\n",
        "\n",
        "  plt.rcdefaults()\n",
        "  plt.bar(y_pos, performance, align='center', alpha=0.5)\n",
        "  plt.xticks(y_pos, models, rotation=90)\n",
        "  plt.ylabel(y_label)\n",
        "  plt.title(title)\n",
        "\n",
        "  plt.savefig(path + \".png\", bbox_inches='tight')\n",
        "  # plt.savefig(path + \".pdf\")\n",
        "    \n",
        "  plt.close('all')"
      ],
      "execution_count": 0,
      "outputs": []
    },
    {
      "cell_type": "code",
      "metadata": {
        "id": "wZIkzedmOdqU",
        "colab_type": "code",
        "colab": {}
      },
      "source": [
        "def plot_performance_improved(results, metric, y_label, title):\n",
        "  \"\"\" Plot Performance Improved\n",
        "  \n",
        "  Plot a box graph of the performance of some metric\n",
        "  \n",
        "  Arguments:\n",
        "    results: the struct that contain the results of the models\n",
        "    metric: the name of the property of the metric\n",
        "    y_label: the name of the label of the metric\n",
        "    title: the title of the plot\n",
        "  \"\"\"\n",
        "  \n",
        "  path = f\"{PATH}plots/performance/{title} Performance Boxes\"\n",
        "  \n",
        "  fig, ax_plot = plt.subplots()\n",
        "  \n",
        "  ax_plot.set_title(title)\n",
        "  ax_plot.set_xlabel(y_label)\n",
        "  ax_plot.set_ylabel('Modelos')\n",
        "  \n",
        "  bplot = ax_plot.boxplot([v['raw'][metric] for v in results.values()], vert=False)\n",
        "  ax_plot.set_yticklabels(list(results.keys()))\n",
        "  \n",
        "  plt.savefig(path + \".png\", bbox_inches='tight')\n",
        "  # plt.savefig(path + \".pdf\")\n",
        "    \n",
        "  plt.close('all')"
      ],
      "execution_count": 0,
      "outputs": []
    },
    {
      "cell_type": "code",
      "metadata": {
        "id": "z2_4LKJGOj_f",
        "colab_type": "code",
        "colab": {}
      },
      "source": [
        "def plot_results_comparison(name, xlabel, xticks, metric):\n",
        "  path = f\"{PATH}plots/comparison/{name.lower().replace(' ', '_')}_{metric.lower()}\"\n",
        "  models = [*comparison_data[0]['results']]\n",
        "  \n",
        "  for model in models:\n",
        "    datapoints = [result['results'][model][metric] for result in comparison_data]\n",
        "    plt.plot(datapoints) \n",
        "\n",
        "  plt.title(name)\n",
        "  plt.ylabel(metric)\n",
        "  plt.xlabel(xlabel)\n",
        "  plt.xticks(np.arange(len(xticks)), xticks)\n",
        "  plt.legend(models, loc='upper left')\n",
        "  plt.rcdefaults()\n",
        "\n",
        "  plt.savefig(path + \".png\", bbox_inches='tight')\n",
        "  # plt.savefig(path + \".pdf\")\n",
        "    \n",
        "  plt.close('all')"
      ],
      "execution_count": 0,
      "outputs": []
    },
    {
      "cell_type": "code",
      "metadata": {
        "id": "5YLhbT-wOqye",
        "colab_type": "code",
        "colab": {}
      },
      "source": [
        "def plot_snapshot(results):\n",
        "  # plot_precision_bucket(results)\n",
        "  # plot_performance(results, 'TIME', 'Segundos', 'Comparação do Tempo de Treinamento')\n",
        "  plot_performance_improved(results, 'TIME', 'Segundos', 'Comparação do Tempo de Treinamento')\n",
        "  # plot_performance(results, 'RMSE', 'RMSE', 'Comparação do RMSE')\n",
        "  plot_performance_improved(results, 'RMSE', 'RMSE', 'Comparação do RMSE')\n",
        "  # plot_performance(results, 'NRMSE', 'NRMSE', 'Comparação de NRMSE')\n",
        "  # plot_performance_improved(results, 'NRMSE', 'NRMSE', 'Comparação de NRMSE')\n",
        "  # plot_performance(results, 'MAE', 'MAE', 'Comparação de MAE')\n",
        "  plot_performance_improved(results, 'MAE', 'MAE', 'Comparação de MAE')\n",
        "  # plot_performance(results, 'HR', 'Porcentagem', 'Comparação de Precisão')\n",
        "  plot_performance_improved(results, 'HR', 'Porcentagem', 'Comparação de Precisão')\n",
        "\n",
        "  for name in results:\n",
        "    raw = results[name]['raw']\n",
        "    print(f\"RMSE {name}: RMSE {np.mean(raw['RMSE'])} +/- {np.std(raw['RMSE'])}\")\n",
        "\n",
        "  for name in results:\n",
        "    raw = results[name]['raw']\n",
        "    plot_prediction(raw['expected'], raw['observed'], name)\n",
        "    \n",
        "    if 'history' in raw:\n",
        "      n_hist = len(raw['history'])\n",
        "      \n",
        "      for i in range(n_hist):\n",
        "        plot_history(raw['history'][i], f\"{name} ({str(i+1).zfill(2)} of {n_hist})\")"
      ],
      "execution_count": 0,
      "outputs": []
    },
    {
      "cell_type": "code",
      "metadata": {
        "id": "9TlQEv4cB3oc",
        "colab_type": "code",
        "colab": {}
      },
      "source": [
        "# Useful\n",
        "# https://towardsdatascience.com/using-3d-visualizations-to-tune-hyperparameters-of-ml-models-with-python-ba2885eab2e9\n",
        "# https://blancas.io/sklearn-evaluation/user_guide/grid_search.html\n",
        "\n",
        "# Based on:\n",
        "# https://stackoverflow.com/questions/37161563/how-to-graph-grid-scores-from-gridsearchcv\n",
        "def plot_grid_search(name, cv_results, grid_param_1, grid_param_2, name_param_1, name_param_2):\n",
        "    path = f\"{PATH}plots/grid/{name}\"\n",
        "\n",
        "    shape = (len(grid_param_2), len(grid_param_1))\n",
        "    scores_mean = np.array(cv_results['mean_test_score']).reshape(shape)\n",
        "    scores_sd = np.array(cv_results['std_test_score']).reshape(shape)\n",
        "\n",
        "    # Plot Grid search scores\n",
        "    _, ax = plt.subplots(1,1)\n",
        "\n",
        "    # Param1 is the X-axis, Param 2 is represented as a different curve (color line)\n",
        "    for idx, val in enumerate(grid_param_2):\n",
        "        ax.plot(grid_param_1, scores_mean[idx,:], '-o', label= name_param_2 + ': ' + str(val))\n",
        "\n",
        "    ax.set_title(\"Resultados da Busca em Grade\")\n",
        "    ax.set_xlabel(name_param_1)\n",
        "    ax.set_ylabel('Média dos Resultados')\n",
        "    ax.legend(loc=\"best\", fontsize=15)\n",
        "    ax.grid('on')\n",
        "\n",
        "    plt.savefig(path + \".png\", bbox_inches='tight')\n",
        "  # plt.savefig(path + \".pdf\")\n",
        "    \n",
        "    plt.close('all')\n"
      ],
      "execution_count": 0,
      "outputs": []
    },
    {
      "cell_type": "code",
      "metadata": {
        "id": "sdhX8MSL8k4R",
        "colab_type": "code",
        "colab": {}
      },
      "source": [
        "def plot_blocking(n_splits, n_samples):\n",
        "  k_fold_size = n_samples // n_splits\n",
        "  \n",
        "  pre = [[k_fold_size * 0.8] * n_splits, [k_fold_size * 0.2] * n_splits]\n",
        "  bott = [[], []]\n",
        "\n",
        "  for i in range(n_splits):\n",
        "    start = i * k_fold_size\n",
        "    stop = start + k_fold_size\n",
        "    mid = int(0.8 * (stop - start)) + start\n",
        "\n",
        "    bott[0].append(start)\n",
        "    bott[1].append(mid)\n",
        "\n",
        "  path = f\"{PATH}plots/blocking\"\n",
        "\n",
        "  ind = np.arange(n_splits)    # the x locations for the groups\n",
        "  p, leg_lin, leg_lab = [], [], []\n",
        "  \n",
        "  for i in range(2):\n",
        "    _p = plt.barh(ind, tuple(pre[i]), left=tuple(bott[i]))\n",
        "    leg_lin.append(_p[0])\n",
        "    leg_lab.append(\"Teste\" if i == 1 else \"Treino\")\n",
        "    p.append(_p)\n",
        "\n",
        "  plt.title(\"Divisão de Séries Temporais ({0} Amostras, {1} Divisões)\".format(n_samples, n_splits))\n",
        "  plt.xlabel('Amostras')\n",
        "  plt.ylabel('Divisões')\n",
        "  plt.xticks(np.arange(0, n_samples+1, n_samples // 5))\n",
        "  plt.yticks(ind, np.arange(1, n_splits+1))\n",
        "  plt.legend(tuple(leg_lin), tuple(leg_lab))\n",
        "  plt.rcdefaults()\n",
        "    \n",
        "  plt.savefig(path + \".png\")\n",
        "\n",
        "  plt.close('all')\n"
      ],
      "execution_count": 0,
      "outputs": []
    },
    {
      "cell_type": "code",
      "metadata": {
        "id": "mUx9KmuvR_Wl",
        "colab_type": "code",
        "colab": {}
      },
      "source": [
        "def print_json (obj):\n",
        "  print(json.dumps(obj, sort_keys=True, indent=4))"
      ],
      "execution_count": 0,
      "outputs": []
    },
    {
      "cell_type": "code",
      "metadata": {
        "id": "St7o-n6GkNFJ",
        "colab_type": "code",
        "colab": {}
      },
      "source": [
        "def build_tune_json():\n",
        "  path = f\"{PATH}results/grid/\"\n",
        "  models = ['Moving Average', 'Naive', 'RF A', 'RF B', 'SVM A', 'SVM B', 'LSTM A', 'LSTM B', 'GRU A', 'GRU B']\n",
        "  times = [15, 30, 45, 60]\n",
        "\n",
        "  comparison_data = []\n",
        "\n",
        "  for time in times:\n",
        "    results = {}\n",
        "    meta = {\n",
        "      \"FLOW_INTERVAL\": 150,\n",
        "      \"N_SPLITS\": 8,\n",
        "      \"PREDICT_IN_FUTURE\": time,\n",
        "      \"SEEABLE_PAST\": 480\n",
        "    }\n",
        "\n",
        "    for model in models:\n",
        "      \n",
        "      with open(f\"{path}{model}_{time}.json\", 'r') as json_file:\n",
        "        results[model] = json.load(json_file)\n",
        "\n",
        "    comparison_data.append({\n",
        "        \"results\": results,\n",
        "        \"meta\": meta\n",
        "    })\n",
        "\n",
        "  with open(f\"{PATH}results/comparison/predict_future_comparison_0.json\", 'w') as json_file:\n",
        "    json.dump(comparison_data, json_file, sort_keys=True, indent=4)"
      ],
      "execution_count": 0,
      "outputs": []
    },
    {
      "cell_type": "code",
      "metadata": {
        "id": "aQ6S49k6nxua",
        "colab_type": "code",
        "colab": {}
      },
      "source": [
        "build_tune_json()"
      ],
      "execution_count": 0,
      "outputs": []
    },
    {
      "cell_type": "code",
      "metadata": {
        "id": "SZsf9ME-E2tu",
        "colab_type": "code",
        "colab": {}
      },
      "source": [
        "plot_blocking(8, 10000)"
      ],
      "execution_count": 0,
      "outputs": []
    },
    {
      "cell_type": "code",
      "metadata": {
        "id": "eiSWMX1HQKXx",
        "colab_type": "code",
        "colab": {}
      },
      "source": [
        "name_time = 1573441102\n",
        "\n",
        "with open(f\"{PATH}results/comparison/flow_interval_comparison_{name_time}.json\", 'r') as json_file:\n",
        "  comparison_data = json.load(json_file)\n",
        "\n",
        "  for result_data in comparison_data:\n",
        "    plot_snapshot(result_data['results'])\n",
        "\n",
        "  plot_name = 'Comparação do Tamanho do Intervalo do Fluxo'\n",
        "  plot_y_label = 'Intervalo do FLuxo (Segundos)'\n",
        "  values = [r['meta']['FLOW_INTERVAL'] for r in comparison_data]\n",
        "\n",
        "  # plot_results_comparison(plot_name, plot_y_label, values, 'NRMSE')\n",
        "  plot_results_comparison(plot_name, plot_y_label, values, 'RMSE')\n",
        "  plot_results_comparison(plot_name, plot_y_label, values, 'MAE')\n",
        "  plot_results_comparison(plot_name, plot_y_label, values, 'HR')\n",
        "  plot_results_comparison(plot_name, plot_y_label, values, 'TIME')"
      ],
      "execution_count": 0,
      "outputs": []
    },
    {
      "cell_type": "code",
      "metadata": {
        "id": "4VPq_W0QQMqT",
        "colab_type": "code",
        "colab": {}
      },
      "source": [
        "name_time = 1573499125\n",
        "\n",
        "with open(f\"{PATH}results/comparison/n_split_comparison_{name_time}.json\", 'r') as json_file:\n",
        "  comparison_data = json.load(json_file)\n",
        "\n",
        "  for result_data in comparison_data:\n",
        "    plot_snapshot(result_data['results'])\n",
        "\n",
        "  plot_name = 'Comparação do Número de Divisões do Conjunto de Dados'\n",
        "  plot_y_label = 'Número de Divisões'\n",
        "  values = [r['meta']['N_SPLITS'] for r in comparison_data]\n",
        "\n",
        "  # plot_results_comparison(plot_name, plot_y_label, values, 'NRMSE')\n",
        "  plot_results_comparison(plot_name, plot_y_label, values, 'RMSE')\n",
        "  plot_results_comparison(plot_name, plot_y_label, values, 'MAE')\n",
        "  plot_results_comparison(plot_name, plot_y_label, values, 'HR')\n",
        "  plot_results_comparison(plot_name, plot_y_label, values, 'TIME')"
      ],
      "execution_count": 0,
      "outputs": []
    },
    {
      "cell_type": "code",
      "metadata": {
        "id": "KHNEWrnmP4Dt",
        "colab_type": "code",
        "colab": {}
      },
      "source": [
        "tune_mode = True\n",
        "name_time = 1573429292\n",
        "\n",
        "with open(f\"{PATH}results/comparison/predict_future_comparison_{0 if tune_mode else name_time}.json\", 'r') as json_file:\n",
        "  comparison_data = json.load(json_file)\n",
        "\n",
        "  # plot_snapshot(comparison_data[0]['results'])\n",
        "  for result_data in comparison_data:\n",
        "    plot_snapshot(result_data['results'])\n",
        "\n",
        "  plot_name = 'Comparação da Previsão de Curto Prazo'\n",
        "  plot_y_label = 'Tempo (Minutos)'\n",
        "  values = [r['meta']['PREDICT_IN_FUTURE'] for r in comparison_data]\n",
        "\n",
        "  # plot_results_comparison(plot_name, plot_y_label, values, 'NRMSE')\n",
        "  plot_results_comparison(plot_name, plot_y_label, values, 'RMSE')\n",
        "  plot_results_comparison(plot_name, plot_y_label, values, 'MAE')\n",
        "  plot_results_comparison(plot_name, plot_y_label, values, 'HR')\n",
        "  plot_results_comparison(plot_name, plot_y_label, values, 'TIME')"
      ],
      "execution_count": 0,
      "outputs": []
    },
    {
      "cell_type": "code",
      "metadata": {
        "id": "BrYF6F91QMNx",
        "colab_type": "code",
        "colab": {}
      },
      "source": [
        "name_time = 1573458076\n",
        "\n",
        "with open(f\"{PATH}results/comparison/seeable_past_comparison_{name_time}.json\", 'r') as json_file:\n",
        "  comparison_data = json.load(json_file)\n",
        "\n",
        "  for result_data in comparison_data:\n",
        "    plot_snapshot(result_data['results'])\n",
        "\n",
        "  plot_name = 'Comparação do Passado Visível'\n",
        "  plot_y_label = 'Passado Visível (Segundos)'\n",
        "  values = [r['meta']['SEEABLE_PAST'] for r in comparison_data]\n",
        "\n",
        "  # plot_results_comparison(plot_name, plot_y_label, values, 'NRMSE')\n",
        "  plot_results_comparison(plot_name, plot_y_label, values, 'RMSE')\n",
        "  plot_results_comparison(plot_name, plot_y_label, values, 'MAE')\n",
        "  plot_results_comparison(plot_name, plot_y_label, values, 'HR')\n",
        "  plot_results_comparison(plot_name, plot_y_label, values, 'TIME')"
      ],
      "execution_count": 0,
      "outputs": []
    },
    {
      "cell_type": "code",
      "metadata": {
        "id": "kDbg521IGBWr",
        "colab_type": "code",
        "colab": {}
      },
      "source": [
        "names = {\n",
        "    # 'RF Grid A',\n",
        "    # 'RF Grid B',\n",
        "    'SVM Grid A',\n",
        "    # 'SVM Grid B',\n",
        "    # 'LSTM Grid A',\n",
        "    # 'LSTM Grid B',\n",
        "    # 'GRU Grid A',\n",
        "    # 'GRU Grid B',\n",
        "}\n",
        "\n",
        "for name in names:\n",
        "  with open(f\"{PATH}results/grid/{name}.json\", 'r') as json_file:\n",
        "    grid_result = json.load(json_file)\n",
        "\n",
        "    keys = list(grid_result['params'].keys())\n",
        "    values = list(grid_result['params'].values())\n",
        "\n",
        "    plot_grid_search(name, grid_result['score'], values[0], values[1], keys[0], keys[1])"
      ],
      "execution_count": 0,
      "outputs": []
    }
  ]
}