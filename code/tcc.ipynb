{
  "nbformat": 4,
  "nbformat_minor": 0,
  "metadata": {
    "colab": {
      "name": "tcc.ipynb",
      "provenance": [],
      "collapsed_sections": [
        "8WICqU265GQ2",
        "B3dQ_nM_TgDC",
        "D7Nq3PsMTjYc",
        "qhaufggBRABt",
        "8BkdL8EE5pl3"
      ]
    },
    "kernelspec": {
      "name": "python3",
      "display_name": "Python 3"
    },
    "accelerator": "TPU"
  },
  "cells": [
    {
      "cell_type": "markdown",
      "metadata": {
        "id": "krd1GCLFBNn3",
        "colab_type": "text"
      },
      "source": [
        "# Mount Drive\n",
        "\n",
        "Connect to Google Drive of 'alfredcoinworth'"
      ]
    },
    {
      "cell_type": "code",
      "metadata": {
        "id": "ebzVayUNBP2L",
        "colab_type": "code",
        "outputId": "3f472c43-0a0d-46c1-aaf0-04141fb7e0e2",
        "colab": {
          "base_uri": "https://localhost:8080/",
          "height": 35
        }
      },
      "source": [
        "import google as g # To connect with google drive\n",
        "g.colab.drive.mount('/content/drive')"
      ],
      "execution_count": 1,
      "outputs": [
        {
          "output_type": "stream",
          "text": [
            "Mounted at /content/drive\n"
          ],
          "name": "stdout"
        }
      ]
    },
    {
      "cell_type": "markdown",
      "metadata": {
        "id": "tD29g6RmWyjg",
        "colab_type": "text"
      },
      "source": [
        "# Retrieve and Instanciate Dependencies\n"
      ]
    },
    {
      "cell_type": "markdown",
      "metadata": {
        "id": "FebihZqH2eDt",
        "colab_type": "text"
      },
      "source": [
        "For this work, we will need these libraries"
      ]
    },
    {
      "cell_type": "code",
      "metadata": {
        "id": "uDUNNEdAWJPx",
        "colab_type": "code",
        "outputId": "704d4133-34ac-4dec-f905-641427fc146e",
        "colab": {
          "base_uri": "https://localhost:8080/",
          "height": 1000
        }
      },
      "source": [
        "!pip install tensorflow\n",
        "!pip install pandas\n",
        "!pip install matplotlib\n",
        "!pip install numpy\n",
        "!pip install sklearn\n",
        "!pip install keras\n",
        "!pip install statsmodels"
      ],
      "execution_count": 2,
      "outputs": [
        {
          "output_type": "stream",
          "text": [
            "Requirement already satisfied: tensorflow in /usr/local/lib/python3.6/dist-packages (1.15.0rc3)\n",
            "Requirement already satisfied: termcolor>=1.1.0 in /usr/local/lib/python3.6/dist-packages (from tensorflow) (1.1.0)\n",
            "Requirement already satisfied: protobuf>=3.6.1 in /usr/local/lib/python3.6/dist-packages (from tensorflow) (3.7.1)\n",
            "Requirement already satisfied: gast==0.2.2 in /usr/local/lib/python3.6/dist-packages (from tensorflow) (0.2.2)\n",
            "Requirement already satisfied: wrapt>=1.11.1 in /usr/local/lib/python3.6/dist-packages (from tensorflow) (1.11.2)\n",
            "Requirement already satisfied: wheel>=0.26 in /usr/local/lib/python3.6/dist-packages (from tensorflow) (0.33.6)\n",
            "Requirement already satisfied: tensorboard<1.16.0,>=1.15.0 in /usr/local/lib/python3.6/dist-packages (from tensorflow) (1.15.0)\n",
            "Requirement already satisfied: opt-einsum>=2.3.2 in /usr/local/lib/python3.6/dist-packages (from tensorflow) (3.1.0)\n",
            "Requirement already satisfied: absl-py>=0.7.0 in /usr/local/lib/python3.6/dist-packages (from tensorflow) (0.8.0)\n",
            "Requirement already satisfied: six>=1.10.0 in /usr/local/lib/python3.6/dist-packages (from tensorflow) (1.12.0)\n",
            "Requirement already satisfied: grpcio>=1.8.6 in /usr/local/lib/python3.6/dist-packages (from tensorflow) (1.15.0)\n",
            "Requirement already satisfied: keras-preprocessing>=1.0.5 in /usr/local/lib/python3.6/dist-packages (from tensorflow) (1.1.0)\n",
            "Requirement already satisfied: numpy<2.0,>=1.16.0 in /usr/local/lib/python3.6/dist-packages (from tensorflow) (1.16.5)\n",
            "Requirement already satisfied: keras-applications>=1.0.8 in /usr/local/lib/python3.6/dist-packages (from tensorflow) (1.0.8)\n",
            "Requirement already satisfied: astor>=0.6.0 in /usr/local/lib/python3.6/dist-packages (from tensorflow) (0.8.0)\n",
            "Requirement already satisfied: google-pasta>=0.1.6 in /usr/local/lib/python3.6/dist-packages (from tensorflow) (0.1.7)\n",
            "Requirement already satisfied: tensorflow-estimator==1.15.1 in /usr/local/lib/python3.6/dist-packages (from tensorflow) (1.15.1)\n",
            "Requirement already satisfied: setuptools in /usr/local/lib/python3.6/dist-packages (from protobuf>=3.6.1->tensorflow) (41.2.0)\n",
            "Requirement already satisfied: werkzeug>=0.11.15 in /usr/local/lib/python3.6/dist-packages (from tensorboard<1.16.0,>=1.15.0->tensorflow) (0.16.0)\n",
            "Requirement already satisfied: markdown>=2.6.8 in /usr/local/lib/python3.6/dist-packages (from tensorboard<1.16.0,>=1.15.0->tensorflow) (3.1.1)\n",
            "Requirement already satisfied: h5py in /usr/local/lib/python3.6/dist-packages (from keras-applications>=1.0.8->tensorflow) (2.8.0)\n",
            "Requirement already satisfied: pandas in /usr/local/lib/python3.6/dist-packages (0.24.2)\n",
            "Requirement already satisfied: numpy>=1.12.0 in /usr/local/lib/python3.6/dist-packages (from pandas) (1.16.5)\n",
            "Requirement already satisfied: pytz>=2011k in /usr/local/lib/python3.6/dist-packages (from pandas) (2018.9)\n",
            "Requirement already satisfied: python-dateutil>=2.5.0 in /usr/local/lib/python3.6/dist-packages (from pandas) (2.5.3)\n",
            "Requirement already satisfied: six>=1.5 in /usr/local/lib/python3.6/dist-packages (from python-dateutil>=2.5.0->pandas) (1.12.0)\n",
            "Requirement already satisfied: matplotlib in /usr/local/lib/python3.6/dist-packages (3.0.3)\n",
            "Requirement already satisfied: python-dateutil>=2.1 in /usr/local/lib/python3.6/dist-packages (from matplotlib) (2.5.3)\n",
            "Requirement already satisfied: kiwisolver>=1.0.1 in /usr/local/lib/python3.6/dist-packages (from matplotlib) (1.1.0)\n",
            "Requirement already satisfied: pyparsing!=2.0.4,!=2.1.2,!=2.1.6,>=2.0.1 in /usr/local/lib/python3.6/dist-packages (from matplotlib) (2.4.2)\n",
            "Requirement already satisfied: cycler>=0.10 in /usr/local/lib/python3.6/dist-packages (from matplotlib) (0.10.0)\n",
            "Requirement already satisfied: numpy>=1.10.0 in /usr/local/lib/python3.6/dist-packages (from matplotlib) (1.16.5)\n",
            "Requirement already satisfied: six>=1.5 in /usr/local/lib/python3.6/dist-packages (from python-dateutil>=2.1->matplotlib) (1.12.0)\n",
            "Requirement already satisfied: setuptools in /usr/local/lib/python3.6/dist-packages (from kiwisolver>=1.0.1->matplotlib) (41.2.0)\n",
            "Requirement already satisfied: numpy in /usr/local/lib/python3.6/dist-packages (1.16.5)\n",
            "Requirement already satisfied: sklearn in /usr/local/lib/python3.6/dist-packages (0.0)\n",
            "Requirement already satisfied: scikit-learn in /usr/local/lib/python3.6/dist-packages (from sklearn) (0.21.3)\n",
            "Requirement already satisfied: joblib>=0.11 in /usr/local/lib/python3.6/dist-packages (from scikit-learn->sklearn) (0.14.0)\n",
            "Requirement already satisfied: numpy>=1.11.0 in /usr/local/lib/python3.6/dist-packages (from scikit-learn->sklearn) (1.16.5)\n",
            "Requirement already satisfied: scipy>=0.17.0 in /usr/local/lib/python3.6/dist-packages (from scikit-learn->sklearn) (1.3.1)\n",
            "Requirement already satisfied: keras in /usr/local/lib/python3.6/dist-packages (2.2.5)\n",
            "Requirement already satisfied: keras-applications>=1.0.8 in /usr/local/lib/python3.6/dist-packages (from keras) (1.0.8)\n",
            "Requirement already satisfied: six>=1.9.0 in /usr/local/lib/python3.6/dist-packages (from keras) (1.12.0)\n",
            "Requirement already satisfied: keras-preprocessing>=1.1.0 in /usr/local/lib/python3.6/dist-packages (from keras) (1.1.0)\n",
            "Requirement already satisfied: numpy>=1.9.1 in /usr/local/lib/python3.6/dist-packages (from keras) (1.16.5)\n",
            "Requirement already satisfied: pyyaml in /usr/local/lib/python3.6/dist-packages (from keras) (3.13)\n",
            "Requirement already satisfied: scipy>=0.14 in /usr/local/lib/python3.6/dist-packages (from keras) (1.3.1)\n",
            "Requirement already satisfied: h5py in /usr/local/lib/python3.6/dist-packages (from keras) (2.8.0)\n",
            "Requirement already satisfied: statsmodels in /usr/local/lib/python3.6/dist-packages (0.10.1)\n",
            "Requirement already satisfied: patsy>=0.4.0 in /usr/local/lib/python3.6/dist-packages (from statsmodels) (0.5.1)\n",
            "Requirement already satisfied: scipy>=0.18 in /usr/local/lib/python3.6/dist-packages (from statsmodels) (1.3.1)\n",
            "Requirement already satisfied: numpy>=1.11 in /usr/local/lib/python3.6/dist-packages (from statsmodels) (1.16.5)\n",
            "Requirement already satisfied: pandas>=0.19 in /usr/local/lib/python3.6/dist-packages (from statsmodels) (0.24.2)\n",
            "Requirement already satisfied: six in /usr/local/lib/python3.6/dist-packages (from patsy>=0.4.0->statsmodels) (1.12.0)\n",
            "Requirement already satisfied: pytz>=2011k in /usr/local/lib/python3.6/dist-packages (from pandas>=0.19->statsmodels) (2018.9)\n",
            "Requirement already satisfied: python-dateutil>=2.5.0 in /usr/local/lib/python3.6/dist-packages (from pandas>=0.19->statsmodels) (2.5.3)\n"
          ],
          "name": "stdout"
        }
      ]
    },
    {
      "cell_type": "code",
      "metadata": {
        "id": "wD11PvxQXFT0",
        "colab_type": "code",
        "colab": {
          "base_uri": "https://localhost:8080/",
          "height": 35
        },
        "outputId": "3bcf352a-9636-4ddc-ad39-584670a7664a"
      },
      "source": [
        "import tensorflow as tf # machine learning library\n",
        "import pandas as pd # data manipulation library\n",
        "import matplotlib.pyplot as plt # plot library\n",
        "import numpy as np # math library\n",
        "import datetime as dt # to discover week day\n",
        "import time as tm # to convert to seconds\n",
        "import sklearn as skl # regression templates library\n",
        "import sklearn.metrics as sklm # metrics\n",
        "import statsmodels.api as sma # statistical models api\n",
        "import statistics as st # statistics\n",
        "import statsmodels as sm # statistical models\n",
        "\n",
        "import math\n",
        "import json\n",
        "import copy\n",
        "\n",
        "from sklearn.preprocessing import MinMaxScaler\n",
        "\n",
        "from keras.models import Sequential\n",
        "from keras.layers import Dense, Activation"
      ],
      "execution_count": 3,
      "outputs": [
        {
          "output_type": "stream",
          "text": [
            "Using TensorFlow backend.\n"
          ],
          "name": "stderr"
        }
      ]
    },
    {
      "cell_type": "markdown",
      "metadata": {
        "id": "xw1p5NfaMKTk",
        "colab_type": "text"
      },
      "source": [
        "# Configurations\n"
      ]
    },
    {
      "cell_type": "code",
      "metadata": {
        "id": "CpyxvqpIMMXX",
        "colab_type": "code",
        "colab": {}
      },
      "source": [
        "tf.compat.v1.logging.set_verbosity(tf.compat.v1.logging.ERROR)"
      ],
      "execution_count": 0,
      "outputs": []
    },
    {
      "cell_type": "code",
      "metadata": {
        "id": "_sS94hovWAbv",
        "colab_type": "code",
        "colab": {}
      },
      "source": [
        "# Machine Config Parameters\n",
        "TCC_PATH = '/content/drive/My Drive/TCC/' # ''"
      ],
      "execution_count": 0,
      "outputs": []
    },
    {
      "cell_type": "markdown",
      "metadata": {
        "id": "rlQKvD3_tqxd",
        "colab_type": "text"
      },
      "source": [
        "# General Util"
      ]
    },
    {
      "cell_type": "code",
      "metadata": {
        "id": "Xfu0MDu3jUmK",
        "colab_type": "code",
        "colab": {}
      },
      "source": [
        "def flatten (m):\n",
        "  \"\"\" Flatten\n",
        "  \n",
        "  Transform a matrix in an array.\n",
        "  \n",
        "  Arguments:\n",
        "    m: the matrix to be flatten\n",
        "  \"\"\"\n",
        "  \n",
        "  return [i for sl in m for i in sl]"
      ],
      "execution_count": 0,
      "outputs": []
    },
    {
      "cell_type": "markdown",
      "metadata": {
        "id": "llW_Qq7sZk1U",
        "colab_type": "text"
      },
      "source": [
        "# Dataset Retrieval Util\n",
        "\n",
        "This phase we have to get the data stored in Google Drive and transform into a dataset for prediction.\n"
      ]
    },
    {
      "cell_type": "code",
      "metadata": {
        "id": "DSG8FE3wRyOd",
        "colab_type": "code",
        "colab": {}
      },
      "source": [
        "def retrieve_data(verbosity):\n",
        "  path = f\"{TCC_PATH}dataset/all_data_sorted.csv\"\n",
        "  \n",
        "  col_names = [\n",
        "    'Sensor',\n",
        "    'Date',\n",
        "    'Time',\n",
        "    'Lane',\n",
        "    'Speed',\n",
        "    'Max Speed',\n",
        "    'Size'\n",
        "  ]\n",
        "  \n",
        "  data = pd.read_csv(path, ';', header=None, names=col_names)\n",
        "  \n",
        "  if verbosity:\n",
        "    data.head()\n",
        "    # data.describe()\n",
        "  \n",
        "  return data"
      ],
      "execution_count": 0,
      "outputs": []
    },
    {
      "cell_type": "code",
      "metadata": {
        "id": "yxfcVFLfRFpy",
        "colab_type": "code",
        "colab": {}
      },
      "source": [
        "def clean_data(data, verbosity):\n",
        "  # Extract data from just one sensor\n",
        "  data = data[data['Sensor'] == 'RSI128']\n",
        "  \n",
        "  # Remove unnecessary columns\n",
        "  data = data.drop(columns=['Sensor','Lane','Max Speed','Size'])\n",
        "  \n",
        "  data['Date'] = pd.to_datetime(data['Date'], format='%Y/%m/%d')\n",
        "   \n",
        "  # Adjust type\n",
        "  f = lambda x : tm.strptime(x, '%H:%M:%S')\n",
        "  data['Time'] = data['Time'].apply(f)\n",
        "  \n",
        "  g = lambda x : dt.timedelta(hours=x.tm_hour,minutes=x.tm_min,seconds=x.tm_sec)\n",
        "  gl = lambda x : x.total_seconds()\n",
        "  data['Time'] = data['Time'].apply(gl)\n",
        "  \n",
        "  h = lambda x : int(x)\n",
        "  data['Time'] = data['Time'].apply(h)\n",
        "  \n",
        "  i = lambda x : float(x)\n",
        "  data['Speed'].apply(i)\n",
        "  \n",
        "  # Create week day from date\n",
        "  j = lambda x : x.weekday()\n",
        "  data['WeekDay'] = data['Date'].apply(j)\n",
        "  \n",
        "  if verbosity:\n",
        "    for col, cont in data.iteritems():\n",
        "        print(f\"Column {col} has {cont.isnull().sum()} null elements\")\n",
        "        print(f\"Column {col} has {cont.isna().sum()} nan elements\")\n",
        "        \n",
        "    print()\n",
        "        \n",
        "    start = data['Date'].min()\n",
        "    end = data['Date'].max()\n",
        "    print(f\"This data is from <{start}> to <{end}>. {end - start} days.\\n\")\n",
        "\n",
        "    print(f\"It contains {len(data['Date'])} entries\\n\")\n",
        "\n",
        "        \n",
        "    data.head()\n",
        "    # data.describe()\n",
        "  \n",
        "  return data"
      ],
      "execution_count": 0,
      "outputs": []
    },
    {
      "cell_type": "markdown",
      "metadata": {
        "id": "Y6MvTTexQML5",
        "colab_type": "text"
      },
      "source": [
        "# Flow Generation Util\n",
        "\n",
        "The plot is based on [A Guide to Time Series Visualization with Python 3](https://www.digitalocean.com/community/tutorials/a-guide-to-time-series-visualization-with-python-3).\n"
      ]
    },
    {
      "cell_type": "code",
      "metadata": {
        "id": "RmF8FxOBB2T0",
        "colab_type": "code",
        "colab": {}
      },
      "source": [
        "def get_flow_data(n, accSpeed, weekDay):\n",
        "  avgSpeed = (accSpeed // n) if n else 0\n",
        "  density = (n / avgSpeed) if avgSpeed else 0\n",
        "  w = [(1 if weekDay == i else 0) for i in range(7)] # weekday\n",
        "  \n",
        "  return (n, density, avgSpeed, w[0], w[1], w[2], w[3], w[4], w[5], w[6])"
      ],
      "execution_count": 0,
      "outputs": []
    },
    {
      "cell_type": "code",
      "metadata": {
        "id": "mDHY5vXtQlHJ",
        "colab_type": "code",
        "colab": {}
      },
      "source": [
        "def plot_flow(flow_series, freq):\n",
        "  decompose = sm.tsa.seasonal.seasonal_decompose\n",
        "  decomposition = decompose(flow_series, model='additive', freq=freq)\n",
        "  fig = decomposition.plot()\n",
        "\n",
        "  plt.rcdefaults()\n",
        "  plt.plot()"
      ],
      "execution_count": 0,
      "outputs": []
    },
    {
      "cell_type": "code",
      "metadata": {
        "id": "c-x0DKOmMnmz",
        "colab_type": "code",
        "colab": {}
      },
      "source": [
        "def get_flow (data, flow_interval, verbosity):\n",
        "  date = np.asarray(data['Date'])\n",
        "  weekDay = np.asarray(data['WeekDay'])\n",
        "  time = np.asarray(data['Time'])\n",
        "  speed = np.asarray(data['Speed'])\n",
        "  \n",
        "  dateControl = date[0]\n",
        "  timeBlock = flow_interval\n",
        "  countFlow = 0\n",
        "  accSpeed = 0\n",
        "  flowData = []\n",
        "\n",
        "  for i in range(len(date)):\n",
        "    if time[i] >= timeBlock: # init a new time block\n",
        "      flowData.append(get_flow_data(countFlow, accSpeed, weekDay[i])) \n",
        "      timeBlock += flow_interval\n",
        "      accSpeed = 0\n",
        "      countFlow = 0\n",
        "      \n",
        "    if date[i] > dateControl: # reset on day change\n",
        "      dateControl = date[i]\n",
        "      timeBlock = flow_interval \n",
        "      countFlow = 0\n",
        "      accSpeed = 0\n",
        "      \n",
        "    if time[i] < timeBlock: # add car on flow\n",
        "      countFlow += 1\n",
        "      accSpeed += speed[i]\n",
        "      \n",
        "  flowDataColumns = [\n",
        "    'Flow',\n",
        "    'Density',\n",
        "    'AveSpeed',\n",
        "    'Sunday',\n",
        "    'Monday',\n",
        "    'Tuesday',\n",
        "    'Wednesday',\n",
        "    'Thursday',\n",
        "    'Friday',\n",
        "    'Saturday'\n",
        "  ]\n",
        "  \n",
        "  flowData = pd.DataFrame(flowData, columns=flowDataColumns) \n",
        "  \n",
        "  if verbosity:\n",
        "    plot_flow(flowData['Flow'], WEEK_SIZE)\n",
        "\n",
        "    flowData.describe()\n",
        "  \n",
        "  return flowData"
      ],
      "execution_count": 0,
      "outputs": []
    },
    {
      "cell_type": "markdown",
      "metadata": {
        "id": "0CR6HLKUUWvh",
        "colab_type": "text"
      },
      "source": [
        "# Dataset Generation Util"
      ]
    },
    {
      "cell_type": "code",
      "metadata": {
        "id": "wyFfRVeyUdWJ",
        "colab_type": "code",
        "colab": {}
      },
      "source": [
        "# \n",
        "def split_sequence(sequence, isMulti, n_steps, n_future):\n",
        "  \"\"\" Split Sequence\n",
        "  \n",
        "  Split a sequence in rolling intervals with a corresponding value \n",
        "  like the example bellow.\n",
        "  \n",
        "  Ex: split_sequence([1, 2, 3, 4, 5], 3) #([[1, 2, 3], [2, 3, 4]], [4, 5])\n",
        "  \n",
        "  Arguments:\n",
        "    sequence: the sequence to split.\n",
        "    isMulti: if the data is multivariate or not.\n",
        "    n_steps: size of the rolling interval\n",
        "    n_future: the distance to the interval the value should be.  \n",
        "  \"\"\"\n",
        "  \n",
        "  n = len(sequence)\n",
        "  X, Y = list(), list()\n",
        "  \n",
        "  for i in range(n):\n",
        "    j = i + n_steps\n",
        "    k = j + n_future\n",
        "\n",
        "    if k >= n:\n",
        "      break\n",
        "\n",
        "    seq_x, seq_y = sequence[i:j], sequence[k]\n",
        "    X.append(seq_x)\n",
        "    Y.append(seq_y[0] if isMulti else seq_y)\n",
        "\n",
        "  return np.array(X), np.array(Y)"
      ],
      "execution_count": 0,
      "outputs": []
    },
    {
      "cell_type": "code",
      "metadata": {
        "id": "-Hts8_IFUf5V",
        "colab_type": "code",
        "colab": {}
      },
      "source": [
        "def reshape_flow (raw_seq, isMulti, n_steps, n_future, verbosity): \n",
        "  \"\"\" Reshape Flow\n",
        "  \n",
        "  Reshape a sequence in rolling intervals from [samples, timesteps] into \n",
        "  [samples, timesteps, features].\n",
        "  \n",
        "  Arguments:\n",
        "    raw_seq: the sequence to reshape.\n",
        "    isMulti: if the data is multivariate or not.\n",
        "    n_steps: size of the rolling interval\n",
        "    n_future: the distance to the interval the value should be.  \n",
        "  \"\"\"\n",
        "  \n",
        "  X, Y = split_sequence(np.array(raw_seq), isMulti, n_steps, n_future)\n",
        "  \n",
        "  \n",
        "  if not isMulti:\n",
        "    X = X.reshape((X.shape[0], X.shape[1], 1))\n",
        "    \n",
        "  if verbosity:\n",
        "    print(f\"X Shape: {X.shape}\")\n",
        "    print(f\"Y Shape: {Y.shape}\")\n",
        "\n",
        "  return X, Y"
      ],
      "execution_count": 0,
      "outputs": []
    },
    {
      "cell_type": "markdown",
      "metadata": {
        "id": "cybdNn4R3AW6",
        "colab_type": "text"
      },
      "source": [
        "# Models Util"
      ]
    },
    {
      "cell_type": "markdown",
      "metadata": {
        "id": "QYQ-2RhUqtZu",
        "colab_type": "text"
      },
      "source": [
        "## Misc\n",
        "\n",
        "Function to help implement the training and evaluation of the models.\n"
      ]
    },
    {
      "cell_type": "code",
      "metadata": {
        "id": "eu5Wz92BHMmr",
        "colab_type": "code",
        "colab": {}
      },
      "source": [
        "def plot_history (history, name):\n",
        "  \"\"\" Plot of History\n",
        "  \n",
        "  Plot the history of loss in the training session of a model\n",
        "  \n",
        "  Arguments:\n",
        "    history: the history returned by Keras fit of a model\n",
        "    name: the name of the model\n",
        "  \"\"\"\n",
        "  \n",
        "  path = f\"{TCC_PATH}plots/histories/{name}\"\n",
        "  \n",
        "  plt.plot(history.history['loss'])\n",
        "  plt.plot(history.history['val_loss'])\n",
        "  plt.title(name + ' Model Loss')\n",
        "  plt.ylabel('Loss')\n",
        "  plt.xlabel('Epoch')\n",
        "  plt.legend(['train', 'test'], loc='upper left')\n",
        "  plt.rcdefaults()\n",
        "  \n",
        "  plt.savefig(path + \".png\", bbox_inches='tight')\n",
        "  plt.savefig(path + \".pdf\")\n",
        "  \n",
        "  #plt.show(name + \"ind\")\n",
        "  plt.close('all')"
      ],
      "execution_count": 0,
      "outputs": []
    },
    {
      "cell_type": "code",
      "metadata": {
        "id": "ei04VHAwH0Wo",
        "colab_type": "code",
        "colab": {}
      },
      "source": [
        "def plot_prediction (Y, Y_hat, title):\n",
        "  \"\"\" Plot Prediction\n",
        "  \n",
        "  Plot the prediction (Flow x Time) of what was expected and what\n",
        "  was predicted.\n",
        "  \n",
        "  \"\"\"\n",
        "  \n",
        "  n = math.floor(len(Y) / DAY_SIZE)\n",
        "  Y = flatten(Y)\n",
        "  Y_hat = flatten(Y_hat)\n",
        "  \n",
        "  for r in range(n):\n",
        "    i = r * DAY_SIZE\n",
        "    j = min(i + DAY_SIZE, len(Y))\n",
        "    \n",
        "    name = f\"{title} ({str(r+1).zfill(2)} of {n})\"\n",
        "    path = f\"{TCC_PATH}plots/predictions/{name}\"\n",
        "    \n",
        "    plt.plot(Y[i:j])\n",
        "    plt.plot(Y_hat[i:j])\n",
        "    plt.title(title + 'Prediction')\n",
        "    plt.ylabel('Flow')\n",
        "    plt.xlabel('Time')\n",
        "    plt.legend(['actual', 'prediction'], loc='upper left')\n",
        "    plt.rcdefaults()\n",
        "\n",
        "    plt.savefig(path + \".png\", bbox_inches='tight')\n",
        "    plt.savefig(path + \".pdf\")\n",
        "\n",
        "    plt.close('all')"
      ],
      "execution_count": 0,
      "outputs": []
    },
    {
      "cell_type": "code",
      "metadata": {
        "id": "KH648TIGLVKg",
        "colab_type": "code",
        "colab": {}
      },
      "source": [
        "def split_dataset (n, window_split, test_split):\n",
        "  \"\"\" Dataset Split\n",
        "  \n",
        "  Generate pointers for the training and test of the models based\n",
        "  on the splits.\n",
        "  \n",
        "  Arguments:\n",
        "    n: size of the dataset.\n",
        "    window_split: percentage of the dataset that will be used in each \n",
        "      train&test sample.\n",
        "    test_split: percentage of the train&test sample that will be \n",
        "      dedicated to testing.\n",
        "  \"\"\"\n",
        "  \n",
        "  sz_window = int(n * window_split)\n",
        "  sz_test = int(sz_window * test_split)\n",
        "  sz_train = sz_window - sz_test\n",
        "  sz_jump = sz_test\n",
        "\n",
        "  i, j, k = 0, sz_train, min(n, sz_train + sz_test)\n",
        "  \n",
        "  res = []\n",
        "  \n",
        "  while j < n:\n",
        "    res.append((i, j, k))\n",
        "    \n",
        "    i = i + sz_jump\n",
        "    j = i + sz_train\n",
        "    k = min(n, j + sz_test)\n",
        "    \n",
        "  return res"
      ],
      "execution_count": 0,
      "outputs": []
    },
    {
      "cell_type": "code",
      "metadata": {
        "id": "65Zypk5Cbiv0",
        "colab_type": "code",
        "colab": {}
      },
      "source": [
        "def evaluate_precision_hit_ratio (Y, Y_hat):\n",
        "  \"\"\" Trend Prediction Ratio Calculation\n",
        "  \n",
        "  Calculates the ratio of up/down prediction.\n",
        "  \n",
        "  Arguments:\n",
        "    Y: the expected dataset.\n",
        "    Y_hat: the observed dataset.\n",
        "  \"\"\"\n",
        "  \n",
        "  cnt = 0\n",
        "  \n",
        "  for i in range(len(Y)):\n",
        "    if i < N_FUTURE:\n",
        "      continue\n",
        "      \n",
        "    exp = Y[i] - Y[i - N_FUTURE]\n",
        "    obs = Y_hat[i] - Y[i - N_FUTURE]\n",
        "    \n",
        "    if exp * obs > 0:\n",
        "      cnt += 1\n",
        "    \n",
        "  return cnt / len(Y)"
      ],
      "execution_count": 0,
      "outputs": []
    },
    {
      "cell_type": "code",
      "metadata": {
        "id": "gTes33wAe1zg",
        "colab_type": "code",
        "colab": {}
      },
      "source": [
        "def evaluate_precision_bucket (Y, Y_hat):\n",
        "  \"\"\" Precision Bucket Calculation\n",
        "  \n",
        "  Counts how many of the prediction got wronng by at most 2ˆx, x \n",
        "  being the bucket. There are 7 buckets, that is, the maximum error \n",
        "  calculated is 128.\n",
        "  \n",
        "  Arguments:\n",
        "    Y: the expected dataset.\n",
        "    Y_hat: the observed dataset.\n",
        "  \"\"\"\n",
        "  \n",
        "  n = 7 # the number of buckets\n",
        "  buckets = [0] * n\n",
        "  \n",
        "  for i in range(len(Y)):\n",
        "    diff = abs(Y[i] - Y_hat[i])\n",
        "    \n",
        "    for i in range (n):\n",
        "      if diff <= 2**i:\n",
        "        buckets[i] += 1\n",
        "        break\n",
        "\n",
        "  for i in range (n):\n",
        "     buckets[i] = buckets[i] / len(Y)\n",
        "\n",
        "  return tuple(buckets)"
      ],
      "execution_count": 0,
      "outputs": []
    },
    {
      "cell_type": "code",
      "metadata": {
        "id": "-u6hphOb8AQQ",
        "colab_type": "code",
        "colab": {
          "base_uri": "https://localhost:8080/",
          "height": 131
        },
        "outputId": "6b0b2b14-3f4c-4601-937d-9f43299db24d"
      },
      "source": [
        "def evaluate_raw (expected, observed, times):\n",
        "  \"\"\" Evaluate Raw Sessions \n",
        "  \n",
        "  Evaluate each of the train&test sessions by RMSE, NRMSE, MAE, HR, PRE. \n",
        "  It will store the results in a object and return it.\n",
        "  \n",
        "  Arguments:\n",
        "    expected: an array of expected instances of each train&test session.\n",
        "    observed: an array of observed instances of each train&test session.\n",
        "    times: an array of the time of each train&test session.\n",
        "  \"\"\"\n",
        "  \n",
        "  n = len(expected)\n",
        "  \n",
        "  raw = {\n",
        "    'expected': expected,\n",
        "    'observed': observed,\n",
        "    'TIME': times,\n",
        "    'RMSE': [0] * n,\n",
        "    'NRMSE': [0] * n,\n",
        "    'MAE': [0] * n,\n",
        "    'HR': [0] * n,\n",
        "    'PRE': [0] * n,\n",
        "  }\n",
        "  \n",
        "  for i in range(n):\n",
        "    Y = expected[i]\n",
        "    Y_hat = observed[i]\n",
        "    time = times[i]\n",
        "\n",
        "    raw['MAE'][i] = sklm.mean_absolute_error(Y, Y_hat)\n",
        "    raw['RMSE'][i] = np.sqrt(sklm.mean_squared_error(Y, Y_hat))\n",
        "    raw['NRMSE'][i] = raw['RMSE'][i] / np.std(Y)\n",
        "    raw['HR'][i] = evaluate_precision_hit_ratio(Y, Y_hat)\n",
        "    raw['PRE'][i] = evaluate_precision_bucket(Y, Y_hat)\n",
        "    \n",
        "    if VERBOSITY:\n",
        "      print(f\"({i+1}/{n}) Test Size: {len(Y)}, Time: {time}s\")\n",
        "      print(f\"\\tRMSE: {raw['RMSE'][i]}\")\n",
        "      print(f\"\\tNRMSE: {raw['NRMSE'][i]}\")\n",
        "      print(f\"\\tMAE: {raw['MAE'][i]}\")\n",
        "      print(f\"\\tHit Ratio: {raw['HR'][i] * 100}%\")\n",
        "\n",
        "  return raw"
      ],
      "execution_count": 19,
      "outputs": [
        {
          "output_type": "error",
          "ename": "SyntaxError",
          "evalue": "ignored",
          "traceback": [
            "\u001b[0;36m  File \u001b[0;32m\"<ipython-input-19-6789b22f1361>\"\u001b[0;36m, line \u001b[0;32m1\u001b[0m\n\u001b[0;31m    def evaluate_raw (expected, observed, times):,\u001b[0m\n\u001b[0m                                                 ^\u001b[0m\n\u001b[0;31mSyntaxError\u001b[0m\u001b[0;31m:\u001b[0m invalid syntax\n"
          ]
        }
      ]
    },
    {
      "cell_type": "code",
      "metadata": {
        "id": "nW3-LAmDNpYL",
        "colab_type": "code",
        "colab": {}
      },
      "source": [
        "def evaluate (expected, observed, times, desnormalize):\n",
        "  \"\"\" Evaluate Sessions\n",
        "  \n",
        "  Evaluate models by RMSE, NRMSE, MAE, HR, PRE. It will store the \n",
        "  results in a object and return it.\n",
        "  \n",
        "  Arguments:\n",
        "    expected: an array of expected instances of each \n",
        "      train&test session.\n",
        "    observed: an array of observed instances of each \n",
        "      train&test session.\n",
        "    times: an array of the time of each train&test session.\n",
        "    desnormalize: if it should desnormalize the results\n",
        "  \"\"\"\n",
        "  n = len(expected)\n",
        "  \n",
        "  # Make the arrays serializable\n",
        "  expected = list(map(list, expected))\n",
        "  observed = list(map(list, observed))\n",
        "  \n",
        "  for i in range(n):\n",
        "    expected[i] = list(map(float, expected[i]))\n",
        "    observed[i] = list(map(float, observed[i]))\n",
        "\n",
        "  if desnormalize:\n",
        "    for i in range(n):\n",
        "      expected[i] = list(scaler.inverse_transform(expected[i]))\n",
        "      observed[i] = list(scaler.inverse_transform(observed[i]))\n",
        "  \n",
        "  raw = evaluate_raw(expected, observed, times)\n",
        "  \n",
        "  n_buckets = len(raw['PRE'])\n",
        "  _pre = [[pre[i] for pre in raw['PRE']] for i in range(n_buckets)]\n",
        "  \n",
        "  eva = {\n",
        "    'TIME': int(sum(times)),\n",
        "    'RMSE': float(np.mean(raw['RMSE'])),\n",
        "    'NRMSE': float(np.mean(raw['NRMSE'])),\n",
        "    'MAE': float(np.mean(raw['MAE'])),\n",
        "    'HR': float(np.mean(raw['HR'])),\n",
        "    'PRE': [float(np.mean(p)) for p in _pre],\n",
        "    'has_negative': (min(flatten(observed)) < 0),\n",
        "    'raw': raw\n",
        "  }\n",
        "  \n",
        "  if VERBOSITY:\n",
        "    print(f\"FINAL RESULT:\")\n",
        "    print(f\"\\tTotal Time: {eva['TIME']}s\")\n",
        "    print(f\"\\tRMSE: {eva['RMSE']}\")\n",
        "    print(f\"\\tNRMSE: {eva['NRMSE']}\")\n",
        "    print(f\"\\tMAE: {eva['MAE']}\")\n",
        "    print(f\"\\tHit Ratio: {eva['HR'] * 100}%\")\n",
        "    print(f\"\\tPrecision: {eva['PRE']}\")\n",
        "    \n",
        "  return eva"
      ],
      "execution_count": 0,
      "outputs": []
    },
    {
      "cell_type": "markdown",
      "metadata": {
        "id": "5atl1RAeso-d",
        "colab_type": "text"
      },
      "source": [
        "## Random (Baseline)\n",
        "\n",
        "This implementation just guess a random number in the [0, 100] interval for every output."
      ]
    },
    {
      "cell_type": "code",
      "metadata": {
        "id": "Y3Bq_mfg3m8D",
        "colab_type": "code",
        "colab": {}
      },
      "source": [
        "import random as rnd # random"
      ],
      "execution_count": 0,
      "outputs": []
    },
    {
      "cell_type": "code",
      "metadata": {
        "id": "H4uy_XVyswCC",
        "colab_type": "code",
        "colab": {}
      },
      "source": [
        "def random_guess_univariate (Y):\n",
        "  global result_data\n",
        "\n",
        "  name = \"Random Guess\"\n",
        "  m = max(Y)\n",
        "\n",
        "  expected, observed, times = [], [], []\n",
        "  pointers = split_dataset(len(Y), SET_SPLIT, TEST_SPLIT)\n",
        "  \n",
        "  for i, j, k in pointers:\n",
        "    start = tm.time()\n",
        "\n",
        "    Y_hat = [rnd.randint(0, m) for i in range(k - j)]\n",
        "\n",
        "    expected.append(Y[j:k])\n",
        "    observed.append(Y_hat)\n",
        "    times.append(tm.time() - start)\n",
        "\n",
        "  result_data['results'][name] = evaluate(expected, observed, times, NORMALIZE_FEATS)\n",
        "\n",
        "  if VERBOSITY:\n",
        "    plot_prediction(expected, observed, name)"
      ],
      "execution_count": 0,
      "outputs": []
    },
    {
      "cell_type": "markdown",
      "metadata": {
        "id": "j2hH4Og160vf",
        "colab_type": "text"
      },
      "source": [
        "## Moving Average (Baseline)\n",
        "\n",
        "This implementation just get the mean of every flow value in the input and place it as output."
      ]
    },
    {
      "cell_type": "code",
      "metadata": {
        "id": "7tffuEQJ63Sv",
        "colab_type": "code",
        "colab": {}
      },
      "source": [
        "def moving_average (X, Y):\n",
        "  global result_data\n",
        "  \n",
        "  name = \"Moving Average\"\n",
        "  expected, observed, times = [], [], []\n",
        "  pointers = split_dataset(len(X), SET_SPLIT, TEST_SPLIT)\n",
        "  \n",
        "  X = X.reshape(X.shape[0], X.shape[1])\n",
        "  \n",
        "  for i, j, k in pointers:\n",
        "    start = tm.time()\n",
        "    \n",
        "    Y_hat = [np.mean(x) for x in X[j:k]]\n",
        "    \n",
        "    expected.append(Y[j:k])\n",
        "    observed.append(Y_hat)\n",
        "    times.append(tm.time() - start)\n",
        "    \n",
        "  result_data['results'][name] = evaluate(expected, observed, times, NORMALIZE_FEATS)\n",
        "  \n",
        "  if VERBOSITY:\n",
        "    plot_prediction(expected, observed, name)"
      ],
      "execution_count": 0,
      "outputs": []
    },
    {
      "cell_type": "markdown",
      "metadata": {
        "id": "HwDC7WBEOf_H",
        "colab_type": "text"
      },
      "source": [
        "## Naive (Baseline)\n",
        "\n",
        "This implementation just use the last value of input as output."
      ]
    },
    {
      "cell_type": "code",
      "metadata": {
        "id": "w1V9y_fZOsj1",
        "colab_type": "code",
        "colab": {}
      },
      "source": [
        "def naive (X, Y):\n",
        "  global result_data\n",
        "  \n",
        "  name = \"Naive\"\n",
        "  expected, observed, times = [], [], []\n",
        "  pointers = split_dataset(len(X), SET_SPLIT, TEST_SPLIT)\n",
        "  \n",
        "  X = X.reshape(X.shape[0], X.shape[1])\n",
        "  \n",
        "  for i, j, k in pointers:\n",
        "    start = tm.time()\n",
        "    \n",
        "    Y_hat = [x[-1] for x in X[j:k]]\n",
        "    \n",
        "    expected.append(Y[j:k])\n",
        "    observed.append(Y_hat)\n",
        "    times.append(tm.time() - start)\n",
        "    \n",
        "  result_data['results'][name] = evaluate(expected, observed, times, NORMALIZE_FEATS)\n",
        "  \n",
        "  if VERBOSITY:\n",
        "    plot_prediction(expected, observed, name)"
      ],
      "execution_count": 0,
      "outputs": []
    },
    {
      "cell_type": "markdown",
      "metadata": {
        "id": "GVUHvQxwWVrW",
        "colab_type": "text"
      },
      "source": [
        "## Random Forest\n",
        "\n",
        "This implementation is based on [Random Forest Algorithm with Python and Scikit-Learn](https://stackabuse.com/random-forest-algorithm-with-python-and-scikit-learn/)"
      ]
    },
    {
      "cell_type": "code",
      "metadata": {
        "id": "CY4FoU_7aqcL",
        "colab_type": "code",
        "colab": {}
      },
      "source": [
        "from sklearn.ensemble.forest import RandomForestRegressor"
      ],
      "execution_count": 0,
      "outputs": []
    },
    {
      "cell_type": "code",
      "metadata": {
        "id": "aphhugpvWYkP",
        "colab_type": "code",
        "colab": {}
      },
      "source": [
        "def random_forest(X, Y, isMulti):\n",
        "  global result_data\n",
        "  \n",
        "  name = \"RF Multivariate\" if isMulti else \"RF Univariate\"\n",
        "  \n",
        "  model = skl.ensemble.RandomForestRegressor(n_estimators=100, max_features='auto', random_state=0)\n",
        "\n",
        "  expected, observed, times = [], [], []\n",
        "  pointers = split_dataset(len(X), SET_SPLIT, TEST_SPLIT)\n",
        "  \n",
        "  X = X.reshape(X.shape[0], X.shape[1] * X.shape[2])\n",
        "  \n",
        "  for i, j, k in pointers:\n",
        "    start = tm.time()\n",
        "    \n",
        "    model.fit(X[i:j], Y[i:j])\n",
        "    \n",
        "    expected.append(Y[j:k])\n",
        "    observed.append(model.predict(X[j:k]))\n",
        "    times.append(tm.time() - start)\n",
        "    \n",
        "  result_data['results'][name] = evaluate(expected, observed, times, NORMALIZE_FEATS)\n",
        "  \n",
        "  if VERBOSITY:\n",
        "    plot_prediction(expected, observed, name)"
      ],
      "execution_count": 0,
      "outputs": []
    },
    {
      "cell_type": "markdown",
      "metadata": {
        "id": "8WICqU265GQ2",
        "colab_type": "text"
      },
      "source": [
        "## Support Vector Machine"
      ]
    },
    {
      "cell_type": "code",
      "metadata": {
        "id": "6O3aVV1s5KdL",
        "colab_type": "code",
        "colab": {}
      },
      "source": [
        "from sklearn import svm"
      ],
      "execution_count": 0,
      "outputs": []
    },
    {
      "cell_type": "code",
      "metadata": {
        "id": "scKSmSyk5Awm",
        "colab_type": "code",
        "colab": {}
      },
      "source": [
        "def support_vector_machine(X, Y, isMulti):\n",
        "  global result_data\n",
        "  \n",
        "  name = \"SVM Multivariate\" if isMulti else \"SVM Univariate\"\n",
        "  \n",
        "  model = svm.SVR(gamma='scale', C=1.0, epsilon=0.2)\n",
        "\n",
        "  expected, observed, times = [], [], []\n",
        "  pointers = split_dataset(len(X), SET_SPLIT, TEST_SPLIT)\n",
        "  \n",
        "  X = X.reshape(X.shape[0], X.shape[1] * X.shape[2])\n",
        "  \n",
        "  for i, j, k in pointers:\n",
        "    start = tm.time()\n",
        "    \n",
        "    model.fit(X[i:j], Y[i:j])\n",
        "    \n",
        "    expected.append(Y[j:k])\n",
        "    observed.append(model.predict(X[j:k]))\n",
        "    times.append(tm.time() - start)\n",
        "    \n",
        "  result_data['results'][name] = evaluate(expected, observed, times, NORMALIZE_FEATS)\n",
        "  \n",
        "  if VERBOSITY:\n",
        "    plot_prediction(expected, observed, name)"
      ],
      "execution_count": 0,
      "outputs": []
    },
    {
      "cell_type": "markdown",
      "metadata": {
        "id": "B3dQ_nM_TgDC",
        "colab_type": "text"
      },
      "source": [
        "## RNN"
      ]
    },
    {
      "cell_type": "code",
      "metadata": {
        "id": "BH_62Q8G2s9a",
        "colab_type": "code",
        "colab": {}
      },
      "source": [
        "from keras.layers import SimpleRNN"
      ],
      "execution_count": 0,
      "outputs": []
    },
    {
      "cell_type": "code",
      "metadata": {
        "id": "st9EurMVT5gj",
        "colab_type": "code",
        "colab": {}
      },
      "source": [
        "def rnn (X, Y, isMulti): \n",
        "  global result_data\n",
        "  \n",
        "  name = \"RNN Multivariate\" if isMulti else \"RNN Univariate\"\n",
        "  \n",
        "  model = Sequential()\n",
        "  \n",
        "  model.add(SimpleRNN(50, activation='relu', input_shape=(X.shape[1], X.shape[2])))\n",
        "  model.add(Dense(1, activation='sigmoid' if NORMALIZE_FEATS else 'relu'))\n",
        "  \n",
        "  model.compile(optimizer='adam', loss='mse', metrics = [\"accuracy\"])\n",
        "  \n",
        "  expected, observed, times = [], [], []\n",
        "  pointers = split_dataset(len(X), SET_SPLIT, TEST_SPLIT)\n",
        "  \n",
        "  for i, j, k in pointers:\n",
        "    start = tm.time()\n",
        "    \n",
        "    hist = model.fit(X[i:j], Y[i:j], validation_split=0.2, batch_size=64, epochs=15, verbose=0)\n",
        "    \n",
        "    expected.append(Y[j:k])\n",
        "    observed.append(model.predict(X[j:k]))\n",
        "    times.append(tm.time() - start)\n",
        "    \n",
        "    if VERBOSITY:\n",
        "      plot_history(hist, f\"{name} ({str(len(times)).zfill(2)} of {len(pointers)})\")\n",
        "    \n",
        "  result_data['results'][name] = evaluate(expected, observed, times, NORMALIZE_FEATS)\n",
        "  \n",
        "  if VERBOSITY:\n",
        "    plot_prediction(expected, observed, name)"
      ],
      "execution_count": 0,
      "outputs": []
    },
    {
      "cell_type": "markdown",
      "metadata": {
        "id": "D7Nq3PsMTjYc",
        "colab_type": "text"
      },
      "source": [
        "## LSTM"
      ]
    },
    {
      "cell_type": "code",
      "metadata": {
        "id": "nTbbtAki29wT",
        "colab_type": "code",
        "colab": {}
      },
      "source": [
        "from keras.layers import LSTM"
      ],
      "execution_count": 0,
      "outputs": []
    },
    {
      "cell_type": "code",
      "metadata": {
        "id": "AGyRz8GzTp4e",
        "colab_type": "code",
        "colab": {}
      },
      "source": [
        "def lstm (X, Y, isMulti): \n",
        "  global result_data\n",
        "  \n",
        "  name = \"LSTM Multivariate\" if isMulti else \"LSTM Univariate\"\n",
        "  \n",
        "  model = Sequential()\n",
        "  \n",
        "  model.add(LSTM(50, activation='relu', input_shape=(X.shape[1], X.shape[2])))\n",
        "  model.add(Dense(1, activation='sigmoid' if NORMALIZE_FEATS else 'relu'))\n",
        "  \n",
        "  model.compile(optimizer='adam', loss='mse', metrics = [\"accuracy\"])\n",
        "  \n",
        "  expected, observed, times = [], [], []\n",
        "  pointers = split_dataset(len(X), SET_SPLIT, TEST_SPLIT)\n",
        "  \n",
        "  for i, j, k in pointers:\n",
        "    start = tm.time()\n",
        "    \n",
        "    hist = model.fit(X[i:j], Y[i:j], validation_split=0.2, batch_size=64, epochs=15, verbose=0)\n",
        "    \n",
        "    expected.append(Y[j:k])\n",
        "    observed.append(model.predict(X[j:k]))\n",
        "    times.append(tm.time() - start)\n",
        "    \n",
        "    if VERBOSITY:\n",
        "      plot_history(hist, f\"{name} ({str(len(times)).zfill(2)} of {len(pointers)})\")\n",
        "    \n",
        "  result_data['results'][name] = evaluate(expected, observed, times, NORMALIZE_FEATS)\n",
        "  \n",
        "  if VERBOSITY:\n",
        "    plot_prediction(expected, observed, name)"
      ],
      "execution_count": 0,
      "outputs": []
    },
    {
      "cell_type": "markdown",
      "metadata": {
        "id": "qhaufggBRABt",
        "colab_type": "text"
      },
      "source": [
        "## GRU"
      ]
    },
    {
      "cell_type": "code",
      "metadata": {
        "id": "rP_hAZNu3CS7",
        "colab_type": "code",
        "colab": {}
      },
      "source": [
        "from keras.layers import GRU"
      ],
      "execution_count": 0,
      "outputs": []
    },
    {
      "cell_type": "code",
      "metadata": {
        "id": "KD1GwF_b9P2h",
        "colab_type": "code",
        "colab": {}
      },
      "source": [
        "def gru (X, Y, isMulti): \n",
        "  global result_data\n",
        "  \n",
        "  name = \"GRU Multivariate\" if isMulti else \"GRU Univariate\"\n",
        "  \n",
        "  model = Sequential()\n",
        "  \n",
        "  model.add(GRU(50, activation='relu', input_shape=(X.shape[1], X.shape[2])))\n",
        "  model.add(Dense(1, activation='sigmoid' if NORMALIZE_FEATS else 'relu'))\n",
        "  \n",
        "  model.compile(optimizer='adam', loss='mse', metrics = [\"accuracy\"])\n",
        "\n",
        "  expected, observed, times = [], [], []\n",
        "  pointers = split_dataset(len(X), SET_SPLIT, TEST_SPLIT)\n",
        "  \n",
        "  for i, j, k in pointers:\n",
        "    start = tm.time()\n",
        "    \n",
        "    hist = model.fit(X[i:j], Y[i:j], validation_split=0.2, batch_size=64, epochs=15, verbose=0)\n",
        "    \n",
        "    expected.append(Y[j:k])\n",
        "    observed.append(model.predict(X[j:k]))\n",
        "    times.append(tm.time() - start)\n",
        "    \n",
        "    if VERBOSITY:\n",
        "      plot_history(hist, f\"{name} ({str(len(times)).zfill(2)} of {len(pointers)})\")\n",
        "    \n",
        "  result_data['results'][name] = evaluate(expected, observed, times, NORMALIZE_FEATS)\n",
        "  \n",
        "  if VERBOSITY:\n",
        "    plot_prediction(expected, observed, name)"
      ],
      "execution_count": 0,
      "outputs": []
    },
    {
      "cell_type": "markdown",
      "metadata": {
        "id": "8BkdL8EE5pl3",
        "colab_type": "text"
      },
      "source": [
        "# Storage Util"
      ]
    },
    {
      "cell_type": "code",
      "metadata": {
        "id": "9OWaLFzKSG2A",
        "colab_type": "code",
        "colab": {}
      },
      "source": [
        "def print_json ():\n",
        "  print(json.dumps(result_data, sort_keys=True, indent=4))"
      ],
      "execution_count": 0,
      "outputs": []
    },
    {
      "cell_type": "code",
      "metadata": {
        "id": "y4OjfpS8R-ZC",
        "colab_type": "code",
        "colab": {}
      },
      "source": [
        "def store_results ():\n",
        "  name = int(tm.time())\n",
        "  \n",
        "  result_data['meta'] = {\n",
        "    \"SEEABLE_PAST\": SEEABLE_PAST,\n",
        "    \"PREDICT_IN_FUTURE\": PREDICT_IN_FUTURE,\n",
        "    \"FLOW_INTERVAL\": FLOW_INTERVAL,\n",
        "    \"NORMALIZE_FEATS\": NORMALIZE_FEATS,\n",
        "    \"SET_SPLIT\": SET_SPLIT,\n",
        "    \"TEST_SPLIT\": TEST_SPLIT,\n",
        "    \"VALIDATION_SPLIT\": VALIDATION_SPLIT,\n",
        "  }\n",
        "  \n",
        "  with open(f\"{TCC_PATH}results/{name}.json\", 'w') as json_file:\n",
        "    json.dump(result_data, json_file)\n",
        "    \n",
        "  slim_result_data = copy.deepcopy(result_data)\n",
        "  for model in slim_result_data['results']:\n",
        "      del slim_result_data['results'][model]['raw']\n",
        "    \n",
        "  with open(f\"{TCC_PATH}results/{name}_slim.json\", 'w') as json_file:\n",
        "    json.dump(slim_result_data, json_file)"
      ],
      "execution_count": 0,
      "outputs": []
    },
    {
      "cell_type": "code",
      "metadata": {
        "id": "K_UiuJG3GwME",
        "colab_type": "code",
        "colab": {}
      },
      "source": [
        "def store_comparisons ():\n",
        "  name = int(tm.time())\n",
        "  \n",
        "  with open(f\"{TCC_PATH}results/comparison/{name}.json\", 'w') as json_file:\n",
        "    json.dump(comparison_data, json_file)\n",
        "    \n",
        "  slim_comparison_data = copy.deepcopy(comparison_data)\n",
        "  for i in range(len(slim_comparison_data)):\n",
        "    print([*slim_comparison_data[i]['results']])\n",
        "    for model in slim_comparison_data[i]['results']:\n",
        "      del slim_comparison_data[i]['results'][model]['raw']\n",
        "    \n",
        "    \n",
        "  with open(f\"{TCC_PATH}results/comparison/{name}_slim.json\", 'w') as json_file:\n",
        "    json.dump(slim_comparison_data, json_file)"
      ],
      "execution_count": 0,
      "outputs": []
    },
    {
      "cell_type": "markdown",
      "metadata": {
        "id": "1PypQpgeb3Nu",
        "colab_type": "text"
      },
      "source": [
        "# Train&Test\n",
        "\n",
        "Run all the models and store the results at the end"
      ]
    },
    {
      "cell_type": "code",
      "metadata": {
        "id": "IURi5r5HV5oZ",
        "colab_type": "code",
        "colab": {}
      },
      "source": [
        "# Model Parameters\n",
        "\n",
        "SEEABLE_PAST = 180 # in minutes\n",
        "\n",
        "PREDICT_IN_FUTURE = 60 # in minutes\n",
        "\n",
        "FLOW_INTERVAL = 360 # the interval size for each flow\n",
        "\n",
        "NORMALIZE_FEATS = False #Decide if we gonna use normalized flow and speed values, or not\n",
        "\n",
        "SET_SPLIT = 0.65\n",
        "\n",
        "TEST_SPLIT = 0.2\n",
        "\n",
        "VALIDATION_SPLIT = 0.2\n",
        "\n",
        "VERBOSITY = True"
      ],
      "execution_count": 0,
      "outputs": []
    },
    {
      "cell_type": "code",
      "metadata": {
        "id": "rE_V1sw0V2DL",
        "colab_type": "code",
        "colab": {}
      },
      "source": [
        "# Derivated Model Parameters\n",
        "\n",
        "N_STEPS = SEEABLE_PAST * 60 // FLOW_INTERVAL # the number of flows to see in the past\n",
        "\n",
        "N_FUTURE = PREDICT_IN_FUTURE * 60 // FLOW_INTERVAL # how much in the future we want to predict (0 = predict the flow on the next 5 minutes)\n",
        "\n",
        "DAY_SIZE = (24 * 3600) // FLOW_INTERVAL  \n",
        "\n",
        "WEEK_SIZE = 7 * DAY_SIZE"
      ],
      "execution_count": 0,
      "outputs": []
    },
    {
      "cell_type": "code",
      "metadata": {
        "id": "OnwtPTLWVHLx",
        "colab_type": "code",
        "colab": {}
      },
      "source": [
        "result_data = {\n",
        "    'results': {},\n",
        "    'meta': {}\n",
        "}"
      ],
      "execution_count": 0,
      "outputs": []
    },
    {
      "cell_type": "code",
      "metadata": {
        "id": "pI45Wr_TVIqa",
        "colab_type": "code",
        "colab": {}
      },
      "source": [
        "comparison_data = []"
      ],
      "execution_count": 0,
      "outputs": []
    },
    {
      "cell_type": "code",
      "metadata": {
        "id": "0rN7dqj_R49N",
        "colab_type": "code",
        "colab": {}
      },
      "source": [
        "all_data = retrieve_data(VERBOSITY)"
      ],
      "execution_count": 0,
      "outputs": []
    },
    {
      "cell_type": "code",
      "metadata": {
        "id": "ZWyHB9uiLGyL",
        "colab_type": "code",
        "colab": {}
      },
      "source": [
        "data = clean_data(all_data, VERBOSITY)"
      ],
      "execution_count": 0,
      "outputs": []
    },
    {
      "cell_type": "code",
      "metadata": {
        "id": "_12MzQX3TPKB",
        "colab_type": "code",
        "colab": {}
      },
      "source": [
        "multivariateData = get_flow(data, FLOW_INTERVAL, VERBOSITY)\n",
        "univariateData = multivariateData['Flow']"
      ],
      "execution_count": 0,
      "outputs": []
    },
    {
      "cell_type": "code",
      "metadata": {
        "id": "rzs1UnJrTP2s",
        "colab_type": "code",
        "colab": {}
      },
      "source": [
        "if NORMALIZE_FEATS:\n",
        "  lenth = len(univariateData)\n",
        "  univariateData = np.asarray(univariateData).reshape((-1, 1))\n",
        "  scaler = MinMaxScaler(feature_range=(0,1))\n",
        "  scaler = scaler.fit(univariateData)\n",
        "  normalizedData = scaler.transform(univariateData)\n",
        "  univariateData = np.asarray(normalizedData).reshape(lenth,)\n",
        "  univariateData = pd.DataFrame(univariateData)"
      ],
      "execution_count": 0,
      "outputs": []
    },
    {
      "cell_type": "code",
      "metadata": {
        "id": "s_6nSlTfOBHm",
        "colab_type": "code",
        "colab": {}
      },
      "source": [
        "X_uni, Y_uni= reshape_flow(univariateData, False, N_STEPS, N_FUTURE, VERBOSITY)"
      ],
      "execution_count": 0,
      "outputs": []
    },
    {
      "cell_type": "code",
      "metadata": {
        "id": "xCTEvtdpOB4h",
        "colab_type": "code",
        "colab": {}
      },
      "source": [
        "X_multi, Y_multi= reshape_flow(multivariateData, True, N_STEPS, N_FUTURE, VERBOSITY)"
      ],
      "execution_count": 0,
      "outputs": []
    },
    {
      "cell_type": "code",
      "metadata": {
        "id": "RqSzsHvOF-NI",
        "colab_type": "code",
        "colab": {}
      },
      "source": [
        "random_guess_univariate(Y_uni)"
      ],
      "execution_count": 0,
      "outputs": []
    },
    {
      "cell_type": "code",
      "metadata": {
        "id": "TOZdw4rGGbiI",
        "colab_type": "code",
        "colab": {}
      },
      "source": [
        "moving_average(X_uni, Y_uni)"
      ],
      "execution_count": 0,
      "outputs": []
    },
    {
      "cell_type": "code",
      "metadata": {
        "id": "Q7YKxLnEGbsy",
        "colab_type": "code",
        "colab": {}
      },
      "source": [
        "naive(X_uni, Y_uni)"
      ],
      "execution_count": 0,
      "outputs": []
    },
    {
      "cell_type": "code",
      "metadata": {
        "id": "QTtHnOIvGb10",
        "colab_type": "code",
        "colab": {}
      },
      "source": [
        "random_forest(X_uni, Y_uni, False)"
      ],
      "execution_count": 0,
      "outputs": []
    },
    {
      "cell_type": "code",
      "metadata": {
        "id": "bJYRWje8Gb8F",
        "colab_type": "code",
        "colab": {}
      },
      "source": [
        "random_forest(X_multi, Y_multi, True)"
      ],
      "execution_count": 0,
      "outputs": []
    },
    {
      "cell_type": "code",
      "metadata": {
        "id": "aR-u7mO_GcCQ",
        "colab_type": "code",
        "colab": {}
      },
      "source": [
        "support_vector_machine(X_uni, Y_uni, False)"
      ],
      "execution_count": 0,
      "outputs": []
    },
    {
      "cell_type": "code",
      "metadata": {
        "id": "Vr4uwc6OGcTy",
        "colab_type": "code",
        "colab": {}
      },
      "source": [
        "support_vector_machine(X_multi, Y_multi, True)"
      ],
      "execution_count": 0,
      "outputs": []
    },
    {
      "cell_type": "code",
      "metadata": {
        "id": "MhxMxpGIGcYK",
        "colab_type": "code",
        "colab": {}
      },
      "source": [
        "rnn(X_uni, Y_uni, False)"
      ],
      "execution_count": 0,
      "outputs": []
    },
    {
      "cell_type": "code",
      "metadata": {
        "id": "xA4broRMGcRB",
        "colab_type": "code",
        "colab": {}
      },
      "source": [
        "rnn(X_multi, Y_multi, True)"
      ],
      "execution_count": 0,
      "outputs": []
    },
    {
      "cell_type": "code",
      "metadata": {
        "id": "4UoTWDJpGcOK",
        "colab_type": "code",
        "colab": {}
      },
      "source": [
        "lstm(X_uni, Y_uni, False)"
      ],
      "execution_count": 0,
      "outputs": []
    },
    {
      "cell_type": "code",
      "metadata": {
        "id": "LwR2yDVkGcLd",
        "colab_type": "code",
        "colab": {}
      },
      "source": [
        "lstm(X_multi, Y_multi, True)"
      ],
      "execution_count": 0,
      "outputs": []
    },
    {
      "cell_type": "code",
      "metadata": {
        "id": "nsTARwY0GcI0",
        "colab_type": "code",
        "colab": {}
      },
      "source": [
        "gru(X_uni, Y_uni, False)"
      ],
      "execution_count": 0,
      "outputs": []
    },
    {
      "cell_type": "code",
      "metadata": {
        "id": "8HrdsNZqGcGV",
        "colab_type": "code",
        "colab": {}
      },
      "source": [
        "gru(X_multi, Y_multi, True)"
      ],
      "execution_count": 0,
      "outputs": []
    },
    {
      "cell_type": "code",
      "metadata": {
        "id": "Bm1wfgScJlHA",
        "colab_type": "code",
        "colab": {}
      },
      "source": [
        "store_results()"
      ],
      "execution_count": 0,
      "outputs": []
    },
    {
      "cell_type": "markdown",
      "metadata": {
        "id": "d7RYTwKXkP4o",
        "colab_type": "text"
      },
      "source": [
        "# Plot"
      ]
    },
    {
      "cell_type": "markdown",
      "metadata": {
        "id": "6O0yNb7JHB7x",
        "colab_type": "text"
      },
      "source": [
        "## Util"
      ]
    },
    {
      "cell_type": "code",
      "metadata": {
        "id": "WOj9DSrIHhiM",
        "colab_type": "code",
        "colab": {}
      },
      "source": [
        "def plot_performance(metric, y_label, title):\n",
        "  \"\"\" Plot Performance\n",
        "  \n",
        "  Plot a bar graph of the performance of some metric\n",
        "  \n",
        "  Arguments:\n",
        "    metric: the name of the property of the metric\n",
        "    y_label: the name of the label of the metric\n",
        "    title: the title of the plot\n",
        "  \"\"\"\n",
        "  \n",
        "  path = f\"{TCC_PATH}plots/performances/bars/{title}\"\n",
        "  \n",
        "  models = tuple(result_data['results'].keys())\n",
        "  y_pos = np.arange(len(models))\n",
        "  performance = [v[metric] for v in result_data['results'].values()]\n",
        "\n",
        "  plt.rcdefaults()\n",
        "  plt.bar(y_pos, performance, align='center', alpha=0.5)\n",
        "  plt.xticks(y_pos, models, rotation=90)\n",
        "  plt.ylabel(y_label)\n",
        "  plt.title(title)\n",
        "\n",
        "  plt.savefig(path + \".png\", bbox_inches='tight')\n",
        "  plt.savefig(path + \".pdf\")\n",
        "  \n",
        "  plt.show()\n",
        "  plt.close('all')"
      ],
      "execution_count": 0,
      "outputs": []
    },
    {
      "cell_type": "code",
      "metadata": {
        "id": "OhvtEPTrH5TC",
        "colab_type": "code",
        "colab": {}
      },
      "source": [
        "def plot_performance_improved(metric, y_label, title):\n",
        "  \"\"\" Plot Performance Improved\n",
        "  \n",
        "  Plot a box graph of the performance of some metric\n",
        "  \n",
        "  Arguments:\n",
        "    metric: the name of the property of the metric\n",
        "    y_label: the name of the label of the metric\n",
        "    title: the title of the plot\n",
        "  \"\"\"\n",
        "  \n",
        "  path = f\"{TCC_PATH}plots/performances/boxes/{title}\"\n",
        "  \n",
        "  fig, ax_plot = plt.subplots()\n",
        "  \n",
        "  ax_plot.set_title(title)\n",
        "  ax_plot.set_xlabel('Model')\n",
        "  ax_plot.set_ylabel(y_label)\n",
        "  \n",
        "  bplot = ax_plot.boxplot([v['raw'][metric] for v in result_data['results'].values()])\n",
        "  ax_plot.set_xticklabels(list(result_data['results'].keys()))\n",
        "  \n",
        "  plt.xticks(rotation=90)\n",
        "  \n",
        "  plt.savefig(path + \".png\", bbox_inches='tight')\n",
        "  plt.savefig(path + \".pdf\")\n",
        "  \n",
        "  plt.show()\n",
        "  plt.close('all')"
      ],
      "execution_count": 0,
      "outputs": []
    },
    {
      "cell_type": "code",
      "metadata": {
        "id": "bRC8liDUH7QI",
        "colab_type": "code",
        "colab": {}
      },
      "source": [
        "def plot_precision_bucket ():\n",
        "  \"\"\" Plot Precision Bucket \n",
        "  \n",
        "  Plot a stack box graph of the precision mesuared by the buckets.\n",
        "  \n",
        "  \"\"\"\n",
        "  \n",
        "  path = f\"{TCC_PATH}plots/precision\"\n",
        "  \n",
        "  N = len(result_data['results'])\n",
        "    \n",
        "  ind = np.arange(N)    # the x locations for the groups\n",
        "  width = 0.35       # the width of the bars: can also be len(x) sequence\n",
        "  \n",
        "  pre = []\n",
        "  bott = []\n",
        "  \n",
        "  models = list(result_data['results'].keys())\n",
        "\n",
        "  n_buckets = len(result_data['results'][models[0]]['PRE'])\n",
        "    \n",
        "  for i in range(n_buckets):\n",
        "    pre.append([v[\"PRE\"][i] for v in result_data['results'].values()])\n",
        "    \n",
        "    if i == 0:\n",
        "      bott.append([0] * N)\n",
        "    else:\n",
        "      bott.append([bott[i-1][j] + pre[i-1][j]  for j in range(N)])\n",
        "  \n",
        "  p = []\n",
        "  leg_lin = []\n",
        "  leg_lab = []\n",
        "  \n",
        "  for i in range(n_buckets):\n",
        "    _p = plt.bar(ind, tuple(pre[i]), width, bottom=tuple(bott[i]))\n",
        "    \n",
        "    leg_lin.append(_p[0])\n",
        "    leg_lab.append(f\"Bucket of {2**i}\")\n",
        "    p.append(_p)\n",
        "\n",
        "  plt.ylabel('Scores')\n",
        "  plt.title('Precision by model and bucket')\n",
        "  plt.xticks(ind, list(result_data['results'].keys()), rotation=90)\n",
        "  plt.yticks(np.arange(0, 1.05, 0.05))\n",
        "  plt.legend(tuple(leg_lin), tuple(leg_lab))\n",
        "  \n",
        "  plt.savefig(path + \".png\", bbox_inches='tight')\n",
        "  plt.savefig(path + \".pdf\")\n",
        "\n",
        "  plt.show()\n",
        "  plt.close('all')"
      ],
      "execution_count": 0,
      "outputs": []
    },
    {
      "cell_type": "markdown",
      "metadata": {
        "id": "7afcSRPYHEVg",
        "colab_type": "text"
      },
      "source": [
        "## Run\n"
      ]
    },
    {
      "cell_type": "code",
      "metadata": {
        "id": "zKOkVgy-viQv",
        "colab_type": "code",
        "colab": {}
      },
      "source": [
        "plot_precision_bucket()"
      ],
      "execution_count": 0,
      "outputs": []
    },
    {
      "cell_type": "code",
      "metadata": {
        "id": "l7nGtfoDjRtr",
        "colab_type": "code",
        "colab": {}
      },
      "source": [
        "plot_performance_improved('TIME', 'Seconds', 'Training Time Comparison')"
      ],
      "execution_count": 0,
      "outputs": []
    },
    {
      "cell_type": "code",
      "metadata": {
        "id": "wfkT6lp1jhfR",
        "colab_type": "code",
        "colab": {}
      },
      "source": [
        "plot_performance_improved('RMSE', 'RMSE', 'Root Mean Square Error Comparison')"
      ],
      "execution_count": 0,
      "outputs": []
    },
    {
      "cell_type": "code",
      "metadata": {
        "id": "C_139ETyjiDH",
        "colab_type": "code",
        "colab": {}
      },
      "source": [
        "plot_performance_improved('NRMSE', 'NRMSE', 'Normalized Root Mean Square Error Comparison')"
      ],
      "execution_count": 0,
      "outputs": []
    },
    {
      "cell_type": "code",
      "metadata": {
        "id": "XTENlZJRjinW",
        "colab_type": "code",
        "colab": {}
      },
      "source": [
        "plot_performance_improved('MAE', 'MAE', 'Max Absolute Error Comparison')"
      ],
      "execution_count": 0,
      "outputs": []
    },
    {
      "cell_type": "code",
      "metadata": {
        "id": "fgzZvkngeY2n",
        "colab_type": "code",
        "colab": {}
      },
      "source": [
        "plot_performance_improved('HR', 'HR', 'Hit Ratio Comparison')"
      ],
      "execution_count": 0,
      "outputs": []
    },
    {
      "cell_type": "markdown",
      "metadata": {
        "id": "b1QmFwC1k2NO",
        "colab_type": "text"
      },
      "source": [
        "# Compare By Window"
      ]
    },
    {
      "cell_type": "code",
      "metadata": {
        "id": "QdN_JTyQISlM",
        "colab_type": "code",
        "colab": {}
      },
      "source": [
        "def plot_results_by_window_split():\n",
        "  path = f\"{TCC_PATH}plots/window_comparison\"\n",
        "  models = [*comparison_data[0]['results']]\n",
        "  \n",
        "  for model in models:\n",
        "    datapoints = [result['results'][model]['NRMSE'] for result in comparison_data]\n",
        "    plt.plot(datapoints) \n",
        "\n",
        "  plt.title('Windows Size for Training Comparison')\n",
        "  plt.ylabel('NRMSE')\n",
        "  plt.xlabel('Window Size')\n",
        "  plt.legend(models, loc='upper left')\n",
        "  plt.rcdefaults()\n",
        "\n",
        "  plt.savefig(path + \".png\", bbox_inches='tight')\n",
        "  plt.savefig(path + \".pdf\")\n",
        "\n",
        "  plt.close('all')"
      ],
      "execution_count": 0,
      "outputs": []
    },
    {
      "cell_type": "code",
      "metadata": {
        "id": "uVG-q8fvk32O",
        "colab_type": "code",
        "colab": {}
      },
      "source": [
        "def compare_results_by_window_split():\n",
        "  global SET_SPLIT\n",
        "  global VERBOSITY\n",
        "  global result_data\n",
        "  global comparison_data\n",
        "  \n",
        "  VERBOSITY = False\n",
        "  \n",
        "  result_data = {\n",
        "      'results': {},\n",
        "      'meta': {}\n",
        "  }\n",
        "  comparison_data = []\n",
        "\n",
        "  for split in splitting_windows:\n",
        "    SET_SPLIT = split\n",
        "\n",
        "    random_guess_univariate(Y_uni)\n",
        "    moving_average(X_uni, Y_uni)\n",
        "    naive(X_uni, Y_uni)\n",
        "    random_forest(X_uni, Y_uni, False)\n",
        "    random_forest(X_multi, Y_multi, True)\n",
        "    support_vector_machine(X_uni, Y_uni, False)\n",
        "    support_vector_machine(X_multi, Y_multi, True)\n",
        "    rnn(X_uni, Y_uni, False)\n",
        "    rnn(X_multi, Y_multi, True)\n",
        "    lstm(X_uni, Y_uni, False)\n",
        "    lstm(X_multi, Y_multi, True)\n",
        "    gru(X_uni, Y_uni, False)\n",
        "    gru(X_multi, Y_multi, True)\n",
        "    \n",
        "    print([*result_data['results']])\n",
        "\n",
        "    comparison_data.append(copy.deepcopy(result_data))\n",
        "\n",
        "\n",
        "  store_comparisons()"
      ],
      "execution_count": 0,
      "outputs": []
    },
    {
      "cell_type": "code",
      "metadata": {
        "id": "vn6YNQJCMPVw",
        "colab_type": "code",
        "colab": {}
      },
      "source": [
        "#splitting_windows = [0.20, 0.25, 0.30, 0.35, 0.40, 0.45, 0.50, 0.55, 0.60, 0.65, 0.70, 0.75, 0.80, 0.85, 0.90]\n",
        "  \n",
        "splitting_windows = [0.20, 0.30, 0.40, 0.50, 0.60, 0.70]"
      ],
      "execution_count": 0,
      "outputs": []
    },
    {
      "cell_type": "code",
      "metadata": {
        "id": "7cRR0WElOJdS",
        "colab_type": "code",
        "colab": {}
      },
      "source": [
        "#compare_results_by_window_split()"
      ],
      "execution_count": 0,
      "outputs": []
    },
    {
      "cell_type": "code",
      "metadata": {
        "id": "HHqYGnwuOJ1_",
        "colab_type": "code",
        "colab": {}
      },
      "source": [
        "#plot_results_by_window_split()"
      ],
      "execution_count": 0,
      "outputs": []
    },
    {
      "cell_type": "markdown",
      "metadata": {
        "id": "rBjqtHAo_aFw",
        "colab_type": "text"
      },
      "source": [
        "# Observations:\n",
        "\n",
        "+ For the evaluation of the RNN and it's variations was used the Walking Forward methodology so that we had many test sessions and all training sessions where the same size [[1]](https://towardsdatascience.com/time-series-nested-cross-validation-76adba623eb9)"
      ]
    }
  ]
}