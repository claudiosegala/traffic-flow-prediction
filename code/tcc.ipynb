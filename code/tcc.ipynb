{
  "nbformat": 4,
  "nbformat_minor": 0,
  "metadata": {
    "colab": {
      "name": "tcc.ipynb",
      "provenance": [],
      "collapsed_sections": [
        "sjtwfkg0vx34"
      ],
      "include_colab_link": true
    },
    "kernelspec": {
      "name": "python3",
      "display_name": "Python 3"
    },
    "accelerator": "TPU"
  },
  "cells": [
    {
      "cell_type": "markdown",
      "metadata": {
        "id": "view-in-github",
        "colab_type": "text"
      },
      "source": [
        "<a href=\"https://colab.research.google.com/github/claudiosegala/Monografia/blob/master/code/tcc.ipynb\" target=\"_parent\"><img src=\"https://colab.research.google.com/assets/colab-badge.svg\" alt=\"Open In Colab\"/></a>"
      ]
    },
    {
      "cell_type": "markdown",
      "metadata": {
        "id": "zxA-9RZf1SXs",
        "colab_type": "text"
      },
      "source": [
        "# TCC\n",
        "\n"
      ]
    },
    {
      "cell_type": "markdown",
      "metadata": {
        "id": "krd1GCLFBNn3",
        "colab_type": "text"
      },
      "source": [
        "## Mount Drive"
      ]
    },
    {
      "cell_type": "code",
      "metadata": {
        "id": "ebzVayUNBP2L",
        "colab_type": "code",
        "outputId": "34b3013b-0fdb-402c-89a6-54a23cae54c2",
        "colab": {
          "base_uri": "https://localhost:8080/",
          "height": 0
        }
      },
      "source": [
        "import google as g # To connect with google drive\n",
        "g.colab.drive.mount('/content/drive')"
      ],
      "execution_count": 1,
      "outputs": [
        {
          "output_type": "stream",
          "text": [
            "Drive already mounted at /content/drive; to attempt to forcibly remount, call drive.mount(\"/content/drive\", force_remount=True).\n"
          ],
          "name": "stdout"
        }
      ]
    },
    {
      "cell_type": "markdown",
      "metadata": {
        "id": "tD29g6RmWyjg",
        "colab_type": "text"
      },
      "source": [
        "## Retrieve and Instanciate Dependencies\n"
      ]
    },
    {
      "cell_type": "markdown",
      "metadata": {
        "id": "FebihZqH2eDt",
        "colab_type": "text"
      },
      "source": [
        "For this work, we will need these libraries"
      ]
    },
    {
      "cell_type": "code",
      "metadata": {
        "id": "uDUNNEdAWJPx",
        "colab_type": "code",
        "outputId": "e4e69df6-7d09-459e-b082-8f1c5e1c74c3",
        "colab": {
          "base_uri": "https://localhost:8080/",
          "height": 0
        }
      },
      "source": [
        "!pip install tensorflow==1.15\n",
        "!pip install pandas\n",
        "!pip install matplotlib\n",
        "!pip install numpy\n",
        "!pip install sklearn\n",
        "!pip install keras\n",
        "!pip install statsmodels"
      ],
      "execution_count": 2,
      "outputs": [
        {
          "output_type": "stream",
          "text": [
            "Requirement already satisfied: tensorflow==1.15 in /usr/local/lib/python3.6/dist-packages (1.15.0)\n",
            "Requirement already satisfied: keras-applications>=1.0.8 in /usr/local/lib/python3.6/dist-packages (from tensorflow==1.15) (1.0.8)\n",
            "Requirement already satisfied: wrapt>=1.11.1 in /usr/local/lib/python3.6/dist-packages (from tensorflow==1.15) (1.11.2)\n",
            "Requirement already satisfied: opt-einsum>=2.3.2 in /usr/local/lib/python3.6/dist-packages (from tensorflow==1.15) (3.1.0)\n",
            "Requirement already satisfied: tensorflow-estimator==1.15.1 in /usr/local/lib/python3.6/dist-packages (from tensorflow==1.15) (1.15.1)\n",
            "Requirement already satisfied: keras-preprocessing>=1.0.5 in /usr/local/lib/python3.6/dist-packages (from tensorflow==1.15) (1.1.0)\n",
            "Requirement already satisfied: google-pasta>=0.1.6 in /usr/local/lib/python3.6/dist-packages (from tensorflow==1.15) (0.1.7)\n",
            "Requirement already satisfied: tensorboard<1.16.0,>=1.15.0 in /usr/local/lib/python3.6/dist-packages (from tensorflow==1.15) (1.15.0)\n",
            "Requirement already satisfied: astor>=0.6.0 in /usr/local/lib/python3.6/dist-packages (from tensorflow==1.15) (0.8.0)\n",
            "Requirement already satisfied: gast==0.2.2 in /usr/local/lib/python3.6/dist-packages (from tensorflow==1.15) (0.2.2)\n",
            "Requirement already satisfied: grpcio>=1.8.6 in /usr/local/lib/python3.6/dist-packages (from tensorflow==1.15) (1.15.0)\n",
            "Requirement already satisfied: wheel>=0.26 in /usr/local/lib/python3.6/dist-packages (from tensorflow==1.15) (0.33.6)\n",
            "Requirement already satisfied: numpy<2.0,>=1.16.0 in /usr/local/lib/python3.6/dist-packages (from tensorflow==1.15) (1.17.3)\n",
            "Requirement already satisfied: absl-py>=0.7.0 in /usr/local/lib/python3.6/dist-packages (from tensorflow==1.15) (0.8.1)\n",
            "Requirement already satisfied: protobuf>=3.6.1 in /usr/local/lib/python3.6/dist-packages (from tensorflow==1.15) (3.10.0)\n",
            "Requirement already satisfied: six>=1.10.0 in /usr/local/lib/python3.6/dist-packages (from tensorflow==1.15) (1.12.0)\n",
            "Requirement already satisfied: termcolor>=1.1.0 in /usr/local/lib/python3.6/dist-packages (from tensorflow==1.15) (1.1.0)\n",
            "Requirement already satisfied: h5py in /usr/local/lib/python3.6/dist-packages (from keras-applications>=1.0.8->tensorflow==1.15) (2.8.0)\n",
            "Requirement already satisfied: markdown>=2.6.8 in /usr/local/lib/python3.6/dist-packages (from tensorboard<1.16.0,>=1.15.0->tensorflow==1.15) (3.1.1)\n",
            "Requirement already satisfied: setuptools>=41.0.0 in /usr/local/lib/python3.6/dist-packages (from tensorboard<1.16.0,>=1.15.0->tensorflow==1.15) (41.4.0)\n",
            "Requirement already satisfied: werkzeug>=0.11.15 in /usr/local/lib/python3.6/dist-packages (from tensorboard<1.16.0,>=1.15.0->tensorflow==1.15) (0.16.0)\n",
            "Requirement already satisfied: pandas in /usr/local/lib/python3.6/dist-packages (0.25.3)\n",
            "Requirement already satisfied: pytz>=2017.2 in /usr/local/lib/python3.6/dist-packages (from pandas) (2018.9)\n",
            "Requirement already satisfied: numpy>=1.13.3 in /usr/local/lib/python3.6/dist-packages (from pandas) (1.17.3)\n",
            "Requirement already satisfied: python-dateutil>=2.6.1 in /usr/local/lib/python3.6/dist-packages (from pandas) (2.6.1)\n",
            "Requirement already satisfied: six>=1.5 in /usr/local/lib/python3.6/dist-packages (from python-dateutil>=2.6.1->pandas) (1.12.0)\n",
            "Requirement already satisfied: matplotlib in /usr/local/lib/python3.6/dist-packages (3.1.1)\n",
            "Requirement already satisfied: numpy>=1.11 in /usr/local/lib/python3.6/dist-packages (from matplotlib) (1.17.3)\n",
            "Requirement already satisfied: pyparsing!=2.0.4,!=2.1.2,!=2.1.6,>=2.0.1 in /usr/local/lib/python3.6/dist-packages (from matplotlib) (2.4.2)\n",
            "Requirement already satisfied: python-dateutil>=2.1 in /usr/local/lib/python3.6/dist-packages (from matplotlib) (2.6.1)\n",
            "Requirement already satisfied: kiwisolver>=1.0.1 in /usr/local/lib/python3.6/dist-packages (from matplotlib) (1.1.0)\n",
            "Requirement already satisfied: cycler>=0.10 in /usr/local/lib/python3.6/dist-packages (from matplotlib) (0.10.0)\n",
            "Requirement already satisfied: six>=1.5 in /usr/local/lib/python3.6/dist-packages (from python-dateutil>=2.1->matplotlib) (1.12.0)\n",
            "Requirement already satisfied: setuptools in /usr/local/lib/python3.6/dist-packages (from kiwisolver>=1.0.1->matplotlib) (41.4.0)\n",
            "Requirement already satisfied: numpy in /usr/local/lib/python3.6/dist-packages (1.17.3)\n",
            "Requirement already satisfied: sklearn in /usr/local/lib/python3.6/dist-packages (0.0)\n",
            "Requirement already satisfied: scikit-learn in /usr/local/lib/python3.6/dist-packages (from sklearn) (0.21.3)\n",
            "Requirement already satisfied: numpy>=1.11.0 in /usr/local/lib/python3.6/dist-packages (from scikit-learn->sklearn) (1.17.3)\n",
            "Requirement already satisfied: scipy>=0.17.0 in /usr/local/lib/python3.6/dist-packages (from scikit-learn->sklearn) (1.3.1)\n",
            "Requirement already satisfied: joblib>=0.11 in /usr/local/lib/python3.6/dist-packages (from scikit-learn->sklearn) (0.14.0)\n",
            "Requirement already satisfied: keras in /usr/local/lib/python3.6/dist-packages (2.2.5)\n",
            "Requirement already satisfied: six>=1.9.0 in /usr/local/lib/python3.6/dist-packages (from keras) (1.12.0)\n",
            "Requirement already satisfied: h5py in /usr/local/lib/python3.6/dist-packages (from keras) (2.8.0)\n",
            "Requirement already satisfied: keras-applications>=1.0.8 in /usr/local/lib/python3.6/dist-packages (from keras) (1.0.8)\n",
            "Requirement already satisfied: keras-preprocessing>=1.1.0 in /usr/local/lib/python3.6/dist-packages (from keras) (1.1.0)\n",
            "Requirement already satisfied: numpy>=1.9.1 in /usr/local/lib/python3.6/dist-packages (from keras) (1.17.3)\n",
            "Requirement already satisfied: pyyaml in /usr/local/lib/python3.6/dist-packages (from keras) (3.13)\n",
            "Requirement already satisfied: scipy>=0.14 in /usr/local/lib/python3.6/dist-packages (from keras) (1.3.1)\n",
            "Requirement already satisfied: statsmodels in /usr/local/lib/python3.6/dist-packages (0.10.1)\n",
            "Requirement already satisfied: pandas>=0.19 in /usr/local/lib/python3.6/dist-packages (from statsmodels) (0.25.3)\n",
            "Requirement already satisfied: numpy>=1.11 in /usr/local/lib/python3.6/dist-packages (from statsmodels) (1.17.3)\n",
            "Requirement already satisfied: scipy>=0.18 in /usr/local/lib/python3.6/dist-packages (from statsmodels) (1.3.1)\n",
            "Requirement already satisfied: patsy>=0.4.0 in /usr/local/lib/python3.6/dist-packages (from statsmodels) (0.5.1)\n",
            "Requirement already satisfied: pytz>=2017.2 in /usr/local/lib/python3.6/dist-packages (from pandas>=0.19->statsmodels) (2018.9)\n",
            "Requirement already satisfied: python-dateutil>=2.6.1 in /usr/local/lib/python3.6/dist-packages (from pandas>=0.19->statsmodels) (2.6.1)\n",
            "Requirement already satisfied: six in /usr/local/lib/python3.6/dist-packages (from patsy>=0.4.0->statsmodels) (1.12.0)\n"
          ],
          "name": "stdout"
        }
      ]
    },
    {
      "cell_type": "code",
      "metadata": {
        "id": "wD11PvxQXFT0",
        "colab_type": "code",
        "colab": {
          "base_uri": "https://localhost:8080/",
          "height": 0
        },
        "outputId": "599d3942-f484-45e8-8ef3-6495ca63a7e3"
      },
      "source": [
        "import sklearn\n",
        "import time\n",
        "import random\n",
        "import copy\n",
        "\n",
        "import pandas as pd # data manipulation library\n",
        "import matplotlib.pyplot as plt # plot library\n",
        "import numpy as np # math library\n",
        "import sklearn.metrics as sklm # metrics\n",
        "import statsmodels as sm # statistical models\n",
        "\n",
        "from keras.models import Sequential\n",
        "from keras.layers import Dense, Activation\n",
        "from keras.wrappers.scikit_learn import KerasClassifier"
      ],
      "execution_count": 3,
      "outputs": [
        {
          "output_type": "stream",
          "text": [
            "Using TensorFlow backend.\n"
          ],
          "name": "stderr"
        }
      ]
    },
    {
      "cell_type": "markdown",
      "metadata": {
        "id": "xw1p5NfaMKTk",
        "colab_type": "text"
      },
      "source": [
        "## Configurations\n"
      ]
    },
    {
      "cell_type": "markdown",
      "metadata": {
        "id": "Wwj5bYigCjxD",
        "colab_type": "text"
      },
      "source": [
        "Make the environment reproducible"
      ]
    },
    {
      "cell_type": "code",
      "metadata": {
        "id": "l2UhjEKrdBy8",
        "colab_type": "code",
        "colab": {}
      },
      "source": [
        "import tensorflow as tf # machine learning library\n",
        "import os\n",
        "\n",
        "os.environ['PYTHONHASHSEED'] = '0'\n",
        "tf.reset_default_graph()\n",
        "tf.set_random_seed(0)\n",
        "np.random.seed(0)\n",
        "random.seed(0)"
      ],
      "execution_count": 0,
      "outputs": []
    },
    {
      "cell_type": "markdown",
      "metadata": {
        "id": "QhJmwe0cCrF_",
        "colab_type": "text"
      },
      "source": [
        "Set path for the folder in which everything should be stored."
      ]
    },
    {
      "cell_type": "code",
      "metadata": {
        "id": "_sS94hovWAbv",
        "colab_type": "code",
        "colab": {}
      },
      "source": [
        "PATH = '/content/drive/My Drive/TCC/' # ''"
      ],
      "execution_count": 0,
      "outputs": []
    },
    {
      "cell_type": "markdown",
      "metadata": {
        "id": "rlQKvD3_tqxd",
        "colab_type": "text"
      },
      "source": [
        "## Util\n",
        "\n"
      ]
    },
    {
      "cell_type": "code",
      "metadata": {
        "id": "nTkjUAUr8Vur",
        "colab_type": "code",
        "colab": {}
      },
      "source": [
        "class WalkingForwardTimeSeriesSplit():\n",
        "    def __init__(self, n_splits):\n",
        "        self.n_splits = n_splits\n",
        "    \n",
        "    def get_n_splits(self, X, y, groups):\n",
        "        return self.n_splits\n",
        "    \n",
        "    def split(self, X, y=None, groups=None):\n",
        "        n_samples = len(X)\n",
        "        k_fold_size = n_samples // self.n_splits\n",
        "        indices = np.arange(n_samples)\n",
        "\n",
        "        margin = 0\n",
        "        for i in range(self.n_splits):\n",
        "            start = i * k_fold_size\n",
        "            stop = start + k_fold_size\n",
        "            mid = int(0.8 * (stop - start)) + start\n",
        "            yield indices[start: mid], indices[mid + margin: stop]"
      ],
      "execution_count": 0,
      "outputs": []
    },
    {
      "cell_type": "markdown",
      "metadata": {
        "id": "0CR6HLKUUWvh",
        "colab_type": "text"
      },
      "source": [
        "## Dataset Generation Util"
      ]
    },
    {
      "cell_type": "code",
      "metadata": {
        "id": "KtUCy9tk_qK-",
        "colab_type": "code",
        "colab": {}
      },
      "source": [
        "def retrieve_data(flow_interval):\n",
        "    path = f\"{PATH}dataset/dataset_flow_{flow_interval}.csv\"\n",
        "    data = pd.read_csv(path, ';')\n",
        "    \n",
        "    data['Flow'].apply(int)\n",
        "    data['AveSpeed'].apply(float)\n",
        "    data['Density'].apply(float)\n",
        "    data['Sunday'].apply(int)\n",
        "    data['Monday'].apply(int)\n",
        "    data['Tuesday'].apply(int)\n",
        "    data['Wednesday'].apply(int)\n",
        "    data['Thursday'].apply(int)\n",
        "    data['Friday'].apply(int)\n",
        "    data['Saturday'].apply(int)\n",
        "      \n",
        "    return data"
      ],
      "execution_count": 0,
      "outputs": []
    },
    {
      "cell_type": "code",
      "metadata": {
        "id": "-Hts8_IFUf5V",
        "colab_type": "code",
        "colab": {}
      },
      "source": [
        ""
      ],
      "execution_count": 0,
      "outputs": []
    },
    {
      "cell_type": "markdown",
      "metadata": {
        "id": "8BkdL8EE5pl3",
        "colab_type": "text"
      },
      "source": [
        "## Storage Util"
      ]
    },
    {
      "cell_type": "code",
      "metadata": {
        "id": "fUD5PEa0SDJM",
        "colab_type": "code",
        "colab": {}
      },
      "source": [
        "import json"
      ],
      "execution_count": 0,
      "outputs": []
    },
    {
      "cell_type": "code",
      "metadata": {
        "id": "9OWaLFzKSG2A",
        "colab_type": "code",
        "colab": {}
      },
      "source": [
        "def print_json (obj):\n",
        "  print(json.dumps(obj, sort_keys=True, indent=4))"
      ],
      "execution_count": 0,
      "outputs": []
    },
    {
      "cell_type": "code",
      "metadata": {
        "id": "51LJBT3fgdEM",
        "colab_type": "code",
        "colab": {}
      },
      "source": [
        "def load(filename):\n",
        "  with open(f\"{PATH}results/comparison/{filename}.json\", 'r') as json_file:\n",
        "    return json.load(json_file)"
      ],
      "execution_count": 0,
      "outputs": []
    },
    {
      "cell_type": "code",
      "metadata": {
        "id": "SeBEPq-GmCvf",
        "colab_type": "code",
        "colab": {}
      },
      "source": [
        "def store(obj, path, name):\n",
        "  with open(f\"{PATH}{path}/{name}.json\", 'w') as json_file:\n",
        "    json.dump(obj, json_file, sort_keys=True, indent=4)"
      ],
      "execution_count": 0,
      "outputs": []
    },
    {
      "cell_type": "code",
      "metadata": {
        "id": "y4OjfpS8R-ZC",
        "colab_type": "code",
        "colab": {}
      },
      "source": [
        "def store_results ():\n",
        "  name = int(time.time())\n",
        "  \n",
        "  result_data['meta'] = {\n",
        "    \"SEEABLE_PAST\": SEEABLE_PAST,\n",
        "    \"PREDICT_IN_FUTURE\": PREDICT_IN_FUTURE,\n",
        "    \"FLOW_INTERVAL\": FLOW_INTERVAL,\n",
        "    \"N_SPLITS\": N_SPLITS,\n",
        "  }\n",
        "\n",
        "  store(result_data, \"results\", f\"{name}\")\n",
        "\n",
        "  slim_result_data = copy.deepcopy(result_data)\n",
        "  for model in slim_result_data['results']:\n",
        "      del slim_result_data['results'][model]['raw']\n",
        "\n",
        "  store(slim_result_data, \"results\", f\"{name}_slim.json\")"
      ],
      "execution_count": 0,
      "outputs": []
    },
    {
      "cell_type": "code",
      "metadata": {
        "id": "K_UiuJG3GwME",
        "colab_type": "code",
        "colab": {}
      },
      "source": [
        "def store_comparisons (title):\n",
        "  name = str(int(time.time()))\n",
        "  \n",
        "  j = copy.deepcopy(comparison_data)\n",
        "\n",
        "  store(result_data, \"results/comparison\", f\"{name+title}\")\n",
        "    \n",
        "  for i in range(len(j)):\n",
        "    print([*j[i]['results']])\n",
        "    for model in j[i]['results']:\n",
        "      del j[i]['results'][model]['raw']\n",
        "\n",
        "  store(result_data, \"results/comparison\", f\"{name+title}_slim\")"
      ],
      "execution_count": 0,
      "outputs": []
    },
    {
      "cell_type": "markdown",
      "metadata": {
        "id": "cybdNn4R3AW6",
        "colab_type": "text"
      },
      "source": [
        "## Models Util"
      ]
    },
    {
      "cell_type": "markdown",
      "metadata": {
        "id": "sjtwfkg0vx34",
        "colab_type": "text"
      },
      "source": [
        "### Dropped"
      ]
    },
    {
      "cell_type": "markdown",
      "metadata": {
        "id": "5atl1RAeso-d",
        "colab_type": "text"
      },
      "source": [
        "#### Random (Baseline)\n",
        "\n",
        "This implementation just guess a random number in the [0, 100] interval for every output."
      ]
    },
    {
      "cell_type": "code",
      "metadata": {
        "id": "H4uy_XVyswCC",
        "colab_type": "code",
        "colab": {}
      },
      "source": [
        "def random_guess_univariate (data):\n",
        "  global result_data\n",
        "  \n",
        "  X, Y = generate_dataset(data, False, FLOW_INTERVAL, N_STEPS, N_FUTURE)\n",
        "\n",
        "  name = \"Random Guess\"\n",
        "  m = max(Y)\n",
        "\n",
        "  expected, observed, times = [], [], []\n",
        "  pointers = split_dataset(len(Y), SET_SPLIT, TEST_SPLIT)\n",
        "  \n",
        "  for i, j, k in pointers:\n",
        "    start = time.time()\n",
        "\n",
        "    Y_hat = [random.randint(0, m) for i in range(k - j)]\n",
        "\n",
        "    expected.append(Y[j:k])\n",
        "    observed.append(Y_hat)\n",
        "    times.append(time.time() - start)\n",
        "\n",
        "  result_data['results'][name] = evaluate(expected, observed, times, name)\n",
        "\n",
        "  if VERBOSITY:\n",
        "    plot_prediction(expected, observed, name)"
      ],
      "execution_count": 0,
      "outputs": []
    },
    {
      "cell_type": "markdown",
      "metadata": {
        "id": "FdvOTuZWwxcq",
        "colab_type": "text"
      },
      "source": [
        "#### ARIMA\n",
        "\n",
        "This implementation was based on [How to Create an ARIMA Model for Time Series Forecasting in Python](https://machinelearningmastery.com/arima-for-time-series-forecasting-with-python/)."
      ]
    },
    {
      "cell_type": "code",
      "metadata": {
        "id": "aFyNYnZ8wweq",
        "colab_type": "code",
        "colab": {}
      },
      "source": [
        "def arima (X):\n",
        "  size = int(len(X) * TRAIN_SPLIT)\n",
        "  acc = X[size-(2*WEEK_SIZE):size]\n",
        "  Y = X[size+N_FUTURE:]\n",
        "  Y_hat = []\n",
        "  \n",
        "  #for t in range(len(Y)):\n",
        "  for t in range(50):\n",
        "    print(t, len(Y))\n",
        "    \n",
        "    model = sm.tsa.arima_model.ARIMA(acc, order=(5, 1, 0))\n",
        "    model_fit = model.fit(disp=0)\n",
        "    \n",
        "    start = len(acc)\n",
        "    end = start + N_FUTURE\n",
        "    \n",
        "    prediction = model_fit.predict(start=start, end=end+1)\n",
        "    \n",
        "    print(prediction)\n",
        "    Y_hat.append(prediction[-1])    \n",
        "    acc.append(X[size + t])\n",
        "    acc.pop(0)\n",
        "  \n",
        "  print_difference(Y, Y_hat)"
      ],
      "execution_count": 0,
      "outputs": []
    },
    {
      "cell_type": "markdown",
      "metadata": {
        "id": "ZGgV2YkoYA_W",
        "colab_type": "text"
      },
      "source": [
        "#### Logistic Regression\n",
        "\n"
      ]
    },
    {
      "cell_type": "code",
      "metadata": {
        "id": "WbUu54z8YS0b",
        "colab_type": "code",
        "colab": {}
      },
      "source": [
        "from sklearn.linear_model import LogisticRegression"
      ],
      "execution_count": 0,
      "outputs": []
    },
    {
      "cell_type": "code",
      "metadata": {
        "id": "HnzW4DwtMbbU",
        "colab_type": "code",
        "colab": {}
      },
      "source": [
        "def logistic_regression_grid(data, useB):\t\t\n",
        "  global result_data\t\t\n",
        "      \n",
        "  X, Y = generate_dataset(data, useB, FLOW_INTERVAL, N_STEPS, N_FUTURE)\t\t\n",
        "  X = X.reshape(X.shape[0], X.shape[1] * X.shape[2])\t\t\n",
        "        \n",
        "  cv=[(slice(None), slice(None))] # to ignore the cross-validation\t\t\n",
        "  param_grid = {\t\t\n",
        "    \"C\": np.logspace(-3,3,7) + [None], \t\t\n",
        "    \"penalty\": [\"l1\",\"l2\", None]\t\t\n",
        "  }\t\t\n",
        "      \n",
        "  model = LogisticRegression()\t\t\n",
        "      \n",
        "  gs = sklearn.model_selection.GridSearchCV(estimator=model, param_grid=param_grid, scoring='neg_mean_squared_error', cv=cv, n_jobs=4, verbose=2)\t\t\n",
        "      \n",
        "  i, j, k = 0, int(len(X) * (1 - TEST_SPLIT)), len(X)\t\t\n",
        "    \n",
        "  gs.fit(X[i:j], Y[i:j])\t\t\n",
        "      \n",
        "  best = gs.best_estimator_\t\t\n",
        "  predictions = best.predict(X[j:k])                         \t\t\n",
        "          \n",
        "  mae = sklm.mean_absolute_error(Y[j:k], predictions)\t\t\n",
        "  rmse = np.sqrt(sklm.mean_squared_error(Y[j:k], predictions))\t\t\n",
        "  nrmse = rmse / np.std(Y[j:k])\t\t\n",
        "  hr = evaluate_precision_hit_ratio(Y[j:k], predictions)\t\t\n",
        "      \n",
        "  res = {\n",
        "    'params': gs.best_params_,\n",
        "    'results': {\n",
        "        'MAE': mae,\n",
        "        'RMSE': rmse,\n",
        "        'NRMSE': nrmse,\n",
        "        'HR': hr,\n",
        "    },\n",
        "  }\n",
        "\n",
        "  print_json(res)\n",
        "  store(res, 'results/', 'lr_B_best_params' if isMulti else 'lr_A_best_params')"
      ],
      "execution_count": 0,
      "outputs": []
    },
    {
      "cell_type": "code",
      "metadata": {
        "id": "KvfgRi1GYD7K",
        "colab_type": "code",
        "colab": {}
      },
      "source": [
        "def logistic_regression(data, useB):\n",
        "  global result_data\n",
        "  \n",
        "  name = \"LR B\" if useB else \"LR A\"\n",
        "\n",
        "  expected, observed, times = [], [], []\n",
        "\n",
        "  X, Y = generate_dataset(data, useB, FLOW_INTERVAL, N_STEPS, N_FUTURE)\n",
        "  X = X.reshape(X.shape[0], X.shape[1] * X.shape[2])\n",
        "\n",
        "  model = LogisticRegression()\n",
        "\n",
        "  pointers = split_dataset(len(X), SET_SPLIT, TEST_SPLIT)\n",
        "  \n",
        "  for i, j, k in pointers:\n",
        "    start = time.time()\n",
        "    \n",
        "    model.fit(X[i:j], Y[i:j])\n",
        "    \n",
        "    expected.append(Y[j:k])\n",
        "    observed.append(model.predict(X[j:k]))\n",
        "    times.append(time.time() - start)\n",
        "    \n",
        "  result_data['results'][name] = evaluate(expected, observed, times, name)\n",
        "  \n",
        "  if VERBOSITY:\n",
        "    plot_prediction(expected, observed, name)\n",
        "  "
      ],
      "execution_count": 0,
      "outputs": []
    },
    {
      "cell_type": "markdown",
      "metadata": {
        "id": "B3dQ_nM_TgDC",
        "colab_type": "text"
      },
      "source": [
        "#### RNN\n",
        "\n",
        "The optimzation was based on [How to Grid Search Hyperparameters for Deep Learning Models in Python With Keras](https://machinelearningmastery.com/grid-search-hyperparameters-deep-learning-models-python-keras/)."
      ]
    },
    {
      "cell_type": "code",
      "metadata": {
        "id": "BH_62Q8G2s9a",
        "colab_type": "code",
        "colab": {}
      },
      "source": [
        "from keras.layers import SimpleRNN"
      ],
      "execution_count": 0,
      "outputs": []
    },
    {
      "cell_type": "code",
      "metadata": {
        "id": "mO2XJF3A7lB2",
        "colab_type": "code",
        "colab": {}
      },
      "source": [
        "def create_rnn(input_shape):\n",
        "  def create(n=50, activation='relu'):\n",
        "    model = Sequential()\t\t\n",
        "\n",
        "    model.add(SimpleRNN(n, activation=activation, input_shape=input_shape))\t\t\n",
        "    model.add(Dense(1))\t\t\n",
        "\n",
        "    model.compile(optimizer='adam', loss='mse', metrics = [\"accuracy\"])\n",
        "    return model\t\t\n",
        "\n",
        "  return create"
      ],
      "execution_count": 0,
      "outputs": []
    },
    {
      "cell_type": "code",
      "metadata": {
        "id": "vRYgTLXYNA7k",
        "colab_type": "code",
        "colab": {}
      },
      "source": [
        "def rnn_grid(data, useB):\t\t\n",
        "  global result_data\t\t\n",
        "\n",
        "  X, Y = generate_dataset(data, useB, FLOW_INTERVAL, N_STEPS, N_FUTURE)\n",
        "\n",
        "  cv=[(slice(None), slice(None))]\t\t\n",
        "  param_grid = {\t\t\n",
        "    'activation': ['relu', 'sigmoid', None],\n",
        "    'n': [50, 100, 200, 400],\n",
        "    'batch_size': [8, 16, 32, 64],\n",
        "  }\t\n",
        "\n",
        "  model = KerasClassifier(build_fn=create_rnn((X.shape[1], X.shape[2])), epochs=15, verbose=0)\n",
        "\n",
        "  gs = sklearn.model_selection.GridSearchCV(estimator=model, param_grid=param_grid, scoring='neg_mean_squared_error', cv=cv, n_jobs=4, verbose=2)\t\t\n",
        "\n",
        "  i, j, k = 0, int(len(X) * (1 - TEST_SPLIT)), len(X)\t\t\n",
        "\n",
        "  gs.fit(X[i:j], Y[i:j])\t\t\n",
        "\n",
        "  best = gs.best_estimator_\t\t\n",
        "  predictions = best.predict(X[j:k])                         \t\t\n",
        "\n",
        "  mae = sklm.mean_absolute_error(Y[j:k], predictions)\t\t\n",
        "  rmse = np.sqrt(sklm.mean_squared_error(Y[j:k], predictions))\t\t\n",
        "  nrmse = rmse / np.std(Y[j:k])\t\t\n",
        "  hr = evaluate_precision_hit_ratio(Y[j:k], predictions)\t\t\n",
        "\n",
        "  res = {\n",
        "    'params': gs.best_params_,\n",
        "    'feature_importance': gs.best_estimator_.feature_importances_,\n",
        "    'results': {\n",
        "        'MAE': mae,\n",
        "        'RMSE': rmse,\n",
        "        'NRMSE': nrmse,\n",
        "        'HR': hr,\n",
        "    },\n",
        "  }\n",
        "\n",
        "  print_json(res)\n",
        "  store(res, 'results/', 'rnn_B_best_params' if useB else 'rnn_A_best_params')"
      ],
      "execution_count": 0,
      "outputs": []
    },
    {
      "cell_type": "code",
      "metadata": {
        "id": "st9EurMVT5gj",
        "colab_type": "code",
        "colab": {}
      },
      "source": [
        "def rnn (data, useB): \n",
        "  global result_data\n",
        "  \n",
        "  name = \"RNN B\" if useB else \"RNN A\"\n",
        "  \n",
        "  X, Y = generate_dataset(data, useB, FLOW_INTERVAL, N_STEPS, N_FUTURE)\n",
        "  \n",
        "  expected, observed, times = [], [], []\n",
        "  \n",
        "  model = create_rnn((X.shape[1], X.shape[2]))()\n",
        "  \n",
        "  pointers = split_dataset(len(X), SET_SPLIT, TEST_SPLIT)\n",
        "  \n",
        "  for i, j, k in pointers:\n",
        "    start = time.time()\n",
        "    \n",
        "    hist = model.fit(X[i:j], Y[i:j], validation_split=0.2, batch_size=64, epochs=15, verbose=0)\n",
        "    \n",
        "    expected.append(Y[j:k])\n",
        "    observed.append(model.predict(X[j:k]))\n",
        "    times.append(time.time() - start)\n",
        "    \n",
        "    if VERBOSITY:\n",
        "      plot_history(hist, f\"{name} ({str(len(times)).zfill(2)} of {len(pointers)})\")\n",
        "    \n",
        "  result_data['results'][name] = evaluate(expected, observed, times, name)\n",
        "  \n",
        "  if VERBOSITY:\n",
        "    plot_prediction(expected, observed, name)"
      ],
      "execution_count": 0,
      "outputs": []
    },
    {
      "cell_type": "markdown",
      "metadata": {
        "id": "QYQ-2RhUqtZu",
        "colab_type": "text"
      },
      "source": [
        "### Misc\n",
        "\n",
        "Function to help implement the training and evaluation of the models.\n"
      ]
    },
    {
      "cell_type": "code",
      "metadata": {
        "id": "eu5Wz92BHMmr",
        "colab_type": "code",
        "colab": {}
      },
      "source": [
        "def plot_history (history, name):\n",
        "  \"\"\" Plot of History\n",
        "  \n",
        "  Plot the history of loss in the training session of a model\n",
        "  \n",
        "  Arguments:\n",
        "    history: the history returned by Keras fit of a model\n",
        "    name: the name of the model\n",
        "  \"\"\"\n",
        "  \n",
        "  path = f\"{PATH}plots/history/{name}\"\n",
        "  \n",
        "  plt.plot(history.history['loss'])\n",
        "  plt.plot(history.history['val_loss'])\n",
        "  plt.title(name + ' Model Loss')\n",
        "  plt.ylabel('Loss')\n",
        "  plt.xlabel('Epoch')\n",
        "  plt.legend(['train', 'test'], loc='upper left')\n",
        "  plt.rcdefaults()\n",
        "  \n",
        "  plt.savefig(path + \".png\", bbox_inches='tight')\n",
        "  plt.savefig(path + \".pdf\")\n",
        "  \n",
        "  plt.close('all')"
      ],
      "execution_count": 0,
      "outputs": []
    },
    {
      "cell_type": "code",
      "metadata": {
        "id": "ei04VHAwH0Wo",
        "colab_type": "code",
        "colab": {}
      },
      "source": [
        "def plot_prediction (Y, Y_hat, title):\n",
        "  \"\"\" Plot Prediction\n",
        "  \n",
        "  Plot the prediction (Flow x Time) of what was expected and what\n",
        "  was predicted.\n",
        "  \"\"\"\n",
        "\n",
        "  for i in range(len(Y)):\n",
        "    name = f\"{title} ({str(i+1).zfill(2)} of {len(Y)})\"\n",
        "    path = f\"{PATH}plots/prediction/{name}\"\n",
        "    \n",
        "    plt.plot(Y[i])\n",
        "    plt.plot(Y_hat[i])\n",
        "    plt.title(title + 'Prediction')\n",
        "    plt.ylabel('Flow')\n",
        "    plt.xlabel('Time')\n",
        "    plt.legend(['actual', 'prediction'], loc='upper left')\n",
        "    plt.rcdefaults()\n",
        "\n",
        "    plt.savefig(path + \".png\", bbox_inches='tight')\n",
        "    plt.savefig(path + \".pdf\")\n",
        "\n",
        "    plt.close('all')"
      ],
      "execution_count": 0,
      "outputs": []
    },
    {
      "cell_type": "code",
      "metadata": {
        "id": "65Zypk5Cbiv0",
        "colab_type": "code",
        "colab": {}
      },
      "source": [
        "def evaluate_precision_hit_ratio (Y, Y_hat):\n",
        "  \"\"\" Trend Prediction Ratio Calculation\n",
        "  \n",
        "  Calculates the ratio of up/down prediction.\n",
        "  \n",
        "  Arguments:\n",
        "    Y: the expected dataset.\n",
        "    Y_hat: the observed dataset.\n",
        "  \"\"\"\n",
        "  \n",
        "  cnt = 0\n",
        "  \n",
        "  for i in range(len(Y)):\n",
        "    if i < N_FUTURE:\n",
        "      continue\n",
        "      \n",
        "    exp = Y[i] - Y[i - N_FUTURE]\n",
        "    obs = Y_hat[i] - Y[i - N_FUTURE]\n",
        "    \n",
        "    if exp * obs > 0:\n",
        "      cnt += 1\n",
        "    \n",
        "  return cnt / len(Y)"
      ],
      "execution_count": 0,
      "outputs": []
    },
    {
      "cell_type": "code",
      "metadata": {
        "id": "gTes33wAe1zg",
        "colab_type": "code",
        "colab": {}
      },
      "source": [
        "def evaluate_precision_bucket (Y, Y_hat):\n",
        "  \"\"\" Precision Bucket Calculation\n",
        "  \n",
        "  Counts how many of the prediction got wronng by at most 2ˆx, x \n",
        "  being the bucket. There are 7 buckets, that is, the maximum error \n",
        "  calculated is 128.\n",
        "  \n",
        "  Arguments:\n",
        "    Y: the expected dataset.\n",
        "    Y_hat: the observed dataset.\n",
        "  \"\"\"\n",
        "  \n",
        "  n = 7 # the number of buckets\n",
        "  buckets = [0] * n\n",
        "  \n",
        "  for i in range(len(Y)):\n",
        "    diff = abs(Y[i] - Y_hat[i])\n",
        "    \n",
        "    for i in range (n):\n",
        "      if diff <= 2**i:\n",
        "        buckets[i] += 1\n",
        "        break\n",
        "\n",
        "  for i in range (n):\n",
        "     buckets[i] = buckets[i] / len(Y)\n",
        "\n",
        "  return tuple(buckets)"
      ],
      "execution_count": 0,
      "outputs": []
    },
    {
      "cell_type": "code",
      "metadata": {
        "id": "-u6hphOb8AQQ",
        "colab_type": "code",
        "colab": {}
      },
      "source": [
        "def evaluate_raw (expected, observed, times):\n",
        "  \"\"\" Evaluate Raw Sessions \n",
        "  \n",
        "  Evaluate each of the train&test sessions by RMSE, NRMSE, MAE, HR, PRE. \n",
        "  It will store the results in a object and return it.\n",
        "  \n",
        "  Arguments:\n",
        "    expected: an array of expected instances of each train&test session.\n",
        "    observed: an array of observed instances of each train&test session.\n",
        "    times: an array of the time of each train&test session.\n",
        "  \"\"\"\n",
        "  \n",
        "  n = len(expected)\n",
        "\n",
        "  for i in range(n):\n",
        "    observed[i] = [max(o, 0) for o in observed[i]]\n",
        "  \n",
        "  raw = {\n",
        "    'expected': expected,\n",
        "    'observed': observed,\n",
        "    'TIME': times,\n",
        "    'RMSE': [0] * n,\n",
        "    'NRMSE': [0] * n,\n",
        "    'MAE': [0] * n,\n",
        "    'HR': [0] * n,\n",
        "    #'PRE': [0] * n,\n",
        "  }\n",
        "  \n",
        "  for i in range(n):\n",
        "    Y = expected[i]\n",
        "    Y_hat = observed[i]\n",
        "    time = times[i]\n",
        "\n",
        "    raw['MAE'][i] = sklm.mean_absolute_error(Y, Y_hat)\n",
        "    raw['RMSE'][i] = np.sqrt(sklm.mean_squared_error(Y, Y_hat))\n",
        "    raw['NRMSE'][i] = raw['RMSE'][i] / np.std(Y)\n",
        "    raw['HR'][i] = evaluate_precision_hit_ratio(Y, Y_hat)\n",
        "    #raw['PRE'][i] = evaluate_precision_bucket(Y, Y_hat)\n",
        "    \n",
        "    if VERBOSITY:\n",
        "      print(f\"({i+1}/{n}) Test Size: {len(Y)}, Time: {time}s\")\n",
        "      print(f\"\\tRMSE: {raw['RMSE'][i]}\")\n",
        "      print(f\"\\tNRMSE: {raw['NRMSE'][i]}\")\n",
        "      print(f\"\\tMAE: {raw['MAE'][i]}\")\n",
        "      print(f\"\\tHit Ratio: {raw['HR'][i] * 100}%\")\n",
        "\n",
        "  return raw"
      ],
      "execution_count": 0,
      "outputs": []
    },
    {
      "cell_type": "code",
      "metadata": {
        "id": "nW3-LAmDNpYL",
        "colab_type": "code",
        "colab": {}
      },
      "source": [
        "def evaluate (expected, observed, times, name):\n",
        "  \"\"\" Evaluate Sessions\n",
        "  \n",
        "  Evaluate models by RMSE, NRMSE, MAE, HR, PRE. It will store the \n",
        "  results in a object and return it.\n",
        "  \n",
        "  Arguments:\n",
        "    expected: an array of expected instances of each \n",
        "      train&test session.\n",
        "    observed: an array of observed instances of each \n",
        "      train&test session.\n",
        "    times: an array of the time of each train&test session.\n",
        "    name: the name of the model\n",
        "  \"\"\"\n",
        "  n = len(expected)\n",
        "  flatten = lambda l : [i for sl in l for i in sl]\n",
        "  \n",
        "  # Make the arrays serializable\n",
        "  expected = list(map(list, expected))\n",
        "  observed = list(map(list, observed))\n",
        "  \n",
        "  for i in range(n):\n",
        "    expected[i] = list(map(float, expected[i]))\n",
        "    observed[i] = list(map(float, observed[i]))\n",
        "  \n",
        "  raw = evaluate_raw(expected, observed, times)\n",
        "  \n",
        "  #n_buckets = len(raw['PRE'])\n",
        "  #_pre = [[pre[i] for pre in raw['PRE']] for i in range(n_buckets)]\n",
        "  \n",
        "  eva = {\n",
        "    'TIME': int(sum(times)),\n",
        "    'RMSE': float(np.mean(raw['RMSE'])),\n",
        "    'NRMSE': float(np.mean(raw['NRMSE'])),\n",
        "    'MAE': float(np.mean(raw['MAE'])),\n",
        "    'HR': float(np.mean(raw['HR'])),\n",
        "    #'PRE': [float(np.mean(p)) for p in _pre],\n",
        "    'has_negative': (min(flatten(observed)) < 0),\n",
        "    'raw': raw\n",
        "  }\n",
        "  \n",
        "  print(f\"\\n{name} Final Result:\")\n",
        "  print(f\"\\tTotal Time: {eva['TIME']}s\")\n",
        "  print(f\"\\tRMSE: {eva['RMSE']}\")\n",
        "  print(f\"\\tNRMSE: {eva['NRMSE']}\")\n",
        "  print(f\"\\tMAE: {eva['MAE']}\")\n",
        "  print(f\"\\tHit Ratio: {eva['HR'] * 100}%\")\n",
        "  #print(f\"\\tPrecision: {eva['PRE']}\")\n",
        "    \n",
        "  return eva"
      ],
      "execution_count": 0,
      "outputs": []
    },
    {
      "cell_type": "code",
      "metadata": {
        "id": "4MsKbDOXEQho",
        "colab_type": "code",
        "colab": {}
      },
      "source": [
        "def generate_dataset(data, useB, n_steps, n_future):\n",
        "  \"\"\" Generate Dataset\n",
        "  \n",
        "  Generate a dataset provided a sequence. Reshape the sequence in rolling intervals from [samples, timesteps] into \n",
        "  [samples, timesteps, features] and split the sequence. The split the sequence in rolling intervals with a corresponding value \n",
        "  like the example bellow.\n",
        "\n",
        "  Ex: split_sequence([1, 2, 3, 4, 5], 3) #([[1, 2, 3], [2, 3, 4]], [4, 5])\n",
        "  \n",
        "  Arguments:\n",
        "    raw_seq: the sequence to reshape.\n",
        "    useB: if the dataset is more complex or not.\n",
        "    n_steps: size of the rolling interval\n",
        "    n_future: the distance to the interval the value should be.  \n",
        "  \"\"\"\n",
        "\n",
        "  sequence = np.array(data if useB else data['Flow'])\n",
        "\n",
        "  n = len(sequence)\n",
        "  X, Y = list(), list()\n",
        "\n",
        "  for i in range(n):\n",
        "    j = i + n_steps\n",
        "    k = j + n_future\n",
        "\n",
        "    if k >= n:\n",
        "      break\n",
        "\n",
        "    seq_x, seq_y = sequence[i:j], sequence[k]\n",
        "    X.append(seq_x)\t\n",
        "    Y.append(seq_y[0] if useB else seq_y)\n",
        "\n",
        "  X, Y = np.array(X), np.array(Y)\t\n",
        "  \n",
        "  if not useB:\n",
        "    X = X.reshape((X.shape[0], X.shape[1], 1))\n",
        "\n",
        "  return X, Y"
      ],
      "execution_count": 0,
      "outputs": []
    },
    {
      "cell_type": "markdown",
      "metadata": {
        "id": "j2hH4Og160vf",
        "colab_type": "text"
      },
      "source": [
        "### Moving Average (Baseline)\n",
        "\n",
        "This implementation just get the mean of every flow value in the input and place it as output."
      ]
    },
    {
      "cell_type": "code",
      "metadata": {
        "id": "7tffuEQJ63Sv",
        "colab_type": "code",
        "colab": {}
      },
      "source": [
        "def moving_average (data):\n",
        "  global result_data\n",
        "\n",
        "  name = \"Moving Average\"\n",
        "  \n",
        "  X, Y = generate_dataset(data, False, N_STEPS, N_FUTURE)\n",
        "\n",
        "  cv = WalkingForwardTimeSeriesSplit(n_splits=N_SPLITS)\n",
        "  expected, observed, times = [], [], []\n",
        "\n",
        "  for train_index, test_index in cv.split(X):\n",
        "    X_test = X[test_index]\n",
        "    Y_test = Y[test_index]\n",
        "  \n",
        "    start_time = time.time()\n",
        "    Y_hat = [np.mean(x) for x in X_test]\n",
        "    end_time = time.time()\n",
        "    \n",
        "    expected.append(Y_test)\n",
        "    observed.append(Y_hat)\n",
        "    times.append(end_time - start)\n",
        "    \n",
        "  result_data['results'][name] = evaluate(expected, observed, times, name)\n",
        "  \n",
        "  if VERBOSITY:\n",
        "    plot_prediction(expected, observed, name)"
      ],
      "execution_count": 0,
      "outputs": []
    },
    {
      "cell_type": "markdown",
      "metadata": {
        "id": "HwDC7WBEOf_H",
        "colab_type": "text"
      },
      "source": [
        "### Naive (Baseline)\n",
        "\n",
        "This implementation just use the last value of input as output."
      ]
    },
    {
      "cell_type": "code",
      "metadata": {
        "id": "w1V9y_fZOsj1",
        "colab_type": "code",
        "colab": {}
      },
      "source": [
        "def naive (data):\n",
        "  global result_data\n",
        "\n",
        "  name = \"Naive\"\n",
        "  \n",
        "  X, Y = generate_dataset(data, False, N_STEPS, N_FUTURE)\n",
        "  X = X.reshape(X.shape[0], X.shape[1])\n",
        "\n",
        "  cv = WalkingForwardTimeSeriesSplit(n_splits=N_SPLITS)\n",
        "  expected, observed, times = [], [], []\n",
        "\n",
        "  for train_index, test_index in cv.split(X):\n",
        "    X_test = X[test_index]\n",
        "    Y_test = Y[test_index]\n",
        "  \n",
        "    start_time = time.time()\n",
        "    Y_hat = [x[-1] for x in X_test]\n",
        "    end_time = time.time()\n",
        "    \n",
        "    expected.append(Y_test)\n",
        "    observed.append(Y_hat)\n",
        "    times.append(end_time - start)\n",
        "    \n",
        "  result_data['results'][name] = evaluate(expected, observed, times, name)\n",
        "  \n",
        "  if VERBOSITY:\n",
        "    plot_prediction(expected, observed, name)"
      ],
      "execution_count": 0,
      "outputs": []
    },
    {
      "cell_type": "markdown",
      "metadata": {
        "id": "GVUHvQxwWVrW",
        "colab_type": "text"
      },
      "source": [
        "### Random Forest\n",
        "\n",
        "This implementation is based on [Random Forest Algorithm with Python and Scikit-Learn](https://stackabuse.com/random-forest-algorithm-with-python-and-scikit-learn/)"
      ]
    },
    {
      "cell_type": "code",
      "metadata": {
        "id": "Fkk54MXRd6K6",
        "colab_type": "code",
        "colab": {}
      },
      "source": [
        "from sklearn.ensemble import RandomForestRegressor"
      ],
      "execution_count": 0,
      "outputs": []
    },
    {
      "cell_type": "code",
      "metadata": {
        "id": "ouDTRhcmvgWL",
        "colab_type": "code",
        "colab": {}
      },
      "source": [
        "def random_forest_grid(data, useB):\n",
        "  global result_data\n",
        "\n",
        "  name = \"RF Grid B\" if useB else \"RF Grid A\"\n",
        "  \n",
        "  X, Y = generate_dataset(data, useB, N_STEPS, N_FUTURE)\n",
        "  X = X.reshape(X.shape[0], X.shape[1] * X.shape[2])\n",
        "    \n",
        "  # param_grid = {\n",
        "  #   'bootstrap': [True, False],\n",
        "  #   'max_depth': [8, 16, 32, 64, None],\n",
        "  #   'n_estimators': [50, 100, 200, 400],\n",
        "  # }\n",
        "  param_grid = {\n",
        "    # 'bootstrap': [True, False],\n",
        "    'max_depth': ['auto'],\n",
        "    'n_estimators': [100],\n",
        "  }\n",
        "  model = sklearn.ensemble.RandomForestRegressor(random_state=0)\n",
        "  scoring = 'neg_mean_squared_error'\n",
        "  tscv = WalkingForwardTimeSeriesSplit(n_splits=N_SPLITS)\n",
        "  grid_search = sklearn.model_selection.GridSearchCV(estimator=model, param_grid=param_grid, scoring=scoring, cv=tscv, n_jobs=-1, verbose=2)\n",
        "\n",
        "  grid_search.fit(X, Y)\n",
        "\n",
        "  best_model = grid_search.best_estimator_\n",
        "\n",
        "  expected, observed, times = [], [], []\n",
        "\n",
        "  cv = WalkingForwardTimeSeriesSplit(n_splits=N_SPLITS)\n",
        "\n",
        "  for train_index, test_index in cv.split(X):\n",
        "    X_train, X_test = X[train_index], X[test_index]\n",
        "    Y_train, Y_test = Y[train_index], Y[test_index]\n",
        "\n",
        "    start_time = time.time()\n",
        "    best_model.fit(X_train, Y_train)\n",
        "    end_time = time.time()\n",
        "    \n",
        "    expected.append(Y_test)\n",
        "    observed.append(best_model.predict(X_test))\n",
        "    times.append(end_time - start_time)\n",
        "    \n",
        "  res = evaluate(expected, observed, times, name)\n",
        "  res['params'] = grid_search.best_params_\n",
        "\n",
        "  store(res, \"results/grid\", f\"{name}\")"
      ],
      "execution_count": 0,
      "outputs": []
    },
    {
      "cell_type": "code",
      "metadata": {
        "id": "aphhugpvWYkP",
        "colab_type": "code",
        "colab": {}
      },
      "source": [
        "def random_forest(data, useB):\n",
        "  global result_data\n",
        "  \n",
        "  name = \"RF B\" if useB else \"RF A\"\n",
        "  \n",
        "  model = sklearn.ensemble.RandomForestRegressor(n_estimators=100, max_features='auto', random_state=0)\n",
        "\n",
        "  X, Y = generate_dataset(data, useB, N_STEPS, N_FUTURE)\n",
        "  X = X.reshape(X.shape[0], X.shape[1] * X.shape[2])\n",
        "\n",
        "  expected, observed, times = [], [], []\n",
        "  tscv = WalkingForwardTimeSeriesSplit(n_splits=N_SPLITS)\n",
        "\n",
        "  for train_index, test_index in tscv.split(X):\n",
        "    X_train, X_test = X[train_index], X[test_index]\n",
        "    Y_train, Y_test = Y[train_index], Y[test_index]\n",
        "\n",
        "    start_time = time.time()\n",
        "    model.fit(X_train, Y_train)\n",
        "    end_time = time.time()\n",
        "    \n",
        "    expected.append(Y_test)\n",
        "    observed.append(model.predict(X_test))\n",
        "    times.append(end_time - start_time)\n",
        "    \n",
        "  result_data['results'][name] = evaluate(expected, observed, times, name)\n",
        "  \n",
        "  if VERBOSITY:\n",
        "    plot_prediction(expected, observed, name)"
      ],
      "execution_count": 0,
      "outputs": []
    },
    {
      "cell_type": "markdown",
      "metadata": {
        "id": "8WICqU265GQ2",
        "colab_type": "text"
      },
      "source": [
        "### Support Vector Machine"
      ]
    },
    {
      "cell_type": "code",
      "metadata": {
        "id": "6O3aVV1s5KdL",
        "colab_type": "code",
        "colab": {}
      },
      "source": [
        "from sklearn import svm"
      ],
      "execution_count": 0,
      "outputs": []
    },
    {
      "cell_type": "code",
      "metadata": {
        "id": "vwoErPSUdfvt",
        "colab_type": "code",
        "colab": {}
      },
      "source": [
        "def support_vector_machine_grid(data, useB):\n",
        "  global result_data\n",
        "\n",
        "  name = \"SVM Grid B\" if useB else \"SVM Grid A\"\n",
        "  \n",
        "  X, Y = generate_dataset(data, useB, N_STEPS, N_FUTURE)\n",
        "  X = X.reshape(X.shape[0], X.shape[1] * X.shape[2])\n",
        "    \n",
        "  # param_grid = {\n",
        "  #   'C': [1.0, 10.0, 100.0],\n",
        "  #   'gamma': list(np.logspace(-2, 2, 2)) + ['scale'],\n",
        "  #   'epsilon': [0.01, 0.1, 1]\n",
        "  # }\n",
        "  param_grid = {\n",
        "    'C': [1.0],\n",
        "    'gamma': ['scale'],\n",
        "    'epsilon': [0.02],\n",
        "  }\n",
        "  model = svm.SVR()\n",
        "  scoring = 'neg_mean_squared_error'\n",
        "  tscv = WalkingForwardTimeSeriesSplit(n_splits=N_SPLITS)\n",
        "  grid_search = sklearn.model_selection.GridSearchCV(estimator=model, param_grid=param_grid, scoring=scoring, cv=tscv, n_jobs=-1, verbose=2)\n",
        "\n",
        "  grid_search.fit(X, Y)\n",
        "\n",
        "  best_model = grid_search.best_estimator_\n",
        "\n",
        "  expected, observed, times = [], [], []\n",
        "\n",
        "  cv = WalkingForwardTimeSeriesSplit(n_splits=N_SPLITS)\n",
        "\n",
        "  for train_index, test_index in cv.split(X):\n",
        "    X_train, X_test = X[train_index], X[test_index]\n",
        "    Y_train, Y_test = Y[train_index], Y[test_index]\n",
        "\n",
        "    start_time = time.time()\n",
        "    best_model.fit(X_train, Y_train)\n",
        "    end_time = time.time()\n",
        "    \n",
        "    expected.append(Y_test)\n",
        "    observed.append(best_model.predict(X_test))\n",
        "    times.append(end_time - start_time)\n",
        "    \n",
        "  res = evaluate(expected, observed, times, name)\n",
        "  res['params'] = grid_search.best_params_\n",
        "\n",
        "  store(res, \"results/grid\", f\"{name}\")"
      ],
      "execution_count": 0,
      "outputs": []
    },
    {
      "cell_type": "code",
      "metadata": {
        "id": "scKSmSyk5Awm",
        "colab_type": "code",
        "colab": {}
      },
      "source": [
        "def support_vector_machine(data, useB):\n",
        "  global result_data\n",
        "  \n",
        "  name = \"SVM B\" if useB else \"SVM A\"\n",
        "  \n",
        "  model = svm.SVR(gamma='scale', C=1.0, epsilon=0.2)\n",
        "\n",
        "  X, Y = generate_dataset(data, useB, N_STEPS, N_FUTURE)\n",
        "  X = X.reshape(X.shape[0], X.shape[1] * X.shape[2])\n",
        "\n",
        "  expected, observed, times = [], [], []\n",
        "  tscv = WalkingForwardTimeSeriesSplit(n_splits=N_SPLITS)\n",
        "\n",
        "  for train_index, test_index in tscv.split(X):\n",
        "    X_train, X_test = X[train_index], X[test_index]\n",
        "    Y_train, Y_test = Y[train_index], Y[test_index]\n",
        "\n",
        "    start_time = time.time()\n",
        "    model.fit(X_train, Y_train)\n",
        "    end_time = time.time()\n",
        "    \n",
        "    expected.append(Y_test)\n",
        "    observed.append(model.predict(X_test))\n",
        "    times.append(end_time - start_time)\n",
        "    \n",
        "  result_data['results'][name] = evaluate(expected, observed, times, name)\n",
        "  \n",
        "  if VERBOSITY:\n",
        "    plot_prediction(expected, observed, name)"
      ],
      "execution_count": 0,
      "outputs": []
    },
    {
      "cell_type": "markdown",
      "metadata": {
        "id": "D7Nq3PsMTjYc",
        "colab_type": "text"
      },
      "source": [
        "### LSTM"
      ]
    },
    {
      "cell_type": "code",
      "metadata": {
        "id": "nTbbtAki29wT",
        "colab_type": "code",
        "colab": {}
      },
      "source": [
        "from keras.layers import LSTM"
      ],
      "execution_count": 0,
      "outputs": []
    },
    {
      "cell_type": "code",
      "metadata": {
        "id": "4YwuQGFp7w5A",
        "colab_type": "code",
        "colab": {}
      },
      "source": [
        "def create_lstm(input_shape):\n",
        "  def create(n=50, activation='relu'):\n",
        "    model = Sequential()\t\t\n",
        "\n",
        "    model.add(LSTM(n, activation=activation, input_shape=input_shape))\t\t\n",
        "    model.add(Dense(1))\t\t\n",
        "\n",
        "    model.compile(optimizer='adam', loss='mse', metrics = [\"accuracy\"])\t\n",
        "\n",
        "    return model\n",
        "\n",
        "  return create"
      ],
      "execution_count": 0,
      "outputs": []
    },
    {
      "cell_type": "code",
      "metadata": {
        "id": "ZrdfXg73NSik",
        "colab_type": "code",
        "colab": {}
      },
      "source": [
        "def lstm_grid(data, useB):\t\t\n",
        "  global result_data\n",
        "\n",
        "  name = \"LSTM Grid B\" if useB else \"LSTM Grid A\"\n",
        "        \n",
        "  X, Y = generate_dataset(data, useB, N_STEPS, N_FUTURE)\n",
        "\n",
        "  param_grid = {\t\t\n",
        "    'n': [100],\n",
        "    'activation': ['relu'],\n",
        "    'batch_size': [64],\n",
        "  }\n",
        "  # param_grid = {\t\t\n",
        "  #   'activation': ['relu', 'sigmoid', None],\n",
        "  #   'n': [50, 100, 200, 400],\n",
        "  #   'batch_size': [8, 16, 32, 64]\n",
        "  # }\n",
        "  model = KerasClassifier(build_fn=create_lstm((X.shape[1], X.shape[2])), validation_split=0.2, epochs=15, verbose=0)\n",
        "  scoring = 'neg_mean_squared_error'\n",
        "  tscv = WalkingForwardTimeSeriesSplit(n_splits=N_SPLITS)\n",
        "  grid_search = sklearn.model_selection.GridSearchCV(estimator=model, param_grid=param_grid, scoring=scoring, cv=tscv, n_jobs=-1, verbose=2)\t\t\n",
        "      \n",
        "  grid_search.fit(X, Y)\n",
        "\n",
        "  best_model = grid_search.best_estimator_\n",
        "\n",
        "  expected, observed, times = [], [], []\n",
        "\n",
        "  cv = WalkingForwardTimeSeriesSplit(n_splits=N_SPLITS)\n",
        "\n",
        "  for train_index, test_index in cv.split(X):\n",
        "    X_train, X_test = X[train_index], X[test_index]\n",
        "    Y_train, Y_test = Y[train_index], Y[test_index]\n",
        "\n",
        "    start_time = time.time()\n",
        "    best_model.fit(X_train, Y_train)\n",
        "    end_time = time.time()\n",
        "    \n",
        "    expected.append(Y_test)\n",
        "    observed.append(best_model.predict(X_test))\n",
        "    times.append(end_time - start_time)\n",
        "    \n",
        "  res = evaluate(expected, observed, times, name)\n",
        "  res['params'] = grid_search.best_params_\n",
        "\n",
        "  store(res, \"results/grid\", f\"{name}\")"
      ],
      "execution_count": 0,
      "outputs": []
    },
    {
      "cell_type": "code",
      "metadata": {
        "id": "AGyRz8GzTp4e",
        "colab_type": "code",
        "colab": {}
      },
      "source": [
        "def lstm (data, useB): \n",
        "  global result_data\n",
        "  \n",
        "  name = \"LSTM B\" if useB else \"LSTM A\"\n",
        "\n",
        "  X, Y = generate_dataset(data, useB, N_STEPS, N_FUTURE)\n",
        "\n",
        "  model = create_lstm((X.shape[1], X.shape[2]))()\n",
        "  \n",
        "  expected, observed, times = [], [], []\n",
        "  tscv = WalkingForwardTimeSeriesSplit(n_splits=N_SPLITS)\n",
        "\n",
        "  for train_index, test_index in tscv.split(X):\n",
        "    X_train, X_test = X[train_index], X[test_index]\n",
        "    Y_train, Y_test = Y[train_index], Y[test_index]\n",
        "  \n",
        "    start_time = time.time()\n",
        "    history = model.fit(X_train, Y_train, validation_split=0.2, batch_size=64, epochs=15, verbose=0)\n",
        "    end_time = time.time()\n",
        "\n",
        "    expected.append(Y_test)\n",
        "    observed.append(model.predict(X_test))\n",
        "    times.append(end_time - start_time)\n",
        "\n",
        "    if VERBOSITY:\n",
        "      plot_name = f\"{name} ({str(len(times)).zfill(2)} of {N_SPLITS})\"\n",
        "      plot_history(history, plot_name)\n",
        "\n",
        "  result_data['results'][name] = evaluate(expected, observed, times, name)\n",
        "  \n",
        "  if VERBOSITY:\n",
        "    plot_prediction(expected, observed, name)"
      ],
      "execution_count": 0,
      "outputs": []
    },
    {
      "cell_type": "markdown",
      "metadata": {
        "id": "qhaufggBRABt",
        "colab_type": "text"
      },
      "source": [
        "### GRU"
      ]
    },
    {
      "cell_type": "code",
      "metadata": {
        "id": "rP_hAZNu3CS7",
        "colab_type": "code",
        "colab": {}
      },
      "source": [
        "from keras.layers import GRU"
      ],
      "execution_count": 0,
      "outputs": []
    },
    {
      "cell_type": "code",
      "metadata": {
        "id": "Z1AKkTBu79Om",
        "colab_type": "code",
        "colab": {}
      },
      "source": [
        "def create_gru(input_shape):\n",
        "  def create(n=50, activation='relu'):\n",
        "    model = Sequential()\t\t\n",
        "\n",
        "    model.add(GRU(n, activation=activation, input_shape=input_shape))\t\t\n",
        "    model.add(Dense(1))\t\t\n",
        "\n",
        "    model.compile(optimizer='adam', loss='mse', metrics = [\"accuracy\"])\t\t\n",
        "\n",
        "    return model\t\t\n",
        "    \n",
        "  return create"
      ],
      "execution_count": 0,
      "outputs": []
    },
    {
      "cell_type": "code",
      "metadata": {
        "id": "3ETV7D_7NtpG",
        "colab_type": "code",
        "colab": {}
      },
      "source": [
        "def gru_grid(data, useB):\t\t\n",
        "  global result_data\n",
        "\n",
        "  name = \"GRU Grid B\" if useB else \"GRU Grid A\"\n",
        "        \n",
        "  X, Y = generate_dataset(data, useB, N_STEPS, N_FUTURE)\n",
        "\n",
        "  param_grid = {\t\t\n",
        "    'n': [100],\n",
        "    'activation': ['relu'],\n",
        "    'batch_size': [64],\n",
        "  }\n",
        "  # param_grid = {\t\t\n",
        "  #   'activation': ['relu', 'sigmoid', None],\n",
        "  #   'n': [50, 100, 200, 400],\n",
        "  #   'batch_size': [8, 16, 32, 64]\n",
        "  # }\n",
        "  model = KerasClassifier(build_fn=create_gru((X.shape[1], X.shape[2])), validation_split=0.2, epochs=15, verbose=0)\n",
        "  scoring = 'neg_mean_squared_error'\n",
        "  tscv = WalkingForwardTimeSeriesSplit(n_splits=N_SPLITS)\n",
        "  grid_search = sklearn.model_selection.GridSearchCV(estimator=model, param_grid=param_grid, scoring=scoring, cv=tscv, n_jobs=-1, verbose=2)\t\t\n",
        "      \n",
        "  grid_search.fit(X, Y)\n",
        "\n",
        "  best_model = grid_search.best_estimator_\n",
        "\n",
        "  expected, observed, times = [], [], []\n",
        "\n",
        "  cv = WalkingForwardTimeSeriesSplit(n_splits=N_SPLITS)\n",
        "\n",
        "  for train_index, test_index in cv.split(X):\n",
        "    X_train, X_test = X[train_index], X[test_index]\n",
        "    Y_train, Y_test = Y[train_index], Y[test_index]\n",
        "\n",
        "    start_time = time.time()\n",
        "    best_model.fit(X_train, Y_train)\n",
        "    end_time = time.time()\n",
        "    \n",
        "    expected.append(Y_test)\n",
        "    observed.append(best_model.predict(X_test))\n",
        "    times.append(end_time - start_time)\n",
        "    \n",
        "  res = evaluate(expected, observed, times, name)\n",
        "  res['params'] = grid_search.best_params_\n",
        "\n",
        "  store(res, \"results/grid\", f\"{name}\")"
      ],
      "execution_count": 0,
      "outputs": []
    },
    {
      "cell_type": "code",
      "metadata": {
        "id": "KD1GwF_b9P2h",
        "colab_type": "code",
        "colab": {}
      },
      "source": [
        "def gru (data, useB): \n",
        "  global result_data\n",
        "  \n",
        "  name = \"GRU B\" if useB else \"GRU A\"\n",
        "\n",
        "  X, Y = generate_dataset(data, useB, N_STEPS, N_FUTURE)\n",
        "\n",
        "  model = create_gru((X.shape[1], X.shape[2]))()\n",
        "  \n",
        "  expected, observed, times = [], [], []\n",
        "  tscv = WalkingForwardTimeSeriesSplit(n_splits=N_SPLITS)\n",
        "\n",
        "  for train_index, test_index in tscv.split(X):\n",
        "    X_train, X_test = X[train_index], X[test_index]\n",
        "    Y_train, Y_test = Y[train_index], Y[test_index]\n",
        "  \n",
        "    start_time = time.time()\n",
        "    history = model.fit(X_train, Y_train, validation_split=0.2, batch_size=64, epochs=15, verbose=0)\n",
        "    end_time = time.time()\n",
        "\n",
        "    expected.append(Y_test)\n",
        "    observed.append(model.predict(X_test))\n",
        "    times.append(end_time - start_time)\n",
        "\n",
        "    if VERBOSITY:\n",
        "      plot_name = f\"{name} ({str(len(times)).zfill(2)} of {N_SPLITS})\"\n",
        "      plot_history(history, plot_name)\n",
        "\n",
        "  result_data['results'][name] = evaluate(expected, observed, times, name)\n",
        "  \n",
        "  if VERBOSITY:\n",
        "    plot_prediction(expected, observed, name)"
      ],
      "execution_count": 0,
      "outputs": []
    },
    {
      "cell_type": "markdown",
      "metadata": {
        "id": "b1QmFwC1k2NO",
        "colab_type": "text"
      },
      "source": [
        "## Comparison Util"
      ]
    },
    {
      "cell_type": "markdown",
      "metadata": {
        "id": "jYsJgVYkpSnw",
        "colab_type": "text"
      },
      "source": [
        "### Misc"
      ]
    },
    {
      "cell_type": "code",
      "metadata": {
        "id": "5ouhGkCmmVkH",
        "colab_type": "code",
        "colab": {}
      },
      "source": [
        "def run_models():\n",
        "  global result_data\n",
        "  \n",
        "  result_data = {\n",
        "      'results': {},\n",
        "      'meta': {}\n",
        "  }\n",
        "\n",
        "  data = retrieve_data(FLOW_INTERVAL)\n",
        "\n",
        "  moving_average(data)\n",
        "  naive(data)\n",
        "  random_forest(data, False)\n",
        "  random_forest(data, True)\n",
        "  support_vector_machine(data, False)\n",
        "  support_vector_machine(data, True)\n",
        "  lstm(data, False)\n",
        "  lstm(data, True)\n",
        "  gru(data, False)\n",
        "  gru(data, True)\n",
        "\n",
        "  store_results()"
      ],
      "execution_count": 0,
      "outputs": []
    },
    {
      "cell_type": "code",
      "metadata": {
        "id": "OvhzKpN3p8wF",
        "colab_type": "code",
        "colab": {}
      },
      "source": [
        "def plot_precision_bucket (results):\n",
        "  \"\"\" Plot Precision Bucket \n",
        "  \n",
        "  Plot a stack box graph of the precision mesuared by the buckets.\n",
        "  \n",
        "  \"\"\"\n",
        "  \n",
        "  path = f\"{PATH}plots/precision\"\n",
        "  \n",
        "  N = len(results)\n",
        "    \n",
        "  ind = np.arange(N)    # the x locations for the groups\n",
        "  width = 0.35       # the width of the bars: can also be len(x) sequence\n",
        "  \n",
        "  pre = []\n",
        "  bott = []\n",
        "  \n",
        "  models = list(results.keys())\n",
        "\n",
        "  n_buckets = len(results[models[0]]['PRE'])\n",
        "    \n",
        "  for i in range(n_buckets):\n",
        "    pre.append([v[\"PRE\"][i] for v in results.values()])\n",
        "    \n",
        "    if i == 0:\n",
        "      bott.append([0] * N)\n",
        "    else:\n",
        "      bott.append([bott[i-1][j] + pre[i-1][j]  for j in range(N)])\n",
        "  \n",
        "  p = []\n",
        "  leg_lin = []\n",
        "  leg_lab = []\n",
        "  \n",
        "  for i in range(n_buckets):\n",
        "    _p = plt.bar(ind, tuple(pre[i]), width, bottom=tuple(bott[i]))\n",
        "    \n",
        "    leg_lin.append(_p[0])\n",
        "    leg_lab.append(f\"Bucket of {2**i}\")\n",
        "    p.append(_p)\n",
        "\n",
        "  plt.ylabel('Scores')\n",
        "  plt.title('Precision by model and bucket')\n",
        "  plt.xticks(ind, models, rotation=90)\n",
        "  plt.yticks(np.arange(0, 1.05, 0.05))\n",
        "  plt.legend(tuple(leg_lin), tuple(leg_lab))\n",
        "  \n",
        "  plt.savefig(path + \".png\", bbox_inches='tight')\n",
        "  plt.savefig(path + \".pdf\")\n",
        "\n",
        "  plt.close('all')"
      ],
      "execution_count": 0,
      "outputs": []
    },
    {
      "cell_type": "code",
      "metadata": {
        "id": "XWpjKVH2qGci",
        "colab_type": "code",
        "colab": {}
      },
      "source": [
        "def plot_performance(results, metric, y_label, title):\n",
        "  \"\"\" Plot Performance\n",
        "  \n",
        "  Plot a bar graph of the performance of some metric\n",
        "  \n",
        "  Arguments:\n",
        "    metric: the name of the property of the metric\n",
        "    y_label: the name of the label of the metric\n",
        "    title: the title of the plot\n",
        "  \"\"\"\n",
        "  \n",
        "  path = f\"{PATH}plots/performance/{title} Performance Bar\"\n",
        "  \n",
        "  models = tuple(results.keys())\n",
        "  y_pos = np.arange(len(models))\n",
        "  performance = [v[metric] for v in results.values()]\n",
        "\n",
        "  plt.rcdefaults()\n",
        "  plt.bar(y_pos, performance, align='center', alpha=0.5)\n",
        "  plt.xticks(y_pos, models, rotation=90)\n",
        "  plt.ylabel(y_label)\n",
        "  plt.title(title)\n",
        "\n",
        "  plt.savefig(path + \".png\", bbox_inches='tight')\n",
        "  plt.savefig(path + \".pdf\")\n",
        "    \n",
        "  plt.close('all')"
      ],
      "execution_count": 0,
      "outputs": []
    },
    {
      "cell_type": "code",
      "metadata": {
        "id": "PrRCgSnHp94M",
        "colab_type": "code",
        "colab": {}
      },
      "source": [
        "def plot_performance_improved(results, metric, y_label, title):\n",
        "  \"\"\" Plot Performance Improved\n",
        "  \n",
        "  Plot a box graph of the performance of some metric\n",
        "  \n",
        "  Arguments:\n",
        "    results: the struct that contain the results of the models\n",
        "    metric: the name of the property of the metric\n",
        "    y_label: the name of the label of the metric\n",
        "    title: the title of the plot\n",
        "  \"\"\"\n",
        "  \n",
        "  path = f\"{PATH}plots/performance/{title} Performance Boxes\"\n",
        "  \n",
        "  fig, ax_plot = plt.subplots()\n",
        "  \n",
        "  ax_plot.set_title(title)\n",
        "  ax_plot.set_xlabel(y_label)\n",
        "  ax_plot.set_ylabel('Model')\n",
        "  \n",
        "  bplot = ax_plot.boxplot([v['raw'][metric] for v in results.values()], vert=False)\n",
        "  ax_plot.set_yticklabels(list(results.keys()))\n",
        "  \n",
        "  plt.savefig(path + \".png\", bbox_inches='tight')\n",
        "  plt.savefig(path + \".pdf\")\n",
        "    \n",
        "  plt.close('all')"
      ],
      "execution_count": 0,
      "outputs": []
    },
    {
      "cell_type": "code",
      "metadata": {
        "id": "IYUW7GzXk02x",
        "colab_type": "code",
        "colab": {}
      },
      "source": [
        "def plot_snapshot(results):\n",
        "  # plot_precision_bucket(results)\n",
        "  # plot_performance(results, 'TIME', 'Seconds', 'Training Time Comparison')\n",
        "  plot_performance_improved(results, 'TIME', 'Seconds', 'Training Time Comparison')\n",
        "  # plot_performance(results, 'RMSE', 'RMSE', 'Root Mean Square Error Comparison')\n",
        "  plot_performance_improved(results, 'RMSE', 'RMSE', 'Root Mean Square Error Comparison')\n",
        "  # plot_performance(results, 'NRMSE', 'NRMSE', 'Normalized Root Mean Square Error Comparison')\n",
        "  plot_performance_improved(results, 'NRMSE', 'NRMSE', 'Normalized Root Mean Square Error Comparison')\n",
        "  # plot_performance(results, 'MAE', 'MAE', 'Max Absolute Error Comparison')\n",
        "  plot_performance_improved(results, 'MAE', 'MAE', 'Max Absolute Error Comparison')\n",
        "  # plot_performance(results, 'HR', 'Percentage', 'Hit Ratio Comparison')\n",
        "  plot_performance_improved(results, 'HR', 'Percentage', 'Hit Ratio Comparison')"
      ],
      "execution_count": 0,
      "outputs": []
    },
    {
      "cell_type": "code",
      "metadata": {
        "id": "QdN_JTyQISlM",
        "colab_type": "code",
        "colab": {}
      },
      "source": [
        "def plot_results_comparison(name, xlabel, xticks, metric):\n",
        "  path = f\"{PATH}plots/comparison/{name.lower().replace(' ', '_')}_{metric.lower()}\"\n",
        "  models = [*comparison_data[0]['results']]\n",
        "  \n",
        "  for model in models:\n",
        "    datapoints = [result['results'][model][metric] for result in comparison_data]\n",
        "    plt.plot(datapoints) \n",
        "\n",
        "  plt.title(name)\n",
        "  plt.ylabel(metric)\n",
        "  plt.xlabel(xlabel)\n",
        "  plt.xticks(np.arange(len(xticks)), xticks)\n",
        "  plt.legend(models, loc='upper left')\n",
        "  plt.rcdefaults()\n",
        "\n",
        "  plt.savefig(path + \".png\", bbox_inches='tight')\n",
        "  plt.savefig(path + \".pdf\")\n",
        "    \n",
        "  plt.close('all')"
      ],
      "execution_count": 0,
      "outputs": []
    },
    {
      "cell_type": "markdown",
      "metadata": {
        "id": "mDM9j9K9pWaD",
        "colab_type": "text"
      },
      "source": [
        "### Comparisons"
      ]
    },
    {
      "cell_type": "code",
      "metadata": {
        "id": "uVG-q8fvk32O",
        "colab_type": "code",
        "colab": {}
      },
      "source": [
        "def compare_results_by_n_split(values):\n",
        "  global N_SPLITS\n",
        "  global comparison_data\n",
        "  \n",
        "  aux = N_SPLITS\n",
        "  comparison_data = []\n",
        "  \n",
        "  for value in values:\n",
        "    N_SPLITS = value\n",
        "\n",
        "    start_time = time.time()\n",
        "    run_models()\n",
        "    end_time = time.time()\n",
        "    \n",
        "    comparison_data.append(copy.deepcopy(result_data))\n",
        "    plot_snapshot(comparison_data[-1])\n",
        "\n",
        "    print(f\"({len(comparison_data)} of {len(values)}) Finished Running with N_SPLITS {value} in {end_time - start_time} seconds\")\n",
        "\n",
        "  store_comparisons('_n_split_comparison')\n",
        "  \n",
        "  N_SPLITS = aux"
      ],
      "execution_count": 0,
      "outputs": []
    },
    {
      "cell_type": "code",
      "metadata": {
        "id": "W6Y3gTSGI4uy",
        "colab_type": "code",
        "colab": {}
      },
      "source": [
        "def compare_results_by_seeable_past(values):\n",
        "  global SEEABLE_PAST\n",
        "  global N_STEPS\n",
        "  global comparison_data\n",
        "  \n",
        "  aux = SEEABLE_PAST\n",
        "  comparison_data = []\n",
        "  \n",
        "  for value in values:\n",
        "    SEEABLE_PAST = value\n",
        "    N_STEPS = SEEABLE_PAST * 60 // FLOW_INTERVAL\n",
        "\n",
        "    start_time = time.time()\n",
        "    run_models()\n",
        "    end_time = time.time()\n",
        "    \n",
        "    comparison_data.append(copy.deepcopy(result_data))\n",
        "    plot_snapshot(comparison_data[-1])\n",
        "\n",
        "    print(f\"({len(comparison_data)} of {len(values)}) Finished Running with SEEABLE_PAST {value} in {end_time - start_time} seconds\")\n",
        "\n",
        "  store_comparisons('_seeable_past_comparison')\n",
        "  \n",
        "  SEEABLE_PAST = aux\n",
        "  N_STEPS = SEEABLE_PAST * 60 // FLOW_INTERVAL"
      ],
      "execution_count": 0,
      "outputs": []
    },
    {
      "cell_type": "code",
      "metadata": {
        "id": "2h35ErSHQH85",
        "colab_type": "code",
        "colab": {}
      },
      "source": [
        "def compare_results_by_flow_interval(values):\n",
        "  global FLOW_INTERVAL\n",
        "  global N_STEPS\n",
        "  global N_FUTURE\n",
        "  global DAY_SIZE\n",
        "  global WEEK_SIZE\n",
        "  global comparison_data\n",
        "  \n",
        "  aux = FLOW_INTERVAL\n",
        "  comparison_data = []\n",
        "  \n",
        "  for value in values:\n",
        "    FLOW_INTERVAL = value\n",
        "    N_STEPS = SEEABLE_PAST * 60 // FLOW_INTERVAL\n",
        "    N_FUTURE = PREDICT_IN_FUTURE * 60 // FLOW_INTERVAL\n",
        "    DAY_SIZE = (24 * 3600) // FLOW_INTERVAL  \n",
        "    WEEK_SIZE = 7 * DAY_SIZE\n",
        "\n",
        "    start_time = time.time()\n",
        "    run_models()\n",
        "    end_time = time.time()\n",
        "    \n",
        "    comparison_data.append(copy.deepcopy(result_data))\n",
        "    plot_snapshot(comparison_data[-1])\n",
        "\n",
        "    print(f\"({len(comparison_data)} of {len(values)}) Finished Running with FLOW_INTERVAL {value} in {end_time - start_time} seconds\")\n",
        "\n",
        "  store_comparisons('_flow_interval_comparison')\n",
        "  \n",
        "  FLOW_INTERVAL = aux\n",
        "  N_STEPS = SEEABLE_PAST * 60 // FLOW_INTERVAL\n",
        "  N_FUTURE = PREDICT_IN_FUTURE * 60 // FLOW_INTERVAL\n",
        "  DAY_SIZE = (24 * 3600) // FLOW_INTERVAL  \n",
        "  WEEK_SIZE = 7 * DAY_SIZE"
      ],
      "execution_count": 0,
      "outputs": []
    },
    {
      "cell_type": "code",
      "metadata": {
        "id": "5wC3yGkZQGFU",
        "colab_type": "code",
        "colab": {}
      },
      "source": [
        "def compare_results_by_predict_in_future(values):\n",
        "  global PREDICT_IN_FUTURE\n",
        "  global N_FUTURE\n",
        "  global comparison_data\n",
        "  \n",
        "  aux = PREDICT_IN_FUTURE\n",
        "  comparison_data = []\n",
        "  \n",
        "  for value in values:\n",
        "    PREDICT_IN_FUTURE = value\n",
        "    N_FUTURE = PREDICT_IN_FUTURE * 60 // FLOW_INTERVAL\n",
        "\n",
        "    start_time = time.time()\n",
        "    run_models()\n",
        "    end_time = time.time()\n",
        "    \n",
        "    comparison_data.append(copy.deepcopy(result_data))\n",
        "    plot_snapshot(comparison_data[-1])\n",
        "\n",
        "    print(f\"({len(comparison_data)} of {len(values)}) Finished Running with PREDICT_IN_FUTURE {value} in {end_time - start_time} seconds\")\n",
        "\n",
        "  store_comparisons('_predict_future_comparison')\n",
        "  \n",
        "  PREDICT_IN_FUTURE = aux\n",
        "  N_FUTURE = PREDICT_IN_FUTURE * 60 // FLOW_INTERVAL"
      ],
      "execution_count": 0,
      "outputs": []
    },
    {
      "cell_type": "markdown",
      "metadata": {
        "id": "1PypQpgeb3Nu",
        "colab_type": "text"
      },
      "source": [
        "## Train&Test\n",
        "\n",
        "Run all the models and store the results at the end"
      ]
    },
    {
      "cell_type": "code",
      "metadata": {
        "id": "IURi5r5HV5oZ",
        "colab_type": "code",
        "colab": {}
      },
      "source": [
        "# Model Parameters\n",
        "\n",
        "SEEABLE_PAST = 180 # in minutes\n",
        "\n",
        "PREDICT_IN_FUTURE = 15 # in minutes\n",
        "\n",
        "FLOW_INTERVAL = 450 # the interval size for each flow\n",
        "\n",
        "N_SPLITS = 4"
      ],
      "execution_count": 0,
      "outputs": []
    },
    {
      "cell_type": "code",
      "metadata": {
        "id": "rE_V1sw0V2DL",
        "colab_type": "code",
        "colab": {}
      },
      "source": [
        "# Derivated Model Parameters\n",
        "\n",
        "N_STEPS = SEEABLE_PAST * 60 // FLOW_INTERVAL # the number of flows to see in the past\n",
        "\n",
        "N_FUTURE = PREDICT_IN_FUTURE * 60 // FLOW_INTERVAL # how much in the future we want to predict (0 = predict the flow on the next 5 minutes)\n",
        "\n",
        "DAY_SIZE = (24 * 60 * 60) // FLOW_INTERVAL  \n",
        "\n",
        "WEEK_SIZE = (7 * 24 * 60 * 60) // FLOW_INTERVAL\n",
        "\n",
        "VERBOSITY = True"
      ],
      "execution_count": 0,
      "outputs": []
    },
    {
      "cell_type": "code",
      "metadata": {
        "id": "OnwtPTLWVHLx",
        "colab_type": "code",
        "colab": {}
      },
      "source": [
        "result_data = {\n",
        "    'results': {},\n",
        "    'meta': {}\n",
        "}"
      ],
      "execution_count": 0,
      "outputs": []
    },
    {
      "cell_type": "code",
      "metadata": {
        "id": "4J0XhMvkAArB",
        "colab_type": "code",
        "colab": {}
      },
      "source": [
        "data = retrieve_data(FLOW_INTERVAL)"
      ],
      "execution_count": 0,
      "outputs": []
    },
    {
      "cell_type": "code",
      "metadata": {
        "id": "mXUILTmKC4uk",
        "colab_type": "code",
        "colab": {
          "base_uri": "https://localhost:8080/",
          "height": 484
        },
        "outputId": "37f67f48-2d66-4f41-cc83-e53edfbb396d"
      },
      "source": [
        "random_forest(data, False)"
      ],
      "execution_count": 60,
      "outputs": [
        {
          "output_type": "stream",
          "text": [
            "(1/4) Test Size: 882, Time: 4.015744209289551s\n",
            "\tRMSE: 7.727812339859884\n",
            "\tNRMSE: 0.3914014676031064\n",
            "\tMAE: 5.549716553287983\n",
            "\tHit Ratio: 61.904761904761905%\n",
            "(2/4) Test Size: 882, Time: 3.9496536254882812s\n",
            "\tRMSE: 7.315969056201134\n",
            "\tNRMSE: 0.3421012987633445\n",
            "\tMAE: 5.286678004535148\n",
            "\tHit Ratio: 62.47165532879818%\n",
            "(3/4) Test Size: 882, Time: 4.03448224067688s\n",
            "\tRMSE: 7.062257996883033\n",
            "\tNRMSE: 0.3257171312470357\n",
            "\tMAE: 5.2805537648922005\n",
            "\tHit Ratio: 70.63492063492063%\n",
            "(4/4) Test Size: 882, Time: 3.940615653991699s\n",
            "\tRMSE: 6.4223619216812455\n",
            "\tNRMSE: 0.3144593844661701\n",
            "\tMAE: 4.904920634920635\n",
            "\tHit Ratio: 65.98639455782312%\n",
            "\n",
            "RF A Final Result:\n",
            "\tTotal Time: 15s\n",
            "\tRMSE: 7.132100328656325\n",
            "\tNRMSE: 0.34341982051991415\n",
            "\tMAE: 5.255467239408992\n",
            "\tHit Ratio: 65.24943310657598%\n"
          ],
          "name": "stdout"
        }
      ]
    },
    {
      "cell_type": "code",
      "metadata": {
        "id": "EXmwQlAOO_zQ",
        "colab_type": "code",
        "colab": {}
      },
      "source": [
        "random_forest_grid(data, False)"
      ],
      "execution_count": 0,
      "outputs": []
    },
    {
      "cell_type": "code",
      "metadata": {
        "id": "8DNp5XV7fkFC",
        "colab_type": "code",
        "colab": {}
      },
      "source": [
        "# random_forest_grid(data, True)"
      ],
      "execution_count": 0,
      "outputs": []
    },
    {
      "cell_type": "code",
      "metadata": {
        "id": "5A_g_dz9ImKb",
        "colab_type": "code",
        "colab": {}
      },
      "source": [
        "support_vector_machine(data, False)"
      ],
      "execution_count": 0,
      "outputs": []
    },
    {
      "cell_type": "code",
      "metadata": {
        "id": "tcwtR-TuODBw",
        "colab_type": "code",
        "colab": {}
      },
      "source": [
        "support_vector_machine_grid(data, False)"
      ],
      "execution_count": 0,
      "outputs": []
    },
    {
      "cell_type": "code",
      "metadata": {
        "id": "tl1iUSs1OEge",
        "colab_type": "code",
        "colab": {}
      },
      "source": [
        "# support_vector_machine_grid(data, True)"
      ],
      "execution_count": 0,
      "outputs": []
    },
    {
      "cell_type": "code",
      "metadata": {
        "id": "aTMT-AoOIsW4",
        "colab_type": "code",
        "colab": {}
      },
      "source": [
        "lstm(data, False)"
      ],
      "execution_count": 0,
      "outputs": []
    },
    {
      "cell_type": "code",
      "metadata": {
        "id": "_CJh4eqDOInH",
        "colab_type": "code",
        "colab": {}
      },
      "source": [
        "lstm_grid(data, False)"
      ],
      "execution_count": 0,
      "outputs": []
    },
    {
      "cell_type": "code",
      "metadata": {
        "id": "djbiudehOJ5O",
        "colab_type": "code",
        "colab": {}
      },
      "source": [
        "# lstm_grid(data, True)\t"
      ],
      "execution_count": 0,
      "outputs": []
    },
    {
      "cell_type": "code",
      "metadata": {
        "id": "qr-K5Y9hI2k9",
        "colab_type": "code",
        "colab": {}
      },
      "source": [
        "gru(data, False)"
      ],
      "execution_count": 0,
      "outputs": []
    },
    {
      "cell_type": "code",
      "metadata": {
        "id": "oR7RZ93cOK-U",
        "colab_type": "code",
        "colab": {}
      },
      "source": [
        "gru_grid(data, False)\t"
      ],
      "execution_count": 0,
      "outputs": []
    },
    {
      "cell_type": "code",
      "metadata": {
        "id": "NQVE4Ov3OMFW",
        "colab_type": "code",
        "colab": {}
      },
      "source": [
        "# gru_grid(data, True)"
      ],
      "execution_count": 0,
      "outputs": []
    },
    {
      "cell_type": "markdown",
      "metadata": {
        "id": "8DrFskPWmsp8",
        "colab_type": "text"
      },
      "source": [
        "## Compare"
      ]
    },
    {
      "cell_type": "code",
      "metadata": {
        "id": "iqldR6XomuvM",
        "colab_type": "code",
        "colab": {}
      },
      "source": [
        "VERBOSITY = False"
      ],
      "execution_count": 0,
      "outputs": []
    },
    {
      "cell_type": "code",
      "metadata": {
        "id": "n384b75iQ6Tw",
        "colab_type": "code",
        "colab": {}
      },
      "source": [
        "predict_futures = [15, 30, 45, 60]\n",
        "compare_results_by_predict_in_future(predict_futures)"
      ],
      "execution_count": 0,
      "outputs": []
    },
    {
      "cell_type": "code",
      "metadata": {
        "id": "JoCh5F7JRAhr",
        "colab_type": "code",
        "colab": {}
      },
      "source": [
        "plot_results_comparison('Predict Future for Training Comparison', 'Time in the Future in Minutes', predict_futures, 'NRMSE')"
      ],
      "execution_count": 0,
      "outputs": []
    },
    {
      "cell_type": "code",
      "metadata": {
        "id": "0edllKHwRAp3",
        "colab_type": "code",
        "colab": {}
      },
      "source": [
        "plot_results_comparison('Predict Future for Training Comparison', 'Time in the Future in Minutes', predict_futures, 'RMSE')"
      ],
      "execution_count": 0,
      "outputs": []
    },
    {
      "cell_type": "code",
      "metadata": {
        "id": "LNY39RCERAyQ",
        "colab_type": "code",
        "colab": {}
      },
      "source": [
        "plot_results_comparison('Predict Future for Training Comparison', 'Time in the Future in Minutes', predict_futures, 'MAE')"
      ],
      "execution_count": 0,
      "outputs": []
    },
    {
      "cell_type": "code",
      "metadata": {
        "id": "v3Ux0lzUxK1s",
        "colab_type": "code",
        "colab": {}
      },
      "source": [
        "plot_results_comparison('Predict Future for Training Comparison', 'Time in the Future in Minutes', predict_futures, 'HR')"
      ],
      "execution_count": 0,
      "outputs": []
    },
    {
      "cell_type": "code",
      "metadata": {
        "id": "bPxdZkUixO7Q",
        "colab_type": "code",
        "colab": {}
      },
      "source": [
        "plot_results_comparison('Predict Future for Training Comparison', 'Time in the Future in Minutes', predict_futures, 'TIME')"
      ],
      "execution_count": 0,
      "outputs": []
    },
    {
      "cell_type": "code",
      "metadata": {
        "id": "vGrQ0gM0KhLG",
        "colab_type": "code",
        "colab": {}
      },
      "source": [
        "flow_intervals = [150, 300, 450]\n",
        "compare_results_by_flow_interval(flow_intervals)"
      ],
      "execution_count": 0,
      "outputs": []
    },
    {
      "cell_type": "code",
      "metadata": {
        "id": "jtZJbhadKjVJ",
        "colab_type": "code",
        "colab": {}
      },
      "source": [
        "plot_results_comparison('Flow Interval for Training Comparison', 'Flow Size in Seconds', flow_intervals, 'NRMSE')"
      ],
      "execution_count": 0,
      "outputs": []
    },
    {
      "cell_type": "code",
      "metadata": {
        "id": "o28WE_M3KkBa",
        "colab_type": "code",
        "colab": {}
      },
      "source": [
        "plot_results_comparison('Flow Interval for Training Comparison', 'Flow Size in Seconds', flow_intervals, 'RMSE')"
      ],
      "execution_count": 0,
      "outputs": []
    },
    {
      "cell_type": "code",
      "metadata": {
        "id": "ID4jupZOKkdJ",
        "colab_type": "code",
        "colab": {}
      },
      "source": [
        "plot_results_comparison('Flow Interval for Training Comparison', 'Flow Size in Seconds', flow_intervals, 'MAE')"
      ],
      "execution_count": 0,
      "outputs": []
    },
    {
      "cell_type": "code",
      "metadata": {
        "id": "Y3zF8qyTxUuw",
        "colab_type": "code",
        "colab": {}
      },
      "source": [
        "plot_results_comparison('Flow Interval for Training Comparison', 'Flow Size in Seconds', flow_intervals, 'HR')"
      ],
      "execution_count": 0,
      "outputs": []
    },
    {
      "cell_type": "code",
      "metadata": {
        "id": "QyaDGYzhxVLO",
        "colab_type": "code",
        "colab": {}
      },
      "source": [
        "plot_results_comparison('Flow Interval for Training Comparison', 'Flow Size in Seconds', flow_intervals, 'TIME')"
      ],
      "execution_count": 0,
      "outputs": []
    },
    {
      "cell_type": "code",
      "metadata": {
        "id": "TOdpUrt2Qbwk",
        "colab_type": "code",
        "colab": {}
      },
      "source": [
        "seeable_pasts = [60, 120, 240, 480]\n",
        "compare_results_by_seeable_past(seeable_pasts)"
      ],
      "execution_count": 0,
      "outputs": []
    },
    {
      "cell_type": "code",
      "metadata": {
        "id": "LGoj6VvhSXhf",
        "colab_type": "code",
        "colab": {}
      },
      "source": [
        "plot_results_comparison('Seeable Past for Training Comparison', 'Seeable Past in Seconds', seeable_pasts, 'NRMSE')"
      ],
      "execution_count": 0,
      "outputs": []
    },
    {
      "cell_type": "code",
      "metadata": {
        "id": "YmwAO9MTSXq6",
        "colab_type": "code",
        "colab": {}
      },
      "source": [
        "plot_results_comparison('Seeable Past for Training Comparison', 'Seeable Past in Seconds', seeable_pasts, 'RMSE')"
      ],
      "execution_count": 0,
      "outputs": []
    },
    {
      "cell_type": "code",
      "metadata": {
        "id": "GSRgAREWSXzC",
        "colab_type": "code",
        "colab": {}
      },
      "source": [
        "plot_results_comparison('Seeable Past for Training Comparison', 'Seeable Past in Seconds', seeable_pasts, 'MAE')"
      ],
      "execution_count": 0,
      "outputs": []
    },
    {
      "cell_type": "code",
      "metadata": {
        "id": "grS_NNSQxZ8Y",
        "colab_type": "code",
        "colab": {}
      },
      "source": [
        "plot_results_comparison('Seeable Past for Training Comparison', 'Seeable Past in Seconds', seeable_pasts, 'HR')"
      ],
      "execution_count": 0,
      "outputs": []
    },
    {
      "cell_type": "code",
      "metadata": {
        "id": "znzZUeCbxan2",
        "colab_type": "code",
        "colab": {}
      },
      "source": [
        "plot_results_comparison('Seeable Past for Training Comparison', 'Seeable Past in Seconds', seeable_pasts, 'TIME')"
      ],
      "execution_count": 0,
      "outputs": []
    },
    {
      "cell_type": "code",
      "metadata": {
        "id": "7cRR0WElOJdS",
        "colab_type": "code",
        "colab": {}
      },
      "source": [
        "n_splits = [1, 2, 4, 8]\n",
        "compare_results_by_n_split(n_splits)"
      ],
      "execution_count": 0,
      "outputs": []
    },
    {
      "cell_type": "code",
      "metadata": {
        "id": "HHqYGnwuOJ1_",
        "colab_type": "code",
        "colab": {}
      },
      "source": [
        "plot_results_comparison('Number of Splits for Training Comparison', 'Number of Splits', n_splits, 'NRMSE')"
      ],
      "execution_count": 0,
      "outputs": []
    },
    {
      "cell_type": "code",
      "metadata": {
        "id": "LnT7vcK7Hl8u",
        "colab_type": "code",
        "colab": {}
      },
      "source": [
        "plot_results_comparison('Number of Splits for Training Comparison', 'Number of Splits', n_splits, 'RMSE')"
      ],
      "execution_count": 0,
      "outputs": []
    },
    {
      "cell_type": "code",
      "metadata": {
        "id": "K4SuhASgHnyK",
        "colab_type": "code",
        "colab": {}
      },
      "source": [
        "plot_results_comparison('Number of Splits for Training Comparison', 'Number of Splits', n_splits, 'MAE')"
      ],
      "execution_count": 0,
      "outputs": []
    },
    {
      "cell_type": "code",
      "metadata": {
        "id": "A7kXcqpJx5yy",
        "colab_type": "code",
        "colab": {}
      },
      "source": [
        "plot_results_comparison('Number of Splits for Training Comparison', 'Number of Splits', n_splits, 'HR')"
      ],
      "execution_count": 0,
      "outputs": []
    },
    {
      "cell_type": "code",
      "metadata": {
        "id": "ftmY_Dlux6nl",
        "colab_type": "code",
        "colab": {}
      },
      "source": [
        "plot_results_comparison('Number of Splits for Training Comparison', 'Number of Splits', n_splits, 'TIME')"
      ],
      "execution_count": 0,
      "outputs": []
    },
    {
      "cell_type": "markdown",
      "metadata": {
        "id": "rBjqtHAo_aFw",
        "colab_type": "text"
      },
      "source": [
        "## Observations:\n",
        "\n",
        "+ For the evaluation of the RNN and it's variations was used the Walking Forward methodology so that we had many test sessions and all training sessions where the same size [[1]](https://towardsdatascience.com/time-series-nested-cross-validation-76adba623eb9)\n",
        "+ To remove the cross-validation of the GridSearchCV we based on the answer in [scikit learn discussion - allow GridSearchCV to work with params={} or cv=1](https://github.com/scikit-learn/scikit-learn/issues/2048)\n",
        "+ Grid Search on Keras was based on the article [How to Grid Search Hyperparameters for Deep Learning Models in Python With Keras](https://machinelearningmastery.com/grid-search-hyperparameters-deep-learning-models-python-keras/)"
      ]
    }
  ]
}