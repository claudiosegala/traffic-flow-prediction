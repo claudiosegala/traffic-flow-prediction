{
  "nbformat": 4,
  "nbformat_minor": 0,
  "metadata": {
    "colab": {
      "name": "tcc.ipynb",
      "provenance": [],
      "collapsed_sections": [
        "YDFS5Hap5F8m",
        "E_WxxHUW5Apn",
        "L8F3EjLv4nBh",
        "XRo7xTjh4YTs",
        "llW_Qq7sZk1U",
        "6dClOlAE54P-",
        "-4MRltPccIM2",
        "R14KefuiBycd",
        "k2GB0HWqc4F5",
        "nFv86fqFDDor",
        "D7Nq3PsMTjYc",
        "qhaufggBRABt",
        "b1QmFwC1k2NO"
      ],
      "toc_visible": true,
      "include_colab_link": true
    },
    "kernelspec": {
      "name": "python3",
      "display_name": "Python 3"
    },
    "accelerator": "TPU"
  },
  "cells": [
    {
      "cell_type": "markdown",
      "metadata": {
        "id": "view-in-github",
        "colab_type": "text"
      },
      "source": [
        "<a href=\"https://colab.research.google.com/github/claudiosegala/Monografia/blob/master/code/tcc.ipynb\" target=\"_parent\"><img src=\"https://colab.research.google.com/assets/colab-badge.svg\" alt=\"Open In Colab\"/></a>"
      ]
    },
    {
      "cell_type": "markdown",
      "metadata": {
        "id": "estoJZd7_klb",
        "colab_type": "text"
      },
      "source": [
        "# TCC\n",
        "\n",
        "## Models\n",
        "\n",
        "- Random Guess\n",
        "- Mean\n",
        "- Random Forest\n",
        "- RNN\n",
        "- LSTM\n",
        "- GRU\n",
        "\n",
        "## Evaluation\n",
        "\n",
        "- RMSE\n",
        "- NRMSE\n",
        "  - Normalized by stardartization"
      ]
    },
    {
      "cell_type": "markdown",
      "metadata": {
        "id": "krd1GCLFBNn3",
        "colab_type": "text"
      },
      "source": [
        "# Mount Drive\n",
        "\n",
        "Connect to Google Drive of 'alfredcoinworth'"
      ]
    },
    {
      "cell_type": "code",
      "metadata": {
        "id": "ebzVayUNBP2L",
        "colab_type": "code",
        "outputId": "078f65f3-ef71-491f-9647-1979bb077853",
        "colab": {
          "base_uri": "https://localhost:8080/",
          "height": 124
        }
      },
      "source": [
        "import google as g # To connect with google drive\n",
        "g.colab.drive.mount('/content/drive')"
      ],
      "execution_count": 1,
      "outputs": [
        {
          "output_type": "stream",
          "text": [
            "Go to this URL in a browser: https://accounts.google.com/o/oauth2/auth?client_id=947318989803-6bn6qk8qdgf4n4g3pfee6491hc0brc4i.apps.googleusercontent.com&redirect_uri=urn%3Aietf%3Awg%3Aoauth%3A2.0%3Aoob&scope=email%20https%3A%2F%2Fwww.googleapis.com%2Fauth%2Fdocs.test%20https%3A%2F%2Fwww.googleapis.com%2Fauth%2Fdrive%20https%3A%2F%2Fwww.googleapis.com%2Fauth%2Fdrive.photos.readonly%20https%3A%2F%2Fwww.googleapis.com%2Fauth%2Fpeopleapi.readonly&response_type=code\n",
            "\n",
            "Enter your authorization code:\n",
            "··········\n",
            "Mounted at /content/drive\n"
          ],
          "name": "stdout"
        }
      ]
    },
    {
      "cell_type": "markdown",
      "metadata": {
        "id": "tD29g6RmWyjg",
        "colab_type": "text"
      },
      "source": [
        "# Instanciate Dependencies\n"
      ]
    },
    {
      "cell_type": "code",
      "metadata": {
        "id": "uDUNNEdAWJPx",
        "colab_type": "code",
        "outputId": "1c7f8106-f6ba-404c-e108-d8a3d6ca7988",
        "colab": {
          "base_uri": "https://localhost:8080/",
          "height": 987
        }
      },
      "source": [
        "!pip install tensorflow\n",
        "!pip install pandas\n",
        "!pip install matplotlib\n",
        "!pip install numpy\n",
        "!pip install sklearn\n",
        "!pip install keras\n",
        "!pip install statsmodels"
      ],
      "execution_count": 2,
      "outputs": [
        {
          "output_type": "stream",
          "text": [
            "Requirement already satisfied: tensorflow in /usr/local/lib/python3.6/dist-packages (1.14.0)\n",
            "Requirement already satisfied: six>=1.10.0 in /usr/local/lib/python3.6/dist-packages (from tensorflow) (1.12.0)\n",
            "Requirement already satisfied: gast>=0.2.0 in /usr/local/lib/python3.6/dist-packages (from tensorflow) (0.3.2)\n",
            "Requirement already satisfied: keras-preprocessing>=1.0.5 in /usr/local/lib/python3.6/dist-packages (from tensorflow) (1.1.0)\n",
            "Requirement already satisfied: grpcio>=1.8.6 in /usr/local/lib/python3.6/dist-packages (from tensorflow) (1.15.0)\n",
            "Requirement already satisfied: tensorboard<1.15.0,>=1.14.0 in /usr/local/lib/python3.6/dist-packages (from tensorflow) (1.14.0)\n",
            "Requirement already satisfied: keras-applications>=1.0.6 in /usr/local/lib/python3.6/dist-packages (from tensorflow) (1.0.8)\n",
            "Requirement already satisfied: wrapt>=1.11.1 in /usr/local/lib/python3.6/dist-packages (from tensorflow) (1.11.2)\n",
            "Requirement already satisfied: numpy<2.0,>=1.14.5 in /usr/local/lib/python3.6/dist-packages (from tensorflow) (1.16.5)\n",
            "Requirement already satisfied: termcolor>=1.1.0 in /usr/local/lib/python3.6/dist-packages (from tensorflow) (1.1.0)\n",
            "Requirement already satisfied: wheel>=0.26 in /usr/local/lib/python3.6/dist-packages (from tensorflow) (0.33.6)\n",
            "Requirement already satisfied: astor>=0.6.0 in /usr/local/lib/python3.6/dist-packages (from tensorflow) (0.8.0)\n",
            "Requirement already satisfied: tensorflow-estimator<1.15.0rc0,>=1.14.0rc0 in /usr/local/lib/python3.6/dist-packages (from tensorflow) (1.14.0)\n",
            "Requirement already satisfied: google-pasta>=0.1.6 in /usr/local/lib/python3.6/dist-packages (from tensorflow) (0.1.7)\n",
            "Requirement already satisfied: absl-py>=0.7.0 in /usr/local/lib/python3.6/dist-packages (from tensorflow) (0.8.0)\n",
            "Requirement already satisfied: protobuf>=3.6.1 in /usr/local/lib/python3.6/dist-packages (from tensorflow) (3.7.1)\n",
            "Requirement already satisfied: setuptools>=41.0.0 in /usr/local/lib/python3.6/dist-packages (from tensorboard<1.15.0,>=1.14.0->tensorflow) (41.2.0)\n",
            "Requirement already satisfied: markdown>=2.6.8 in /usr/local/lib/python3.6/dist-packages (from tensorboard<1.15.0,>=1.14.0->tensorflow) (3.1.1)\n",
            "Requirement already satisfied: werkzeug>=0.11.15 in /usr/local/lib/python3.6/dist-packages (from tensorboard<1.15.0,>=1.14.0->tensorflow) (0.16.0)\n",
            "Requirement already satisfied: h5py in /usr/local/lib/python3.6/dist-packages (from keras-applications>=1.0.6->tensorflow) (2.8.0)\n",
            "Requirement already satisfied: pandas in /usr/local/lib/python3.6/dist-packages (0.24.2)\n",
            "Requirement already satisfied: python-dateutil>=2.5.0 in /usr/local/lib/python3.6/dist-packages (from pandas) (2.5.3)\n",
            "Requirement already satisfied: pytz>=2011k in /usr/local/lib/python3.6/dist-packages (from pandas) (2018.9)\n",
            "Requirement already satisfied: numpy>=1.12.0 in /usr/local/lib/python3.6/dist-packages (from pandas) (1.16.5)\n",
            "Requirement already satisfied: six>=1.5 in /usr/local/lib/python3.6/dist-packages (from python-dateutil>=2.5.0->pandas) (1.12.0)\n",
            "Requirement already satisfied: matplotlib in /usr/local/lib/python3.6/dist-packages (3.0.3)\n",
            "Requirement already satisfied: cycler>=0.10 in /usr/local/lib/python3.6/dist-packages (from matplotlib) (0.10.0)\n",
            "Requirement already satisfied: kiwisolver>=1.0.1 in /usr/local/lib/python3.6/dist-packages (from matplotlib) (1.1.0)\n",
            "Requirement already satisfied: python-dateutil>=2.1 in /usr/local/lib/python3.6/dist-packages (from matplotlib) (2.5.3)\n",
            "Requirement already satisfied: pyparsing!=2.0.4,!=2.1.2,!=2.1.6,>=2.0.1 in /usr/local/lib/python3.6/dist-packages (from matplotlib) (2.4.2)\n",
            "Requirement already satisfied: numpy>=1.10.0 in /usr/local/lib/python3.6/dist-packages (from matplotlib) (1.16.5)\n",
            "Requirement already satisfied: six in /usr/local/lib/python3.6/dist-packages (from cycler>=0.10->matplotlib) (1.12.0)\n",
            "Requirement already satisfied: setuptools in /usr/local/lib/python3.6/dist-packages (from kiwisolver>=1.0.1->matplotlib) (41.2.0)\n",
            "Requirement already satisfied: numpy in /usr/local/lib/python3.6/dist-packages (1.16.5)\n",
            "Requirement already satisfied: sklearn in /usr/local/lib/python3.6/dist-packages (0.0)\n",
            "Requirement already satisfied: scikit-learn in /usr/local/lib/python3.6/dist-packages (from sklearn) (0.21.3)\n",
            "Requirement already satisfied: joblib>=0.11 in /usr/local/lib/python3.6/dist-packages (from scikit-learn->sklearn) (0.13.2)\n",
            "Requirement already satisfied: numpy>=1.11.0 in /usr/local/lib/python3.6/dist-packages (from scikit-learn->sklearn) (1.16.5)\n",
            "Requirement already satisfied: scipy>=0.17.0 in /usr/local/lib/python3.6/dist-packages (from scikit-learn->sklearn) (1.3.1)\n",
            "Requirement already satisfied: keras in /usr/local/lib/python3.6/dist-packages (2.2.5)\n",
            "Requirement already satisfied: scipy>=0.14 in /usr/local/lib/python3.6/dist-packages (from keras) (1.3.1)\n",
            "Requirement already satisfied: numpy>=1.9.1 in /usr/local/lib/python3.6/dist-packages (from keras) (1.16.5)\n",
            "Requirement already satisfied: six>=1.9.0 in /usr/local/lib/python3.6/dist-packages (from keras) (1.12.0)\n",
            "Requirement already satisfied: h5py in /usr/local/lib/python3.6/dist-packages (from keras) (2.8.0)\n",
            "Requirement already satisfied: pyyaml in /usr/local/lib/python3.6/dist-packages (from keras) (3.13)\n",
            "Requirement already satisfied: keras-preprocessing>=1.1.0 in /usr/local/lib/python3.6/dist-packages (from keras) (1.1.0)\n",
            "Requirement already satisfied: keras-applications>=1.0.8 in /usr/local/lib/python3.6/dist-packages (from keras) (1.0.8)\n",
            "Requirement already satisfied: statsmodels in /usr/local/lib/python3.6/dist-packages (0.10.1)\n",
            "Requirement already satisfied: numpy>=1.11 in /usr/local/lib/python3.6/dist-packages (from statsmodels) (1.16.5)\n",
            "Requirement already satisfied: scipy>=0.18 in /usr/local/lib/python3.6/dist-packages (from statsmodels) (1.3.1)\n",
            "Requirement already satisfied: pandas>=0.19 in /usr/local/lib/python3.6/dist-packages (from statsmodels) (0.24.2)\n",
            "Requirement already satisfied: patsy>=0.4.0 in /usr/local/lib/python3.6/dist-packages (from statsmodels) (0.5.1)\n",
            "Requirement already satisfied: pytz>=2011k in /usr/local/lib/python3.6/dist-packages (from pandas>=0.19->statsmodels) (2018.9)\n",
            "Requirement already satisfied: python-dateutil>=2.5.0 in /usr/local/lib/python3.6/dist-packages (from pandas>=0.19->statsmodels) (2.5.3)\n",
            "Requirement already satisfied: six in /usr/local/lib/python3.6/dist-packages (from patsy>=0.4.0->statsmodels) (1.12.0)\n"
          ],
          "name": "stdout"
        }
      ]
    },
    {
      "cell_type": "code",
      "metadata": {
        "id": "wD11PvxQXFT0",
        "colab_type": "code",
        "colab": {}
      },
      "source": [
        "import tensorflow as tf # machine learning library\n",
        "import pandas as pd # data manipulation library\n",
        "import matplotlib.pyplot as plt # plot library\n",
        "import numpy as np # math library\n",
        "import datetime as dt # to discover week day\n",
        "import time as tm # to convert to seconds\n",
        "import sklearn as skl # regression templates library\n",
        "import sklearn.metrics as sklm # metrics\n",
        "import statsmodels.api as sma # statistical models api\n",
        "import statistics as st # statistics\n",
        "import statsmodels as sm # statistical models\n",
        "\n",
        "import math\n",
        "import json\n",
        "import copy\n",
        "\n",
        "from sklearn.preprocessing import MinMaxScaler"
      ],
      "execution_count": 0,
      "outputs": []
    },
    {
      "cell_type": "markdown",
      "metadata": {
        "id": "xw1p5NfaMKTk",
        "colab_type": "text"
      },
      "source": [
        "# Configurations\n"
      ]
    },
    {
      "cell_type": "markdown",
      "metadata": {
        "id": "YDFS5Hap5F8m",
        "colab_type": "text"
      },
      "source": [
        "## Tensorflow"
      ]
    },
    {
      "cell_type": "code",
      "metadata": {
        "id": "CpyxvqpIMMXX",
        "colab_type": "code",
        "colab": {}
      },
      "source": [
        "tf.compat.v1.logging.set_verbosity(tf.compat.v1.logging.ERROR)"
      ],
      "execution_count": 0,
      "outputs": []
    },
    {
      "cell_type": "markdown",
      "metadata": {
        "id": "E_WxxHUW5Apn",
        "colab_type": "text"
      },
      "source": [
        "## Paths"
      ]
    },
    {
      "cell_type": "code",
      "metadata": {
        "id": "NUw3rkY-vDar",
        "colab_type": "code",
        "colab": {}
      },
      "source": [
        "# Colab\n",
        "TCC_PATH = '/content/drive/My Drive/TCC/'\n",
        "\n",
        "# Local\n",
        "# TCC_PATH = ''"
      ],
      "execution_count": 0,
      "outputs": []
    },
    {
      "cell_type": "markdown",
      "metadata": {
        "id": "fXgVfuOmDcDH",
        "colab_type": "text"
      },
      "source": [
        "## Parametes"
      ]
    },
    {
      "cell_type": "code",
      "metadata": {
        "id": "3E2XPoL5DfY7",
        "colab_type": "code",
        "colab": {}
      },
      "source": [
        "SEEABLE_PAST = 180 # in minutes\n",
        "\n",
        "PREDICT_IN_FUTURE = 15 # in minutes\n",
        "\n",
        "FLOW_INTERVAL = 450 # the interval size for each flow\n",
        "\n",
        "NORMALIZE_FEATS = False #Decide if we gonna use normalized flow and speed values, or not\n",
        "\n",
        "SET_SPLIT = 0.5\n",
        "\n",
        "TEST_SPLIT = 0.2\n",
        "\n",
        "VALIDATION_SPLIT = 0.2\n",
        "\n",
        "VERBOSITY = False\n",
        "\n",
        "\n",
        "# Derivated\n",
        "\n",
        "N_STEPS = SEEABLE_PAST * 60 // FLOW_INTERVAL # the number of flows to see in the past\n",
        "\n",
        "N_FUTURE = PREDICT_IN_FUTURE * 60 // FLOW_INTERVAL # how much in the future we want to predict (0 = predict the flow on the next 5 minutes)\n",
        "\n",
        "DAY_SIZE = (24 * 3600) // FLOW_INTERVAL  \n",
        "\n",
        "WEEK_SIZE = 7 * DAY_SIZE"
      ],
      "execution_count": 0,
      "outputs": []
    },
    {
      "cell_type": "markdown",
      "metadata": {
        "id": "DbjUKcm45u3H",
        "colab_type": "text"
      },
      "source": [
        "## Global"
      ]
    },
    {
      "cell_type": "code",
      "metadata": {
        "id": "qD88udfA5sdx",
        "colab_type": "code",
        "colab": {}
      },
      "source": [
        "result_data = {\n",
        "    'results': {},\n",
        "    'meta': {}\n",
        "}"
      ],
      "execution_count": 0,
      "outputs": []
    },
    {
      "cell_type": "code",
      "metadata": {
        "id": "PJR4B4bSHew9",
        "colab_type": "code",
        "colab": {}
      },
      "source": [
        "comparison_data = []"
      ],
      "execution_count": 0,
      "outputs": []
    },
    {
      "cell_type": "markdown",
      "metadata": {
        "id": "rlQKvD3_tqxd",
        "colab_type": "text"
      },
      "source": [
        "# Util"
      ]
    },
    {
      "cell_type": "markdown",
      "metadata": {
        "id": "L8F3EjLv4nBh",
        "colab_type": "text"
      },
      "source": [
        "## Data\n"
      ]
    },
    {
      "cell_type": "code",
      "metadata": {
        "id": "lr0HX0aMDKOf",
        "colab_type": "code",
        "colab": {}
      },
      "source": [
        "# split_sequence([1, 2, 3, 4, 5], 3) #=> ([[1, 2, 3], [2, 3, 4]], [4, 5])\n",
        "def split_sequence(sequence, isMulti):\n",
        "  n = len(sequence)\n",
        "  X, Y = list(), list()\n",
        "  \n",
        "  for i in range(n):\n",
        "    j = i + N_STEPS\n",
        "    k = j + N_FUTURE\n",
        "\n",
        "    if k >= n:\n",
        "      break\n",
        "\n",
        "    seq_x, seq_y = sequence[i:j], sequence[k]\n",
        "    X.append(seq_x)\n",
        "    Y.append(seq_y[0] if isMulti else seq_y)\n",
        "\n",
        "  return np.array(X), np.array(Y)"
      ],
      "execution_count": 0,
      "outputs": []
    },
    {
      "cell_type": "code",
      "metadata": {
        "id": "FamxaqEGKxdQ",
        "colab_type": "code",
        "colab": {}
      },
      "source": [
        "def reshape_flow (raw_seq, isMulti):  \n",
        "  # split into samples\n",
        "  X, Y = split_sequence(np.array(raw_seq), isMulti)\n",
        "  \n",
        "  print(X.shape)\n",
        "  \n",
        "  if not isMulti: # reshape from [samples, timesteps] into [samples, timesteps, features]\n",
        "    X = X.reshape((X.shape[0], X.shape[1], 1))\n",
        "\n",
        "  return X, Y"
      ],
      "execution_count": 0,
      "outputs": []
    },
    {
      "cell_type": "markdown",
      "metadata": {
        "id": "XRo7xTjh4YTs",
        "colab_type": "text"
      },
      "source": [
        "## Plot"
      ]
    },
    {
      "cell_type": "code",
      "metadata": {
        "id": "5zIKDsGPtvOO",
        "colab_type": "code",
        "colab": {}
      },
      "source": [
        "def plot_history (history, name):\n",
        "  path = f\"{TCC_PATH}plots/histories/{name}\"\n",
        "  \n",
        "  plt.plot(history.history['loss'])\n",
        "  plt.plot(history.history['val_loss'])\n",
        "  plt.title(name + ' Model Loss')\n",
        "  plt.ylabel('Loss')\n",
        "  plt.xlabel('Epoch')\n",
        "  plt.legend(['train', 'test'], loc='upper left')\n",
        "  plt.rcdefaults()\n",
        "  \n",
        "  plt.savefig(path + \".png\", bbox_inches='tight')\n",
        "  plt.savefig(path + \".pdf\")\n",
        "  \n",
        "  #plt.show(name + \"ind\")\n",
        "  plt.close('all')"
      ],
      "execution_count": 0,
      "outputs": []
    },
    {
      "cell_type": "code",
      "metadata": {
        "id": "0UkGNiEE20gp",
        "colab_type": "code",
        "colab": {}
      },
      "source": [
        "def plot_prediction (Y, Y_hat, title):\n",
        "  flatten = lambda l: [i for sl in l for i in sl]\n",
        "  \n",
        "  n = math.floor(len(Y) / DAY_SIZE)\n",
        "  Y = flatten(Y)\n",
        "  Y_hat = flatten(Y_hat)\n",
        "  \n",
        "  for r in range(n):\n",
        "    i = r * DAY_SIZE\n",
        "    j = min(i + DAY_SIZE, len(Y))\n",
        "    \n",
        "    path = f\"{TCC_PATH}plots/predictions/{title} ({str(r+1).zfill(2)} of {n})\"\n",
        "    \n",
        "    plt.plot(Y[i:j])\n",
        "    plt.plot(Y_hat[i:j])\n",
        "    plt.title(title + 'Prediction')\n",
        "    plt.ylabel('Flow')\n",
        "    plt.xlabel('Time')\n",
        "    plt.legend(['actual', 'prediction'], loc='upper left')\n",
        "    plt.rcdefaults()\n",
        "\n",
        "    plt.savefig(path + \".png\", bbox_inches='tight')\n",
        "    plt.savefig(path + \".pdf\")\n",
        "\n",
        "    plt.close('all')"
      ],
      "execution_count": 0,
      "outputs": []
    },
    {
      "cell_type": "code",
      "metadata": {
        "id": "7yXGNb5uDcXP",
        "colab_type": "code",
        "colab": {}
      },
      "source": [
        "def plot_performance_bar(metric, y_label, title):\n",
        "  path = f\"{TCC_PATH}plots/performances/bars/{title}\"\n",
        "  \n",
        "  models = tuple(result_data['results'].keys())\n",
        "  y_pos = np.arange(len(models))\n",
        "  performance = [v[metric] for v in result_data['results'].values()]\n",
        "\n",
        "  plt.rcdefaults()\n",
        "  plt.bar(y_pos, performance, align='center', alpha=0.5)\n",
        "  plt.xticks(y_pos, models)\n",
        "  plt.ylabel(y_label)\n",
        "  plt.title(title)\n",
        "\n",
        "  plt.savefig(path + \".png\", bbox_inches='tight')\n",
        "  plt.savefig(path + \".pdf\")\n",
        "  \n",
        "  plt.show()\n",
        "  plt.close('all')"
      ],
      "execution_count": 0,
      "outputs": []
    },
    {
      "cell_type": "code",
      "metadata": {
        "id": "ebIh6HxWbUyo",
        "colab_type": "code",
        "colab": {}
      },
      "source": [
        "def plot_performance_box(metric, y_label, title):\n",
        "  path = f\"{TCC_PATH}plots/performances/boxes/{title}\"\n",
        "  \n",
        "  fig, ax_plot = plt.subplots()\n",
        "  \n",
        "  ax_plot.set_title(title)\n",
        "  ax_plot.set_xlabel('Model')\n",
        "  ax_plot.set_ylabel(y_label)\n",
        "  \n",
        "  bplot = ax_plot.boxplot([v['raw'][metric] for v in result_data['results'].values()])\n",
        "  ax_plot.set_xticklabels(list(result_data['results'].keys()))\n",
        "  \n",
        "  plt.savefig(path + \".png\", bbox_inches='tight')\n",
        "  plt.savefig(path + \".pdf\")\n",
        "  \n",
        "  plt.show()\n",
        "  plt.close('all')"
      ],
      "execution_count": 0,
      "outputs": []
    },
    {
      "cell_type": "markdown",
      "metadata": {
        "id": "QYQ-2RhUqtZu",
        "colab_type": "text"
      },
      "source": [
        "## Model\n"
      ]
    },
    {
      "cell_type": "code",
      "metadata": {
        "id": "H7MpMTUy4wuW",
        "colab_type": "code",
        "colab": {
          "base_uri": "https://localhost:8080/",
          "height": 35
        },
        "outputId": "300beb17-c369-4194-b3e7-a720c1dfefc5"
      },
      "source": [
        "from keras.models import Sequential\n",
        "from keras.layers import Dense"
      ],
      "execution_count": 15,
      "outputs": [
        {
          "output_type": "stream",
          "text": [
            "Using TensorFlow backend.\n"
          ],
          "name": "stderr"
        }
      ]
    },
    {
      "cell_type": "code",
      "metadata": {
        "id": "KH648TIGLVKg",
        "colab_type": "code",
        "colab": {}
      },
      "source": [
        "def split_dataset (n):\n",
        "  window_size = int(n * SET_SPLIT)\n",
        "  test_size = int(window_size * TEST_SPLIT)\n",
        "  jump_size = test_size\n",
        "  train_size = window_size - test_size\n",
        "    \n",
        "  i, j, k = 0, train_size, min(n, train_size + test_size)\n",
        "  \n",
        "  res = []\n",
        "  \n",
        "  while j < n:\n",
        "    res.append((i, j, k))\n",
        "    \n",
        "    i = i + jump_size\n",
        "    j = i + train_size\n",
        "    k = min(n, j + test_size)\n",
        "    \n",
        "  return res"
      ],
      "execution_count": 0,
      "outputs": []
    },
    {
      "cell_type": "code",
      "metadata": {
        "id": "65Zypk5Cbiv0",
        "colab_type": "code",
        "colab": {}
      },
      "source": [
        "def hit_ratio (Y, Y_hat):\n",
        "  cnt = 0\n",
        "  \n",
        "  for i in range(len(Y)):\n",
        "    if i == 0:\n",
        "      continue\n",
        "      \n",
        "    exp = Y[i] - Y[i-1]\n",
        "    obs = Y_hat[i] - Y_hat[i-1]\n",
        "    \n",
        "    if exp * obs > 0:\n",
        "      cnt += 1\n",
        "    \n",
        "  return cnt / len(Y)\n",
        "    "
      ],
      "execution_count": 0,
      "outputs": []
    },
    {
      "cell_type": "code",
      "metadata": {
        "id": "gTes33wAe1zg",
        "colab_type": "code",
        "colab": {}
      },
      "source": [
        "def precision (Y, Y_hat):\n",
        "  n_buckets = 7;\n",
        "  buckets = [0] * n_buckets\n",
        "  \n",
        "  for i in range(len(Y)):\n",
        "    diff = abs(Y[i] - Y_hat[i])\n",
        "    \n",
        "    for i in range (n_buckets):\n",
        "      if diff <= 2**i:\n",
        "        buckets[i] += 1\n",
        "        break\n",
        "\n",
        "  for i in range (n_buckets):\n",
        "     buckets[i] = buckets[i] / len(Y)\n",
        "\n",
        "  return tuple(buckets)"
      ],
      "execution_count": 0,
      "outputs": []
    },
    {
      "cell_type": "code",
      "metadata": {
        "id": "nW3-LAmDNpYL",
        "colab_type": "code",
        "colab": {}
      },
      "source": [
        "def evaluate (expected, observed, times, title):\n",
        "  global result_data\n",
        "  \n",
        "  n = len(expected)\n",
        "  \n",
        "  expected = list(map(list, expected))\n",
        "  observed = list(map(list, observed))\n",
        "  \n",
        "  # Make the arrays serializable\n",
        "  for i in range(n):\n",
        "    expected[i] = list(map(float, expected[i]))\n",
        "    observed[i] = list(map(float, observed[i]))\n",
        "\n",
        "  \n",
        "  if NORMALIZE_FEATS:\n",
        "    for i in range(n):\n",
        "      expected[i] = list(scaler.inverse_transform(expected[i]))\n",
        "      observed[i] = list(scaler.inverse_transform(observed[i]))\n",
        "  \n",
        "  result_data['results'][title] = {\n",
        "    'TIME': 0,\n",
        "    'RMSE': 0.0,\n",
        "    'NRMSE': 0.0,\n",
        "    'MAE': 0.0,\n",
        "    'R2': 0.0,\n",
        "    'HR': 0.0,\n",
        "    'PRE': [],\n",
        "    'raw': {\n",
        "      'expected': expected,\n",
        "      'observed': observed,\n",
        "      'TIME': times,\n",
        "      'RMSE': [0] * n,\n",
        "      'NRMSE': [0] * n,\n",
        "      'MAE': [0] * n,\n",
        "      'R2': [0] * n,\n",
        "      'HR': [0] * n,\n",
        "      'PRE': [0] * n,\n",
        "    }\n",
        "  }\n",
        "  \n",
        "  eva = result_data['results'][title]\n",
        "  raw = result_data['results'][title]['raw']\n",
        "  \n",
        "  for i in range(n):\n",
        "    Y = expected[i]\n",
        "    Y_hat = observed[i]\n",
        "    time = times[i]\n",
        "\n",
        "    raw['MAE'][i] = sklm.mean_absolute_error(Y, Y_hat)\n",
        "    raw['RMSE'][i] = np.sqrt(sklm.mean_squared_error(Y, Y_hat))\n",
        "    raw['NRMSE'][i] = raw['RMSE'][i] / np.std(Y)\n",
        "    raw['R2'][i] = sklm.r2_score(Y, Y_hat)\n",
        "    raw['HR'][i] = hit_ratio(Y, Y_hat)\n",
        "    raw['PRE'][i] = precision(Y, Y_hat)\n",
        "    \n",
        "    if VERBOSITY:\n",
        "      print(f\"({i+1}/{n}) Test Size: {len(Y)}, Time: {time}s, RMSE: {raw['RMSE'][i]}, NRMSE: {raw['NRMSE'][i]}, MAE: {raw['MAE'][i]}, R2: {raw['R2'][i]}, Hit Ratio: {raw['HR'][i] * 100}%\")\n",
        "    \n",
        "  eva['TIME'] = int(sum(times))\n",
        "  eva['RMSE'] = sum(raw['RMSE']) / len(raw['RMSE'])\n",
        "  eva['NRMSE'] = sum(raw['NRMSE']) / len(raw['NRMSE'])\n",
        "  eva['MAE'] = sum(raw['MAE']) / len(raw['MAE'])\n",
        "  eva['R2'] = sum(raw['R2']) / len(raw['R2'])\n",
        "  eva['HR'] = sum(raw['HR']) / len(raw['HR'])\n",
        "  eva['PRE'] = list(map(sum, zip(*raw['PRE'])))\n",
        "      \n",
        "  if VERBOSITY:\n",
        "    plot_prediction(expected, observed, title)\n",
        "    print(f\"=> Total Time: {eva['TIME']}s, RMSE: {eva['RMSE']}, NRMSE: {eva['NRMSE']}, MAE: {eva['MAE']}, R2: {eva['R2']}, Hit Ratio: {eva['HR'] * 100}%, Precision: {eva['PRE']}\")"
      ],
      "execution_count": 0,
      "outputs": []
    },
    {
      "cell_type": "markdown",
      "metadata": {
        "id": "8BkdL8EE5pl3",
        "colab_type": "text"
      },
      "source": [
        "## Storage"
      ]
    },
    {
      "cell_type": "code",
      "metadata": {
        "id": "9OWaLFzKSG2A",
        "colab_type": "code",
        "colab": {}
      },
      "source": [
        "def print_json ():\n",
        "  print(json.dumps(result_data, sort_keys=True, indent=4))"
      ],
      "execution_count": 0,
      "outputs": []
    },
    {
      "cell_type": "code",
      "metadata": {
        "id": "y4OjfpS8R-ZC",
        "colab_type": "code",
        "colab": {}
      },
      "source": [
        "def store_results ():\n",
        "  name = int(tm.time())\n",
        "  \n",
        "  result_data['meta'] = {\n",
        "    \"SEEABLE_PAST\": SEEABLE_PAST,\n",
        "    \"PREDICT_IN_FUTURE\": PREDICT_IN_FUTURE,\n",
        "    \"FLOW_INTERVAL\": FLOW_INTERVAL,\n",
        "    \"NORMALIZE_FEATS\": NORMALIZE_FEATS,\n",
        "    \"SET_SPLIT\": SET_SPLIT,\n",
        "    \"TEST_SPLIT\": TEST_SPLIT,\n",
        "    \"VALIDATION_SPLIT\": VALIDATION_SPLIT,\n",
        "  }\n",
        "  \n",
        "  with open(f\"{TCC_PATH}results/{name}.json\", 'w') as json_file:\n",
        "    json.dump(result_data, json_file)\n",
        "    \n",
        "  slim_result_data = copy.deepcopy(result_data)\n",
        "  for model in slim_result_data['results']:\n",
        "      del slim_result_data['results'][model]['raw']\n",
        "    \n",
        "  with open(f\"{TCC_PATH}results/{name}_slim.json\", 'w') as json_file:\n",
        "    json.dump(slim_result_data, json_file)"
      ],
      "execution_count": 0,
      "outputs": []
    },
    {
      "cell_type": "code",
      "metadata": {
        "id": "K_UiuJG3GwME",
        "colab_type": "code",
        "colab": {}
      },
      "source": [
        "def store_comparisons ():\n",
        "  name = int(tm.time())\n",
        "  \n",
        "  with open(f\"{TCC_PATH}results/comparison/{name}.json\", 'w') as json_file:\n",
        "    json.dump(comparison_data, json_file)\n",
        "    \n",
        "  slim_comparison_data = copy.deepcopy(comparison_data)\n",
        "  for i in range(len(slim_comparison_data)):\n",
        "    print([*slim_comparison_data[i]['results']])\n",
        "    for model in slim_comparison_data[i]['results']:\n",
        "      del slim_comparison_data[i]['results'][model]['raw']\n",
        "    \n",
        "    \n",
        "  with open(f\"{TCC_PATH}results/comparison/{name}_slim.json\", 'w') as json_file:\n",
        "    json.dump(slim_comparison_data, json_file)"
      ],
      "execution_count": 0,
      "outputs": []
    },
    {
      "cell_type": "markdown",
      "metadata": {
        "id": "llW_Qq7sZk1U",
        "colab_type": "text"
      },
      "source": [
        "# Dataset Generation\n",
        "\n",
        "This phase we have to get the data stored in Google Drive and transform into a dataset for prediction.\n"
      ]
    },
    {
      "cell_type": "markdown",
      "metadata": {
        "id": "6dClOlAE54P-",
        "colab_type": "text"
      },
      "source": [
        "## Retrieval"
      ]
    },
    {
      "cell_type": "code",
      "metadata": {
        "id": "hd2t6KbqZlgU",
        "colab_type": "code",
        "colab": {}
      },
      "source": [
        "col_names = ['Sensor', 'Date', 'Time', 'Lane', 'Speed', 'Max Speed', 'Size']\n",
        "all_data = pd.read_csv(f\"{TCC_PATH}dataset/all_data_sorted.csv\", ';', header=None, names=col_names)"
      ],
      "execution_count": 0,
      "outputs": []
    },
    {
      "cell_type": "code",
      "metadata": {
        "id": "8cqeH0puKl37",
        "colab_type": "code",
        "outputId": "87120e8e-2e99-4360-f1da-b0dae9006484",
        "colab": {
          "base_uri": "https://localhost:8080/",
          "height": 0
        }
      },
      "source": [
        "all_data.head()"
      ],
      "execution_count": 24,
      "outputs": [
        {
          "output_type": "execute_result",
          "data": {
            "text/html": [
              "<div>\n",
              "<style scoped>\n",
              "    .dataframe tbody tr th:only-of-type {\n",
              "        vertical-align: middle;\n",
              "    }\n",
              "\n",
              "    .dataframe tbody tr th {\n",
              "        vertical-align: top;\n",
              "    }\n",
              "\n",
              "    .dataframe thead th {\n",
              "        text-align: right;\n",
              "    }\n",
              "</style>\n",
              "<table border=\"1\" class=\"dataframe\">\n",
              "  <thead>\n",
              "    <tr style=\"text-align: right;\">\n",
              "      <th></th>\n",
              "      <th>Sensor</th>\n",
              "      <th>Date</th>\n",
              "      <th>Time</th>\n",
              "      <th>Lane</th>\n",
              "      <th>Speed</th>\n",
              "      <th>Max Speed</th>\n",
              "      <th>Size</th>\n",
              "    </tr>\n",
              "  </thead>\n",
              "  <tbody>\n",
              "    <tr>\n",
              "      <th>0</th>\n",
              "      <td>RSI128</td>\n",
              "      <td>2016/05/01</td>\n",
              "      <td>00:00:09</td>\n",
              "      <td>1</td>\n",
              "      <td>26.0</td>\n",
              "      <td>60.0</td>\n",
              "      <td>0.0</td>\n",
              "    </tr>\n",
              "    <tr>\n",
              "      <th>1</th>\n",
              "      <td>RSI131</td>\n",
              "      <td>2016/05/01</td>\n",
              "      <td>00:00:09</td>\n",
              "      <td>2</td>\n",
              "      <td>20.0</td>\n",
              "      <td>60.0</td>\n",
              "      <td>1.1</td>\n",
              "    </tr>\n",
              "    <tr>\n",
              "      <th>2</th>\n",
              "      <td>RSI132</td>\n",
              "      <td>2016/05/01</td>\n",
              "      <td>00:00:09</td>\n",
              "      <td>1</td>\n",
              "      <td>45.0</td>\n",
              "      <td>60.0</td>\n",
              "      <td>0.0</td>\n",
              "    </tr>\n",
              "    <tr>\n",
              "      <th>3</th>\n",
              "      <td>RSI131</td>\n",
              "      <td>2016/05/01</td>\n",
              "      <td>00:00:10</td>\n",
              "      <td>1</td>\n",
              "      <td>40.0</td>\n",
              "      <td>60.0</td>\n",
              "      <td>0.5</td>\n",
              "    </tr>\n",
              "    <tr>\n",
              "      <th>4</th>\n",
              "      <td>RSI129</td>\n",
              "      <td>2016/05/01</td>\n",
              "      <td>00:00:12</td>\n",
              "      <td>1</td>\n",
              "      <td>35.0</td>\n",
              "      <td>60.0</td>\n",
              "      <td>0.0</td>\n",
              "    </tr>\n",
              "  </tbody>\n",
              "</table>\n",
              "</div>"
            ],
            "text/plain": [
              "   Sensor        Date      Time  Lane  Speed  Max Speed  Size\n",
              "0  RSI128  2016/05/01  00:00:09     1   26.0       60.0   0.0\n",
              "1  RSI131  2016/05/01  00:00:09     2   20.0       60.0   1.1\n",
              "2  RSI132  2016/05/01  00:00:09     1   45.0       60.0   0.0\n",
              "3  RSI131  2016/05/01  00:00:10     1   40.0       60.0   0.5\n",
              "4  RSI129  2016/05/01  00:00:12     1   35.0       60.0   0.0"
            ]
          },
          "metadata": {
            "tags": []
          },
          "execution_count": 24
        }
      ]
    },
    {
      "cell_type": "markdown",
      "metadata": {
        "id": "-4MRltPccIM2",
        "colab_type": "text"
      },
      "source": [
        "## Pre-processing\n",
        "\n"
      ]
    },
    {
      "cell_type": "code",
      "metadata": {
        "id": "45BbPGsccOwL",
        "colab_type": "code",
        "colab": {}
      },
      "source": [
        "def adjust_data(data):\n",
        "  # Extract data from just one sensor\n",
        "  data = data[data['Sensor'] == 'RSI128']\n",
        "  \n",
        "  # Remove unnecessary columns\n",
        "  data = data.drop(columns=['Sensor','Lane','Max Speed','Size'])\n",
        "   \n",
        "  # Adjust type\n",
        "  data['Time'] = data['Time'].apply(lambda x : tm.strptime(x, '%H:%M:%S'))\n",
        "  data['Time'] = data['Time'].apply(lambda x : dt.timedelta(hours=x.tm_hour,minutes=x.tm_min,seconds=x.tm_sec).total_seconds())\n",
        "  data['Time'] = data['Time'].apply(lambda x : int(x))\n",
        "  data['Date'] = pd.to_datetime(data['Date'], format='%Y/%m/%d')\n",
        "  data['Speed'].apply(lambda x : float(x))\n",
        "  \n",
        "  # Create week day from date\n",
        "  data['WeekDay'] = data['Date'].apply(lambda x : x.weekday())\n",
        "  \n",
        "  return data"
      ],
      "execution_count": 0,
      "outputs": []
    },
    {
      "cell_type": "code",
      "metadata": {
        "id": "ZWyHB9uiLGyL",
        "colab_type": "code",
        "colab": {}
      },
      "source": [
        "data = adjust_data(all_data)"
      ],
      "execution_count": 0,
      "outputs": []
    },
    {
      "cell_type": "code",
      "metadata": {
        "id": "sa5nhAg4KNW4",
        "colab_type": "code",
        "outputId": "9670240f-6198-47e8-c212-77e862e3ad7a",
        "colab": {
          "base_uri": "https://localhost:8080/",
          "height": 0
        }
      },
      "source": [
        "data.head()"
      ],
      "execution_count": 27,
      "outputs": [
        {
          "output_type": "execute_result",
          "data": {
            "text/html": [
              "<div>\n",
              "<style scoped>\n",
              "    .dataframe tbody tr th:only-of-type {\n",
              "        vertical-align: middle;\n",
              "    }\n",
              "\n",
              "    .dataframe tbody tr th {\n",
              "        vertical-align: top;\n",
              "    }\n",
              "\n",
              "    .dataframe thead th {\n",
              "        text-align: right;\n",
              "    }\n",
              "</style>\n",
              "<table border=\"1\" class=\"dataframe\">\n",
              "  <thead>\n",
              "    <tr style=\"text-align: right;\">\n",
              "      <th></th>\n",
              "      <th>Date</th>\n",
              "      <th>Time</th>\n",
              "      <th>Speed</th>\n",
              "      <th>WeekDay</th>\n",
              "    </tr>\n",
              "  </thead>\n",
              "  <tbody>\n",
              "    <tr>\n",
              "      <th>0</th>\n",
              "      <td>2016-05-01</td>\n",
              "      <td>9</td>\n",
              "      <td>26.0</td>\n",
              "      <td>6</td>\n",
              "    </tr>\n",
              "    <tr>\n",
              "      <th>7</th>\n",
              "      <td>2016-05-01</td>\n",
              "      <td>18</td>\n",
              "      <td>32.0</td>\n",
              "      <td>6</td>\n",
              "    </tr>\n",
              "    <tr>\n",
              "      <th>39</th>\n",
              "      <td>2016-05-01</td>\n",
              "      <td>104</td>\n",
              "      <td>16.0</td>\n",
              "      <td>6</td>\n",
              "    </tr>\n",
              "    <tr>\n",
              "      <th>108</th>\n",
              "      <td>2016-05-01</td>\n",
              "      <td>206</td>\n",
              "      <td>22.0</td>\n",
              "      <td>6</td>\n",
              "    </tr>\n",
              "    <tr>\n",
              "      <th>160</th>\n",
              "      <td>2016-05-01</td>\n",
              "      <td>305</td>\n",
              "      <td>25.0</td>\n",
              "      <td>6</td>\n",
              "    </tr>\n",
              "  </tbody>\n",
              "</table>\n",
              "</div>"
            ],
            "text/plain": [
              "          Date  Time  Speed  WeekDay\n",
              "0   2016-05-01     9   26.0        6\n",
              "7   2016-05-01    18   32.0        6\n",
              "39  2016-05-01   104   16.0        6\n",
              "108 2016-05-01   206   22.0        6\n",
              "160 2016-05-01   305   25.0        6"
            ]
          },
          "metadata": {
            "tags": []
          },
          "execution_count": 27
        }
      ]
    },
    {
      "cell_type": "code",
      "metadata": {
        "id": "kF9mjXWzKPX4",
        "colab_type": "code",
        "outputId": "5c8a4ac8-a2eb-47cd-97e6-6d26705ae7ed",
        "colab": {
          "base_uri": "https://localhost:8080/",
          "height": 0
        }
      },
      "source": [
        "data.describe()"
      ],
      "execution_count": 28,
      "outputs": [
        {
          "output_type": "execute_result",
          "data": {
            "text/html": [
              "<div>\n",
              "<style scoped>\n",
              "    .dataframe tbody tr th:only-of-type {\n",
              "        vertical-align: middle;\n",
              "    }\n",
              "\n",
              "    .dataframe tbody tr th {\n",
              "        vertical-align: top;\n",
              "    }\n",
              "\n",
              "    .dataframe thead th {\n",
              "        text-align: right;\n",
              "    }\n",
              "</style>\n",
              "<table border=\"1\" class=\"dataframe\">\n",
              "  <thead>\n",
              "    <tr style=\"text-align: right;\">\n",
              "      <th></th>\n",
              "      <th>Time</th>\n",
              "      <th>Speed</th>\n",
              "      <th>WeekDay</th>\n",
              "    </tr>\n",
              "  </thead>\n",
              "  <tbody>\n",
              "    <tr>\n",
              "      <th>count</th>\n",
              "      <td>536879.000000</td>\n",
              "      <td>536879.000000</td>\n",
              "      <td>536879.000000</td>\n",
              "    </tr>\n",
              "    <tr>\n",
              "      <th>mean</th>\n",
              "      <td>51715.214387</td>\n",
              "      <td>31.078891</td>\n",
              "      <td>2.951632</td>\n",
              "    </tr>\n",
              "    <tr>\n",
              "      <th>std</th>\n",
              "      <td>17952.214406</td>\n",
              "      <td>7.168803</td>\n",
              "      <td>1.959146</td>\n",
              "    </tr>\n",
              "    <tr>\n",
              "      <th>min</th>\n",
              "      <td>3.000000</td>\n",
              "      <td>2.000000</td>\n",
              "      <td>0.000000</td>\n",
              "    </tr>\n",
              "    <tr>\n",
              "      <th>25%</th>\n",
              "      <td>38412.500000</td>\n",
              "      <td>26.000000</td>\n",
              "      <td>1.000000</td>\n",
              "    </tr>\n",
              "    <tr>\n",
              "      <th>50%</th>\n",
              "      <td>52364.000000</td>\n",
              "      <td>31.000000</td>\n",
              "      <td>3.000000</td>\n",
              "    </tr>\n",
              "    <tr>\n",
              "      <th>75%</th>\n",
              "      <td>65757.000000</td>\n",
              "      <td>35.000000</td>\n",
              "      <td>5.000000</td>\n",
              "    </tr>\n",
              "    <tr>\n",
              "      <th>max</th>\n",
              "      <td>86399.000000</td>\n",
              "      <td>67.000000</td>\n",
              "      <td>6.000000</td>\n",
              "    </tr>\n",
              "  </tbody>\n",
              "</table>\n",
              "</div>"
            ],
            "text/plain": [
              "                Time          Speed        WeekDay\n",
              "count  536879.000000  536879.000000  536879.000000\n",
              "mean    51715.214387      31.078891       2.951632\n",
              "std     17952.214406       7.168803       1.959146\n",
              "min         3.000000       2.000000       0.000000\n",
              "25%     38412.500000      26.000000       1.000000\n",
              "50%     52364.000000      31.000000       3.000000\n",
              "75%     65757.000000      35.000000       5.000000\n",
              "max     86399.000000      67.000000       6.000000"
            ]
          },
          "metadata": {
            "tags": []
          },
          "execution_count": 28
        }
      ]
    },
    {
      "cell_type": "code",
      "metadata": {
        "id": "qUWNjjBFKhHJ",
        "colab_type": "code",
        "outputId": "093a7531-f4fd-40bb-d1ed-1ea991da4528",
        "colab": {
          "base_uri": "https://localhost:8080/",
          "height": 0
        }
      },
      "source": [
        "start = data['Date'].min()\n",
        "end = data['Date'].max()\n",
        "print(f\"This data is from <{start}> to <{end}>. That is {end - start} days.\\n\")\n",
        "\n",
        "print(f\"It contains {len(data['Date'])} entries\\n\")\n",
        "\n",
        "for col, cont in data.iteritems():\n",
        "    print(f\"Column {col} has {cont.isnull().sum()} null elements and {cont.isna().sum()} nan elements\")"
      ],
      "execution_count": 29,
      "outputs": [
        {
          "output_type": "stream",
          "text": [
            "This data is from <2016-05-01 00:00:00> to <2016-07-31 00:00:00>. That is 91 days 00:00:00 days.\n",
            "\n",
            "It contains 536879 entries\n",
            "\n",
            "Column Date has 0 null elements and 0 nan elements\n",
            "Column Time has 0 null elements and 0 nan elements\n",
            "Column Speed has 0 null elements and 0 nan elements\n",
            "Column WeekDay has 0 null elements and 0 nan elements\n"
          ],
          "name": "stdout"
        }
      ]
    },
    {
      "cell_type": "markdown",
      "metadata": {
        "id": "R14KefuiBycd",
        "colab_type": "text"
      },
      "source": [
        "## Flow Generation\n",
        "\n",
        "This will transform the time series of register cars that passed in a array of flow per k minute."
      ]
    },
    {
      "cell_type": "code",
      "metadata": {
        "id": "RmF8FxOBB2T0",
        "colab_type": "code",
        "colab": {}
      },
      "source": [
        "def get_flow_data(n, accSpeed, weekDay):\n",
        "  avgSpeed = accSpeed // n if n else 0\n",
        "  wd = [1 if weekDay == i else 0 for i in range(7)] # weekday\n",
        "  \n",
        "  return (n, avgSpeed, wd[0], wd[1], wd[2], wd[3], wd[4], wd[5], wd[6])"
      ],
      "execution_count": 0,
      "outputs": []
    },
    {
      "cell_type": "code",
      "metadata": {
        "id": "c-x0DKOmMnmz",
        "colab_type": "code",
        "colab": {}
      },
      "source": [
        "def get_flow (data):\n",
        "  date = np.asarray(data['Date'])\n",
        "  weekDay = np.asarray(data['WeekDay'])\n",
        "  time = np.asarray(data['Time'])\n",
        "  speed = np.asarray(data['Speed'])\n",
        "  \n",
        "  dateControl = date[0] #seta o controle de data com o primeiro dia do chunk\n",
        "  timeBlock = FLOW_INTERVAL\n",
        "  countFlow = 0\n",
        "  accSpeed = 0\n",
        "  flowData = []\n",
        "\n",
        "  for i in range(len(date)):\n",
        "    if time[i] >= timeBlock: # init a new time block\n",
        "      flowData.append(get_flow_data(countFlow, accSpeed, weekDay[i])) \n",
        "      timeBlock += FLOW_INTERVAL\n",
        "      accSpeed = 0\n",
        "      countFlow = 0\n",
        "      \n",
        "    if date[i] > dateControl: # reset on day change\n",
        "      dateControl = date[i]\n",
        "      timeBlock = FLOW_INTERVAL \n",
        "      countFlow = 0\n",
        "      accSpeed = 0\n",
        "      \n",
        "    if time[i] < timeBlock: # add car on flow\n",
        "      countFlow += 1\n",
        "      accSpeed += speed[i]\n",
        "      \n",
        "  flowDataColumns = ['Flow', 'AverageSpeed', 'Sunday', 'Monday', 'Tuesday', 'Wednesday', 'Thursday', 'Friday', 'Saturday']\n",
        "  flowData = pd.DataFrame(flowData, columns=flowDataColumns) \n",
        "  \n",
        "  return flowData"
      ],
      "execution_count": 0,
      "outputs": []
    },
    {
      "cell_type": "code",
      "metadata": {
        "id": "6s-x1G__MlUQ",
        "colab_type": "code",
        "colab": {}
      },
      "source": [
        "multivariateData = get_flow(data)\n",
        "univariateData = multivariateData['Flow']\n"
      ],
      "execution_count": 0,
      "outputs": []
    },
    {
      "cell_type": "code",
      "metadata": {
        "id": "nd5UlEa0ZjFY",
        "colab_type": "code",
        "colab": {}
      },
      "source": [
        "if NORMALIZE_FEATS:\n",
        "  lenth = len(univariateData)\n",
        "  univariateData = np.asarray(univariateData).reshape((-1, 1))\n",
        "  scaler = MinMaxScaler(feature_range=(0,1))\n",
        "  scaler = scaler.fit(univariateData)\n",
        "  normalizedData = scaler.transform(univariateData)\n",
        "  univariateData = np.asarray(normalizedData).reshape(lenth,)\n",
        "  univariateData = pd.DataFrame(univariateData)"
      ],
      "execution_count": 0,
      "outputs": []
    },
    {
      "cell_type": "code",
      "metadata": {
        "id": "XolQH37ZKXGz",
        "colab_type": "code",
        "outputId": "686906a9-72c9-4a58-d704-ed5737818efc",
        "colab": {
          "base_uri": "https://localhost:8080/",
          "height": 0
        }
      },
      "source": [
        "multivariateData.describe()"
      ],
      "execution_count": 34,
      "outputs": [
        {
          "output_type": "execute_result",
          "data": {
            "text/html": [
              "<div>\n",
              "<style scoped>\n",
              "    .dataframe tbody tr th:only-of-type {\n",
              "        vertical-align: middle;\n",
              "    }\n",
              "\n",
              "    .dataframe tbody tr th {\n",
              "        vertical-align: top;\n",
              "    }\n",
              "\n",
              "    .dataframe thead th {\n",
              "        text-align: right;\n",
              "    }\n",
              "</style>\n",
              "<table border=\"1\" class=\"dataframe\">\n",
              "  <thead>\n",
              "    <tr style=\"text-align: right;\">\n",
              "      <th></th>\n",
              "      <th>Flow</th>\n",
              "      <th>AverageSpeed</th>\n",
              "      <th>Sunday</th>\n",
              "      <th>Monday</th>\n",
              "      <th>Tuesday</th>\n",
              "      <th>Wednesday</th>\n",
              "      <th>Thursday</th>\n",
              "      <th>Friday</th>\n",
              "      <th>Saturday</th>\n",
              "    </tr>\n",
              "  </thead>\n",
              "  <tbody>\n",
              "    <tr>\n",
              "      <th>count</th>\n",
              "      <td>17572.000000</td>\n",
              "      <td>17572.000000</td>\n",
              "      <td>17572.000000</td>\n",
              "      <td>17572.000000</td>\n",
              "      <td>17572.000000</td>\n",
              "      <td>17572.000000</td>\n",
              "      <td>17572.000000</td>\n",
              "      <td>17572.000000</td>\n",
              "      <td>17572.000000</td>\n",
              "    </tr>\n",
              "    <tr>\n",
              "      <th>mean</th>\n",
              "      <td>30.440758</td>\n",
              "      <td>27.849192</td>\n",
              "      <td>0.141304</td>\n",
              "      <td>0.141304</td>\n",
              "      <td>0.141304</td>\n",
              "      <td>0.141304</td>\n",
              "      <td>0.141304</td>\n",
              "      <td>0.141304</td>\n",
              "      <td>0.152174</td>\n",
              "    </tr>\n",
              "    <tr>\n",
              "      <th>std</th>\n",
              "      <td>20.564449</td>\n",
              "      <td>7.772322</td>\n",
              "      <td>0.348345</td>\n",
              "      <td>0.348345</td>\n",
              "      <td>0.348345</td>\n",
              "      <td>0.348345</td>\n",
              "      <td>0.348345</td>\n",
              "      <td>0.348345</td>\n",
              "      <td>0.359200</td>\n",
              "    </tr>\n",
              "    <tr>\n",
              "      <th>min</th>\n",
              "      <td>0.000000</td>\n",
              "      <td>0.000000</td>\n",
              "      <td>0.000000</td>\n",
              "      <td>0.000000</td>\n",
              "      <td>0.000000</td>\n",
              "      <td>0.000000</td>\n",
              "      <td>0.000000</td>\n",
              "      <td>0.000000</td>\n",
              "      <td>0.000000</td>\n",
              "    </tr>\n",
              "    <tr>\n",
              "      <th>25%</th>\n",
              "      <td>10.000000</td>\n",
              "      <td>28.000000</td>\n",
              "      <td>0.000000</td>\n",
              "      <td>0.000000</td>\n",
              "      <td>0.000000</td>\n",
              "      <td>0.000000</td>\n",
              "      <td>0.000000</td>\n",
              "      <td>0.000000</td>\n",
              "      <td>0.000000</td>\n",
              "    </tr>\n",
              "    <tr>\n",
              "      <th>50%</th>\n",
              "      <td>32.000000</td>\n",
              "      <td>30.000000</td>\n",
              "      <td>0.000000</td>\n",
              "      <td>0.000000</td>\n",
              "      <td>0.000000</td>\n",
              "      <td>0.000000</td>\n",
              "      <td>0.000000</td>\n",
              "      <td>0.000000</td>\n",
              "      <td>0.000000</td>\n",
              "    </tr>\n",
              "    <tr>\n",
              "      <th>75%</th>\n",
              "      <td>46.000000</td>\n",
              "      <td>32.000000</td>\n",
              "      <td>0.000000</td>\n",
              "      <td>0.000000</td>\n",
              "      <td>0.000000</td>\n",
              "      <td>0.000000</td>\n",
              "      <td>0.000000</td>\n",
              "      <td>0.000000</td>\n",
              "      <td>0.000000</td>\n",
              "    </tr>\n",
              "    <tr>\n",
              "      <th>max</th>\n",
              "      <td>94.000000</td>\n",
              "      <td>57.000000</td>\n",
              "      <td>1.000000</td>\n",
              "      <td>1.000000</td>\n",
              "      <td>1.000000</td>\n",
              "      <td>1.000000</td>\n",
              "      <td>1.000000</td>\n",
              "      <td>1.000000</td>\n",
              "      <td>1.000000</td>\n",
              "    </tr>\n",
              "  </tbody>\n",
              "</table>\n",
              "</div>"
            ],
            "text/plain": [
              "               Flow  AverageSpeed  ...        Friday      Saturday\n",
              "count  17572.000000  17572.000000  ...  17572.000000  17572.000000\n",
              "mean      30.440758     27.849192  ...      0.141304      0.152174\n",
              "std       20.564449      7.772322  ...      0.348345      0.359200\n",
              "min        0.000000      0.000000  ...      0.000000      0.000000\n",
              "25%       10.000000     28.000000  ...      0.000000      0.000000\n",
              "50%       32.000000     30.000000  ...      0.000000      0.000000\n",
              "75%       46.000000     32.000000  ...      0.000000      0.000000\n",
              "max       94.000000     57.000000  ...      1.000000      1.000000\n",
              "\n",
              "[8 rows x 9 columns]"
            ]
          },
          "metadata": {
            "tags": []
          },
          "execution_count": 34
        }
      ]
    },
    {
      "cell_type": "code",
      "metadata": {
        "id": "WExHYIBBKUtt",
        "colab_type": "code",
        "outputId": "8ceddd25-883f-41ba-9df4-d77a62a93bb9",
        "colab": {
          "base_uri": "https://localhost:8080/",
          "height": 0
        }
      },
      "source": [
        "univariateData.describe()"
      ],
      "execution_count": 35,
      "outputs": [
        {
          "output_type": "execute_result",
          "data": {
            "text/plain": [
              "count    17572.000000\n",
              "mean        30.440758\n",
              "std         20.564449\n",
              "min          0.000000\n",
              "25%         10.000000\n",
              "50%         32.000000\n",
              "75%         46.000000\n",
              "max         94.000000\n",
              "Name: Flow, dtype: float64"
            ]
          },
          "metadata": {
            "tags": []
          },
          "execution_count": 35
        }
      ]
    },
    {
      "cell_type": "markdown",
      "metadata": {
        "id": "k2GB0HWqc4F5",
        "colab_type": "text"
      },
      "source": [
        "## Flow Analysis\n",
        "\n",
        "This is based on [A Guide to Time Series Visualization with Python 3](https://www.digitalocean.com/community/tutorials/a-guide-to-time-series-visualization-with-python-3).\n",
        "\n"
      ]
    },
    {
      "cell_type": "code",
      "metadata": {
        "id": "8D5jfFyKc6Mn",
        "colab_type": "code",
        "outputId": "38bf3769-f081-4908-e446-425cc365c482",
        "colab": {
          "base_uri": "https://localhost:8080/",
          "height": 0
        }
      },
      "source": [
        "decomposition = sm.tsa.seasonal.seasonal_decompose(univariateData, model='additive', freq=WEEK_SIZE)\n",
        "fig = decomposition.plot()\n",
        "\n",
        "plt.rcdefaults()\n",
        "plt.plot()"
      ],
      "execution_count": 36,
      "outputs": [
        {
          "output_type": "execute_result",
          "data": {
            "text/plain": [
              "[]"
            ]
          },
          "metadata": {
            "tags": []
          },
          "execution_count": 36
        },
        {
          "output_type": "display_data",
          "data": {
            "image/png": "[encoded data removed]",
            "text/plain": [
              "<Figure size 432x288 with 4 Axes>"
            ]
          },
          "metadata": {
            "tags": []
          }
        }
      ]
    },
    {
      "cell_type": "markdown",
      "metadata": {
        "id": "nFv86fqFDDor",
        "colab_type": "text"
      },
      "source": [
        "## I/O Generation\n",
        "\n",
        "This phase will form the input (X) and the output (Y)"
      ]
    },
    {
      "cell_type": "code",
      "metadata": {
        "id": "-UhLdQivK1Bb",
        "colab_type": "code",
        "outputId": "1db3e173-eb99-4748-db1d-0d36bca2d36d",
        "colab": {
          "base_uri": "https://localhost:8080/",
          "height": 0
        }
      },
      "source": [
        "X_uni, Y_uni= reshape_flow(univariateData, False)"
      ],
      "execution_count": 37,
      "outputs": [
        {
          "output_type": "stream",
          "text": [
            "(17546, 24)\n"
          ],
          "name": "stdout"
        }
      ]
    },
    {
      "cell_type": "code",
      "metadata": {
        "id": "QrSyndY7KNMK",
        "colab_type": "code",
        "colab": {}
      },
      "source": [
        "if VERBOSITY:\n",
        "  print(f\"X Univariate Shape: {X_uni.shape}\")\n",
        "  print(f\"Y Univariate Shape: {Y_uni.shape}\")"
      ],
      "execution_count": 0,
      "outputs": []
    },
    {
      "cell_type": "code",
      "metadata": {
        "id": "SrvzQXFgW6L2",
        "colab_type": "code",
        "outputId": "b6289c38-85f7-4f3a-a6aa-d9eae775d5b0",
        "colab": {
          "base_uri": "https://localhost:8080/",
          "height": 0
        }
      },
      "source": [
        "X_multi, Y_multi= reshape_flow(multivariateData, True)"
      ],
      "execution_count": 39,
      "outputs": [
        {
          "output_type": "stream",
          "text": [
            "(17546, 24, 9)\n"
          ],
          "name": "stdout"
        }
      ]
    },
    {
      "cell_type": "code",
      "metadata": {
        "colab_type": "code",
        "id": "-ITTBOj1W_WH",
        "colab": {}
      },
      "source": [
        "if VERBOSITY:\n",
        "  print(f\"X Multivariate Shape: {X_multi.shape}\")\n",
        "  print(f\"Y Multivariate Shape: {Y_multi.shape}\")"
      ],
      "execution_count": 0,
      "outputs": []
    },
    {
      "cell_type": "markdown",
      "metadata": {
        "id": "5atl1RAeso-d",
        "colab_type": "text"
      },
      "source": [
        "# Random (Baseline)\n",
        "\n",
        "This implementation just guess a random number in the [0, 100] interval for every output."
      ]
    },
    {
      "cell_type": "code",
      "metadata": {
        "id": "Y3Bq_mfg3m8D",
        "colab_type": "code",
        "colab": {}
      },
      "source": [
        "import random as rnd # random"
      ],
      "execution_count": 0,
      "outputs": []
    },
    {
      "cell_type": "code",
      "metadata": {
        "id": "H4uy_XVyswCC",
        "colab_type": "code",
        "colab": {}
      },
      "source": [
        "def random_guess_univariate (Y):\n",
        "  m = max(Y)\n",
        "  \n",
        "  expected, observed, times = [], [], []\n",
        "  pointers = split_dataset(len(Y))\n",
        "  \n",
        "  for i, j, k in pointers:\n",
        "    start = tm.time()\n",
        "    \n",
        "    Y_hat = [rnd.randint(0, m) for i in range(k - j)]\n",
        "    \n",
        "    expected.append(Y[j:k])\n",
        "    observed.append(Y_hat)\n",
        "    times.append(tm.time() - start)\n",
        "    \n",
        "  evaluate(expected, observed, times, \"Random Guess\")"
      ],
      "execution_count": 0,
      "outputs": []
    },
    {
      "cell_type": "code",
      "metadata": {
        "id": "q6uiP9GHLSab",
        "colab_type": "code",
        "colab": {}
      },
      "source": [
        "random_guess_univariate(Y_uni)"
      ],
      "execution_count": 0,
      "outputs": []
    },
    {
      "cell_type": "markdown",
      "metadata": {
        "id": "j2hH4Og160vf",
        "colab_type": "text"
      },
      "source": [
        "# Moving Average (Baseline)\n",
        "\n",
        "This implementation just get the mean of every flow value in the input and place it as output."
      ]
    },
    {
      "cell_type": "code",
      "metadata": {
        "id": "7tffuEQJ63Sv",
        "colab_type": "code",
        "colab": {}
      },
      "source": [
        "def moving_average (X, Y):\n",
        "  expected, observed, times = [], [], []\n",
        "  pointers = split_dataset(len(X))\n",
        "  \n",
        "  X = X.reshape(X.shape[0], X.shape[1])\n",
        "  \n",
        "  for i, j, k in pointers:\n",
        "    start = tm.time()\n",
        "    \n",
        "    Y_hat = [np.mean(x) for x in X[j:k]]\n",
        "    \n",
        "    expected.append(Y[j:k])\n",
        "    observed.append(Y_hat)\n",
        "    times.append(tm.time() - start)\n",
        "    \n",
        "  evaluate(expected, observed, times, \"Moving Average\")"
      ],
      "execution_count": 0,
      "outputs": []
    },
    {
      "cell_type": "code",
      "metadata": {
        "id": "ZmgiKJdGLV9_",
        "colab_type": "code",
        "colab": {
          "base_uri": "https://localhost:8080/",
          "height": 89
        },
        "outputId": "3dec5785-5c1d-41ff-87bf-a8f808c60e14"
      },
      "source": [
        "moving_average(X_uni, Y_uni)"
      ],
      "execution_count": 76,
      "outputs": [
        {
          "output_type": "stream",
          "text": [
            "[4.666666666666667, 4.791666666666667, 4.666666666666667, 4.75, 4.791666666666667, 5.125, 5.416666666666667, 6.0, 6.583333333333333, 7.416666666666667, 8.083333333333334, 8.708333333333334, 9.0, 10.0, 10.583333333333334, 11.875, 12.916666666666666, 14.833333333333334, 16.25, 17.583333333333332, 18.291666666666668, 20.0, 20.791666666666668, 22.0, 23.291666666666668, 24.708333333333332, 25.541666666666668, 27.458333333333332, 28.791666666666668, 30.625, 31.583333333333332, 33.25, 33.916666666666664, 35.5, 36.375, 38.291666666666664, 39.208333333333336, 41.041666666666664, 41.625, 42.583333333333336, 42.916666666666664, 43.458333333333336, 43.541666666666664, 44.333333333333336, 45.25, 45.625, 46.125, 46.458333333333336, 46.25, 46.291666666666664, 46.541666666666664, 45.875, 45.708333333333336, 44.75, 44.833333333333336, 44.541666666666664, 44.875, 45.5, 45.75, 45.791666666666664, 46.125, 45.458333333333336, 45.416666666666664, 45.583333333333336, 45.458333333333336, 45.5, 45.708333333333336, 45.708333333333336, 45.708333333333336, 45.625, 45.958333333333336, 46.125, 46.333333333333336, 47.083333333333336, 47.125, 47.75, 47.541666666666664, 49.125, 49.0, 49.833333333333336, 49.958333333333336, 48.958333333333336, 48.958333333333336, 48.916666666666664, 49.166666666666664, 49.541666666666664, 50.125, 49.75, 49.708333333333336, 49.0, 48.875, 47.833333333333336, 47.875, 48.291666666666664, 48.166666666666664, 48.75, 49.416666666666664, 48.791666666666664, 49.291666666666664, 50.0, 50.333333333333336, 49.041666666666664, 49.5, 48.791666666666664, 48.541666666666664, 48.541666666666664, 48.375, 48.0, 47.291666666666664, 47.083333333333336, 46.541666666666664, 46.416666666666664, 46.625, 46.458333333333336, 46.0, 46.666666666666664, 45.833333333333336, 45.416666666666664, 44.666666666666664, 43.25, 42.541666666666664, 42.666666666666664, 42.666666666666664, 40.541666666666664, 40.0, 39.416666666666664, 38.666666666666664, 37.458333333333336, 37.0, 36.041666666666664, 35.166666666666664, 33.833333333333336, 33.375, 31.791666666666668, 31.291666666666668, 30.375, 30.166666666666668, 29.291666666666668, 28.958333333333332, 27.666666666666668, 27.583333333333332, 26.25, 26.208333333333332, 25.75, 24.875, 23.333333333333332, 22.166666666666668, 21.875, 21.583333333333332, 21.0, 20.541666666666668, 20.083333333333332, 19.458333333333332, 18.625, 18.375, 17.833333333333332, 17.416666666666668, 16.916666666666668, 16.458333333333332, 15.458333333333334, 14.541666666666666, 13.791666666666666, 12.916666666666666, 12.208333333333334, 11.708333333333334, 10.916666666666666, 10.083333333333334, 9.416666666666666, 8.875, 8.375, 7.666666666666667, 7.125, 6.291666666666667, 5.708333333333333, 5.083333333333333, 4.5, 4.0, 3.6666666666666665, 3.0416666666666665, 2.625, 2.2083333333333335, 1.9166666666666667, 1.5416666666666667, 1.3333333333333333, 0.875, 0.75, 0.6666666666666666, 0.625, 0.25, 0.16666666666666666, 0.125, 0.0, 0.041666666666666664, 0.3333333333333333, 0.75, 0.9583333333333334, 1.375, 1.7083333333333333, 2.25, 2.7083333333333335, 3.3333333333333335, 3.6666666666666665, 4.333333333333333, 4.833333333333333, 5.416666666666667, 5.916666666666667, 6.541666666666667, 6.916666666666667, 7.666666666666667, 8.166666666666666, 9.666666666666666, 10.333333333333334, 11.333333333333334, 12.25, 13.166666666666666, 14.041666666666666, 16.0, 16.625, 17.875, 18.791666666666668, 19.5, 20.208333333333332, 21.083333333333332, 21.708333333333332, 22.75, 23.416666666666668, 24.583333333333332, 25.291666666666668, 26.333333333333332, 27.25, 28.5, 29.5, 30.666666666666668, 31.708333333333332, 32.666666666666664, 33.458333333333336, 34.875, 35.5, 36.583333333333336, 37.208333333333336, 37.083333333333336, 37.5, 38.25, 38.5, 39.708333333333336, 39.708333333333336, 40.333333333333336, 40.541666666666664, 40.166666666666664, 40.5, 40.541666666666664, 40.291666666666664, 40.333333333333336, 40.208333333333336, 39.625, 39.833333333333336, 39.541666666666664, 39.375, 38.375, 37.875, 36.666666666666664, 35.833333333333336, 35.208333333333336, 35.041666666666664, 34.416666666666664, 34.541666666666664, 34.291666666666664, 33.416666666666664, 32.75, 32.541666666666664, 32.125, 32.458333333333336, 33.5, 33.041666666666664, 33.083333333333336, 33.0, 33.083333333333336, 32.75, 33.125, 32.291666666666664, 32.208333333333336, 31.833333333333332, 31.75, 31.583333333333332, 31.791666666666668, 32.041666666666664, 32.208333333333336, 31.958333333333332, 32.583333333333336, 32.333333333333336, 32.0, 32.75, 32.875, 33.25, 33.708333333333336, 33.25, 32.625, 32.916666666666664, 32.958333333333336, 33.375, 33.916666666666664, 34.25, 34.625, 35.333333333333336, 35.208333333333336, 35.166666666666664, 34.958333333333336, 35.083333333333336, 35.041666666666664, 35.0, 34.75, 34.75, 34.791666666666664, 34.708333333333336, 33.708333333333336, 33.583333333333336, 32.583333333333336, 32.416666666666664, 31.708333333333332, 31.708333333333332, 32.0, 31.833333333333332, 31.0, 30.958333333333332, 29.5, 28.833333333333332, 27.541666666666668, 26.666666666666668, 25.875, 25.5, 24.958333333333332, 24.375, 23.5, 23.333333333333332, 22.5, 21.708333333333332, 19.833333333333332, 19.083333333333332, 18.541666666666668, 17.75, 17.208333333333332, 16.375, 15.125, 14.208333333333334, 12.375, 11.541666666666666, 10.458333333333334, 9.291666666666666, 8.583333333333334, 8.041666666666666, 7.333333333333333, 6.791666666666667, 6.208333333333333, 5.708333333333333, 5.208333333333333, 4.958333333333333, 4.541666666666667, 3.8333333333333335, 3.4583333333333335, 3.3333333333333335, 3.4583333333333335, 3.1666666666666665, 2.9166666666666665, 2.625, 2.4583333333333335, 2.2916666666666665, 2.1666666666666665, 1.9166666666666667, 1.75, 1.5833333333333333, 1.5416666666666667, 1.4583333333333333, 1.3333333333333333, 1.3333333333333333, 1.2916666666666667, 1.4166666666666667, 1.375, 1.2916666666666667, 1.25, 1.25, 1.25, 1.5, 1.9166666666666667, 1.9583333333333333, 2.3333333333333335, 2.625, 3.2083333333333335, 3.6666666666666665, 4.041666666666667, 5.291666666666667, 6.375, 8.083333333333334, 9.5, 10.791666666666666, 13.125, 15.333333333333334, 17.041666666666668, 18.541666666666668, 20.375, 22.208333333333332, 24.0, 24.75, 26.791666666666668, 28.875, 30.208333333333332, 31.458333333333332, 32.541666666666664, 34.041666666666664, 34.875, 36.583333333333336, 37.125, 38.333333333333336, 39.375, 40.166666666666664, 40.5, 40.625, 40.583333333333336, 41.625, 40.75, 40.25, 40.291666666666664, 40.833333333333336, 40.791666666666664, 40.875, 40.666666666666664, 42.75, 42.5, 42.583333333333336, 42.833333333333336, 43.75, 43.75, 44.708333333333336, 45.0, 45.625, 46.333333333333336, 47.208333333333336, 47.583333333333336, 47.833333333333336, 48.166666666666664, 48.5, 48.75, 49.041666666666664, 49.125, 50.166666666666664, 49.916666666666664, 50.291666666666664, 49.833333333333336, 50.166666666666664, 49.958333333333336, 49.375, 49.291666666666664, 49.791666666666664, 49.333333333333336, 49.5, 49.458333333333336, 48.916666666666664, 49.0, 48.958333333333336, 49.0, 48.625, 48.5, 49.041666666666664, 48.958333333333336, 49.583333333333336, 49.75, 50.291666666666664, 50.833333333333336, 51.041666666666664, 51.458333333333336, 51.208333333333336, 52.458333333333336, 52.416666666666664, 53.75, 53.083333333333336, 53.25, 53.75, 54.666666666666664, 55.083333333333336, 55.916666666666664, 55.666666666666664, 56.416666666666664, 56.416666666666664, 57.458333333333336, 57.666666666666664, 58.166666666666664, 57.041666666666664, 58.0, 56.5, 56.666666666666664, 56.25, 55.958333333333336, 56.041666666666664, 56.25, 56.625, 55.416666666666664, 54.75, 53.708333333333336, 53.625, 53.791666666666664, 51.625, 51.0, 48.75, 47.583333333333336, 46.958333333333336, 45.541666666666664, 44.0, 42.291666666666664, 41.125, 39.833333333333336, 38.875, 37.041666666666664, 37.0, 36.125, 34.833333333333336, 34.083333333333336, 32.583333333333336, 31.458333333333332, 30.083333333333332, 29.458333333333332, 28.458333333333332, 27.291666666666668, 26.458333333333332, 24.416666666666668, 23.916666666666668, 22.708333333333332, 22.291666666666668, 21.291666666666668, 20.083333333333332, 19.25, 18.208333333333332, 17.291666666666668, 16.125, 15.291666666666666, 14.708333333333334, 14.041666666666666, 12.958333333333334, 11.916666666666666, 10.5, 9.541666666666666, 8.041666666666666, 7.125, 6.041666666666667, 5.291666666666667, 4.666666666666667, 4.208333333333333, 3.5833333333333335, 3.5416666666666665, 3.0, 2.75, 2.4583333333333335, 2.25, 2.2083333333333335, 1.9583333333333333, 1.875, 1.5833333333333333, 1.5416666666666667, 1.4583333333333333, 1.25, 1.2083333333333333, 1.0416666666666667, 1.0416666666666667, 1.1666666666666667, 1.125, 1.25, 1.25, 1.25, 1.3333333333333333, 1.3333333333333333, 1.375, 1.4166666666666667, 1.5416666666666667, 1.625, 1.875, 2.4166666666666665, 2.7083333333333335, 3.1666666666666665, 3.5833333333333335, 3.7916666666666665, 4.333333333333333, 4.708333333333333, 5.833333333333333, 6.875, 7.791666666666667, 9.041666666666666, 10.166666666666666, 11.541666666666666, 12.5, 13.666666666666666, 14.5, 15.416666666666666, 16.791666666666668, 18.291666666666668, 19.666666666666668, 20.666666666666668, 21.208333333333332, 21.958333333333332, 23.0, 23.791666666666668, 24.416666666666668, 25.208333333333332, 26.416666666666668, 27.708333333333332, 28.375, 29.75, 29.791666666666668, 29.958333333333332, 31.25, 31.125, 32.125, 32.25, 33.416666666666664, 33.125, 34.125, 34.5, 34.958333333333336, 34.666666666666664, 35.291666666666664, 35.708333333333336, 37.666666666666664, 38.5, 39.583333333333336, 39.916666666666664, 41.5, 42.416666666666664, 43.541666666666664, 42.625, 43.708333333333336, 43.541666666666664, 44.958333333333336, 45.458333333333336, 45.541666666666664, 46.125, 46.291666666666664, 46.083333333333336, 46.291666666666664, 46.916666666666664, 46.958333333333336, 47.25, 47.791666666666664, 48.208333333333336, 48.208333333333336, 48.166666666666664, 47.416666666666664, 47.583333333333336, 47.75, 47.666666666666664, 47.625, 46.875, 46.375, 47.0, 47.458333333333336, 47.791666666666664, 47.333333333333336, 47.0, 47.125, 47.25, 47.708333333333336, 47.875, 48.291666666666664, 48.583333333333336, 48.791666666666664, 49.125, 48.75, 49.166666666666664, 49.666666666666664, 50.541666666666664, 51.708333333333336, 52.083333333333336, 52.5, 51.5, 49.041666666666664, 49.791666666666664, 50.125, 52.416666666666664, 51.75, 52.25, 51.75, 53.333333333333336, 52.666666666666664, 52.666666666666664, 52.041666666666664, 52.416666666666664, 52.0, 51.708333333333336, 51.166666666666664, 50.5, 50.208333333333336, 49.541666666666664, 48.25, 47.0, 45.125, 44.375, 42.416666666666664, 43.166666666666664, 44.291666666666664, 43.041666666666664, 41.958333333333336, 39.625, 38.625, 37.125, 36.291666666666664, 34.708333333333336, 34.0, 33.041666666666664, 32.166666666666664, 30.958333333333332, 29.833333333333332, 29.125, 28.708333333333332, 28.208333333333332, 27.25, 26.166666666666668, 25.375, 24.75, 24.166666666666668, 23.291666666666668, 22.833333333333332, 21.666666666666668, 20.708333333333332, 20.083333333333332, 18.791666666666668, 17.958333333333332, 17.166666666666668, 16.291666666666668, 15.5, 14.291666666666666, 13.291666666666666, 12.458333333333334, 11.25, 10.541666666666666, 9.458333333333334, 8.666666666666666, 7.458333333333333, 6.541666666666667, 5.75, 5.375, 4.916666666666667, 4.541666666666667, 3.9583333333333335, 3.375, 2.8333333333333335, 2.625, 2.4583333333333335, 2.1666666666666665, 1.9583333333333333, 1.625, 1.2916666666666667, 1.2083333333333333, 1.1666666666666667, 1.0, 0.875, 0.8333333333333334, 0.75, 0.6666666666666666, 0.5, 0.3333333333333333, 0.375, 0.5, 0.5, 0.5833333333333334, 0.6666666666666666, 0.625, 0.7083333333333334, 1.0, 1.5416666666666667, 1.8333333333333333, 2.2916666666666665, 2.5833333333333335, 3.4583333333333335, 4.083333333333333, 4.833333333333333, 5.916666666666667, 6.875, 7.958333333333333, 9.458333333333334, 11.166666666666666, 12.875, 14.333333333333334, 15.5, 17.166666666666668, 20.0, 21.916666666666668, 23.166666666666668, 24.833333333333332, 26.458333333333332, 27.458333333333332, 28.75, 30.041666666666668, 31.541666666666668, 33.041666666666664, 33.875, 35.458333333333336, 36.0, 37.875, 38.75, 39.583333333333336, 40.041666666666664, 41.25, 41.458333333333336, 41.708333333333336, 41.541666666666664, 42.666666666666664, 42.791666666666664, 43.666666666666664, 42.333333333333336, 42.708333333333336, 43.125, 43.5, 42.916666666666664, 44.0, 44.5, 45.791666666666664, 45.208333333333336, 46.333333333333336, 46.75, 47.666666666666664, 47.583333333333336, 47.791666666666664, 47.708333333333336, 48.416666666666664, 48.916666666666664, 48.833333333333336, 48.75, 48.875, 48.75, 48.833333333333336, 49.083333333333336, 48.708333333333336, 48.833333333333336, 48.791666666666664, 48.708333333333336, 49.333333333333336, 49.958333333333336, 50.125, 49.666666666666664, 49.375, 49.791666666666664, 49.125, 49.291666666666664, 49.166666666666664, 49.583333333333336, 49.333333333333336, 49.541666666666664, 48.916666666666664, 48.916666666666664, 49.333333333333336, 50.041666666666664, 49.75, 51.583333333333336, 51.5, 52.208333333333336, 52.083333333333336, 53.25, 53.75, 54.125, 53.416666666666664, 54.166666666666664, 54.083333333333336, 54.666666666666664, 54.458333333333336, 55.125, 55.541666666666664, 55.958333333333336, 56.041666666666664, 57.041666666666664, 57.208333333333336, 57.666666666666664, 57.75, 57.875, 57.583333333333336, 57.083333333333336, 57.083333333333336, 56.833333333333336, 56.208333333333336, 56.0, 55.583333333333336, 54.666666666666664, 53.375, 52.625, 51.958333333333336, 51.0, 50.166666666666664, 49.291666666666664, 48.0, 47.083333333333336, 45.25, 43.666666666666664, 41.625, 40.291666666666664, 38.291666666666664, 36.875, 35.833333333333336, 35.25, 33.833333333333336, 32.916666666666664, 32.291666666666664, 30.333333333333332, 29.375, 28.291666666666668, 27.416666666666668, 25.916666666666668, 25.25, 24.75, 24.125, 22.916666666666668, 21.916666666666668, 21.166666666666668, 20.416666666666668, 19.125, 18.333333333333332, 18.041666666666668, 17.625, 16.416666666666668, 16.0, 15.375, 14.708333333333334, 13.333333333333334, 12.666666666666666, 11.875, 10.791666666666666, 9.958333333333334, 9.125, 8.25, 7.583333333333333, 7.25, 6.416666666666667, 5.666666666666667, 4.958333333333333, 4.666666666666667, 4.333333333333333, 4.0, 3.6666666666666665, 3.2916666666666665, 3.2083333333333335, 2.7916666666666665, 2.5, 2.2916666666666665, 2.0833333333333335, 1.9166666666666667, 1.5416666666666667, 1.4583333333333333, 1.2083333333333333, 1.0833333333333333, 1.0, 0.7916666666666666, 0.75, 0.6666666666666666, 0.5833333333333334, 0.625, 0.5833333333333334, 0.7083333333333334, 0.875, 0.9583333333333334, 1.125, 1.375, 1.875, 2.25, 2.6666666666666665, 3.3333333333333335, 4.041666666666667, 4.625, 5.291666666666667, 5.625, 7.208333333333333, 8.333333333333334, 9.875, 11.375, 13.416666666666666, 15.041666666666666, 16.666666666666668, 18.875, 21.541666666666668, 23.041666666666668, 24.75, 26.375, 28.083333333333332, 29.708333333333332, 30.875, 32.125, 33.708333333333336, 34.958333333333336, 36.291666666666664, 37.083333333333336, 38.375, 39.125, 40.291666666666664, 41.75, 42.375, 42.916666666666664, 42.833333333333336, 43.083333333333336, 43.5, 43.583333333333336, 43.291666666666664, 42.583333333333336, 42.041666666666664, 42.666666666666664, 42.916666666666664, 43.041666666666664, 43.166666666666664, 43.375, 43.791666666666664, 43.791666666666664, 44.0, 44.5, 44.458333333333336, 45.0, 45.375, 46.5, 46.625, 46.708333333333336, 46.75, 46.916666666666664, 47.416666666666664, 47.5, 47.875, 47.625, 47.708333333333336, 47.916666666666664, 48.166666666666664, 47.958333333333336, 47.75, 47.291666666666664, 47.666666666666664, 47.5, 47.416666666666664, 47.666666666666664, 47.625, 47.583333333333336, 47.75, 47.458333333333336, 47.875, 47.166666666666664, 46.833333333333336, 46.541666666666664, 47.0, 47.375, 47.208333333333336, 47.5, 47.625, 48.166666666666664, 48.708333333333336, 48.958333333333336, 49.833333333333336, 50.166666666666664, 50.166666666666664, 50.791666666666664, 50.958333333333336, 51.75, 52.0, 52.375, 52.75, 52.958333333333336, 53.458333333333336, 54.041666666666664, 54.125, 54.833333333333336, 55.791666666666664, 56.125, 55.333333333333336, 55.375, 56.041666666666664, 55.916666666666664, 55.416666666666664, 55.25, 54.916666666666664, 54.666666666666664, 53.916666666666664, 53.25, 52.75, 52.25, 51.833333333333336, 50.5, 50.0, 49.125, 48.25, 47.291666666666664, 45.833333333333336, 44.458333333333336, 43.666666666666664, 42.083333333333336, 40.625, 39.708333333333336, 39.666666666666664, 38.375, 37.5, 36.625, 35.291666666666664, 34.791666666666664, 33.875, 33.041666666666664, 31.083333333333332, 30.5, 30.125, 29.416666666666668, 27.791666666666668, 27.083333333333332, 26.0, 25.125, 23.875, 22.875, 22.291666666666668, 21.666666666666668, 19.875, 19.208333333333332, 18.208333333333332, 17.333333333333332, 15.791666666666666, 15.041666666666666, 13.541666666666666, 12.541666666666666, 11.625, 10.458333333333334, 9.833333333333334, 9.041666666666666, 8.666666666666666, 7.666666666666667, 6.958333333333333, 6.208333333333333, 5.75, 5.25, 4.958333333333333, 4.541666666666667, 4.125, 3.9583333333333335, 3.6666666666666665, 3.4583333333333335, 3.25, 3.125, 3.0, 3.0, 2.75, 2.5416666666666665, 2.5416666666666665, 2.4583333333333335, 2.2916666666666665, 2.2916666666666665, 2.125, 2.25, 2.25, 2.2916666666666665, 2.2083333333333335, 2.25, 2.3333333333333335, 2.3333333333333335, 2.5416666666666665, 2.9166666666666665, 2.9583333333333335, 3.2083333333333335, 3.5416666666666665, 4.25, 5.041666666666667, 5.583333333333333, 6.625, 7.791666666666667, 9.458333333333334, 11.041666666666666, 12.625, 14.208333333333334, 15.75, 17.291666666666668, 18.333333333333332, 19.916666666666668, 22.458333333333332, 23.208333333333332, 25.541666666666668, 28.083333333333332, 29.625, 31.041666666666668, 31.875, 34.0, 35.916666666666664, 36.958333333333336, 38.25, 39.416666666666664, 40.5, 41.291666666666664, 41.875, 42.875, 42.958333333333336, 43.291666666666664, 43.5, 44.375, 44.458333333333336, 44.5, 45.25, 46.083333333333336, 45.666666666666664, 46.458333333333336, 45.666666666666664, 45.541666666666664, 45.625, 45.875, 46.833333333333336, 46.416666666666664, 46.291666666666664, 46.875, 47.458333333333336, 48.583333333333336, 48.708333333333336, 48.75, 49.083333333333336, 49.25, 49.375, 49.5, 49.708333333333336, 49.833333333333336, 50.041666666666664, 49.875, 50.0, 49.875, 50.041666666666664, 50.25, 50.458333333333336, 50.291666666666664, 50.0, 50.375, 50.375, 50.875, 51.041666666666664, 51.125, 50.625, 50.333333333333336, 50.541666666666664, 51.0, 51.208333333333336, 51.333333333333336, 51.625, 51.541666666666664, 51.625, 52.083333333333336, 52.375, 52.958333333333336, 53.083333333333336, 54.083333333333336, 54.125, 54.583333333333336, 54.541666666666664, 54.458333333333336, 55.5, 56.083333333333336, 56.208333333333336, 55.625, 55.833333333333336, 56.208333333333336, 57.375, 57.458333333333336, 57.583333333333336, 58.208333333333336, 58.416666666666664, 58.208333333333336, 58.125, 58.625, 58.375, 58.208333333333336, 58.083333333333336, 57.666666666666664, 57.375, 56.583333333333336, 55.791666666666664, 55.083333333333336, 54.833333333333336, 54.75, 53.75, 52.25, 51.25, 51.375, 50.125, 48.958333333333336, 46.916666666666664, 45.75, 44.833333333333336, 43.125, 42.208333333333336, 41.791666666666664, 40.75, 39.208333333333336, 38.791666666666664, 36.875, 36.083333333333336, 35.125, 34.916666666666664, 33.166666666666664, 32.833333333333336, 32.208333333333336, 31.375, 30.083333333333332, 29.458333333333332, 29.083333333333332, 28.583333333333332, 26.916666666666668, 26.375, 26.0, 25.666666666666668, 24.5, 23.625, 23.25, 22.375, 20.791666666666668, 19.791666666666668, 19.041666666666668, 17.791666666666668, 17.041666666666668, 16.166666666666668, 15.875, 14.666666666666666, 13.958333333333334, 12.875, 12.166666666666666, 11.583333333333334, 10.791666666666666, 10.0, 9.291666666666666, 8.666666666666666, 8.208333333333334, 7.75, 6.958333333333333, 6.541666666666667, 6.125, 5.708333333333333, 5.375, 5.041666666666667, 4.791666666666667, 4.791666666666667, 4.75, 4.541666666666667, 4.458333333333333, 4.25, 3.8333333333333335, 3.6666666666666665, 3.5, 3.2916666666666665, 3.0833333333333335, 3.0416666666666665, 3.0416666666666665, 3.2083333333333335, 3.2083333333333335, 3.4166666666666665, 3.625, 3.6666666666666665, 3.6666666666666665, 4.0, 4.166666666666667, 4.333333333333333, 4.5, 5.083333333333333, 5.875, 6.375, 6.833333333333333, 7.75, 8.208333333333334, 8.708333333333334, 9.833333333333334, 11.666666666666666, 13.208333333333334, 14.416666666666666, 15.916666666666666, 17.875, 19.041666666666668, 19.916666666666668, 21.125, 23.208333333333332, 24.416666666666668, 26.083333333333332, 27.166666666666668, 29.0, 30.125, 31.416666666666668, 32.75, 34.791666666666664, 35.708333333333336, 36.916666666666664, 38.166666666666664, 40.458333333333336, 41.958333333333336, 43.458333333333336, 44.125, 44.875, 44.916666666666664, 45.833333333333336, 46.041666666666664, 46.791666666666664, 47.708333333333336, 48.666666666666664, 49.75, 50.875, 52.0, 52.291666666666664, 53.541666666666664, 54.625, 54.916666666666664, 55.708333333333336, 56.208333333333336, 56.375, 56.791666666666664, 57.333333333333336, 57.666666666666664, 57.625, 57.541666666666664, 57.416666666666664, 57.25, 57.375, 57.666666666666664, 57.375, 57.416666666666664, 57.125, 57.0, 57.041666666666664, 56.625, 55.666666666666664, 54.958333333333336, 54.958333333333336, 54.125, 53.958333333333336, 53.791666666666664, 52.5, 52.5, 52.458333333333336, 52.25, 51.791666666666664, 51.0, 50.916666666666664, 51.041666666666664, 50.875, 51.083333333333336, 51.125, 51.125, 51.25, 51.458333333333336, 51.541666666666664, 51.541666666666664, 51.041666666666664, 50.416666666666664, 50.416666666666664, 50.5, 50.125, 50.458333333333336, 50.0, 50.25, 50.708333333333336, 50.0, 49.5, 48.875, 49.083333333333336, 49.333333333333336, 49.625, 49.166666666666664, 48.875, 48.708333333333336, 47.875, 47.166666666666664, 46.708333333333336, 44.625, 42.0, 39.916666666666664, 38.25, 36.875, 35.833333333333336, 34.958333333333336, 34.5, 33.416666666666664, 32.25, 31.291666666666668, 30.75, 30.458333333333332, 29.75, 29.291666666666668, 28.416666666666668, 28.333333333333332, 26.166666666666668, 25.791666666666668, 25.875, 25.125, 24.041666666666668, 23.875, 23.291666666666668, 24.291666666666668, 25.041666666666668, 26.083333333333332, 26.75, 27.708333333333332, 26.791666666666668, 26.333333333333332, 25.875, 25.416666666666668, 24.458333333333332, 24.125, 23.708333333333332, 23.125, 21.916666666666668, 21.458333333333332, 20.416666666666668, 19.083333333333332, 17.916666666666668, 17.166666666666668, 15.916666666666666, 15.208333333333334, 14.666666666666666, 13.875, 13.083333333333334, 12.583333333333334, 12.125, 11.291666666666666, 10.833333333333334, 10.25, 9.958333333333334, 9.541666666666666, 9.041666666666666, 8.875, 8.625, 8.25, 7.916666666666667, 7.541666666666667, 7.208333333333333, 6.875, 6.708333333333333, 6.75, 6.916666666666667, 6.375, 6.0, 5.833333333333333, 5.416666666666667, 5.208333333333333, 5.083333333333333, 4.75, 4.458333333333333, 4.291666666666667, 4.166666666666667, 4.125, 4.083333333333333, 4.041666666666667, 3.9166666666666665, 4.041666666666667, 4.083333333333333, 4.208333333333333, 4.291666666666667, 4.625, 5.0, 5.291666666666667, 5.625, 6.125, 6.5, 6.916666666666667, 7.791666666666667, 8.375, 9.25, 9.833333333333334, 10.541666666666666, 11.541666666666666, 12.541666666666666, 13.166666666666666, 13.875, 14.875, 15.875, 17.0, 17.666666666666668, 19.041666666666668, 19.666666666666668, 20.666666666666668, 21.208333333333332, 22.916666666666668, 22.791666666666668, 23.166666666666668, 24.125, 24.958333333333332, 25.666666666666668, 26.208333333333332, 27.125, 28.541666666666668, 29.375, 29.916666666666668, 30.5, 31.416666666666668, 32.458333333333336, 33.416666666666664, 33.958333333333336, 34.791666666666664, 35.458333333333336, 35.916666666666664, 36.666666666666664, 36.833333333333336, 37.333333333333336, 37.541666666666664, 38.416666666666664, 38.333333333333336, 39.25, 39.666666666666664, 40.083333333333336, 40.25, 40.333333333333336, 40.958333333333336, 40.5, 40.333333333333336, 39.958333333333336, 40.166666666666664, 40.125, 39.958333333333336, 39.541666666666664, 38.875, 38.75, 38.125, 37.041666666666664, 36.5, 36.458333333333336, 36.625, 36.291666666666664, 36.208333333333336, 35.5, 35.333333333333336, 35.0, 34.5, 33.708333333333336, 32.833333333333336, 33.0, 32.375, 32.083333333333336, 31.708333333333332, 31.166666666666668, 31.125, 31.208333333333332, 31.125, 30.958333333333332, 31.166666666666668, 31.708333333333332, 32.0, 31.875, 32.041666666666664, 31.666666666666668, 31.791666666666668, 31.791666666666668, 31.333333333333332, 31.208333333333332, 31.333333333333332, 31.75, 32.416666666666664, 32.958333333333336, 33.875, 33.666666666666664, 34.083333333333336, 34.375, 34.333333333333336, 34.916666666666664, 35.0, 35.041666666666664, 34.875, 34.416666666666664, 34.083333333333336, 33.458333333333336, 32.791666666666664, 33.208333333333336, 32.791666666666664, 32.791666666666664, 31.833333333333332, 31.708333333333332, 31.666666666666668, 32.0, 31.041666666666668, 30.708333333333332, 30.208333333333332, 29.75, 28.625, 28.291666666666668, 28.166666666666668, 28.0, 27.166666666666668, 26.458333333333332, 25.833333333333332, 25.333333333333332, 24.083333333333332, 23.416666666666668, 23.333333333333332, 22.791666666666668, 22.041666666666668, 21.333333333333332, 21.0, 20.125, 19.291666666666668, 18.75, 18.291666666666668, 17.125, 16.083333333333332, 14.958333333333334, 14.166666666666666, 13.208333333333334, 12.708333333333334, 11.708333333333334, 10.5, 9.291666666666666, 8.75, 8.125, 7.375, 6.5, 6.166666666666667, 5.958333333333333, 5.333333333333333, 4.75, 4.333333333333333, 3.9166666666666665, 3.2916666666666665, 3.0, 2.5416666666666665, 2.0833333333333335, 1.6666666666666667, 1.5, 1.4166666666666667, 1.375, 1.2916666666666667, 1.2083333333333333, 1.125, 1.1666666666666667, 1.0833333333333333, 1.2916666666666667, 1.2916666666666667, 1.2916666666666667, 1.25, 1.2083333333333333, 1.1666666666666667, 1.1666666666666667, 1.5, 1.8333333333333333, 2.0416666666666665, 2.1666666666666665, 2.5, 3.0833333333333335, 3.6666666666666665, 4.375, 5.583333333333333, 6.708333333333333, 8.166666666666666, 9.708333333333334, 11.375, 13.041666666666666, 15.166666666666666, 16.75, 18.541666666666668, 20.708333333333332, 22.458333333333332, 23.875, 25.083333333333332, 26.708333333333332, 27.916666666666668, 29.291666666666668, 30.125, 32.041666666666664, 33.458333333333336, 34.666666666666664, 36.375, 38.458333333333336, 39.041666666666664, 40.333333333333336, 40.833333333333336, 42.333333333333336, 42.208333333333336, 42.166666666666664, 42.166666666666664, 42.75, 41.958333333333336, 41.708333333333336, 41.833333333333336, 42.208333333333336, 42.333333333333336, 42.75, 43.5, 44.208333333333336, 44.625, 45.041666666666664, 45.708333333333336, 45.541666666666664, 46.0, 46.541666666666664, 46.208333333333336, 46.416666666666664, 47.25, 47.458333333333336, 47.75, 47.458333333333336, 48.041666666666664, 48.25, 48.083333333333336, 48.166666666666664, 48.541666666666664, 48.75, 48.666666666666664, 48.833333333333336, 48.833333333333336, 48.625, 48.625, 48.791666666666664, 48.708333333333336, 48.666666666666664, 49.0, 50.208333333333336, 50.083333333333336, 50.083333333333336, 50.625, 50.583333333333336, 50.666666666666664, 50.541666666666664, 50.916666666666664, 51.25, 51.416666666666664, 52.125, 52.791666666666664, 53.291666666666664, 53.416666666666664, 53.541666666666664, 53.875, 53.875, 53.708333333333336, 54.25, 55.125, 55.708333333333336, 56.666666666666664, 57.125, 56.958333333333336, 55.916666666666664, 56.291666666666664, 56.833333333333336, 56.958333333333336, 56.916666666666664, 57.291666666666664, 57.375, 56.708333333333336, 55.75, 55.5, 55.416666666666664, 55.25, 54.666666666666664, 54.416666666666664, 54.791666666666664, 54.541666666666664, 53.333333333333336, 53.083333333333336, 52.125, 50.791666666666664, 49.666666666666664, 48.125, 46.875, 45.958333333333336, 45.125, 43.625, 42.333333333333336, 41.166666666666664, 39.458333333333336, 38.083333333333336, 36.625, 36.208333333333336, 36.0, 35.25, 34.166666666666664, 33.208333333333336, 32.375, 32.0, 31.0, 29.583333333333332, 28.666666666666668, 27.625, 27.208333333333332, 26.5, 24.875, 24.458333333333332, 23.958333333333332, 23.208333333333332, 22.291666666666668, 22.125, 21.375, 20.458333333333332, 19.541666666666668, 18.666666666666668, 18.041666666666668, 16.916666666666668, 15.708333333333334, 14.833333333333334, 13.625, 12.625, 11.25, 10.083333333333334, 9.041666666666666, 8.708333333333334, 8.0, 7.458333333333333, 6.583333333333333, 6.041666666666667, 5.708333333333333, 5.125, 4.625, 4.333333333333333, 3.9583333333333335, 3.3333333333333335, 3.0416666666666665, 2.7916666666666665, 2.625, 2.4166666666666665, 2.25, 2.0833333333333335, 1.7916666666666667, 1.5833333333333333, 1.5416666666666667, 1.4583333333333333, 1.4583333333333333, 1.375, 1.3333333333333333, 1.25, 1.3333333333333333, 1.375, 1.375, 1.1666666666666667, 1.2083333333333333, 1.3333333333333333, 1.75, 2.2916666666666665, 2.5833333333333335, 2.875, 3.25, 3.5416666666666665, 4.041666666666667, 4.666666666666667, 5.625, 6.666666666666667, 8.083333333333334, 9.583333333333334, 11.625, 13.375, 14.875, 16.833333333333332, 18.5, 20.5, 22.541666666666668, 23.75, 25.166666666666668, 26.541666666666668, 27.791666666666668, 29.625, 31.291666666666668, 32.583333333333336, 33.5, 34.541666666666664, 35.916666666666664, 37.625, 38.708333333333336, 39.875, 40.583333333333336, 41.791666666666664, 42.0, 41.458333333333336, 41.541666666666664, 42.375, 42.416666666666664, 42.083333333333336, 42.25, 42.333333333333336, 42.083333333333336, 42.541666666666664, 43.416666666666664, 44.375, 45.041666666666664, 44.791666666666664, 45.083333333333336, 45.458333333333336, 46.166666666666664, 46.666666666666664, 47.041666666666664, 47.875, 48.208333333333336, 48.291666666666664, 48.708333333333336, 49.208333333333336, 49.833333333333336, 50.208333333333336, 50.041666666666664, 49.666666666666664, 49.541666666666664, 49.75, 49.791666666666664, 50.291666666666664, 50.458333333333336, 50.458333333333336, 50.541666666666664, 50.833333333333336, 50.583333333333336, 50.541666666666664, 50.291666666666664, 50.125, 49.916666666666664, 49.958333333333336, 50.541666666666664, 50.958333333333336, 50.916666666666664, 51.208333333333336, 51.166666666666664, 51.333333333333336, 50.958333333333336, 51.5, 51.875, 52.333333333333336, 52.5, 52.916666666666664, 53.458333333333336, 53.416666666666664, 53.208333333333336, 53.291666666666664, 53.166666666666664, 53.458333333333336, 54.291666666666664, 54.666666666666664, 54.708333333333336, 54.875, 55.166666666666664, 55.833333333333336, 56.125, 55.333333333333336, 55.833333333333336, 56.041666666666664, 56.625, 56.333333333333336, 56.583333333333336, 57.333333333333336, 57.416666666666664, 57.333333333333336, 57.333333333333336, 56.708333333333336, 56.166666666666664, 55.25, 54.833333333333336, 54.458333333333336, 54.0, 52.5, 50.958333333333336, 50.25, 49.208333333333336, 48.166666666666664, 46.583333333333336, 44.875, 43.291666666666664, 42.083333333333336, 40.875, 39.375, 38.25, 36.541666666666664, 35.208333333333336, 34.0, 32.583333333333336, 31.416666666666668, 31.333333333333332, 31.0, 29.916666666666668, 29.083333333333332, 28.458333333333332, 27.666666666666668, 26.166666666666668, 25.25, 24.666666666666668, 23.875, 23.208333333333332, 22.291666666666668, 22.041666666666668, 21.75, 20.375, 19.458333333333332, 18.375, 17.916666666666668, 16.458333333333332, 15.583333333333334, 15.0, 13.666666666666666, 12.75, 11.416666666666666, 9.875, 8.625, 7.833333333333333, 7.0, 6.25, 5.791666666666667, 5.708333333333333, 5.25, 4.833333333333333, 4.291666666666667, 3.75, 3.3333333333333335, 3.0416666666666665, 2.4583333333333335, 2.3333333333333335, 1.9583333333333333, 1.875, 1.4583333333333333, 1.4166666666666667, 1.375, 1.1666666666666667, 1.0833333333333333, 1.0, 0.9166666666666666, 0.9166666666666666, 0.8333333333333334, 0.7916666666666666, 0.75, 0.625, 0.4166666666666667, 0.20833333333333334, 0.2916666666666667, 0.5833333333333334, 0.9583333333333334, 1.25, 1.5833333333333333, 1.9166666666666667, 2.4166666666666665, 2.875, 3.2083333333333335, 3.5833333333333335, 4.416666666666667, 5.583333333333333, 7.083333333333333, 8.458333333333334, 10.458333333333334, 12.708333333333334, 14.875, 15.708333333333334, 17.208333333333332, 19.958333333333332, 21.5, 23.333333333333332, 25.291666666666668, 26.708333333333332, 28.708333333333332, 30.333333333333332, 31.958333333333332, 33.083333333333336, 34.333333333333336, 35.875, 37.333333333333336, 38.916666666666664, 40.5, 42.0, 43.083333333333336, 44.0, 44.375, 44.333333333333336, 45.0, 45.291666666666664, 45.25, 46.375, 47.75, 47.333333333333336, 47.791666666666664, 47.666666666666664, 48.333333333333336, 49.166666666666664, 48.875, 48.708333333333336, 49.083333333333336, 50.041666666666664, 50.333333333333336, 50.166666666666664, 50.291666666666664, 50.833333333333336, 50.875, 50.916666666666664, 51.458333333333336, 51.75, 51.666666666666664, 52.625, 52.458333333333336, 52.041666666666664, 51.916666666666664, 52.166666666666664, 51.041666666666664, 51.125, 50.666666666666664, 51.083333333333336, 50.958333333333336, 50.875, 50.458333333333336, 50.416666666666664, 50.541666666666664, 50.25, 50.541666666666664, 50.791666666666664, 51.166666666666664, 51.0, 51.416666666666664, 51.458333333333336, 51.5, 51.291666666666664, 51.958333333333336, 51.666666666666664, 51.583333333333336, 51.5, 51.666666666666664, 51.5, 52.125, 52.166666666666664, 52.833333333333336, 52.375, 52.666666666666664, 53.208333333333336, 54.375, 54.708333333333336, 54.375, 54.5, 55.0, 55.583333333333336, 55.875, 56.125, 56.125, 56.458333333333336, 56.791666666666664, 56.75, 56.25, 56.333333333333336, 56.333333333333336, 56.875, 56.75, 56.833333333333336, 56.708333333333336, 56.416666666666664, 55.958333333333336, 55.541666666666664, 54.875, 53.375, 51.875, 51.0, 50.25, 49.291666666666664, 47.583333333333336, 46.083333333333336, 44.833333333333336, 43.375, 42.333333333333336, 41.5, 39.875, 39.041666666666664, 38.0, 37.75, 36.041666666666664, 34.333333333333336, 33.166666666666664, 31.916666666666668, 30.333333333333332, 29.458333333333332, 28.416666666666668, 28.0, 26.5, 25.875, 25.125, 24.666666666666668, 23.833333333333332, 23.208333333333332, 22.875, 22.166666666666668, 20.958333333333332, 20.083333333333332, 18.958333333333332, 17.625, 16.541666666666668, 15.458333333333334, 14.791666666666666, 13.125, 12.708333333333334, 12.083333333333334, 11.5, 10.875, 10.291666666666666, 9.208333333333334, 8.541666666666666, 7.833333333333333, 7.375, 6.833333333333333, 6.541666666666667, 5.791666666666667, 5.25, 4.666666666666667, 4.083333333333333, 3.7916666666666665, 3.5833333333333335, 3.2916666666666665, 3.125, 3.125, 3.0, 2.7916666666666665, 2.5416666666666665, 2.375, 2.0833333333333335, 1.875, 1.6666666666666667, 1.4583333333333333, 1.5416666666666667, 1.4583333333333333, 1.4583333333333333, 1.4166666666666667, 1.5, 1.4166666666666667, 1.4166666666666667, 1.9583333333333333, 2.3333333333333335, 2.7083333333333335, 2.875, 3.7083333333333335, 4.041666666666667, 4.5, 5.166666666666667, 5.833333333333333, 6.708333333333333, 8.291666666666666, 9.833333333333334, 11.208333333333334, 13.291666666666666, 14.541666666666666, 16.875, 18.416666666666668, 19.916666666666668, 21.541666666666668, 23.291666666666668, 24.875, 26.458333333333332, 28.208333333333332, 29.916666666666668, 31.916666666666668, 33.083333333333336, 34.416666666666664, 35.666666666666664, 36.458333333333336, 37.541666666666664, 39.25, 40.583333333333336, 41.625, 42.458333333333336, 42.958333333333336, 43.791666666666664, 44.125, 43.583333333333336, 44.416666666666664, 43.958333333333336, 44.291666666666664, 45.25, 45.708333333333336, 45.791666666666664, 46.416666666666664, 46.208333333333336, 45.625, 45.291666666666664, 45.416666666666664, 46.375, 47.041666666666664, 47.5, 48.375, 49.541666666666664, 49.375, 49.625, 50.375, 51.208333333333336, 51.083333333333336, 50.666666666666664, 51.208333333333336, 51.833333333333336, 51.083333333333336, 50.875, 51.375, 51.166666666666664, 51.208333333333336, 51.208333333333336, 51.458333333333336, 52.166666666666664, 53.333333333333336, 53.375, 52.791666666666664, 51.875, 51.375, 50.958333333333336, 50.708333333333336, 50.041666666666664, 49.916666666666664, 49.708333333333336, 49.291666666666664, 49.291666666666664, 49.5, 49.541666666666664, 49.625, 50.375, 51.041666666666664, 51.166666666666664, 51.375, 51.666666666666664, 51.75, 51.708333333333336, 51.666666666666664, 51.958333333333336, 52.0, 53.041666666666664, 53.5, 54.208333333333336, 54.416666666666664, 55.375, 55.166666666666664, 55.791666666666664, 56.5, 56.958333333333336, 57.041666666666664, 56.583333333333336, 56.208333333333336, 56.666666666666664, 57.0, 56.416666666666664, 56.583333333333336, 56.541666666666664, 55.833333333333336, 55.166666666666664, 54.875, 54.541666666666664, 54.25, 53.083333333333336, 52.208333333333336, 50.625, 50.125, 48.875, 47.791666666666664, 46.5, 45.666666666666664, 43.958333333333336, 42.25, 40.666666666666664, 39.75, 39.125, 38.708333333333336, 37.833333333333336, 36.583333333333336, 35.375, 34.208333333333336, 33.625, 32.541666666666664, 31.583333333333332, 30.416666666666668, 29.75, 28.291666666666668, 27.416666666666668, 26.291666666666668, 26.166666666666668, 24.5, 23.583333333333332, 22.875, 22.291666666666668, 21.291666666666668, 20.833333333333332, 20.25, 19.75, 18.666666666666668, 17.375, 16.25, 14.875, 13.75, 12.958333333333334, 12.041666666666666, 10.916666666666666, 10.125, 9.166666666666666, 8.5, 7.75, 7.0, 6.416666666666667, 6.041666666666667, 5.166666666666667, 4.791666666666667, 4.625, 4.291666666666667, 3.75, 3.6666666666666665, 3.2916666666666665, 3.125, 2.75, 2.5833333333333335, 2.4583333333333335, 2.25, 2.125, 1.9166666666666667, 1.6666666666666667, 1.75, 1.6666666666666667, 1.7916666666666667, 1.8333333333333333, 1.6666666666666667, 1.625, 1.7083333333333333, 1.7916666666666667, 2.0, 2.5416666666666665, 2.7083333333333335, 2.9583333333333335, 3.375, 3.9166666666666665, 3.9166666666666665, 4.291666666666667, 4.833333333333333, 6.083333333333333, 6.75, 7.958333333333333, 9.041666666666666, 11.041666666666666, 12.666666666666666, 14.166666666666666, 15.791666666666666, 18.083333333333332, 19.708333333333332, 21.5, 23.25, 25.5, 26.958333333333332, 28.125, 29.916666666666668, 32.0, 33.5, 34.833333333333336, 36.208333333333336, 37.625, 39.208333333333336, 40.5, 41.458333333333336, 42.291666666666664, 43.708333333333336, 44.5, 45.333333333333336, 45.375, 45.333333333333336, 45.166666666666664, 45.25, 45.125, 45.291666666666664, 45.333333333333336, 45.541666666666664, 45.125, 46.041666666666664, 46.958333333333336, 46.708333333333336, 46.875, 47.541666666666664, 47.958333333333336, 48.083333333333336, 48.416666666666664, 49.25, 49.75, 50.0, 50.458333333333336, 50.583333333333336, 50.291666666666664, 50.333333333333336, 51.25, 52.125, 52.625, 52.75, 53.25, 53.375, 53.291666666666664, 53.375, 53.791666666666664, 53.125, 52.666666666666664, 52.875, 52.083333333333336, 52.541666666666664, 52.708333333333336, 52.541666666666664, 53.041666666666664, 52.875, 53.0, 53.208333333333336, 53.708333333333336, 54.125, 54.166666666666664, 54.208333333333336, 54.125, 54.166666666666664, 54.375, 54.666666666666664, 54.666666666666664, 55.041666666666664, 55.458333333333336, 55.291666666666664, 55.791666666666664, 55.708333333333336, 56.541666666666664, 57.416666666666664, 57.833333333333336, 57.166666666666664, 57.458333333333336, 58.458333333333336, 58.416666666666664, 58.125, 58.75, 58.916666666666664, 58.041666666666664, 57.708333333333336, 57.958333333333336, 58.333333333333336, 58.5, 58.666666666666664, 58.291666666666664, 58.083333333333336, 57.625, 56.875, 56.458333333333336, 55.958333333333336, 55.291666666666664, 55.125, 54.375, 52.541666666666664, 51.833333333333336, 51.083333333333336, 49.916666666666664, 48.375, 47.25, 46.166666666666664, 45.041666666666664, 43.666666666666664, 43.25, 41.916666666666664, 40.666666666666664, 39.833333333333336, 37.958333333333336, 36.75, 36.083333333333336, 35.583333333333336, 34.541666666666664, 34.333333333333336, 33.625, 33.291666666666664, 31.75, 31.375, 30.25, 29.916666666666668, 28.708333333333332, 28.25, 27.458333333333332, 27.125, 25.916666666666668]\n",
            "[25.541666666666668, 24.166666666666668, 24.0, 22.541666666666668, 22.166666666666668, 21.791666666666668, 20.791666666666668, 20.0, 19.083333333333332, 18.291666666666668, 16.916666666666668, 15.958333333333334, 14.791666666666666, 13.916666666666666, 13.291666666666666, 13.041666666666666, 12.333333333333334, 12.083333333333334, 11.708333333333334, 11.625, 10.875, 10.583333333333334, 9.958333333333334, 9.708333333333334, 9.5, 9.291666666666666, 8.666666666666666, 8.541666666666666, 8.083333333333334, 7.916666666666667, 7.333333333333333, 6.916666666666667, 6.416666666666667, 6.25, 6.208333333333333, 6.041666666666667, 6.0, 5.875, 5.625, 5.541666666666667, 5.208333333333333, 4.875, 4.791666666666667, 4.708333333333333, 5.0, 5.125, 5.208333333333333, 5.333333333333333, 5.291666666666667, 5.458333333333333, 6.166666666666667, 6.541666666666667, 7.041666666666667, 7.541666666666667, 8.666666666666666, 9.458333333333334, 10.083333333333334, 11.208333333333334, 12.875, 13.875, 15.208333333333334, 16.75, 18.791666666666668, 19.833333333333332, 21.375, 22.5, 24.958333333333332, 26.75, 27.958333333333332, 28.916666666666668, 31.125, 32.75, 33.958333333333336, 35.458333333333336, 37.416666666666664, 38.916666666666664, 40.041666666666664, 41.291666666666664, 42.75, 44.125, 45.416666666666664, 46.25, 47.041666666666664, 48.125, 48.541666666666664, 49.083333333333336, 50.416666666666664, 51.416666666666664, 51.541666666666664, 51.875, 51.958333333333336, 52.166666666666664, 52.333333333333336, 53.291666666666664, 53.541666666666664, 53.791666666666664, 54.75, 55.083333333333336, 55.708333333333336, 55.875, 56.291666666666664, 56.333333333333336, 57.041666666666664, 57.083333333333336, 57.041666666666664, 57.0, 57.458333333333336, 57.666666666666664, 57.791666666666664, 57.833333333333336, 56.958333333333336, 56.916666666666664, 57.708333333333336, 58.125, 58.041666666666664, 57.875, 58.333333333333336, 58.166666666666664, 58.708333333333336, 58.625, 57.75, 57.25, 57.0, 57.083333333333336, 56.708333333333336, 56.25, 55.875, 55.916666666666664, 56.041666666666664, 55.75, 55.416666666666664, 55.416666666666664, 55.166666666666664, 54.75, 55.375, 55.333333333333336, 54.916666666666664, 54.875, 55.0, 55.0, 54.625, 54.666666666666664, 54.291666666666664, 53.958333333333336, 54.125, 54.208333333333336, 53.541666666666664, 52.708333333333336, 52.291666666666664, 52.125, 51.625, 51.5, 51.333333333333336, 52.083333333333336, 51.958333333333336, 51.083333333333336, 50.916666666666664, 50.0, 49.041666666666664, 48.458333333333336, 47.708333333333336, 47.375, 46.375, 45.333333333333336, 44.791666666666664, 43.833333333333336, 42.5, 42.416666666666664, 41.75, 40.708333333333336, 39.458333333333336, 38.583333333333336, 38.25, 38.083333333333336, 37.125, 36.25, 35.625, 34.625, 33.125, 32.916666666666664, 32.291666666666664, 32.125, 30.583333333333332, 30.333333333333332, 29.666666666666668, 28.875, 27.916666666666668, 27.75, 27.291666666666668, 26.958333333333332, 25.791666666666668, 24.791666666666668, 24.041666666666668, 24.0, 23.5, 23.333333333333332, 22.875, 22.083333333333332, 21.25, 20.541666666666668, 19.708333333333332, 18.833333333333332, 18.125, 17.291666666666668, 16.583333333333332, 16.375, 15.916666666666666, 14.666666666666666, 14.333333333333334, 13.791666666666666, 13.291666666666666, 12.708333333333334, 12.083333333333334, 11.541666666666666, 11.583333333333334, 11.166666666666666, 10.958333333333334, 10.541666666666666, 10.208333333333334, 10.041666666666666, 9.625, 9.458333333333334, 9.083333333333334, 8.625, 8.333333333333334, 7.958333333333333, 7.666666666666667, 7.5, 7.458333333333333, 7.125, 6.833333333333333, 6.958333333333333, 6.625, 6.708333333333333, 6.541666666666667, 6.25, 6.25, 6.125, 5.833333333333333, 5.75, 5.875, 5.75, 5.75, 6.208333333333333, 6.875, 7.291666666666667, 7.583333333333333, 8.0, 8.791666666666666, 9.333333333333334, 9.75, 10.5, 11.083333333333334, 11.333333333333334, 11.666666666666666, 12.416666666666666, 13.541666666666666, 14.25, 15.041666666666666, 16.416666666666668, 17.541666666666668, 18.708333333333332, 19.708333333333332, 20.5, 21.375, 22.708333333333332, 23.75, 23.875, 24.458333333333332, 24.958333333333332, 25.791666666666668, 26.791666666666668, 27.541666666666668, 28.458333333333332, 29.166666666666668, 29.875, 30.125, 31.916666666666668, 33.333333333333336, 33.833333333333336, 34.458333333333336, 35.666666666666664, 36.791666666666664, 36.916666666666664, 37.916666666666664, 39.083333333333336, 39.75, 40.625, 41.708333333333336, 43.166666666666664, 43.041666666666664, 43.5, 43.916666666666664, 44.708333333333336, 44.875, 44.625, 44.708333333333336, 44.833333333333336, 45.041666666666664, 44.416666666666664, 44.875, 44.25, 43.333333333333336, 43.583333333333336, 43.541666666666664, 42.375, 41.291666666666664, 41.0, 39.958333333333336, 38.583333333333336, 38.0, 37.416666666666664, 36.416666666666664, 34.583333333333336, 34.375, 34.375, 33.625, 32.958333333333336, 32.5, 32.166666666666664, 31.375, 30.666666666666668, 30.5, 30.458333333333332, 30.583333333333332, 30.875, 31.375, 30.708333333333332, 30.583333333333332, 30.5, 30.625, 31.041666666666668, 31.166666666666668, 31.75, 31.583333333333332, 31.166666666666668, 31.333333333333332, 31.458333333333332, 32.083333333333336, 32.291666666666664, 32.75, 33.666666666666664, 33.791666666666664, 34.416666666666664, 35.583333333333336, 36.083333333333336, 35.833333333333336, 35.791666666666664, 35.208333333333336, 34.416666666666664, 34.208333333333336, 34.25, 34.125, 34.291666666666664, 34.208333333333336, 33.25, 33.291666666666664, 32.666666666666664, 32.958333333333336, 33.083333333333336, 32.958333333333336, 32.666666666666664, 32.041666666666664, 31.875, 31.916666666666668, 30.666666666666668, 30.708333333333332, 30.708333333333332, 29.458333333333332, 28.833333333333332, 28.125, 27.833333333333332, 27.25, 26.458333333333332, 25.958333333333332, 25.875, 24.916666666666668, 24.458333333333332, 23.916666666666668, 23.708333333333332, 22.583333333333332, 21.791666666666668, 20.5, 19.708333333333332, 18.708333333333332, 17.833333333333332, 16.916666666666668, 15.541666666666666, 14.083333333333334, 13.166666666666666, 12.083333333333334, 10.541666666666666, 9.625, 8.791666666666666, 8.625, 8.0, 7.416666666666667, 7.208333333333333, 6.583333333333333, 5.583333333333333, 5.125, 4.583333333333333, 4.166666666666667, 3.75, 3.4166666666666665, 3.1666666666666665, 3.0416666666666665, 2.9166666666666665, 2.5833333333333335, 2.5, 2.3333333333333335, 2.4166666666666665, 2.3333333333333335, 2.25, 2.0833333333333335, 2.125, 2.0833333333333335, 1.9166666666666667, 1.7083333333333333, 1.5833333333333333, 1.5833333333333333, 1.4583333333333333, 1.5, 1.625, 1.75, 1.7083333333333333, 2.0833333333333335, 2.625, 2.875, 3.2916666666666665, 3.7916666666666665, 4.416666666666667, 5.666666666666667, 6.625, 7.5, 9.25, 10.833333333333334, 12.083333333333334, 13.416666666666666, 15.291666666666666, 17.0, 18.875, 20.416666666666668, 22.416666666666668, 24.291666666666668, 25.708333333333332, 27.125, 28.333333333333332, 30.208333333333332, 31.625, 33.166666666666664, 34.375, 36.166666666666664, 37.458333333333336, 38.375, 39.25, 40.0, 40.666666666666664, 41.583333333333336, 40.833333333333336, 40.708333333333336, 40.791666666666664, 41.208333333333336, 41.375, 41.958333333333336, 41.791666666666664, 41.791666666666664, 41.666666666666664, 41.666666666666664, 42.083333333333336, 42.25, 43.291666666666664, 44.041666666666664, 44.375, 44.208333333333336, 44.25, 44.166666666666664, 44.375, 44.875, 45.625, 45.541666666666664, 45.583333333333336, 46.083333333333336, 46.875, 47.916666666666664, 48.208333333333336, 48.125, 48.5, 48.583333333333336, 48.541666666666664, 48.708333333333336, 49.291666666666664, 49.25, 49.291666666666664, 49.958333333333336, 50.25, 50.041666666666664, 49.958333333333336, 50.25, 50.666666666666664, 51.375, 51.25, 50.833333333333336, 50.833333333333336, 51.375, 51.5, 51.166666666666664, 51.458333333333336, 51.125, 51.458333333333336, 51.666666666666664, 51.625, 52.041666666666664, 52.5, 53.208333333333336, 53.208333333333336, 54.083333333333336, 54.375, 53.958333333333336, 53.75, 53.5, 54.125, 54.291666666666664, 54.625, 54.458333333333336, 54.958333333333336, 56.0, 56.375, 56.666666666666664, 57.041666666666664, 57.041666666666664, 57.208333333333336, 57.375, 57.625, 57.625, 57.666666666666664, 56.708333333333336, 56.375, 55.625, 55.0, 54.041666666666664, 53.375, 53.208333333333336, 52.291666666666664, 51.125, 49.666666666666664, 48.708333333333336, 47.375, 45.791666666666664, 44.666666666666664, 43.083333333333336, 41.791666666666664, 39.875, 38.666666666666664, 37.708333333333336, 36.541666666666664, 35.583333333333336, 33.875, 33.541666666666664, 31.875, 31.125, 30.25, 29.541666666666668, 28.5, 27.291666666666668, 26.333333333333332, 25.041666666666668, 23.75, 23.041666666666668, 22.5, 21.375, 20.333333333333332, 19.791666666666668, 18.958333333333332, 18.375, 17.208333333333332, 16.416666666666668, 15.458333333333334, 14.583333333333334, 13.458333333333334, 12.0, 11.708333333333334, 10.25, 9.541666666666666, 8.583333333333334, 7.75, 6.875, 6.291666666666667, 5.708333333333333, 5.166666666666667, 4.75, 4.541666666666667, 4.041666666666667, 3.6666666666666665, 3.5416666666666665, 3.3333333333333335, 2.9583333333333335, 2.625, 2.25, 2.0416666666666665, 2.0416666666666665, 2.0, 1.8333333333333333, 1.75, 1.75, 1.5416666666666667, 1.5, 1.375, 1.2916666666666667, 1.3333333333333333, 1.4166666666666667, 1.2916666666666667, 1.3333333333333333, 1.3333333333333333, 1.375, 1.5416666666666667, 1.5833333333333333, 1.7916666666666667, 2.0833333333333335, 2.3333333333333335, 2.5, 2.9583333333333335, 3.75, 4.583333333333333, 5.541666666666667, 6.458333333333333, 8.125, 10.458333333333334, 11.833333333333334, 13.625, 15.625, 16.916666666666668, 18.791666666666668, 20.458333333333332, 22.291666666666668, 23.791666666666668, 24.958333333333332, 25.958333333333332, 28.166666666666668, 30.0, 31.75, 33.0, 35.083333333333336, 36.333333333333336, 37.625, 38.75, 40.208333333333336, 41.375, 41.791666666666664, 42.208333333333336, 43.166666666666664, 42.958333333333336, 43.25, 43.291666666666664, 43.458333333333336, 44.416666666666664, 43.875, 43.416666666666664, 43.958333333333336, 44.25, 45.25, 45.916666666666664, 45.833333333333336, 46.666666666666664, 46.416666666666664, 46.916666666666664, 46.791666666666664, 47.958333333333336, 48.458333333333336, 48.625, 49.0, 48.833333333333336, 48.958333333333336, 49.708333333333336, 49.541666666666664, 49.791666666666664, 49.583333333333336, 49.291666666666664, 49.625, 49.041666666666664, 49.416666666666664, 49.75, 49.708333333333336, 50.208333333333336, 49.666666666666664, 49.958333333333336, 50.041666666666664, 49.458333333333336, 49.541666666666664, 49.125, 48.583333333333336, 47.708333333333336, 47.666666666666664, 48.083333333333336, 47.958333333333336, 48.666666666666664, 49.208333333333336, 49.083333333333336, 48.833333333333336, 48.875, 49.458333333333336, 50.041666666666664, 50.291666666666664, 50.708333333333336, 51.416666666666664, 51.583333333333336, 51.291666666666664, 51.25, 51.791666666666664, 51.666666666666664, 51.541666666666664, 51.166666666666664, 52.166666666666664, 52.875, 53.125, 54.333333333333336, 54.791666666666664, 55.125, 55.416666666666664, 55.333333333333336, 55.291666666666664, 54.916666666666664, 54.791666666666664, 54.791666666666664, 54.75, 54.166666666666664, 53.875, 54.083333333333336, 52.916666666666664, 52.458333333333336, 52.958333333333336, 52.208333333333336, 50.916666666666664, 50.291666666666664, 49.791666666666664, 49.083333333333336, 47.5, 46.208333333333336, 45.583333333333336, 44.083333333333336, 43.208333333333336, 41.5, 40.416666666666664, 39.208333333333336, 37.875, 37.25, 36.75, 35.666666666666664, 34.375, 33.958333333333336, 32.208333333333336, 30.791666666666668, 30.625, 30.458333333333332, 28.291666666666668, 27.458333333333332, 27.083333333333332, 26.291666666666668, 24.875, 24.333333333333332, 23.791666666666668, 22.916666666666668, 21.625, 20.333333333333332, 19.166666666666668, 18.625, 17.25, 16.083333333333332, 15.458333333333334, 14.625, 13.208333333333334, 12.0, 11.333333333333334, 10.375, 9.666666666666666, 8.833333333333334, 7.791666666666667, 6.666666666666667, 6.125, 5.458333333333333, 5.041666666666667, 4.666666666666667, 4.541666666666667, 3.9166666666666665, 3.5, 3.5, 3.375, 3.0833333333333335, 2.6666666666666665, 2.375, 2.0833333333333335, 1.9583333333333333, 1.875, 1.7083333333333333, 1.5833333333333333, 1.5, 1.4583333333333333, 1.375, 1.3333333333333333, 1.4166666666666667, 1.5, 1.4583333333333333, 1.6666666666666667, 1.625, 1.5833333333333333, 1.6666666666666667, 1.7916666666666667, 1.9583333333333333, 2.125, 2.5833333333333335, 3.0, 3.4166666666666665, 3.9583333333333335, 4.875, 5.833333333333333, 6.916666666666667, 7.708333333333333, 9.458333333333334, 11.083333333333334, 12.75, 14.083333333333334, 16.541666666666668, 18.0, 19.25, 20.75, 22.958333333333332, 24.416666666666668, 25.958333333333332, 27.083333333333332, 29.541666666666668, 31.166666666666668, 32.666666666666664, 34.083333333333336, 36.0, 37.875, 39.125, 40.416666666666664, 41.416666666666664, 42.333333333333336, 42.708333333333336, 43.458333333333336, 44.25, 44.333333333333336, 44.333333333333336, 44.791666666666664, 43.958333333333336, 44.791666666666664, 45.25, 45.583333333333336, 45.458333333333336, 46.166666666666664, 46.166666666666664, 46.625, 46.416666666666664, 47.208333333333336, 47.208333333333336, 47.375, 47.125, 47.25, 47.333333333333336, 47.416666666666664, 47.541666666666664, 47.666666666666664, 48.0, 48.291666666666664, 48.25, 48.333333333333336, 48.708333333333336, 48.208333333333336, 49.125, 49.166666666666664, 49.375, 49.125, 49.375, 49.083333333333336, 49.5, 49.583333333333336, 49.5, 48.458333333333336, 48.166666666666664, 47.791666666666664, 47.791666666666664, 47.0, 47.291666666666664, 47.208333333333336, 47.333333333333336, 46.875, 46.791666666666664, 46.916666666666664, 47.125, 47.458333333333336, 47.416666666666664, 48.25, 48.541666666666664, 48.791666666666664, 48.791666666666664, 49.208333333333336, 49.791666666666664, 50.5, 51.166666666666664, 51.791666666666664, 51.791666666666664, 52.333333333333336, 53.041666666666664, 53.791666666666664, 54.083333333333336, 54.833333333333336, 55.25, 55.875, 55.875, 56.958333333333336, 57.541666666666664, 58.083333333333336, 57.208333333333336, 56.916666666666664, 56.708333333333336, 56.666666666666664, 56.208333333333336, 55.5, 55.541666666666664, 54.458333333333336, 54.0, 52.916666666666664, 51.666666666666664, 50.791666666666664, 50.291666666666664, 49.333333333333336, 48.083333333333336, 46.958333333333336, 45.916666666666664, 44.625, 43.333333333333336, 41.875, 41.208333333333336, 39.458333333333336, 38.375, 37.0, 36.5, 35.875, 35.083333333333336, 34.458333333333336, 32.958333333333336, 32.333333333333336, 31.083333333333332, 31.166666666666668, 29.583333333333332, 28.75, 27.75, 26.708333333333332, 25.416666666666668, 24.458333333333332, 24.0, 23.041666666666668, 22.041666666666668, 21.083333333333332, 20.208333333333332, 19.375, 18.0, 17.125, 16.208333333333332, 15.208333333333334, 14.0, 12.958333333333334, 12.041666666666666, 10.625, 9.708333333333334, 8.5, 7.708333333333333, 6.583333333333333, 5.75, 5.083333333333333, 4.666666666666667, 4.208333333333333, 3.7083333333333335, 3.5, 3.0416666666666665, 2.9166666666666665, 2.4166666666666665, 2.4583333333333335, 2.2083333333333335, 2.0833333333333335, 1.9583333333333333, 1.9166666666666667, 1.6666666666666667, 1.5, 1.375, 1.1666666666666667, 1.0833333333333333, 1.125, 1.125, 1.1666666666666667, 1.375, 1.375, 1.2916666666666667, 1.0833333333333333, 1.1666666666666667, 1.4166666666666667, 1.7083333333333333, 1.7916666666666667, 1.9166666666666667, 2.5, 3.0833333333333335, 3.5, 3.8333333333333335, 4.916666666666667, 5.666666666666667, 6.791666666666667, 7.791666666666667, 9.458333333333334, 11.666666666666666, 12.916666666666666, 14.291666666666666, 16.291666666666668, 18.083333333333332, 19.625, 21.166666666666668, 23.333333333333332, 24.958333333333332, 27.0, 28.5, 30.25, 31.625, 32.916666666666664, 34.375, 35.875, 36.833333333333336, 37.5, 38.916666666666664, 40.333333333333336, 41.291666666666664, 41.75, 42.125, 43.041666666666664, 43.0, 43.541666666666664, 44.166666666666664, 44.833333333333336, 45.25, 45.458333333333336, 45.208333333333336, 45.666666666666664, 45.958333333333336, 45.75, 45.666666666666664, 45.625, 45.833333333333336, 45.833333333333336, 46.291666666666664, 46.833333333333336, 47.916666666666664, 48.666666666666664, 48.916666666666664, 49.5, 49.666666666666664, 50.083333333333336, 50.0, 50.166666666666664, 49.833333333333336, 49.708333333333336, 49.291666666666664, 49.041666666666664, 48.5, 48.291666666666664, 48.458333333333336, 48.75, 49.166666666666664, 48.916666666666664, 49.125, 49.833333333333336, 50.125, 50.791666666666664, 50.458333333333336, 50.291666666666664, 50.083333333333336, 50.291666666666664, 50.083333333333336, 49.666666666666664, 49.916666666666664, 49.75, 50.166666666666664, 50.041666666666664, 50.541666666666664, 50.875, 51.125, 51.5, 51.833333333333336, 52.083333333333336, 52.5, 52.208333333333336, 52.416666666666664, 53.25, 54.125, 54.166666666666664, 53.958333333333336, 53.833333333333336, 54.25, 54.0, 54.0, 54.625, 55.333333333333336, 55.083333333333336, 55.708333333333336, 56.333333333333336, 56.041666666666664, 55.666666666666664, 54.916666666666664, 54.583333333333336, 54.041666666666664, 53.541666666666664, 53.666666666666664, 53.583333333333336, 52.958333333333336, 52.416666666666664, 50.666666666666664, 49.333333333333336, 47.916666666666664, 46.833333333333336, 45.625, 44.583333333333336, 43.791666666666664, 43.166666666666664, 42.083333333333336, 40.125, 38.541666666666664, 37.541666666666664, 36.083333333333336, 34.625, 34.666666666666664, 34.583333333333336, 34.541666666666664, 34.166666666666664, 33.916666666666664, 32.375, 31.041666666666668, 30.291666666666668, 29.666666666666668, 28.458333333333332, 28.5, 27.916666666666668, 27.25, 26.291666666666668, 25.875, 25.375, 24.416666666666668, 22.875, 21.958333333333332, 21.5, 21.0, 19.666666666666668, 18.416666666666668, 17.833333333333332, 16.666666666666668, 14.625, 13.166666666666666, 12.0, 11.0, 10.166666666666666, 9.333333333333334, 8.333333333333334, 7.5, 6.625, 5.875, 5.541666666666667, 5.125, 4.541666666666667, 4.208333333333333, 3.875, 3.5416666666666665, 3.5, 3.0833333333333335, 2.6666666666666665, 2.25, 2.1666666666666665, 2.125, 1.7916666666666667, 1.5833333333333333, 1.5, 1.5416666666666667, 1.4583333333333333, 1.4583333333333333, 1.4583333333333333, 1.625, 1.7083333333333333, 1.75, 1.7916666666666667, 1.75, 1.7916666666666667, 1.9166666666666667, 2.0416666666666665, 2.2083333333333335, 2.4166666666666665, 2.8333333333333335, 3.25, 3.7916666666666665, 4.25, 5.166666666666667, 5.958333333333333, 7.083333333333333, 8.208333333333334, 9.958333333333334, 11.791666666666666, 13.083333333333334, 14.458333333333334, 17.375, 18.875, 20.0, 21.416666666666668, 23.291666666666668, 25.208333333333332, 26.291666666666668, 27.666666666666668, 29.875, 31.25, 32.333333333333336, 33.416666666666664, 35.583333333333336, 36.875, 37.875, 38.958333333333336, 40.125, 41.125, 41.25, 42.25, 42.333333333333336, 42.375, 42.833333333333336, 43.125, 42.875, 42.958333333333336, 43.166666666666664, 43.333333333333336, 44.166666666666664, 44.083333333333336, 44.375, 44.291666666666664, 44.791666666666664, 45.375, 46.125, 46.75, 46.833333333333336, 47.208333333333336, 47.958333333333336, 47.916666666666664, 47.791666666666664, 48.291666666666664, 48.833333333333336, 48.666666666666664, 49.791666666666664, 50.208333333333336, 50.208333333333336, 50.25, 50.25, 50.666666666666664, 51.333333333333336, 51.166666666666664, 49.75, 49.041666666666664, 48.75, 48.291666666666664, 46.875, 45.958333333333336, 44.958333333333336, 44.208333333333336, 43.791666666666664, 43.5, 43.333333333333336, 43.541666666666664, 43.916666666666664, 43.583333333333336, 43.25, 43.083333333333336, 42.291666666666664, 41.791666666666664, 41.625, 41.375, 41.458333333333336, 41.875, 41.75, 42.208333333333336, 43.5, 44.75, 45.916666666666664, 47.291666666666664, 47.666666666666664, 48.708333333333336, 50.041666666666664, 50.916666666666664, 51.125, 51.291666666666664, 51.666666666666664, 51.0, 51.375, 51.791666666666664, 53.041666666666664, 53.833333333333336, 53.583333333333336, 54.208333333333336, 54.416666666666664, 55.083333333333336, 55.375, 54.833333333333336, 54.458333333333336, 54.041666666666664, 53.75, 52.708333333333336, 51.541666666666664, 51.166666666666664, 51.708333333333336, 50.958333333333336, 49.916666666666664, 49.166666666666664, 49.208333333333336, 48.458333333333336, 47.125, 47.291666666666664, 46.166666666666664, 45.041666666666664, 43.125, 41.75, 41.0, 39.791666666666664, 38.916666666666664, 38.125, 36.333333333333336, 35.916666666666664, 35.333333333333336, 34.5, 33.208333333333336, 32.75, 32.125, 30.875, 29.375, 28.5, 27.541666666666668, 26.458333333333332, 24.625, 24.083333333333332, 23.208333333333332, 22.625, 21.25, 20.25, 19.666666666666668, 18.958333333333332, 18.125, 17.375, 16.458333333333332, 15.583333333333334, 14.75, 13.833333333333334, 13.041666666666666, 12.708333333333334, 11.958333333333334, 11.041666666666666, 10.625, 10.041666666666666, 9.375, 8.958333333333334, 8.833333333333334, 8.75, 8.125, 7.583333333333333, 7.541666666666667, 7.0, 7.041666666666667, 6.916666666666667, 6.833333333333333, 6.333333333333333, 6.0, 5.916666666666667, 6.166666666666667, 5.875, 5.5, 5.208333333333333, 4.958333333333333, 4.708333333333333, 4.541666666666667, 4.583333333333333, 4.708333333333333, 4.666666666666667, 4.708333333333333, 4.791666666666667, 4.791666666666667, 4.791666666666667, 5.041666666666667, 5.0, 5.166666666666667, 5.875, 6.25, 6.708333333333333, 7.041666666666667, 8.083333333333334, 8.875, 9.333333333333334, 9.916666666666666, 10.833333333333334, 11.875, 12.541666666666666, 13.833333333333334, 16.041666666666668, 17.583333333333332, 18.708333333333332, 20.0, 22.291666666666668, 23.916666666666668, 25.166666666666668, 26.5, 28.291666666666668, 30.083333333333332, 31.708333333333332, 32.958333333333336, 34.458333333333336, 35.625, 36.708333333333336, 38.041666666666664, 39.833333333333336, 40.916666666666664, 41.833333333333336, 42.75, 44.458333333333336, 45.583333333333336, 46.458333333333336, 47.583333333333336, 47.666666666666664, 48.25, 49.083333333333336, 49.625, 50.458333333333336, 50.416666666666664, 51.125, 51.541666666666664, 52.333333333333336, 52.291666666666664, 52.875, 53.333333333333336, 54.5, 54.875, 55.625, 55.916666666666664, 56.041666666666664, 56.25, 56.541666666666664, 56.416666666666664, 56.666666666666664, 56.416666666666664, 56.333333333333336, 56.125, 56.291666666666664, 56.041666666666664, 56.25, 55.791666666666664, 55.25, 55.541666666666664, 54.625, 54.041666666666664, 53.166666666666664, 52.541666666666664, 52.25, 51.291666666666664, 50.625, 50.291666666666664, 49.375, 48.916666666666664, 48.291666666666664, 48.166666666666664, 47.833333333333336, 47.625, 47.333333333333336, 47.125, 47.041666666666664, 46.125, 47.333333333333336, 47.291666666666664, 46.791666666666664, 47.208333333333336, 46.125, 46.0, 46.291666666666664, 46.708333333333336, 47.0, 47.458333333333336, 47.208333333333336, 48.208333333333336, 47.75, 47.708333333333336, 48.083333333333336, 47.708333333333336, 47.791666666666664, 47.458333333333336, 47.25, 47.583333333333336, 47.291666666666664, 47.0, 46.75, 47.0, 45.041666666666664, 44.291666666666664, 43.958333333333336, 43.333333333333336, 44.083333333333336, 43.416666666666664, 42.875, 41.75, 41.416666666666664, 40.5, 39.666666666666664, 38.416666666666664, 38.166666666666664, 37.333333333333336, 36.375, 36.291666666666664, 35.416666666666664, 34.916666666666664, 34.458333333333336, 33.916666666666664, 33.041666666666664, 32.708333333333336, 32.375, 32.291666666666664, 31.458333333333332, 30.916666666666668, 30.0, 29.875, 27.916666666666668, 27.291666666666668, 26.666666666666668, 26.625, 25.541666666666668, 25.166666666666668, 24.916666666666668, 24.708333333333332, 23.208333333333332, 22.625, 22.125, 21.541666666666668, 20.416666666666668, 19.75, 19.125, 18.208333333333332, 17.25, 16.583333333333332, 16.208333333333332, 15.083333333333334, 14.625, 14.125, 14.125, 13.333333333333334, 13.166666666666666, 12.583333333333334, 12.166666666666666, 11.791666666666666, 11.083333333333334, 10.75, 10.25, 9.791666666666666, 9.666666666666666, 9.541666666666666, 9.333333333333334, 9.041666666666666, 8.666666666666666, 8.208333333333334, 7.875, 7.5, 6.916666666666667, 6.666666666666667, 6.083333333333333, 5.958333333333333, 5.375, 5.25, 4.833333333333333, 4.458333333333333, 4.208333333333333, 4.125, 4.291666666666667, 4.291666666666667, 4.666666666666667, 4.625, 4.666666666666667, 4.791666666666667, 4.916666666666667, 5.0, 5.291666666666667, 5.625, 5.791666666666667, 6.208333333333333, 6.75, 7.458333333333333, 7.875, 8.25, 8.583333333333334, 9.208333333333334, 10.375, 11.166666666666666, 11.916666666666666, 12.958333333333334, 13.958333333333334, 14.625, 15.166666666666666, 16.458333333333332, 17.208333333333332, 18.0, 18.791666666666668, 19.666666666666668, 20.416666666666668, 21.0, 21.833333333333332, 23.125, 24.125, 24.666666666666668, 25.5, 26.708333333333332, 27.291666666666668, 27.833333333333332, 29.041666666666668, 30.666666666666668, 30.958333333333332, 31.375, 31.916666666666668, 33.583333333333336, 34.625, 35.333333333333336, 36.125, 36.583333333333336, 36.916666666666664, 37.291666666666664, 37.833333333333336, 39.125, 39.208333333333336, 39.75, 40.166666666666664, 40.708333333333336, 40.333333333333336, 40.583333333333336, 40.458333333333336, 40.583333333333336, 40.625, 40.75, 40.916666666666664, 40.041666666666664, 39.958333333333336, 39.583333333333336, 39.583333333333336, 38.333333333333336, 37.5, 37.0, 36.416666666666664, 36.083333333333336, 35.333333333333336, 35.125, 34.75, 34.5, 34.125, 33.75, 33.166666666666664, 32.333333333333336, 32.75, 32.666666666666664, 32.416666666666664, 31.625, 31.666666666666668, 31.5, 30.958333333333332, 31.083333333333332, 30.791666666666668, 31.041666666666668, 31.125, 31.666666666666668, 31.666666666666668, 32.041666666666664, 32.708333333333336, 33.083333333333336, 33.458333333333336, 33.25, 33.541666666666664, 33.166666666666664, 33.416666666666664, 33.625, 33.916666666666664, 34.208333333333336, 34.583333333333336, 35.0, 35.291666666666664, 35.791666666666664, 35.791666666666664, 35.75, 35.875, 35.791666666666664, 36.041666666666664, 35.791666666666664, 35.375, 34.416666666666664, 34.583333333333336, 34.291666666666664, 33.916666666666664, 33.5, 33.375, 33.666666666666664, 33.208333333333336, 33.125, 33.25, 33.041666666666664, 32.708333333333336, 32.041666666666664, 31.708333333333332, 31.416666666666668, 31.041666666666668, 29.958333333333332, 29.625, 29.125, 28.541666666666668, 27.333333333333332, 26.583333333333332, 26.125, 25.791666666666668, 24.916666666666668, 24.041666666666668, 23.583333333333332, 22.458333333333332, 21.041666666666668, 20.25, 19.333333333333332, 18.625, 17.041666666666668, 15.708333333333334, 14.791666666666666, 13.833333333333334, 12.75, 11.416666666666666, 10.25, 9.291666666666666, 8.666666666666666, 7.875, 7.291666666666667, 6.541666666666667, 6.166666666666667, 5.666666666666667, 5.25, 4.541666666666667, 4.583333333333333, 4.166666666666667, 3.6666666666666665, 3.5, 3.2083333333333335, 2.9583333333333335, 2.625, 2.3333333333333335, 2.0833333333333335, 2.0, 1.7916666666666667, 1.5833333333333333, 1.4166666666666667, 1.4166666666666667, 1.2916666666666667, 1.2083333333333333, 1.125, 1.0833333333333333, 1.0416666666666667, 1.0, 0.9583333333333334, 0.875, 0.9166666666666666, 1.0833333333333333, 1.0833333333333333, 1.2083333333333333, 1.5, 1.9583333333333333, 2.375, 2.875, 3.125, 3.875, 4.916666666666667, 5.916666666666667, 7.083333333333333, 9.208333333333334, 10.375, 12.333333333333334, 14.208333333333334, 16.125, 17.208333333333332, 18.791666666666668, 20.958333333333332, 22.625, 24.166666666666668, 25.583333333333332, 27.041666666666668, 29.166666666666668, 30.208333333333332, 30.958333333333332, 32.458333333333336, 34.125, 35.125, 35.916666666666664, 37.208333333333336, 38.5, 38.875, 39.708333333333336, 40.541666666666664, 40.625, 41.0, 40.333333333333336, 40.125, 40.625, 41.0, 41.208333333333336, 40.75, 41.375, 41.625, 42.208333333333336, 42.375, 42.666666666666664, 43.333333333333336, 44.416666666666664, 44.208333333333336, 44.666666666666664, 45.125, 45.666666666666664, 46.125, 47.208333333333336, 47.5, 47.375, 47.333333333333336, 48.0, 48.458333333333336, 48.791666666666664, 49.0, 49.208333333333336, 49.625, 49.458333333333336, 50.166666666666664, 51.041666666666664, 50.708333333333336, 50.541666666666664, 50.583333333333336, 50.208333333333336, 50.208333333333336, 49.958333333333336, 50.166666666666664, 50.375, 50.416666666666664, 50.708333333333336, 50.916666666666664, 50.708333333333336, 51.166666666666664, 51.375, 51.833333333333336, 51.541666666666664, 51.541666666666664, 51.958333333333336, 52.375, 52.791666666666664, 52.916666666666664, 53.375, 53.083333333333336, 52.75, 53.5, 54.041666666666664, 54.375, 54.291666666666664, 54.208333333333336, 54.333333333333336, 55.125, 54.666666666666664, 55.208333333333336, 56.041666666666664, 56.5, 55.458333333333336, 55.333333333333336, 55.5, 55.125, 54.458333333333336, 54.375, 54.208333333333336, 53.583333333333336, 52.291666666666664, 52.0, 51.458333333333336, 50.75, 49.833333333333336, 49.0, 48.083333333333336, 47.458333333333336, 47.25, 46.375, 45.75, 44.125, 43.291666666666664, 41.541666666666664, 39.416666666666664, 37.625, 37.208333333333336, 36.25, 34.958333333333336, 34.041666666666664, 33.541666666666664, 32.958333333333336, 31.875, 31.041666666666668, 30.125, 29.166666666666668, 28.5, 28.125, 26.791666666666668, 26.083333333333332, 24.916666666666668, 24.0, 22.541666666666668, 21.791666666666668, 20.791666666666668, 19.958333333333332, 18.708333333333332, 18.416666666666668, 17.958333333333332, 17.166666666666668, 15.708333333333334, 14.791666666666666, 14.166666666666666, 13.166666666666666, 11.958333333333334, 10.875, 10.083333333333334, 9.333333333333334, 8.583333333333334, 7.833333333333333, 7.041666666666667, 6.083333333333333, 5.458333333333333, 4.875, 4.708333333333333, 4.166666666666667, 3.7083333333333335, 3.5, 3.2083333333333335, 3.0833333333333335, 2.8333333333333335, 2.4166666666666665, 2.0, 1.875, 1.875, 1.7083333333333333, 1.5416666666666667, 1.5416666666666667, 1.3333333333333333, 1.1666666666666667, 1.125, 1.0416666666666667, 1.0833333333333333, 1.125, 1.0833333333333333, 1.2083333333333333, 1.25, 1.375, 1.4583333333333333, 1.5833333333333333, 1.7916666666666667, 1.9583333333333333, 2.3333333333333335, 2.625, 3.0, 3.375, 4.166666666666667, 4.958333333333333, 5.916666666666667, 7.041666666666667, 8.375, 9.416666666666666, 11.041666666666666, 12.375, 13.75, 16.333333333333332, 17.708333333333332, 19.541666666666668, 21.333333333333332, 23.291666666666668, 24.875, 26.5, 28.041666666666668, 29.708333333333332, 31.75, 33.0, 34.25, 35.958333333333336, 37.25, 38.541666666666664, 39.75, 41.583333333333336, 41.916666666666664, 42.833333333333336, 43.583333333333336, 45.208333333333336, 45.333333333333336, 45.25, 45.708333333333336, 45.458333333333336, 45.375, 45.458333333333336, 45.125, 45.166666666666664, 45.125, 45.041666666666664, 45.25, 45.458333333333336, 44.916666666666664, 45.041666666666664, 45.291666666666664, 45.583333333333336, 45.541666666666664, 45.291666666666664, 45.625, 45.625, 46.083333333333336, 45.25, 45.125, 44.75, 45.208333333333336, 46.041666666666664, 46.0, 46.583333333333336, 46.791666666666664, 46.5, 47.291666666666664, 46.875, 47.166666666666664, 47.208333333333336, 47.125, 47.208333333333336, 47.541666666666664, 47.75, 48.041666666666664, 47.375, 47.333333333333336, 47.916666666666664, 47.625, 47.291666666666664, 47.041666666666664, 47.833333333333336, 48.166666666666664, 48.208333333333336, 47.875, 47.416666666666664, 46.791666666666664, 46.708333333333336, 46.833333333333336, 47.041666666666664, 46.708333333333336, 47.708333333333336, 47.958333333333336, 48.083333333333336, 48.583333333333336, 48.958333333333336, 49.25, 49.541666666666664, 49.875, 50.583333333333336, 51.666666666666664, 52.375, 53.041666666666664, 53.333333333333336, 53.666666666666664, 53.291666666666664, 53.333333333333336, 53.208333333333336, 53.041666666666664, 53.5, 54.291666666666664, 53.375, 53.166666666666664, 53.041666666666664, 52.541666666666664, 50.916666666666664, 50.25, 49.583333333333336, 48.666666666666664, 47.375, 46.041666666666664, 44.458333333333336, 43.166666666666664, 41.75, 40.083333333333336, 38.125, 36.291666666666664, 34.625, 33.75, 33.166666666666664, 32.541666666666664, 31.416666666666668, 30.458333333333332, 29.708333333333332, 29.166666666666668, 28.208333333333332, 27.833333333333332, 26.666666666666668, 26.208333333333332, 25.75, 24.625, 23.708333333333332, 22.25, 21.125, 20.125, 19.791666666666668, 19.041666666666668, 18.291666666666668, 17.708333333333332, 17.0, 16.458333333333332, 15.791666666666666, 15.0, 14.083333333333334, 12.625, 11.583333333333334, 11.041666666666666, 9.75, 8.458333333333334, 7.541666666666667, 6.458333333333333, 6.0, 5.041666666666667, 4.375, 4.083333333333333, 3.75, 3.75, 3.7083333333333335, 3.7083333333333335, 3.5, 3.0, 2.875, 2.4583333333333335, 2.4166666666666665, 2.0833333333333335, 1.8333333333333333, 1.625, 1.5, 1.25, 1.0833333333333333, 0.875, 0.75, 0.625, 0.5416666666666666, 0.5, 0.5, 0.5416666666666666, 0.6666666666666666, 0.7083333333333334, 0.7083333333333334, 0.7916666666666666, 0.9583333333333334, 1.1666666666666667, 1.7083333333333333, 2.2083333333333335, 2.5833333333333335, 3.0, 3.5833333333333335, 4.166666666666667, 5.0, 5.958333333333333, 7.291666666666667, 8.541666666666666, 9.708333333333334, 11.166666666666666, 12.916666666666666, 15.375, 16.958333333333332, 18.25, 20.083333333333332, 22.166666666666668, 23.208333333333332, 24.458333333333332, 25.958333333333332, 28.25, 29.791666666666668, 30.5, 31.625, 33.291666666666664, 34.625, 35.791666666666664, 37.166666666666664, 38.875, 39.791666666666664, 40.25, 40.916666666666664, 41.791666666666664, 42.666666666666664, 42.916666666666664, 43.458333333333336, 43.375, 43.5, 43.75, 43.833333333333336, 43.541666666666664, 44.208333333333336, 44.666666666666664, 45.208333333333336, 44.333333333333336, 44.333333333333336, 45.75, 46.541666666666664, 47.041666666666664, 47.125, 47.5, 47.25, 47.5, 47.833333333333336, 48.291666666666664, 48.041666666666664, 47.958333333333336, 47.833333333333336, 47.875, 47.125, 47.083333333333336, 47.208333333333336, 47.5, 47.833333333333336, 48.5, 47.916666666666664, 48.0, 48.333333333333336, 49.291666666666664, 49.5, 48.916666666666664, 47.958333333333336, 47.5, 47.666666666666664, 47.625, 48.666666666666664, 49.25, 49.541666666666664, 49.583333333333336, 50.5, 51.166666666666664, 51.125, 51.375, 52.791666666666664, 53.375, 53.166666666666664, 52.458333333333336, 53.041666666666664, 53.125, 54.333333333333336, 54.25, 53.916666666666664, 53.416666666666664, 54.083333333333336, 54.625, 55.333333333333336, 55.625, 56.375, 57.125, 57.5, 57.125, 57.083333333333336, 57.125, 56.666666666666664, 56.208333333333336, 56.125, 56.416666666666664, 55.958333333333336, 55.25, 55.208333333333336, 55.625, 54.541666666666664, 53.583333333333336, 52.625, 51.916666666666664, 51.625, 51.083333333333336, 49.875, 48.458333333333336, 47.958333333333336, 46.583333333333336, 44.875, 43.208333333333336, 41.458333333333336, 40.125, 38.916666666666664, 38.333333333333336, 37.583333333333336, 36.666666666666664, 35.916666666666664, 34.75, 33.166666666666664, 31.666666666666668, 30.791666666666668, 29.541666666666668, 28.708333333333332, 27.75, 26.708333333333332, 26.125, 25.041666666666668, 24.166666666666668, 23.416666666666668, 22.875, 21.583333333333332, 20.791666666666668, 20.25, 19.75, 18.791666666666668, 17.625, 16.833333333333332, 15.708333333333334, 14.625, 13.333333333333334, 12.375, 11.291666666666666, 10.416666666666666, 9.75, 9.083333333333334, 8.833333333333334, 7.791666666666667, 7.083333333333333, 6.625, 6.25, 5.583333333333333, 5.083333333333333, 4.5, 4.291666666666667, 3.875, 3.5416666666666665, 2.9583333333333335, 2.4583333333333335, 2.0416666666666665, 1.7916666666666667, 1.4583333333333333, 1.2083333333333333, 0.875, 0.875, 0.875, 0.8333333333333334, 0.9166666666666666, 0.9583333333333334, 0.875, 0.875, 0.9583333333333334, 0.9583333333333334, 0.9166666666666666, 0.9166666666666666, 1.25, 1.5416666666666667, 1.7083333333333333, 2.0, 2.375, 2.75, 3.0416666666666665, 4.0, 4.791666666666667, 5.5, 6.416666666666667, 7.833333333333333, 9.125, 10.458333333333334, 11.708333333333334, 13.791666666666666, 15.625, 17.125, 18.583333333333332, 20.625, 22.458333333333332, 23.541666666666668, 25.041666666666668, 26.583333333333332, 28.208333333333332, 29.333333333333332, 30.875, 32.791666666666664, 34.75, 35.583333333333336, 37.0, 38.166666666666664, 39.041666666666664, 39.666666666666664, 40.166666666666664, 40.75, 41.416666666666664, 42.166666666666664, 42.333333333333336, 42.083333333333336, 42.166666666666664, 42.541666666666664, 42.708333333333336, 41.875, 42.166666666666664, 42.416666666666664, 42.208333333333336, 42.708333333333336, 43.125, 43.333333333333336, 43.416666666666664, 42.833333333333336, 42.791666666666664, 43.208333333333336, 43.375, 43.208333333333336, 43.833333333333336, 44.375, 44.291666666666664, 44.875, 45.458333333333336, 45.333333333333336, 45.833333333333336, 45.833333333333336, 45.541666666666664, 45.375, 45.125, 46.083333333333336, 45.708333333333336, 45.75, 46.583333333333336, 46.958333333333336, 46.708333333333336, 47.041666666666664, 47.041666666666664, 47.75, 47.5, 47.666666666666664, 47.583333333333336, 47.708333333333336, 47.916666666666664, 48.208333333333336, 49.041666666666664, 48.541666666666664, 48.666666666666664, 48.625, 48.25, 48.708333333333336, 49.5, 49.916666666666664, 50.625, 51.125, 51.708333333333336, 52.083333333333336, 52.375, 51.333333333333336, 51.708333333333336, 52.166666666666664, 52.333333333333336, 52.166666666666664, 52.833333333333336, 53.708333333333336, 54.708333333333336, 55.208333333333336, 55.25, 55.0, 54.875, 54.375, 54.291666666666664, 54.166666666666664, 54.458333333333336, 54.875, 54.875, 54.125, 53.625, 52.875, 52.125, 51.708333333333336, 50.333333333333336, 51.0, 49.625, 48.458333333333336, 47.75, 47.083333333333336, 45.5, 44.208333333333336, 42.625, 41.083333333333336, 39.541666666666664, 38.625, 37.708333333333336, 37.625, 36.041666666666664, 35.375, 34.166666666666664, 32.5, 31.125, 30.833333333333332, 30.375, 29.291666666666668, 29.083333333333332, 28.625, 28.0, 26.125, 26.0, 25.291666666666668, 24.5, 23.166666666666668, 22.25, 21.125, 20.25, 19.666666666666668, 18.875, 18.083333333333332, 17.25, 15.916666666666666, 15.166666666666666, 14.208333333333334, 13.625, 12.708333333333334, 11.666666666666666, 10.666666666666666, 9.666666666666666, 8.916666666666666, 7.5, 6.666666666666667, 6.291666666666667, 6.0, 4.958333333333333, 4.375, 3.875, 3.5833333333333335, 3.375, 3.125, 2.7916666666666665, 2.3333333333333335, 2.125, 1.9166666666666667, 1.625, 1.5416666666666667, 1.2916666666666667, 1.1666666666666667, 1.0833333333333333, 1.0, 0.9166666666666666, 0.8333333333333334, 0.9166666666666666, 0.9583333333333334, 1.0, 0.9583333333333334, 1.125, 1.2083333333333333, 1.5416666666666667, 1.7083333333333333, 2.0416666666666665, 2.5, 2.8333333333333335, 3.2083333333333335, 3.7916666666666665, 4.333333333333333, 5.208333333333333, 6.0, 7.666666666666667, 8.791666666666666, 10.041666666666666, 11.125, 13.166666666666666, 15.0, 16.833333333333332, 17.875, 19.583333333333332, 20.875, 22.625, 24.333333333333332, 25.875, 27.75, 28.958333333333332, 30.25, 32.416666666666664, 33.166666666666664, 34.166666666666664, 35.333333333333336, 37.166666666666664, 38.75, 39.0, 40.083333333333336, 39.916666666666664, 40.416666666666664, 40.875, 41.291666666666664, 41.458333333333336, 41.416666666666664, 41.75, 42.416666666666664, 43.166666666666664, 43.375, 43.0, 42.958333333333336, 43.166666666666664, 42.75, 42.75, 42.708333333333336, 42.75, 43.75, 44.625, 45.291666666666664, 46.041666666666664, 46.125, 46.541666666666664, 46.75, 47.666666666666664, 47.875, 48.208333333333336, 48.625, 48.75, 49.083333333333336, 48.458333333333336, 48.25, 47.958333333333336, 48.291666666666664, 48.625, 48.875, 49.5, 49.833333333333336, 49.625, 49.625, 49.166666666666664, 49.25, 48.625, 48.583333333333336, 47.791666666666664, 47.875, 47.958333333333336, 47.791666666666664, 48.083333333333336, 48.291666666666664, 48.375, 48.5, 48.916666666666664, 49.375, 49.958333333333336, 50.041666666666664, 50.958333333333336, 51.166666666666664, 51.083333333333336, 51.083333333333336, 51.125, 51.458333333333336, 52.541666666666664, 53.208333333333336, 53.708333333333336, 53.875, 54.875, 55.708333333333336, 56.25, 56.083333333333336, 57.166666666666664, 57.833333333333336]\n",
            "[57.125, 57.416666666666664, 57.708333333333336, 57.458333333333336, 57.333333333333336, 56.875, 56.5, 56.25, 55.166666666666664, 54.541666666666664, 54.541666666666664, 54.416666666666664, 53.625, 52.625, 51.375, 50.625, 49.708333333333336, 47.916666666666664, 46.583333333333336, 45.041666666666664, 43.291666666666664, 42.291666666666664, 40.541666666666664, 39.125, 38.833333333333336, 37.625, 36.541666666666664, 35.625, 34.375, 33.583333333333336, 32.791666666666664, 32.666666666666664, 31.083333333333332, 30.833333333333332, 29.958333333333332, 29.25, 28.0, 27.666666666666668, 27.083333333333332, 26.416666666666668, 25.333333333333332, 25.291666666666668, 25.0, 23.625, 22.708333333333332, 21.75, 21.333333333333332, 20.625, 19.5, 18.375, 17.125, 16.416666666666668, 15.166666666666666, 14.125, 13.333333333333334, 12.375, 12.0, 10.958333333333334, 10.291666666666666, 9.541666666666666, 9.125, 8.5, 8.125, 7.625, 7.25, 6.875, 6.125, 6.25, 6.166666666666667, 6.25, 5.833333333333333, 5.5, 5.083333333333333, 5.125, 5.291666666666667, 5.291666666666667, 5.208333333333333, 5.208333333333333, 5.166666666666667, 5.041666666666667, 4.916666666666667, 4.625, 4.583333333333333, 4.5, 4.5, 4.416666666666667, 4.416666666666667, 4.5, 4.625, 4.75, 4.833333333333333, 5.208333333333333, 5.416666666666667, 5.625, 6.083333333333333, 6.541666666666667, 6.958333333333333, 7.541666666666667, 8.041666666666666, 9.208333333333334, 10.416666666666666, 11.416666666666666, 12.875, 14.833333333333334, 16.0, 17.333333333333332, 18.666666666666668, 20.291666666666668, 21.375, 23.083333333333332, 23.875, 25.833333333333332, 26.833333333333332, 27.875, 29.291666666666668, 30.791666666666668, 31.875, 33.0, 34.083333333333336, 36.041666666666664, 37.291666666666664, 38.333333333333336, 39.458333333333336, 40.875, 41.75, 42.125, 42.458333333333336, 42.916666666666664, 43.916666666666664, 44.583333333333336, 45.083333333333336, 45.833333333333336, 47.083333333333336, 47.25, 48.166666666666664, 48.583333333333336, 49.75, 50.625, 51.041666666666664, 51.791666666666664, 52.708333333333336, 53.5, 53.708333333333336, 54.083333333333336, 54.208333333333336, 54.5, 54.375, 54.208333333333336, 53.958333333333336, 54.375, 54.333333333333336, 54.666666666666664, 54.458333333333336, 54.458333333333336, 54.375, 54.416666666666664, 54.0, 53.75, 53.583333333333336, 53.583333333333336, 52.75, 52.208333333333336, 52.083333333333336, 52.125, 52.125, 52.125, 52.291666666666664, 52.5, 52.333333333333336, 52.375, 52.333333333333336, 52.333333333333336, 52.291666666666664, 51.708333333333336, 51.875, 51.791666666666664, 51.625, 51.875, 51.458333333333336, 51.625, 51.375, 51.541666666666664, 51.333333333333336, 51.458333333333336, 51.625, 51.458333333333336, 51.416666666666664, 50.958333333333336, 50.125, 49.666666666666664, 49.833333333333336, 49.375, 49.166666666666664, 48.708333333333336, 48.833333333333336, 48.916666666666664, 49.208333333333336, 49.541666666666664, 49.125, 48.375, 48.125, 47.166666666666664, 46.75, 45.625, 45.333333333333336, 44.375, 43.833333333333336, 42.708333333333336, 41.583333333333336, 41.375, 40.583333333333336, 39.708333333333336, 39.125, 38.083333333333336, 36.833333333333336, 35.791666666666664, 35.166666666666664, 34.375, 33.583333333333336, 32.083333333333336, 31.333333333333332, 30.458333333333332, 30.041666666666668, 28.666666666666668, 28.416666666666668, 27.833333333333332, 28.041666666666668, 26.916666666666668, 26.166666666666668, 25.708333333333332, 25.458333333333332, 24.5, 24.375, 23.666666666666668, 23.25, 22.25, 22.125, 21.791666666666668, 21.375, 19.958333333333332, 19.333333333333332, 18.875, 18.083333333333332, 17.333333333333332, 16.208333333333332, 15.333333333333334, 14.416666666666666, 13.916666666666666, 12.75, 12.333333333333334, 11.375, 11.166666666666666, 10.583333333333334, 10.208333333333334, 9.708333333333334, 9.458333333333334, 9.208333333333334, 8.75, 8.166666666666666, 7.875, 7.25, 6.791666666666667, 6.333333333333333, 6.375, 6.041666666666667, 5.666666666666667, 5.5, 5.208333333333333, 5.125, 5.166666666666667, 5.0, 4.833333333333333, 4.708333333333333, 4.5, 4.416666666666667, 4.125, 4.041666666666667, 3.9583333333333335, 3.9166666666666665, 3.8333333333333335, 3.7083333333333335, 3.7083333333333335, 4.083333333333333, 4.333333333333333, 4.375, 4.666666666666667, 5.375, 5.625, 6.125, 6.666666666666667, 7.291666666666667, 7.875, 8.166666666666666, 8.5, 9.25, 9.625, 9.875, 10.541666666666666, 11.541666666666666, 12.625, 13.291666666666666, 14.333333333333334, 15.666666666666666, 16.416666666666668, 17.625, 18.291666666666668, 19.833333333333332, 20.75, 21.583333333333332, 21.958333333333332, 23.083333333333332, 24.125, 25.041666666666668, 25.75, 27.166666666666668, 27.625, 28.666666666666668, 29.791666666666668, 31.208333333333332, 32.333333333333336, 33.75, 34.541666666666664, 36.083333333333336, 36.625, 37.166666666666664, 37.958333333333336, 38.958333333333336, 39.375, 39.083333333333336, 39.708333333333336, 40.333333333333336, 41.25, 41.583333333333336, 42.25, 42.666666666666664, 42.375, 42.916666666666664, 43.416666666666664, 43.458333333333336, 43.458333333333336, 43.083333333333336, 42.791666666666664, 42.458333333333336, 41.791666666666664, 41.375, 40.583333333333336, 39.875, 39.25, 39.458333333333336, 38.166666666666664, 38.041666666666664, 37.75, 37.791666666666664, 37.666666666666664, 37.0, 35.666666666666664, 35.416666666666664, 35.75, 35.666666666666664, 35.625, 34.541666666666664, 34.5, 34.083333333333336, 34.125, 34.25, 34.0, 33.833333333333336, 34.375, 34.791666666666664, 35.208333333333336, 34.958333333333336, 35.25, 34.625, 35.25, 35.125, 35.458333333333336, 35.833333333333336, 35.666666666666664, 35.5, 35.916666666666664, 36.125, 35.458333333333336, 35.791666666666664, 36.25, 37.208333333333336, 36.625, 37.125, 37.0, 37.0, 37.125, 37.208333333333336, 36.625, 35.916666666666664, 35.708333333333336, 35.625, 35.375, 34.833333333333336, 34.25, 33.416666666666664, 32.916666666666664, 32.541666666666664, 32.416666666666664, 32.625, 32.25, 31.583333333333332, 31.208333333333332, 30.416666666666668, 29.708333333333332, 28.875, 28.791666666666668, 27.333333333333332, 26.916666666666668, 26.416666666666668, 26.083333333333332, 24.916666666666668, 24.833333333333332, 24.625, 24.375, 23.0, 22.5, 22.291666666666668, 22.291666666666668, 21.041666666666668, 20.166666666666668, 19.25, 18.5, 16.833333333333332, 16.083333333333332, 15.708333333333334, 15.208333333333334, 13.5, 12.583333333333334, 11.666666666666666, 10.666666666666666, 9.916666666666666, 9.333333333333334, 8.666666666666666, 7.916666666666667, 7.333333333333333, 6.583333333333333, 5.833333333333333, 5.208333333333333, 4.916666666666667, 4.291666666666667, 4.125, 3.4583333333333335, 3.25, 3.0833333333333335, 2.875, 2.5833333333333335, 2.2916666666666665, 2.0, 1.6666666666666667, 1.4583333333333333, 1.375, 1.3333333333333333, 1.25, 1.2083333333333333, 1.125, 0.9583333333333334, 0.8333333333333334, 0.7083333333333334, 0.625, 0.7083333333333334, 0.625, 0.6666666666666666, 0.7083333333333334, 0.9166666666666666, 1.1666666666666667, 1.5416666666666667, 1.7083333333333333, 2.1666666666666665, 2.75, 3.6666666666666665, 4.0, 4.916666666666667, 6.25, 7.916666666666667, 9.333333333333334, 10.625, 12.458333333333334, 15.0, 16.375, 17.583333333333332, 19.166666666666668, 21.125, 22.666666666666668, 23.625, 24.666666666666668, 26.625, 27.791666666666668, 29.041666666666668, 30.583333333333332, 32.375, 34.375, 34.541666666666664, 35.333333333333336, 36.916666666666664, 37.583333333333336, 37.416666666666664, 37.708333333333336, 37.958333333333336, 38.291666666666664, 38.458333333333336, 36.791666666666664, 36.708333333333336, 36.25, 36.541666666666664, 36.75, 37.083333333333336, 36.041666666666664, 35.041666666666664, 34.916666666666664, 35.708333333333336, 35.791666666666664, 35.75, 35.25, 35.583333333333336, 34.416666666666664, 35.083333333333336, 34.625, 33.541666666666664, 33.333333333333336, 34.25, 33.958333333333336, 34.041666666666664, 32.458333333333336, 31.958333333333332, 32.708333333333336, 32.625, 33.25, 33.5, 32.25, 32.416666666666664, 31.833333333333332, 31.75, 30.791666666666668, 27.875, 27.208333333333332, 27.166666666666668, 27.458333333333332, 26.0, 26.375, 26.75, 28.166666666666668, 29.416666666666668, 30.375, 30.666666666666668, 31.458333333333332, 32.291666666666664, 33.958333333333336, 35.041666666666664, 36.166666666666664, 36.5, 36.75, 36.791666666666664, 38.25, 38.625, 40.583333333333336, 42.791666666666664, 44.583333333333336, 47.125, 48.833333333333336, 49.875, 51.208333333333336, 52.333333333333336, 53.916666666666664, 54.833333333333336, 55.25, 54.708333333333336, 54.916666666666664, 54.625, 54.458333333333336, 53.375, 53.75, 54.041666666666664, 54.083333333333336, 54.083333333333336, 54.375, 54.208333333333336, 53.666666666666664, 52.458333333333336, 52.25, 51.25, 50.291666666666664, 49.291666666666664, 48.041666666666664, 46.708333333333336, 44.916666666666664, 44.166666666666664, 41.875, 40.166666666666664, 38.25, 36.958333333333336, 35.791666666666664, 35.0, 34.083333333333336, 33.75, 32.583333333333336, 31.291666666666668, 30.708333333333332, 29.291666666666668, 28.083333333333332, 26.916666666666668, 26.125, 25.333333333333332, 24.208333333333332, 23.708333333333332, 23.375, 22.333333333333332, 22.041666666666668, 21.208333333333332, 20.333333333333332, 19.0, 18.416666666666668, 17.666666666666668, 16.916666666666668, 16.291666666666668, 15.5, 14.833333333333334, 13.875, 12.583333333333334, 11.583333333333334, 10.75, 9.375, 8.083333333333334, 7.208333333333333, 6.75, 6.208333333333333, 5.458333333333333, 4.833333333333333, 4.125, 3.625, 3.125, 2.2916666666666665, 2.0416666666666665, 1.7916666666666667, 1.7083333333333333, 1.625, 1.5, 1.375, 1.125, 1.0, 0.7916666666666666, 0.7083333333333334, 0.5833333333333334, 0.5416666666666666, 0.3333333333333333, 0.20833333333333334, 0.20833333333333334, 0.20833333333333334, 0.20833333333333334, 0.125, 0.125, 0.16666666666666666, 0.20833333333333334, 0.2916666666666667, 0.3333333333333333, 0.5, 0.9583333333333334, 1.3333333333333333, 1.5416666666666667, 1.8333333333333333, 2.125, 2.625, 3.2083333333333335, 4.166666666666667, 5.041666666666667, 6.625, 8.083333333333334, 9.458333333333334, 11.0, 13.541666666666666, 15.041666666666666, 16.125, 18.166666666666668, 20.875, 22.541666666666668, 24.291666666666668, 25.75, 27.708333333333332, 29.041666666666668, 30.791666666666668, 32.083333333333336, 33.5, 34.625, 35.666666666666664, 37.083333333333336, 38.625, 39.291666666666664, 40.041666666666664, 40.541666666666664, 39.166666666666664, 40.0, 40.583333333333336, 40.791666666666664, 40.833333333333336, 40.291666666666664, 40.916666666666664, 40.5, 40.208333333333336, 40.375, 40.583333333333336, 40.833333333333336, 41.208333333333336, 41.708333333333336, 41.666666666666664, 42.0, 42.458333333333336, 42.958333333333336, 43.333333333333336, 42.583333333333336, 42.833333333333336, 43.416666666666664, 43.541666666666664, 43.833333333333336, 45.958333333333336, 45.041666666666664, 44.791666666666664, 44.75, 44.291666666666664, 44.875, 44.791666666666664, 45.125, 44.708333333333336, 43.875, 43.708333333333336, 43.5, 43.208333333333336, 43.25, 43.041666666666664, 42.791666666666664, 42.875, 42.75, 42.791666666666664, 43.583333333333336, 43.958333333333336, 43.5, 43.416666666666664, 43.416666666666664, 43.916666666666664, 44.333333333333336, 44.333333333333336, 44.791666666666664, 45.416666666666664, 46.166666666666664, 46.666666666666664, 46.875, 47.958333333333336, 48.791666666666664, 49.166666666666664, 50.041666666666664, 50.208333333333336, 50.708333333333336, 51.5, 52.333333333333336, 52.333333333333336, 53.208333333333336, 53.583333333333336, 54.166666666666664, 53.916666666666664, 54.916666666666664, 55.166666666666664, 55.75, 54.791666666666664, 54.708333333333336, 54.541666666666664, 55.083333333333336, 54.75, 54.125, 53.791666666666664, 53.375, 52.333333333333336, 51.708333333333336, 51.125, 49.875, 49.208333333333336, 48.083333333333336, 46.833333333333336, 44.875, 43.416666666666664, 41.541666666666664, 40.291666666666664, 39.458333333333336, 38.541666666666664, 37.166666666666664, 35.75, 34.791666666666664, 34.0, 33.5, 32.541666666666664, 30.75, 29.75, 29.666666666666668, 28.875, 28.458333333333332, 26.958333333333332, 26.583333333333332, 25.75, 25.333333333333332, 24.208333333333332, 23.333333333333332, 22.458333333333332, 22.166666666666668, 21.458333333333332, 21.458333333333332, 20.833333333333332, 19.791666666666668, 18.458333333333332, 17.541666666666668, 17.25, 16.291666666666668, 15.375, 14.416666666666666, 13.916666666666666, 13.083333333333334, 11.666666666666666, 10.125, 9.25, 7.916666666666667, 7.375, 6.541666666666667, 5.791666666666667, 5.083333333333333, 4.625, 4.208333333333333, 3.875, 3.4583333333333335, 3.2916666666666665, 2.5833333333333335, 2.3333333333333335, 1.875, 1.7083333333333333, 1.625, 1.3333333333333333, 1.0, 0.8333333333333334, 0.5833333333333334, 0.5, 0.4166666666666667, 0.4166666666666667, 0.375, 0.25, 0.25, 0.20833333333333334, 0.125, 0.08333333333333333, 0.041666666666666664, 0.041666666666666664, 0.20833333333333334, 0.5833333333333334, 1.0, 1.3333333333333333, 1.9166666666666667, 2.375, 3.0, 3.8333333333333335, 4.958333333333333, 6.291666666666667, 7.75, 8.958333333333334, 10.0, 11.291666666666666, 13.25, 14.875, 16.416666666666668, 18.0, 20.916666666666668, 22.541666666666668, 24.166666666666668, 26.083333333333332, 28.333333333333332, 30.083333333333332, 31.291666666666668, 32.708333333333336, 34.0, 35.458333333333336, 36.25, 37.791666666666664, 38.916666666666664, 39.708333333333336, 40.083333333333336, 40.708333333333336, 41.125, 41.708333333333336, 42.25, 43.041666666666664, 43.375, 43.875, 43.791666666666664, 44.0, 43.333333333333336, 43.75, 43.875, 44.125, 44.083333333333336, 43.666666666666664, 44.083333333333336, 44.083333333333336, 45.125, 45.083333333333336, 46.125, 46.416666666666664, 47.541666666666664, 47.0, 47.25, 47.0, 47.25, 47.5, 47.916666666666664, 47.791666666666664, 47.875, 47.291666666666664, 47.583333333333336, 48.083333333333336, 48.166666666666664, 47.625, 47.625, 47.083333333333336, 47.166666666666664, 47.083333333333336, 46.791666666666664, 46.958333333333336, 46.375, 46.25, 45.166666666666664, 45.041666666666664, 44.75, 45.625, 45.208333333333336, 45.666666666666664, 46.0, 45.833333333333336, 45.666666666666664, 45.791666666666664, 46.208333333333336, 46.791666666666664, 47.125, 47.416666666666664, 48.041666666666664, 48.541666666666664, 48.375, 48.458333333333336, 48.208333333333336, 49.166666666666664, 50.708333333333336, 51.5, 51.708333333333336, 52.416666666666664, 53.916666666666664, 54.041666666666664, 53.291666666666664, 53.791666666666664, 54.291666666666664, 54.708333333333336, 54.375, 54.291666666666664, 54.166666666666664, 54.125, 54.0, 54.0, 53.5, 53.333333333333336, 52.375, 51.708333333333336, 51.416666666666664, 51.583333333333336, 51.25, 50.416666666666664, 48.416666666666664, 47.041666666666664, 45.666666666666664, 44.125, 42.416666666666664, 41.791666666666664, 41.333333333333336, 39.791666666666664, 39.041666666666664, 37.916666666666664, 37.166666666666664, 36.583333333333336, 36.0, 34.791666666666664, 33.75, 32.791666666666664, 32.375, 30.875, 29.458333333333332, 28.875, 28.958333333333332, 27.458333333333332, 26.458333333333332, 25.625, 25.0, 23.958333333333332, 23.25, 22.666666666666668, 21.833333333333332, 20.375, 19.25, 18.708333333333332, 17.875, 16.875, 15.75, 14.666666666666666, 13.583333333333334, 12.875, 11.291666666666666, 10.166666666666666, 9.0, 8.166666666666666, 7.666666666666667, 7.041666666666667, 5.708333333333333, 5.333333333333333, 4.666666666666667, 4.291666666666667, 3.9583333333333335, 3.625, 3.3333333333333335, 3.1666666666666665, 2.9166666666666665, 2.7083333333333335, 2.4583333333333335, 2.1666666666666665, 2.0, 1.7083333333333333, 1.5833333333333333, 1.5416666666666667, 1.5833333333333333, 1.5, 1.5, 1.5833333333333333, 1.625, 1.7083333333333333, 1.6666666666666667, 1.5833333333333333, 1.5833333333333333, 1.6666666666666667, 1.7916666666666667, 1.9166666666666667, 2.2083333333333335, 2.2916666666666665, 2.875, 3.4166666666666665, 4.0, 4.541666666666667, 5.125, 5.875, 7.083333333333333, 7.833333333333333, 9.041666666666666, 10.833333333333334, 12.416666666666666, 13.791666666666666, 15.625, 17.083333333333332, 19.333333333333332, 21.125, 22.875, 24.416666666666668, 25.916666666666668, 27.5, 28.958333333333332, 30.083333333333332, 31.625, 33.791666666666664, 35.083333333333336, 36.458333333333336, 37.791666666666664, 38.916666666666664, 40.083333333333336, 41.083333333333336, 41.708333333333336, 42.75, 43.125, 42.625, 42.875, 43.333333333333336, 43.458333333333336, 43.416666666666664, 42.875, 42.666666666666664, 42.416666666666664, 42.541666666666664, 43.291666666666664, 43.375, 43.625, 44.5, 44.458333333333336, 44.75, 44.375, 44.666666666666664, 44.916666666666664, 45.833333333333336, 45.5, 45.75, 45.833333333333336, 45.958333333333336, 46.208333333333336, 46.833333333333336, 46.625, 46.666666666666664, 46.166666666666664, 46.583333333333336, 46.75, 47.208333333333336, 47.458333333333336, 47.208333333333336, 46.791666666666664, 47.291666666666664, 46.708333333333336, 46.291666666666664, 46.416666666666664, 46.333333333333336, 46.541666666666664, 46.0, 45.708333333333336, 45.166666666666664, 46.166666666666664, 46.291666666666664, 46.333333333333336, 46.916666666666664, 46.583333333333336, 46.583333333333336, 47.375, 47.708333333333336, 48.125, 47.791666666666664, 48.375, 49.0, 49.083333333333336, 49.416666666666664, 49.625, 49.458333333333336, 50.083333333333336, 50.416666666666664, 51.041666666666664, 50.875, 51.541666666666664, 52.25, 53.0, 53.083333333333336, 52.958333333333336, 52.833333333333336, 53.083333333333336, 52.458333333333336, 52.875, 53.0, 52.666666666666664, 52.541666666666664, 52.208333333333336, 52.583333333333336, 52.25, 51.625, 51.333333333333336, 51.25, 50.75, 49.708333333333336, 49.041666666666664, 48.0, 47.0, 45.958333333333336, 44.583333333333336, 43.125, 41.708333333333336, 40.333333333333336, 39.208333333333336, 38.291666666666664, 37.416666666666664, 36.666666666666664, 35.583333333333336, 34.75, 33.583333333333336, 33.083333333333336, 32.458333333333336, 31.583333333333332, 30.0, 29.125, 28.125, 27.5, 26.5, 25.958333333333332, 25.291666666666668, 24.666666666666668, 23.25, 22.291666666666668, 21.541666666666668, 20.833333333333332, 19.833333333333332, 19.458333333333332, 18.5, 17.5, 16.291666666666668, 15.208333333333334, 14.375, 13.375, 12.583333333333334, 11.166666666666666, 10.291666666666666, 9.333333333333334, 8.833333333333334, 7.666666666666667, 7.25, 6.208333333333333, 5.75, 5.291666666666667, 4.833333333333333, 4.333333333333333, 4.25, 4.0, 3.8333333333333335, 3.75, 3.5416666666666665, 3.1666666666666665, 2.9583333333333335, 2.7916666666666665, 2.5833333333333335, 2.4166666666666665, 2.3333333333333335, 2.1666666666666665, 1.9583333333333333, 1.7916666666666667, 1.75, 1.6666666666666667, 1.6666666666666667, 1.625, 1.4583333333333333, 1.5833333333333333, 1.625, 1.75, 2.0, 2.4583333333333335, 2.5416666666666665, 2.6666666666666665, 2.875, 3.3333333333333335, 3.7083333333333335, 4.083333333333333, 4.833333333333333, 6.416666666666667, 7.5, 8.708333333333334, 9.75, 11.333333333333334, 12.583333333333334, 13.958333333333334, 15.083333333333334, 17.291666666666668, 19.333333333333332, 20.791666666666668, 22.166666666666668, 24.166666666666668, 26.208333333333332, 27.541666666666668, 28.583333333333332, 30.5, 31.958333333333332, 33.458333333333336, 34.625, 35.958333333333336, 37.541666666666664, 38.375, 38.958333333333336, 39.541666666666664, 40.791666666666664, 41.125, 41.666666666666664, 42.083333333333336, 42.916666666666664, 43.25, 44.125, 44.0, 44.041666666666664, 44.041666666666664, 44.291666666666664, 45.0, 44.916666666666664, 45.375, 45.916666666666664, 45.75, 46.5, 46.958333333333336, 47.208333333333336, 47.916666666666664, 48.416666666666664, 49.041666666666664, 49.583333333333336, 49.5, 49.208333333333336, 49.375, 49.416666666666664, 49.5, 49.375, 49.583333333333336, 49.541666666666664, 49.083333333333336, 48.916666666666664, 49.583333333333336, 50.208333333333336, 49.625, 49.833333333333336, 49.541666666666664, 49.583333333333336, 49.583333333333336, 49.541666666666664, 49.5, 49.958333333333336, 49.583333333333336, 49.708333333333336, 49.875, 50.333333333333336, 50.75, 51.166666666666664, 51.333333333333336, 51.666666666666664, 51.083333333333336, 51.791666666666664, 51.708333333333336, 51.583333333333336, 52.291666666666664, 52.541666666666664, 52.166666666666664, 52.125, 52.583333333333336, 52.916666666666664, 54.166666666666664, 54.583333333333336, 54.875, 55.041666666666664, 55.5, 55.833333333333336, 56.083333333333336, 55.666666666666664, 55.458333333333336, 54.625, 54.291666666666664, 53.958333333333336, 54.166666666666664, 54.25, 55.291666666666664, 54.833333333333336, 54.75, 54.75, 54.458333333333336, 54.291666666666664, 53.75, 53.208333333333336, 52.416666666666664, 51.208333333333336, 49.333333333333336, 48.416666666666664, 47.333333333333336, 46.208333333333336, 44.791666666666664, 43.541666666666664, 42.916666666666664, 42.0, 41.458333333333336, 41.166666666666664, 40.75, 39.666666666666664, 39.416666666666664, 38.75, 37.0, 36.375, 35.833333333333336, 35.666666666666664, 35.083333333333336, 33.833333333333336, 33.0, 32.625, 31.125, 30.416666666666668, 30.083333333333332, 29.208333333333332, 28.208333333333332, 27.166666666666668, 26.625, 25.75, 24.208333333333332, 23.541666666666668, 22.666666666666668, 21.833333333333332, 20.583333333333332, 19.75, 18.0, 16.75, 15.958333333333334, 14.708333333333334, 13.916666666666666, 12.541666666666666, 11.25, 10.625, 10.5, 9.583333333333334, 9.416666666666666, 8.916666666666666, 8.5, 8.166666666666666, 7.875, 7.583333333333333, 7.25, 7.041666666666667, 6.833333333333333, 6.5, 6.291666666666667, 6.166666666666667, 5.875, 6.083333333333333, 6.125, 6.166666666666667, 6.208333333333333, 6.083333333333333, 5.708333333333333, 5.416666666666667, 5.416666666666667, 5.291666666666667, 4.958333333333333, 4.75, 4.625, 4.458333333333333, 4.375, 4.5, 4.708333333333333, 4.833333333333333, 4.833333333333333, 4.916666666666667, 5.083333333333333, 5.25, 5.208333333333333, 5.583333333333333, 5.916666666666667, 6.125, 6.5, 7.541666666666667, 8.583333333333334, 9.083333333333334, 10.125, 11.916666666666666, 13.875, 15.375, 17.208333333333332, 18.916666666666668, 20.083333333333332, 21.5, 22.875, 24.666666666666668, 26.125, 27.291666666666668, 28.708333333333332, 30.333333333333332, 32.083333333333336, 33.0, 34.166666666666664, 35.75, 37.625, 38.916666666666664, 40.041666666666664, 41.583333333333336, 42.166666666666664, 43.083333333333336, 43.75, 44.458333333333336, 45.333333333333336, 46.0, 45.833333333333336, 46.666666666666664, 47.958333333333336, 48.375, 48.958333333333336, 49.083333333333336, 49.875, 50.333333333333336, 50.666666666666664, 51.75, 52.0, 52.291666666666664, 53.291666666666664, 53.541666666666664, 53.875, 53.958333333333336, 54.375, 54.333333333333336, 55.0, 55.5, 55.375, 55.708333333333336, 55.333333333333336, 54.833333333333336, 55.416666666666664, 55.291666666666664, 54.916666666666664, 54.791666666666664, 54.875, 54.666666666666664, 54.708333333333336, 54.75, 54.875, 54.0, 54.041666666666664, 54.375, 53.458333333333336, 53.75, 53.625, 53.708333333333336, 53.333333333333336, 52.916666666666664, 52.541666666666664, 52.583333333333336, 52.916666666666664, 52.375, 51.833333333333336, 52.0, 51.625, 51.458333333333336, 50.958333333333336, 50.958333333333336, 50.166666666666664, 50.291666666666664, 49.958333333333336, 49.833333333333336, 49.375, 50.083333333333336, 49.708333333333336, 49.5, 49.583333333333336, 49.208333333333336, 48.416666666666664, 47.791666666666664, 47.541666666666664, 47.083333333333336, 46.916666666666664, 46.125, 45.916666666666664, 45.541666666666664, 44.791666666666664, 44.458333333333336, 44.333333333333336, 43.958333333333336, 43.5, 43.166666666666664, 43.0, 41.875, 40.5, 40.125, 39.625, 38.625, 37.75, 37.083333333333336, 36.875, 35.791666666666664, 35.25, 34.958333333333336, 34.833333333333336, 34.0, 33.333333333333336, 33.125, 32.791666666666664, 31.541666666666668, 31.125, 30.583333333333332, 29.458333333333332, 28.375, 28.0, 27.125, 26.666666666666668, 26.208333333333332, 25.625, 24.958333333333332, 24.291666666666668, 23.25, 22.541666666666668, 21.875, 21.083333333333332, 20.375, 19.5, 18.875, 17.958333333333332, 17.125, 16.125, 15.375, 14.375, 14.208333333333334, 13.583333333333334, 12.916666666666666, 12.458333333333334, 11.791666666666666, 11.333333333333334, 11.125, 10.458333333333334, 9.958333333333334, 9.75, 9.291666666666666, 9.041666666666666, 8.625, 8.458333333333334, 8.166666666666666, 7.875, 7.5, 7.291666666666667, 6.791666666666667, 6.5, 6.5, 6.458333333333333, 6.291666666666667, 5.958333333333333, 5.5, 5.208333333333333, 4.875, 4.791666666666667, 4.625, 4.333333333333333, 4.125, 4.208333333333333, 4.083333333333333, 4.083333333333333, 3.9166666666666665, 4.041666666666667, 3.9583333333333335, 4.166666666666667, 4.666666666666667, 5.208333333333333, 5.458333333333333, 5.875, 6.25, 6.75, 6.791666666666667, 7.0, 7.333333333333333, 8.125, 9.041666666666666, 9.708333333333334, 10.5, 11.5, 12.083333333333334, 12.666666666666666, 13.333333333333334, 14.5, 15.708333333333334, 16.583333333333332, 17.333333333333332, 18.583333333333332, 19.208333333333332, 19.875, 20.583333333333332, 21.416666666666668, 21.958333333333332, 22.541666666666668, 23.375, 24.875, 25.833333333333332, 26.875, 27.75, 29.416666666666668, 30.083333333333332, 30.833333333333332, 31.541666666666668, 32.625, 33.666666666666664, 34.916666666666664, 35.75, 36.458333333333336, 36.875, 37.5, 38.333333333333336, 39.166666666666664, 40.208333333333336, 40.458333333333336, 40.541666666666664, 41.541666666666664, 42.041666666666664, 42.208333333333336, 42.5, 42.958333333333336, 43.333333333333336, 43.166666666666664, 43.541666666666664, 42.916666666666664, 42.5, 42.666666666666664, 42.125, 42.0, 41.833333333333336, 41.208333333333336, 40.541666666666664, 39.958333333333336, 39.666666666666664, 39.541666666666664, 38.875, 38.458333333333336, 37.458333333333336, 37.125, 36.666666666666664, 35.916666666666664, 36.0, 35.916666666666664, 35.25, 33.875, 33.375, 33.458333333333336, 32.708333333333336, 32.041666666666664, 32.25, 31.583333333333332, 31.666666666666668, 31.291666666666668, 31.291666666666668, 30.916666666666668, 31.0, 31.125, 30.75, 30.791666666666668, 31.25, 30.958333333333332, 31.208333333333332, 31.25, 31.458333333333332, 31.833333333333332, 31.541666666666668, 31.875, 32.75, 33.458333333333336, 33.75, 33.625, 33.875, 34.458333333333336, 34.291666666666664, 34.5, 34.375, 34.041666666666664, 33.5, 33.208333333333336, 33.291666666666664, 32.916666666666664, 32.791666666666664, 32.458333333333336, 31.791666666666668, 31.5, 31.458333333333332, 31.583333333333332, 31.5, 31.041666666666668, 31.166666666666668, 30.625, 29.708333333333332, 28.583333333333332, 28.333333333333332, 28.083333333333332, 27.666666666666668, 26.5, 25.708333333333332, 25.375, 24.875, 24.083333333333332, 23.458333333333332]\n"
          ],
          "name": "stdout"
        }
      ]
    },
    {
      "cell_type": "markdown",
      "metadata": {
        "id": "HwDC7WBEOf_H",
        "colab_type": "text"
      },
      "source": [
        "# Naive (Baseline)\n",
        "\n",
        "This implementation just use the last value of input as output"
      ]
    },
    {
      "cell_type": "code",
      "metadata": {
        "id": "w1V9y_fZOsj1",
        "colab_type": "code",
        "colab": {}
      },
      "source": [
        "def naive (X, Y):\n",
        "  expected, observed, times = [], [], []\n",
        "  pointers = split_dataset(len(X))\n",
        "  \n",
        "  X = X.reshape(X.shape[0], X.shape[1])\n",
        "  \n",
        "  for i, j, k in pointers:\n",
        "    start = tm.time()\n",
        "    \n",
        "    Y_hat = [x[-1] for x in X[j:k]]\n",
        "    \n",
        "    expected.append(Y[j:k])\n",
        "    observed.append(Y_hat)\n",
        "    times.append(tm.time() - start)\n",
        "    \n",
        "  evaluate(expected, observed, times, \"Naive\")"
      ],
      "execution_count": 0,
      "outputs": []
    },
    {
      "cell_type": "code",
      "metadata": {
        "id": "GVP0fatGQefI",
        "colab_type": "code",
        "colab": {
          "base_uri": "https://localhost:8080/",
          "height": 89
        },
        "outputId": "603e9fa5-bb85-4dbd-c9d3-d3c1b20e589b"
      },
      "source": [
        "naive(X_uni, Y_uni)"
      ],
      "execution_count": 77,
      "outputs": [
        {
          "output_type": "stream",
          "text": [
            "[4, 8, 6, 9, 9, 14, 11, 18, 17, 22, 19, 18, 12, 25, 18, 36, 29, 49, 38, 39, 20, 46, 23, 38, 35, 42, 26, 55, 41, 58, 34, 58, 33, 60, 40, 64, 34, 69, 32, 59, 37, 62, 40, 58, 42, 55, 35, 46, 30, 43, 32, 39, 37, 35, 36, 51, 41, 75, 46, 65, 42, 53, 31, 63, 34, 63, 45, 58, 42, 53, 43, 50, 35, 61, 33, 54, 32, 73, 33, 71, 44, 51, 46, 64, 48, 62, 45, 54, 33, 46, 42, 33, 43, 63, 40, 64, 51, 46, 45, 71, 40, 42, 44, 54, 38, 51, 42, 55, 31, 57, 32, 51, 38, 42, 31, 49, 23, 53, 22, 30, 34, 49, 45, 20, 27, 28, 26, 25, 27, 28, 21, 23, 20, 19, 20, 29, 33, 21, 23, 18, 21, 21, 21, 19, 13, 12, 17, 13, 20, 14, 15, 14, 12, 8, 15, 10, 10, 7, 9, 5, 11, 3, 2, 1, 9, 2, 1, 3, 0, 0, 0, 0, 0, 0, 0, 0, 0, 0, 0, 0, 0, 0, 0, 0, 0, 0, 0, 0, 0, 0, 0, 0, 1, 7, 10, 5, 10, 8, 13, 11, 15, 8, 16, 12, 14, 12, 15, 9, 18, 12, 36, 16, 24, 22, 22, 21, 48, 22, 40, 27, 27, 25, 34, 26, 40, 24, 44, 29, 39, 34, 45, 33, 46, 37, 59, 35, 58, 37, 48, 36, 45, 32, 58, 33, 56, 25, 49, 31, 31, 32, 45, 23, 40, 31, 31, 38, 39, 33, 35, 23, 29, 17, 33, 32, 30, 35, 52, 12, 40, 20, 39, 39, 56, 21, 46, 21, 42, 23, 40, 18, 37, 24, 33, 19, 34, 23, 37, 26, 45, 29, 44, 30, 43, 29, 50, 28, 41, 28, 47, 31, 55, 31, 49, 35, 34, 23, 28, 22, 33, 22, 31, 26, 46, 27, 20, 27, 19, 25, 33, 28, 48, 24, 27, 30, 20, 15, 18, 14, 15, 14, 15, 8, 12, 18, 11, 7, 1, 9, 7, 8, 6, 5, 3, 6, 4, 4, 1, 2, 3, 2, 1, 1, 1, 2, 3, 2, 2, 1, 2, 4, 4, 2, 1, 1, 2, 1, 0, 0, 0, 0, 0, 0, 0, 2, 0, 4, 0, 0, 2, 2, 2, 7, 12, 5, 13, 9, 15, 12, 11, 31, 26, 41, 34, 31, 56, 53, 41, 38, 44, 48, 43, 18, 51, 52, 34, 37, 38, 41, 33, 50, 28, 41, 36, 50, 34, 44, 33, 56, 35, 41, 42, 51, 43, 50, 38, 68, 45, 54, 40, 59, 38, 64, 40, 65, 45, 62, 45, 56, 42, 52, 39, 63, 37, 66, 36, 60, 32, 58, 33, 54, 43, 66, 29, 63, 37, 51, 42, 64, 46, 53, 42, 69, 40, 67, 43, 76, 50, 71, 46, 54, 62, 57, 65, 38, 47, 78, 51, 73, 57, 45, 60, 64, 71, 58, 54, 42, 63, 31, 47, 66, 43, 73, 51, 63, 33, 41, 40, 36, 51, 26, 36, 19, 29, 30, 26, 27, 30, 30, 23, 19, 19, 30, 26, 35, 25, 37, 24, 30, 18, 17, 12, 16, 2, 14, 7, 9, 5, 1, 6, 2, 8, 2, 3, 5, 3, 4, 1, 1, 2, 1, 2, 4, 0, 2, 1, 1, 1, 1, 1, 2, 0, 0, 0, 0, 1, 1, 1, 0, 2, 0, 1, 4, 1, 4, 2, 4, 2, 2, 2, 2, 4, 3, 7, 15, 7, 11, 10, 5, 14, 10, 28, 25, 24, 30, 28, 37, 24, 32, 22, 26, 35, 38, 35, 26, 17, 21, 32, 34, 22, 30, 39, 36, 30, 43, 29, 29, 55, 27, 52, 40, 52, 25, 46, 35, 46, 31, 50, 36, 64, 41, 58, 42, 60, 52, 66, 14, 56, 39, 63, 41, 57, 41, 56, 35, 57, 40, 47, 42, 59, 41, 50, 35, 46, 45, 62, 40, 59, 34, 54, 29, 67, 47, 52, 33, 60, 44, 67, 39, 67, 47, 52, 50, 50, 51, 62, 56, 74, 54, 72, 16, 0, 52, 62, 84, 51, 59, 40, 71, 44, 44, 52, 48, 57, 40, 39, 34, 43, 35, 31, 26, 29, 36, 25, 34, 27, 22, 36, 28, 27, 23, 20, 33, 27, 21, 31, 19, 30, 23, 29, 22, 20, 9, 12, 11, 15, 15, 14, 6, 4, 7, 5, 8, 8, 2, 1, 4, 3, 1, 2, 2, 4, 4, 0, 0, 1, 0, 1, 2, 1, 1, 1, 1, 0, 0, 0, 0, 0, 0, 0, 0, 0, 0, 0, 0, 0, 0, 1, 3, 1, 2, 3, 1, 3, 8, 14, 8, 11, 7, 21, 15, 18, 26, 23, 26, 36, 41, 41, 35, 28, 40, 69, 49, 31, 42, 42, 25, 34, 39, 50, 44, 31, 45, 34, 60, 39, 46, 34, 55, 41, 47, 37, 62, 31, 61, 37, 58, 41, 51, 28, 51, 46, 70, 36, 71, 41, 67, 32, 65, 37, 63, 46, 53, 39, 50, 34, 64, 37, 52, 40, 57, 39, 66, 43, 55, 35, 63, 46, 55, 45, 64, 42, 59, 42, 48, 46, 63, 56, 43, 78, 62, 54, 49, 68, 69, 48, 49, 61, 53, 49, 58, 62, 65, 55, 66, 66, 63, 53, 50, 49, 56, 44, 43, 72, 47, 49, 39, 46, 38, 30, 33, 38, 33, 28, 27, 40, 21, 17, 17, 34, 15, 19, 25, 35, 22, 22, 28, 25, 24, 23, 18, 10, 22, 18, 18, 9, 9, 10, 9, 9, 2, 10, 7, 5, 5, 4, 9, 2, 6, 3, 2, 5, 4, 2, 2, 2, 2, 0, 1, 2, 1, 2, 1, 0, 0, 0, 0, 0, 0, 0, 0, 0, 0, 0, 0, 0, 3, 0, 0, 3, 1, 3, 5, 4, 5, 8, 13, 9, 10, 16, 17, 14, 16, 8, 38, 27, 37, 36, 49, 39, 42, 53, 64, 39, 42, 42, 46, 43, 33, 38, 51, 39, 42, 35, 48, 32, 44, 43, 53, 40, 35, 42, 59, 41, 35, 36, 51, 54, 48, 45, 49, 48, 43, 38, 56, 51, 41, 48, 57, 59, 47, 45, 54, 44, 47, 44, 68, 35, 37, 41, 57, 49, 43, 34, 58, 44, 41, 44, 55, 50, 45, 41, 67, 42, 39, 38, 65, 53, 43, 51, 71, 48, 50, 47, 78, 57, 43, 49, 62, 63, 47, 53, 64, 55, 57, 55, 69, 59, 62, 46, 46, 54, 59, 48, 59, 44, 42, 41, 60, 41, 31, 37, 52, 31, 35, 32, 43, 32, 22, 22, 50, 21, 27, 24, 45, 23, 38, 27, 27, 32, 20, 21, 13, 27, 22, 20, 13, 14, 9, 11, 13, 8, 8, 7, 7, 5, 3, 3, 8, 5, 2, 3, 5, 4, 5, 2, 4, 3, 5, 2, 2, 2, 2, 1, 3, 4, 1, 2, 2, 2, 0, 3, 2, 0, 2, 1, 1, 4, 1, 5, 4, 4, 3, 3, 4, 2, 7, 10, 4, 10, 9, 19, 21, 15, 25, 31, 42, 38, 40, 39, 38, 41, 26, 43, 65, 22, 59, 64, 41, 36, 27, 61, 50, 35, 40, 47, 47, 34, 39, 55, 44, 46, 45, 60, 40, 42, 44, 63, 55, 41, 40, 61, 43, 42, 50, 51, 47, 49, 54, 74, 50, 35, 47, 59, 47, 49, 50, 63, 45, 38, 47, 60, 59, 46, 45, 57, 36, 51, 50, 63, 51, 51, 42, 67, 55, 46, 52, 62, 54, 47, 52, 74, 52, 52, 50, 84, 60, 57, 44, 55, 61, 65, 53, 49, 56, 60, 70, 69, 58, 61, 57, 57, 52, 59, 46, 70, 49, 42, 43, 65, 41, 40, 38, 53, 37, 29, 29, 52, 26, 32, 21, 41, 36, 20, 35, 47, 27, 22, 36, 24, 30, 19, 38, 23, 33, 25, 18, 22, 22, 20, 17, 12, 13, 23, 13, 13, 15, 11, 14, 9, 3, 4, 6, 6, 9, 12, 9, 6, 7, 8, 4, 3, 3, 3, 2, 1, 2, 4, 3, 3, 5, 3, 6, 3, 3, 3, 1, 4, 4, 2, 5, 2, 2, 3, 3, 3, 7, 3, 7, 6, 3, 4, 11, 7, 9, 7, 20, 22, 15, 14, 23, 15, 16, 29, 49, 39, 31, 39, 50, 31, 28, 32, 57, 35, 43, 30, 55, 34, 40, 39, 69, 44, 44, 44, 78, 51, 52, 45, 67, 40, 53, 44, 68, 53, 51, 58, 84, 62, 50, 60, 81, 41, 59, 51, 73, 54, 57, 52, 77, 49, 49, 41, 70, 47, 46, 45, 61, 50, 52, 48, 61, 45, 50, 40, 77, 37, 28, 51, 72, 49, 46, 33, 75, 52, 45, 46, 71, 47, 49, 50, 63, 50, 40, 33, 61, 47, 41, 48, 66, 43, 39, 34, 60, 34, 51, 39, 82, 41, 38, 42, 51, 30, 38, 0, 0, 0, 0, 0, 36, 26, 30, 22, 38, 20, 26, 27, 43, 23, 30, 37, 30, 32, 40, 24, 25, 26, 24, 24, 18, 25, 16, 23, 14, 15, 19, 11, 15, 12, 16, 13, 14, 12, 5, 5, 2, 14, 10, 7, 12, 7, 5, 12, 7, 5, 5, 9, 7, 5, 7, 7, 9, 3, 8, 4, 6, 4, 1, 6, 6, 1, 1, 3, 2, 2, 2, 4, 0, 1, 2, 8, 6, 4, 4, 10, 10, 6, 10, 12, 15, 11, 9, 18, 15, 11, 22, 17, 23, 16, 19, 28, 24, 16, 19, 32, 30, 31, 20, 43, 25, 30, 23, 53, 12, 20, 32, 38, 32, 24, 44, 51, 43, 29, 33, 50, 49, 39, 32, 52, 46, 42, 38, 47, 37, 35, 44, 51, 34, 30, 42, 42, 34, 39, 33, 47, 34, 34, 32, 46, 39, 23, 29, 37, 20, 29, 37, 51, 29, 33, 27, 47, 26, 18, 23, 21, 38, 24, 26, 38, 21, 33, 34, 44, 35, 28, 42, 44, 17, 33, 28, 54, 29, 22, 24, 50, 36, 34, 36, 43, 33, 34, 33, 37, 35, 35, 35, 40, 24, 20, 27, 28, 27, 23, 28, 31, 26, 21, 32, 27, 28, 22, 25, 16, 25, 31, 29, 17, 18, 20, 23, 10, 8, 18, 14, 10, 10, 15, 7, 11, 13, 10, 4, 2, 1, 3, 2, 4, 1, 2, 0, 4, 3, 2, 2, 2, 3, 3, 0, 0, 0, 0, 0, 0, 2, 0, 0, 0, 0, 1, 0, 2, 2, 0, 5, 4, 3, 1, 1, 1, 3, 11, 8, 5, 3, 8, 14, 14, 19, 29, 27, 35, 37, 41, 40, 53, 40, 43, 57, 46, 37, 30, 40, 30, 36, 31, 54, 39, 32, 49, 64, 28, 50, 41, 63, 32, 36, 41, 54, 34, 34, 46, 66, 49, 47, 48, 57, 40, 46, 47, 50, 50, 45, 41, 69, 48, 55, 48, 56, 46, 41, 37, 56, 43, 39, 44, 70, 49, 42, 48, 61, 38, 45, 55, 79, 47, 45, 54, 68, 50, 52, 57, 64, 50, 58, 53, 68, 46, 42, 52, 70, 45, 55, 69, 75, 61, 56, 51, 54, 56, 58, 57, 67, 59, 54, 41, 41, 44, 56, 49, 54, 40, 51, 46, 41, 39, 32, 37, 48, 24, 26, 29, 34, 20, 27, 29, 26, 26, 19, 31, 36, 26, 30, 26, 34, 31, 27, 12, 19, 14, 22, 20, 9, 14, 14, 11, 12, 16, 9, 7, 4, 5, 4, 4, 7, 5, 1, 2, 1, 3, 2, 4, 2, 1, 1, 7, 1, 0, 2, 4, 3, 1, 2, 1, 0, 0, 0, 0, 0, 0, 0, 0, 1, 1, 1, 2, 4, 2, 1, 2, 2, 3, 12, 17, 10, 8, 11, 8, 12, 15, 23, 25, 34, 36, 49, 42, 37, 48, 41, 50, 53, 31, 35, 35, 32, 47, 52, 48, 32, 33, 44, 49, 38, 43, 40, 54, 39, 23, 51, 62, 38, 40, 45, 52, 47, 42, 56, 58, 48, 41, 59, 57, 49, 45, 53, 69, 46, 45, 50, 66, 54, 32, 47, 53, 35, 45, 46, 64, 51, 42, 58, 65, 42, 40, 53, 53, 44, 46, 67, 79, 45, 52, 49, 70, 45, 45, 56, 64, 39, 55, 59, 63, 46, 44, 55, 72, 62, 49, 54, 57, 51, 62, 74, 60, 57, 57, 63, 63, 51, 63, 58, 62, 39, 40, 46, 41, 36, 35, 44, 36, 25, 32, 29, 32, 13, 21, 36, 31, 28, 21, 36, 22, 19, 34, 24, 34, 37, 32, 20, 21, 21, 16, 8, 14, 11, 13, 13, 10, 7, 14, 3, 9, 2, 10, 1, 1, 5, 2, 2, 2, 0, 2, 1, 1, 3, 5, 6, 3, 1, 0, 0, 0, 0, 0, 0, 0, 0, 0, 0, 0, 0, 0, 0, 0, 0, 0, 0, 0, 0, 0, 1, 5, 8, 9, 7, 8, 8, 12, 11, 8, 9, 20, 28, 36, 33, 48, 54, 52, 20, 36, 66, 37, 44, 47, 35, 53, 47, 48, 34, 38, 45, 47, 49, 46, 45, 46, 50, 45, 32, 64, 61, 51, 47, 69, 56, 48, 41, 63, 55, 46, 43, 57, 57, 45, 41, 50, 62, 47, 46, 59, 57, 43, 55, 60, 51, 48, 53, 42, 58, 37, 51, 60, 53, 36, 42, 60, 50, 52, 47, 59, 58, 57, 47, 60, 52, 59, 48, 58, 49, 52, 49, 57, 59, 53, 40, 67, 66, 64, 50, 52, 53, 64, 61, 66, 64, 57, 55, 68, 51, 47, 50, 58, 62, 49, 51, 54, 52, 42, 30, 51, 30, 28, 29, 34, 30, 23, 25, 36, 29, 32, 35, 29, 31, 22, 44, 17, 21, 21, 21, 16, 31, 17, 20, 15, 15, 10, 18, 14, 15, 15, 8, 7, 8, 5, 3, 3, 5, 6, 4, 7, 6, 7, 6, 2, 5, 1, 3, 4, 2, 3, 0, 1, 1, 1, 1, 2, 1, 1, 3, 0, 0, 0, 0, 0, 1, 2, 1, 4, 3, 1, 2, 6, 0, 3, 13, 10, 10, 5, 21, 10, 12, 17, 19, 21, 38, 37, 33, 50, 31, 58, 38, 40, 42, 43, 40, 44, 42, 44, 61, 38, 42, 35, 40, 36, 53, 49, 44, 41, 50, 57, 41, 37, 51, 47, 46, 63, 53, 45, 55, 39, 28, 36, 64, 61, 58, 46, 61, 64, 49, 55, 62, 61, 47, 47, 54, 52, 33, 42, 58, 58, 54, 45, 61, 56, 56, 37, 50, 39, 46, 36, 55, 48, 46, 50, 52, 61, 52, 48, 56, 70, 49, 45, 63, 65, 56, 44, 60, 63, 57, 62, 61, 56, 51, 59, 50, 63, 63, 61, 54, 50, 43, 59, 64, 56, 53, 44, 46, 49, 49, 36, 53, 35, 36, 24, 49, 26, 25, 28, 30, 22, 22, 23, 32, 35, 33, 38, 34, 27, 25, 30, 20, 26, 21, 20, 18, 14, 9, 21, 9, 4, 8, 14, 6, 11, 8, 11, 6, 4, 6, 5, 7, 8, 3, 3, 1, 3, 5, 2, 0, 0, 0, 0, 0, 0, 0, 1, 4, 2, 4, 2, 2, 1, 1, 2, 2, 2, 5, 1, 4, 4, 1, 1, 2, 2, 5, 13, 4, 6, 10, 14, 4, 11, 17, 32, 18, 30, 27, 50, 41, 38, 44, 56, 43, 47, 43, 55, 37, 30, 48, 63, 40, 38, 43, 48, 42, 42, 40, 52, 52, 49, 47, 51, 40, 34, 46, 53, 47, 48, 48, 45, 59, 52, 42, 67, 56, 48, 46, 56, 62, 54, 46, 63, 55, 42, 48, 73, 61, 46, 49, 65, 50, 46, 50, 55, 43, 41, 47, 48, 67, 52, 42, 68, 58, 57, 51, 75, 65, 43, 49, 71, 62, 51, 56, 65, 59, 56, 46, 67, 41, 61, 68, 58, 51, 59, 66, 67, 51, 72, 55, 54, 57, 49, 58, 75, 66, 42, 51, 54, 41, 46, 34, 51, 37, 43, 24, 41, 33, 31, 29, 40, 25, 45, 22, 44, 25, 19, 38, 30, 37, 26, 39, 29, 36, 29, 26, 14, 28, 16, 16, 12, 22, 12, 21, 11]\n",
            "[16, 12, 18, 9, 16, 10, 14, 11, 15, 7, 6, 6, 8, 8, 11, 8, 11, 10, 7, 10, 4, 5, 6, 5, 11, 7, 3, 6, 5, 6, 0, 1, 3, 3, 5, 2, 7, 5, 5, 6, 3, 2, 5, 8, 11, 8, 8, 8, 10, 11, 20, 15, 17, 18, 27, 20, 18, 30, 45, 26, 39, 42, 54, 31, 40, 29, 64, 51, 40, 31, 61, 47, 39, 47, 67, 51, 44, 48, 62, 53, 49, 50, 64, 52, 49, 55, 86, 55, 43, 37, 66, 56, 44, 54, 67, 53, 62, 55, 82, 55, 54, 49, 79, 54, 48, 49, 75, 57, 52, 56, 65, 54, 62, 47, 64, 52, 55, 50, 80, 51, 41, 43, 76, 57, 45, 38, 70, 55, 51, 42, 67, 57, 46, 46, 80, 53, 52, 46, 67, 52, 46, 51, 71, 43, 45, 45, 60, 37, 35, 34, 58, 52, 47, 60, 64, 36, 42, 24, 57, 39, 34, 38, 43, 27, 33, 28, 39, 41, 29, 20, 30, 16, 27, 30, 35, 31, 32, 36, 28, 31, 27, 20, 20, 33, 18, 19, 20, 23, 22, 20, 11, 17, 11, 19, 18, 12, 16, 11, 15, 14, 12, 15, 11, 11, 10, 15, 9, 3, 10, 6, 8, 9, 7, 7, 12, 7, 6, 9, 10, 8, 6, 7, 6, 3, 5, 6, 4, 7, 9, 7, 2, 6, 2, 8, 4, 2, 7, 4, 5, 5, 9, 6, 10, 19, 22, 17, 13, 13, 24, 19, 14, 25, 23, 13, 10, 24, 29, 25, 23, 35, 34, 32, 29, 24, 30, 38, 35, 22, 36, 29, 33, 37, 42, 41, 31, 42, 29, 56, 44, 36, 44, 54, 50, 38, 58, 60, 45, 45, 56, 73, 32, 33, 46, 48, 37, 31, 44, 44, 36, 27, 40, 41, 22, 42, 43, 26, 24, 31, 33, 27, 31, 31, 32, 29, 27, 33, 28, 32, 26, 23, 25, 27, 32, 26, 43, 48, 34, 26, 40, 24, 27, 41, 36, 41, 27, 21, 36, 32, 42, 38, 39, 54, 29, 38, 53, 39, 26, 25, 29, 29, 29, 27, 37, 28, 25, 18, 37, 26, 34, 24, 33, 25, 27, 34, 40, 24, 30, 38, 23, 24, 9, 18, 15, 10, 17, 25, 14, 17, 12, 13, 10, 7, 3, 5, 9, 4, 5, 1, 5, 2, 4, 1, 1, 4, 5, 3, 1, 5, 2, 1, 3, 4, 2, 3, 2, 1, 0, 2, 1, 2, 1, 3, 3, 0, 0, 2, 0, 0, 0, 0, 1, 2, 3, 4, 6, 3, 11, 16, 8, 11, 12, 17, 31, 25, 22, 45, 41, 30, 32, 47, 41, 45, 37, 48, 46, 36, 37, 33, 51, 37, 48, 45, 51, 42, 34, 38, 49, 41, 44, 27, 38, 32, 42, 51, 55, 41, 37, 45, 46, 46, 41, 58, 69, 45, 44, 46, 49, 47, 46, 56, 47, 42, 56, 46, 63, 39, 40, 60, 57, 40, 41, 59, 45, 47, 57, 65, 64, 43, 51, 56, 66, 44, 36, 56, 60, 45, 48, 53, 55, 47, 45, 59, 67, 51, 58, 59, 66, 54, 47, 60, 58, 58, 55, 64, 62, 56, 61, 65, 67, 54, 48, 57, 59, 53, 45, 60, 44, 43, 40, 44, 43, 38, 43, 38, 30, 23, 32, 32, 24, 29, 23, 34, 21, 25, 25, 29, 36, 12, 37, 20, 26, 22, 23, 19, 14, 15, 12, 7, 13, 10, 5, 7, 11, 9, 9, 6, 2, 2, 4, 2, 1, 5, 2, 3, 3, 2, 2, 5, 0, 2, 2, 2, 1, 1, 2, 2, 2, 1, 0, 1, 2, 1, 0, 0, 1, 0, 1, 0, 1, 3, 4, 2, 1, 2, 3, 6, 2, 6, 9, 8, 6, 12, 19, 21, 25, 23, 40, 56, 34, 43, 49, 31, 46, 43, 48, 38, 29, 26, 56, 50, 44, 36, 59, 38, 37, 39, 54, 49, 35, 33, 63, 51, 41, 44, 53, 54, 33, 32, 61, 45, 53, 42, 54, 70, 38, 48, 56, 66, 49, 43, 63, 45, 38, 51, 59, 57, 36, 37, 61, 40, 42, 40, 60, 57, 40, 49, 56, 56, 40, 38, 43, 45, 48, 53, 60, 62, 51, 48, 53, 58, 50, 51, 67, 50, 59, 44, 53, 56, 53, 46, 53, 47, 64, 55, 49, 74, 59, 61, 67, 60, 50, 39, 50, 58, 49, 37, 60, 55, 31, 33, 65, 38, 22, 31, 41, 30, 26, 24, 34, 38, 38, 20, 41, 31, 18, 24, 38, 32, 18, 27, 18, 21, 27, 29, 13, 18, 13, 12, 7, 17, 13, 3, 3, 7, 10, 7, 8, 3, 3, 4, 4, 3, 2, 4, 1, 1, 2, 2, 0, 2, 3, 3, 4, 2, 3, 3, 0, 0, 0, 0, 1, 0, 1, 0, 1, 1, 1, 2, 0, 3, 4, 1, 5, 1, 2, 5, 7, 6, 7, 14, 10, 10, 13, 22, 24, 26, 20, 42, 40, 41, 33, 61, 35, 33, 40, 54, 40, 38, 29, 64, 46, 42, 41, 60, 55, 40, 44, 46, 46, 35, 38, 61, 42, 41, 44, 41, 55, 44, 48, 51, 57, 38, 40, 59, 65, 42, 45, 54, 58, 42, 46, 49, 49, 43, 45, 60, 44, 50, 32, 63, 56, 49, 42, 57, 50, 48, 42, 57, 40, 35, 36, 54, 39, 49, 44, 52, 38, 41, 48, 65, 52, 49, 52, 70, 62, 49, 52, 71, 67, 64, 57, 57, 53, 52, 54, 61, 57, 59, 59, 52, 64, 55, 61, 44, 45, 44, 51, 59, 45, 50, 26, 60, 41, 34, 36, 45, 30, 22, 27, 36, 26, 28, 24, 36, 22, 29, 28, 32, 30, 25, 36, 23, 30, 20, 28, 22, 21, 10, 11, 14, 7, 11, 4, 12, 3, 7, 4, 3, 1, 7, 4, 3, 5, 3, 2, 1, 1, 1, 1, 2, 5, 0, 0, 2, 2, 0, 1, 0, 4, 1, 1, 0, 0, 1, 0, 0, 0, 1, 3, 1, 2, 6, 1, 0, 0, 2, 6, 9, 4, 3, 15, 14, 14, 9, 27, 18, 27, 25, 40, 53, 30, 34, 51, 44, 39, 43, 53, 39, 49, 38, 48, 42, 35, 38, 51, 37, 30, 43, 61, 41, 38, 34, 62, 52, 43, 49, 67, 54, 44, 37, 64, 46, 44, 36, 47, 47, 35, 49, 64, 63, 48, 49, 75, 45, 48, 32, 66, 44, 40, 39, 61, 41, 39, 41, 71, 56, 38, 41, 64, 54, 51, 41, 60, 58, 53, 44, 65, 51, 44, 42, 63, 56, 48, 45, 70, 49, 45, 51, 64, 61, 58, 62, 65, 49, 48, 51, 54, 58, 68, 61, 59, 66, 59, 35, 54, 38, 40, 32, 58, 52, 43, 36, 51, 19, 26, 28, 39, 20, 23, 32, 39, 32, 21, 23, 35, 31, 24, 36, 52, 37, 31, 26, 21, 20, 25, 21, 22, 20, 12, 12, 16, 10, 11, 9, 2, 10, 10, 11, 3, 1, 10, 8, 3, 2, 3, 2, 1, 0, 1, 1, 1, 2, 4, 2, 2, 2, 3, 1, 1, 0, 0, 1, 1, 0, 2, 3, 1, 3, 1, 2, 1, 4, 3, 2, 2, 1, 5, 5, 5, 6, 8, 11, 11, 13, 11, 23, 20, 27, 29, 45, 45, 34, 34, 72, 37, 31, 37, 47, 48, 27, 38, 58, 38, 32, 34, 63, 42, 37, 37, 51, 44, 30, 53, 47, 46, 45, 41, 66, 39, 36, 41, 67, 46, 34, 36, 70, 52, 50, 49, 65, 51, 55, 36, 48, 56, 43, 49, 74, 56, 45, 42, 66, 49, 52, 37, 33, 29, 27, 25, 36, 30, 26, 31, 55, 44, 51, 41, 57, 48, 35, 45, 55, 44, 41, 36, 68, 59, 49, 48, 64, 59, 55, 58, 45, 55, 58, 52, 60, 48, 60, 25, 66, 58, 65, 64, 49, 59, 46, 52, 75, 46, 40, 38, 57, 34, 27, 49, 58, 37, 33, 34, 61, 30, 28, 29, 39, 31, 19, 31, 31, 30, 25, 33, 32, 36, 26, 18, 26, 23, 12, 19, 22, 16, 10, 8, 17, 17, 7, 15, 6, 7, 5, 14, 11, 12, 3, 12, 12, 14, 7, 10, 8, 1, 2, 5, 6, 6, 7, 6, 2, 4, 6, 2, 7, 4, 3, 2, 3, 10, 9, 5, 3, 7, 1, 4, 4, 2, 5, 4, 7, 8, 7, 6, 8, 3, 10, 19, 16, 15, 11, 27, 22, 21, 23, 27, 28, 23, 32, 57, 41, 29, 36, 59, 46, 38, 39, 49, 51, 42, 40, 55, 44, 41, 43, 70, 48, 43, 45, 68, 55, 44, 59, 59, 55, 49, 49, 79, 45, 55, 49, 68, 50, 56, 51, 83, 53, 59, 50, 73, 53, 50, 42, 74, 49, 42, 54, 63, 49, 54, 38, 66, 52, 33, 35, 47, 35, 49, 28, 67, 45, 37, 39, 58, 50, 42, 37, 67, 44, 40, 32, 92, 48, 42, 48, 40, 49, 40, 45, 54, 46, 43, 52, 56, 44, 46, 30, 60, 42, 37, 45, 60, 37, 34, 38, 45, 30, 34, 33, 58, 33, 27, 18, 46, 24, 23, 22, 50, 24, 23, 28, 39, 30, 26, 32, 39, 29, 26, 36, 25, 17, 12, 30, 11, 18, 12, 17, 20, 15, 17, 17, 14, 10, 11, 14, 12, 14, 11, 10, 16, 13, 17, 9, 14, 5, 12, 11, 7, 4, 2, 8, 3, 7, 5, 6, 11, 7, 6, 7, 3, 3, 3, 1, 2, 7, 3, 6, 0, 2, 2, 2, 1, 2, 6, 8, 12, 6, 6, 9, 14, 9, 13, 15, 7, 13, 16, 18, 12, 16, 11, 21, 28, 21, 20, 27, 25, 18, 19, 39, 30, 25, 25, 30, 32, 23, 33, 46, 31, 26, 36, 47, 26, 29, 40, 60, 35, 31, 33, 67, 50, 35, 38, 50, 38, 34, 38, 61, 34, 36, 43, 59, 22, 32, 33, 50, 27, 32, 44, 39, 33, 22, 33, 37, 30, 23, 24, 42, 20, 29, 29, 55, 25, 27, 29, 39, 32, 30, 27, 31, 28, 28, 31, 42, 26, 28, 35, 50, 30, 32, 40, 51, 29, 24, 36, 46, 31, 32, 36, 46, 41, 40, 34, 43, 28, 27, 34, 40, 32, 22, 25, 27, 34, 25, 31, 41, 26, 31, 25, 44, 34, 27, 28, 30, 33, 33, 25, 17, 20, 15, 20, 11, 14, 11, 17, 6, 13, 14, 4, 7, 7, 9, 8, 6, 2, 5, 5, 4, 1, 5, 2, 2, 1, 1, 2, 2, 2, 1, 0, 7, 3, 2, 0, 0, 1, 1, 1, 0, 0, 0, 0, 0, 1, 2, 0, 0, 0, 0, 1, 1, 0, 2, 4, 7, 6, 9, 11, 10, 13, 7, 19, 25, 24, 28, 51, 28, 48, 47, 46, 26, 38, 52, 41, 38, 34, 37, 55, 32, 24, 45, 51, 34, 32, 38, 50, 34, 44, 48, 53, 37, 32, 42, 58, 35, 43, 41, 56, 44, 48, 41, 62, 48, 50, 40, 62, 45, 45, 49, 76, 41, 41, 47, 69, 48, 40, 47, 63, 45, 39, 58, 77, 36, 44, 42, 53, 48, 44, 45, 67, 46, 52, 54, 71, 52, 46, 58, 62, 48, 50, 57, 73, 48, 50, 51, 69, 54, 57, 50, 51, 46, 47, 64, 56, 59, 72, 65, 46, 49, 50, 49, 46, 46, 46, 42, 42, 41, 37, 34, 47, 34, 35, 35, 46, 25, 32, 25, 36, 17, 21, 22, 36, 26, 19, 27, 34, 32, 20, 22, 20, 18, 21, 25, 15, 17, 7, 13, 11, 7, 8, 5, 6, 10, 10, 3, 1, 4, 4, 3, 5, 6, 1, 4, 2, 0, 2, 2, 0, 3, 3, 0, 0, 2, 1, 2, 0, 0, 0, 0, 1, 0, 0, 3, 0, 2, 0, 2, 3, 1, 1, 5, 1, 6, 5, 3, 5, 6, 10, 9, 9, 9, 19, 19, 24, 27, 32, 28, 39, 34, 33, 64, 36, 45, 44, 52, 39, 45, 42, 43, 54, 36, 40, 50, 40, 40, 48, 63, 32, 49, 50, 67, 42, 32, 44, 58, 34, 47, 36, 53, 38, 43, 47, 48, 41, 39, 46, 57, 39, 34, 56, 63, 43, 29, 47, 58, 53, 52, 43, 72, 39, 40, 55, 43, 45, 44, 45, 50, 49, 44, 53, 41, 38, 48, 49, 55, 37, 48, 55, 59, 45, 41, 28, 70, 42, 45, 47, 67, 51, 47, 57, 59, 56, 51, 61, 58, 64, 65, 65, 62, 45, 39, 56, 56, 41, 52, 47, 48, 37, 42, 35, 28, 35, 31, 35, 28, 24, 13, 30, 24, 24, 18, 21, 22, 24, 25, 41, 29, 18, 34, 34, 25, 28, 14, 24, 17, 8, 9, 0, 1, 0, 5, 12, 6, 10, 1, 8, 6, 5, 3, 6, 4, 5, 3, 3, 3, 2, 3, 1, 1, 1, 1, 0, 0, 0, 0, 0, 3, 0, 0, 0, 0, 0, 0, 0, 0, 0, 0, 0, 1, 1, 3, 2, 4, 2, 1, 2, 4, 5, 13, 12, 12, 10, 14, 14, 20, 23, 32, 30, 28, 35, 42, 59, 39, 32, 47, 52, 29, 32, 37, 57, 41, 22, 40, 52, 44, 38, 47, 55, 42, 34, 48, 51, 49, 41, 55, 57, 42, 38, 49, 45, 45, 43, 50, 36, 41, 56, 59, 64, 46, 47, 41, 61, 50, 45, 42, 49, 46, 42, 37, 56, 45, 45, 57, 61, 31, 45, 58, 59, 46, 42, 36, 53, 50, 46, 66, 75, 57, 46, 64, 65, 45, 48, 71, 70, 40, 28, 71, 63, 60, 43, 50, 47, 62, 55, 53, 60, 68, 64, 75, 66, 56, 47, 53, 54, 43, 55, 60, 53, 39, 38, 45, 40, 37, 26, 43, 34, 33, 21, 41, 27, 27, 24, 33, 34, 27, 33, 35, 32, 25, 27, 22, 17, 18, 8, 25, 17, 12, 12, 17, 13, 15, 8, 10, 8, 14, 12, 10, 6, 8, 6, 9, 1, 2, 1, 1, 1, 2, 2, 0, 0, 1, 3, 1, 1, 1, 3, 0, 0, 0, 0, 0, 0, 0, 0, 1, 1, 2, 0, 3, 2, 0, 2, 2, 0, 0, 3, 9, 8, 5, 10, 9, 9, 7, 23, 19, 17, 22, 34, 32, 33, 32, 50, 47, 38, 35, 51, 46, 26, 36, 40, 48, 35, 42, 56, 56, 29, 41, 51, 40, 32, 34, 48, 48, 51, 36, 44, 49, 47, 39, 31, 53, 32, 31, 52, 58, 40, 44, 42, 55, 39, 45, 47, 55, 45, 32, 62, 62, 48, 48, 44, 42, 43, 33, 54, 44, 33, 51, 61, 52, 48, 44, 59, 49, 43, 43, 50, 60, 52, 52, 50, 65, 47, 39, 55, 61, 53, 50, 66, 58, 42, 58, 36, 61, 59, 48, 55, 65, 64, 67, 62, 61, 46, 49, 38, 63, 44, 46, 65, 61, 35, 38, 48, 40, 32, 25, 52, 28, 31, 31, 39, 27, 33, 29, 25, 24, 24, 27, 36, 25, 28, 17, 25, 28, 28, 27, 22, 35, 21, 10, 7, 25, 14, 12, 7, 5, 6, 8, 11, 5, 5, 7, 4, 7, 5, 3, 3, 3, 4, 3, 4, 1, 1, 1, 0, 0, 0, 0, 0, 0, 0, 0, 0, 0, 0, 0, 2, 1, 2, 1, 1, 1, 2, 5, 5, 2, 0, 5, 2, 8, 4, 8, 11, 8, 9, 14, 13, 21, 19, 40, 29, 31, 28, 50, 45, 45, 27, 46, 36, 44, 41, 42, 47, 37, 35, 60, 29, 32, 37, 58, 51, 27, 45, 36, 41, 42, 38, 54, 44, 53, 43, 64, 41, 35, 40, 47, 37, 37, 34, 61, 53, 53, 53, 76, 53, 37, 50, 58, 46, 50, 48, 57, 52, 38, 38, 57, 49, 43, 46, 62, 45, 32, 34, 50, 55, 38, 52, 57, 55, 39, 46, 65, 51, 52, 51, 67, 63, 52, 40, 79, 54, 41, 46, 63, 53, 58, 50, 62, 59, 62, 72, 70, 51, 65, 62]\n",
            "[48, 58, 59, 45, 64, 52, 43, 34, 53, 39, 41, 43, 44, 29, 28, 32, 40, 16, 30, 35, 28, 27, 23, 28, 41, 29, 33, 23, 34, 33, 24, 31, 15, 33, 20, 26, 14, 21, 14, 16, 14, 15, 23, 2, 6, 4, 13, 11, 14, 2, 3, 6, 4, 8, 5, 8, 6, 8, 4, 8, 4, 6, 5, 4, 5, 6, 5, 5, 4, 6, 3, 3, 4, 3, 7, 6, 2, 8, 4, 5, 3, 1, 3, 6, 4, 4, 5, 6, 8, 9, 7, 14, 9, 11, 14, 14, 14, 17, 19, 34, 31, 32, 39, 52, 31, 33, 35, 45, 30, 45, 24, 53, 32, 34, 41, 50, 35, 38, 40, 61, 44, 42, 46, 68, 52, 41, 47, 63, 55, 49, 47, 63, 60, 49, 46, 63, 60, 55, 51, 68, 57, 57, 45, 70, 47, 49, 43, 64, 46, 51, 46, 71, 50, 49, 45, 64, 50, 43, 42, 63, 40, 42, 48, 69, 57, 57, 49, 75, 43, 50, 42, 64, 45, 37, 50, 69, 46, 55, 35, 68, 44, 47, 37, 66, 44, 38, 47, 58, 37, 46, 53, 64, 38, 39, 45, 66, 52, 45, 40, 51, 40, 32, 25, 41, 37, 24, 24, 39, 17, 33, 28, 37, 23, 21, 23, 39, 23, 20, 26, 30, 34, 24, 30, 18, 34, 18, 30, 14, 19, 13, 18, 16, 14, 16, 18, 13, 20, 13, 13, 5, 8, 9, 7, 12, 7, 3, 8, 6, 6, 8, 7, 9, 5, 4, 6, 10, 8, 5, 4, 6, 5, 2, 2, 6, 0, 0, 3, 5, 5, 4, 4, 2, 3, 3, 5, 2, 3, 2, 5, 8, 5, 5, 13, 12, 6, 9, 19, 12, 12, 13, 18, 19, 12, 12, 22, 11, 9, 19, 29, 28, 19, 27, 37, 26, 34, 21, 50, 34, 26, 18, 46, 37, 34, 30, 52, 30, 37, 39, 56, 38, 43, 38, 66, 41, 32, 46, 61, 36, 27, 36, 65, 56, 34, 34, 56, 30, 47, 42, 53, 30, 28, 32, 48, 22, 33, 19, 49, 26, 37, 15, 58, 29, 28, 33, 49, 24, 28, 42, 54, 29, 21, 41, 43, 31, 31, 26, 44, 35, 43, 29, 43, 33, 22, 30, 55, 37, 37, 29, 45, 34, 33, 26, 62, 40, 44, 27, 55, 28, 31, 29, 46, 21, 26, 24, 41, 27, 9, 16, 35, 25, 28, 26, 50, 25, 17, 17, 43, 23, 24, 25, 20, 18, 19, 21, 18, 19, 21, 18, 8, 15, 4, 16, 5, 4, 6, 8, 10, 7, 8, 5, 2, 1, 2, 1, 2, 4, 3, 3, 4, 1, 3, 3, 1, 0, 0, 0, 0, 0, 1, 1, 3, 0, 0, 0, 0, 0, 0, 0, 0, 0, 0, 0, 2, 3, 1, 4, 2, 5, 6, 9, 4, 11, 15, 23, 11, 22, 32, 40, 34, 31, 44, 61, 33, 29, 38, 47, 39, 26, 26, 51, 30, 35, 43, 52, 52, 15, 34, 61, 27, 18, 39, 46, 42, 35, 4, 59, 22, 36, 43, 55, 14, 2, 23, 70, 32, 34, 31, 60, 24, 31, 23, 35, 22, 40, 32, 48, 4, 23, 22, 57, 37, 42, 13, 59, 0, 0, 0, 0, 16, 33, 38, 25, 33, 40, 57, 65, 45, 47, 51, 68, 44, 49, 49, 65, 43, 43, 48, 68, 47, 53, 43, 61, 57, 58, 70, 52, 71, 62, 67, 52, 50, 40, 47, 42, 53, 56, 50, 65, 50, 39, 35, 39, 42, 29, 20, 37, 27, 26, 27, 34, 16, 21, 21, 21, 22, 21, 25, 34, 25, 25, 36, 31, 21, 11, 16, 20, 15, 17, 12, 12, 20, 6, 6, 2, 2, 3, 3, 6, 3, 5, 2, 3, 1, 5, 3, 0, 0, 0, 3, 2, 0, 0, 0, 0, 0, 0, 0, 0, 0, 0, 0, 0, 0, 0, 0, 0, 0, 0, 0, 0, 0, 0, 1, 2, 1, 1, 2, 1, 4, 11, 9, 5, 7, 7, 12, 14, 23, 21, 38, 35, 33, 37, 61, 36, 26, 49, 66, 42, 43, 36, 49, 33, 46, 42, 43, 32, 32, 41, 49, 30, 41, 33, 5, 55, 47, 42, 62, 23, 41, 39, 59, 46, 48, 42, 58, 45, 45, 50, 54, 44, 41, 23, 55, 44, 44, 40, 56, 33, 41, 41, 51, 37, 39, 47, 49, 26, 44, 37, 51, 46, 40, 44, 56, 41, 42, 42, 64, 33, 42, 40, 68, 43, 41, 52, 66, 55, 51, 52, 75, 46, 53, 58, 55, 58, 59, 64, 56, 62, 51, 56, 58, 57, 48, 54, 45, 41, 37, 65, 58, 40, 43, 42, 50, 31, 39, 28, 39, 31, 29, 17, 21, 17, 21, 36, 36, 24, 14, 31, 26, 29, 14, 22, 34, 38, 24, 32, 14, 22, 19, 18, 12, 10, 8, 10, 4, 17, 6, 11, 4, 2, 7, 8, 4, 6, 2, 2, 0, 1, 3, 0, 1, 2, 1, 1, 1, 0, 0, 0, 0, 0, 0, 0, 0, 0, 0, 0, 0, 0, 0, 0, 0, 0, 0, 0, 0, 0, 0, 0, 1, 4, 9, 10, 8, 14, 11, 15, 20, 27, 32, 35, 29, 25, 31, 47, 39, 37, 38, 70, 39, 39, 46, 54, 43, 33, 43, 41, 43, 33, 48, 42, 39, 36, 47, 45, 43, 38, 50, 55, 51, 35, 43, 54, 49, 42, 52, 53, 33, 43, 43, 66, 42, 58, 55, 69, 26, 42, 41, 51, 49, 48, 47, 57, 37, 42, 55, 56, 36, 42, 39, 55, 31, 36, 47, 52, 39, 32, 52, 62, 47, 32, 52, 59, 45, 44, 50, 67, 51, 50, 62, 71, 48, 38, 41, 49, 54, 73, 66, 57, 56, 68, 55, 44, 59, 44, 62, 51, 43, 41, 49, 64, 51, 38, 58, 48, 32, 31, 45, 41, 34, 25, 33, 24, 19, 27, 40, 33, 22, 26, 35, 33, 29, 27, 20, 39, 28, 28, 22, 14, 18, 33, 9, 17, 14, 10, 8, 7, 5, 7, 5, 6, 9, 6, 11, 6, 3, 1, 3, 1, 1, 0, 2, 2, 3, 1, 0, 1, 5, 2, 0, 0, 1, 1, 0, 0, 2, 2, 4, 3, 2, 2, 1, 1, 3, 1, 4, 1, 1, 1, 2, 4, 8, 9, 2, 14, 14, 15, 13, 14, 20, 31, 22, 32, 45, 40, 34, 45, 38, 55, 47, 43, 38, 37, 40, 39, 35, 46, 54, 45, 47, 47, 40, 42, 44, 46, 47, 41, 33, 46, 45, 48, 37, 42, 42, 37, 41, 55, 42, 45, 56, 45, 61, 36, 54, 53, 62, 34, 50, 48, 50, 47, 48, 41, 46, 36, 47, 46, 53, 43, 35, 45, 54, 31, 46, 48, 59, 41, 41, 46, 49, 58, 53, 49, 64, 39, 48, 60, 54, 46, 39, 60, 68, 45, 43, 50, 50, 46, 54, 63, 55, 57, 58, 64, 51, 55, 50, 55, 49, 49, 51, 52, 51, 38, 48, 52, 53, 38, 41, 38, 25, 30, 29, 39, 30, 24, 23, 30, 18, 28, 28, 34, 31, 23, 31, 24, 39, 23, 27, 14, 32, 14, 26, 14, 12, 14, 14, 5, 7, 6, 6, 6, 9, 5, 4, 5, 5, 3, 7, 5, 5, 2, 4, 2, 4, 4, 1, 3, 1, 3, 2, 3, 1, 2, 4, 1, 0, 0, 0, 0, 1, 1, 3, 0, 1, 1, 2, 2, 3, 0, 4, 4, 4, 9, 13, 5, 4, 7, 15, 10, 9, 18, 38, 26, 30, 26, 41, 30, 34, 28, 55, 51, 38, 33, 52, 53, 36, 34, 59, 40, 40, 35, 47, 48, 29, 32, 52, 56, 38, 39, 51, 50, 42, 49, 52, 52, 38, 39, 69, 51, 47, 47, 55, 58, 51, 41, 64, 60, 44, 45, 50, 49, 42, 40, 53, 47, 47, 48, 41, 48, 54, 54, 55, 56, 40, 48, 55, 57, 50, 52, 55, 63, 48, 56, 60, 59, 46, 48, 39, 64, 45, 45, 58, 54, 45, 53, 66, 64, 70, 58, 62, 61, 61, 60, 61, 53, 43, 36, 52, 51, 51, 50, 64, 53, 43, 45, 51, 50, 32, 40, 47, 35, 25, 36, 36, 34, 27, 30, 46, 31, 30, 29, 42, 25, 45, 34, 22, 38, 30, 41, 37, 20, 12, 31, 11, 18, 17, 15, 12, 9, 14, 9, 9, 15, 9, 9, 12, 5, 3, 4, 3, 8, 11, 8, 6, 5, 9, 9, 7, 6, 7, 7, 5, 2, 6, 4, 4, 7, 4, 6, 5, 10, 4, 5, 4, 5, 2, 1, 6, 2, 1, 4, 4, 2, 5, 10, 10, 5, 6, 6, 8, 11, 3, 15, 13, 15, 13, 30, 29, 17, 27, 44, 53, 38, 45, 45, 32, 36, 38, 53, 45, 33, 40, 45, 50, 33, 31, 53, 58, 46, 40, 67, 43, 39, 43, 61, 74, 54, 41, 65, 63, 46, 52, 56, 64, 44, 48, 71, 56, 40, 55, 59, 66, 48, 50, 66, 59, 51, 40, 69, 65, 42, 55, 62, 54, 43, 54, 51, 65, 45, 51, 50, 57, 48, 33, 66, 63, 50, 41, 56, 50, 52, 48, 56, 52, 46, 46, 58, 42, 43, 35, 54, 57, 42, 40, 67, 48, 43, 35, 57, 44, 35, 35, 45, 46, 33, 43, 47, 34, 38, 43, 49, 31, 35, 31, 27, 24, 33, 28, 43, 27, 27, 30, 31, 31, 28, 32, 25, 30, 28, 35, 17, 24, 25, 16, 23, 22, 14, 20, 16, 10, 17, 12, 18, 10, 11, 11, 14, 10, 13, 10, 5, 6, 10, 11, 13, 9, 9, 5, 7, 11, 9, 4, 4, 5, 6, 6, 8, 6, 4, 4, 5, 5, 1, 3, 5, 5, 6, 3, 2, 2, 1, 3, 3, 4, 4, 6, 1, 5, 2, 9, 6, 11, 16, 17, 11, 15, 10, 15, 6, 10, 14, 22, 24, 18, 20, 27, 17, 18, 20, 34, 30, 26, 20, 39, 21, 27, 33, 37, 24, 29, 30, 51, 29, 35, 35, 62, 40, 36, 37, 53, 42, 48, 40, 51, 40, 41, 40, 59, 46, 33, 35, 61, 36, 33, 37, 62, 38, 31, 44, 47, 30, 40, 24, 50, 38, 33, 24, 37, 33, 38, 24, 49, 22, 25, 24, 43, 38, 31, 21, 29, 26, 33, 26, 31, 35, 24, 26, 41, 38, 24, 26, 40, 24, 39, 35, 42, 28, 26, 29, 52, 31, 39, 42, 46, 33, 30, 32, 45, 31, 29, 23, 33, 25, 17, 28, 31, 21, 31, 19, 35, 27, 29, 27, 41, 34, 26, 20, 19, 27, 24, 22, 17, 12, 21, 11, 14, 10]\n"
          ],
          "name": "stdout"
        }
      ]
    },
    {
      "cell_type": "markdown",
      "metadata": {
        "id": "GVUHvQxwWVrW",
        "colab_type": "text"
      },
      "source": [
        "# Random Forest\n",
        "\n",
        "This implementation is based on [Random Forest Algorithm with Python and Scikit-Learn](https://stackabuse.com/random-forest-algorithm-with-python-and-scikit-learn/)"
      ]
    },
    {
      "cell_type": "code",
      "metadata": {
        "id": "CY4FoU_7aqcL",
        "colab_type": "code",
        "colab": {}
      },
      "source": [
        "from sklearn.ensemble.forest import RandomForestRegressor"
      ],
      "execution_count": 0,
      "outputs": []
    },
    {
      "cell_type": "code",
      "metadata": {
        "id": "aphhugpvWYkP",
        "colab_type": "code",
        "colab": {}
      },
      "source": [
        "def random_forest(X, Y, isMulti):\n",
        "  name = \"RF Multivariate\" if isMulti else \"RF Univariate\"\n",
        "  \n",
        "  model = skl.ensemble.RandomForestRegressor(n_estimators=100, max_features='auto', random_state=0)\n",
        "\n",
        "  expected, observed, times = [], [], []\n",
        "  pointers = split_dataset(len(X))\n",
        "  \n",
        "  X = X.reshape(X.shape[0], X.shape[1] * X.shape[2])\n",
        "  \n",
        "  for i, j, k in pointers:\n",
        "    start = tm.time()\n",
        "    \n",
        "    model.fit(X[i:j], Y[i:j])\n",
        "    \n",
        "    expected.append(Y[j:k])\n",
        "    observed.append(model.predict(X[j:k]))\n",
        "    times.append(tm.time() - start)\n",
        "    \n",
        "  evaluate(expected, observed, times, name)"
      ],
      "execution_count": 0,
      "outputs": []
    },
    {
      "cell_type": "code",
      "metadata": {
        "id": "ngS3IfNTWd2N",
        "colab_type": "code",
        "colab": {}
      },
      "source": [
        "random_forest(X_uni, Y_uni, False)"
      ],
      "execution_count": 0,
      "outputs": []
    },
    {
      "cell_type": "code",
      "metadata": {
        "id": "gAkXEVV2PgGk",
        "colab_type": "code",
        "colab": {}
      },
      "source": [
        "random_forest(X_multi, Y_multi, True)"
      ],
      "execution_count": 0,
      "outputs": []
    },
    {
      "cell_type": "markdown",
      "metadata": {
        "id": "8WICqU265GQ2",
        "colab_type": "text"
      },
      "source": [
        "# Support Vector Machine"
      ]
    },
    {
      "cell_type": "code",
      "metadata": {
        "id": "6O3aVV1s5KdL",
        "colab_type": "code",
        "colab": {}
      },
      "source": [
        "from sklearn import svm"
      ],
      "execution_count": 0,
      "outputs": []
    },
    {
      "cell_type": "code",
      "metadata": {
        "id": "scKSmSyk5Awm",
        "colab_type": "code",
        "colab": {}
      },
      "source": [
        "def support_vector_machine(X, Y, isMulti):\n",
        "  name = \"SVM Multivariate\" if isMulti else \"SVM Univariate\"\n",
        "  \n",
        "  model = svm.SVR(gamma='scale', C=1.0, epsilon=0.2)\n",
        "\n",
        "  expected, observed, times = [], [], []\n",
        "  pointers = split_dataset(len(X))\n",
        "  \n",
        "  X = X.reshape(X.shape[0], X.shape[1] * X.shape[2])\n",
        "  \n",
        "  for i, j, k in pointers:\n",
        "    start = tm.time()\n",
        "    \n",
        "    model.fit(X[i:j], Y[i:j])\n",
        "    \n",
        "    expected.append(Y[j:k])\n",
        "    observed.append(model.predict(X[j:k]))\n",
        "    times.append(tm.time() - start)\n",
        "    \n",
        "  evaluate(expected, observed, times, name)"
      ],
      "execution_count": 0,
      "outputs": []
    },
    {
      "cell_type": "code",
      "metadata": {
        "id": "J1D1OCE_5kAW",
        "colab_type": "code",
        "colab": {}
      },
      "source": [
        "support_vector_machine(X_uni, Y_uni, False)"
      ],
      "execution_count": 0,
      "outputs": []
    },
    {
      "cell_type": "code",
      "metadata": {
        "id": "4oOXHBHuN2lh",
        "colab_type": "code",
        "colab": {}
      },
      "source": [
        "support_vector_machine(X_multi, Y_multi, True)"
      ],
      "execution_count": 0,
      "outputs": []
    },
    {
      "cell_type": "markdown",
      "metadata": {
        "id": "B3dQ_nM_TgDC",
        "colab_type": "text"
      },
      "source": [
        "# RNN"
      ]
    },
    {
      "cell_type": "code",
      "metadata": {
        "id": "BH_62Q8G2s9a",
        "colab_type": "code",
        "colab": {}
      },
      "source": [
        "from keras.layers import SimpleRNN"
      ],
      "execution_count": 0,
      "outputs": []
    },
    {
      "cell_type": "code",
      "metadata": {
        "id": "st9EurMVT5gj",
        "colab_type": "code",
        "colab": {}
      },
      "source": [
        "def rnn (X, Y, isMulti): \n",
        "  name = \"RNN Multivariate\" if isMulti else \"RNN Univariate\"\n",
        "  \n",
        "  model = Sequential()\n",
        "  \n",
        "  model.add(SimpleRNN(50, activation='relu', input_shape=(X.shape[1], X.shape[2])))\n",
        "  model.add(Dense(1))\n",
        "  \n",
        "  model.compile(optimizer='adam', loss='mse', metrics = [\"accuracy\"])\n",
        "  \n",
        "  expected, observed, times = [], [], []\n",
        "  pointers = split_dataset(len(X))\n",
        "  \n",
        "  for i, j, k in pointers:\n",
        "    start = tm.time()\n",
        "    \n",
        "    hist = model.fit(X[i:j], Y[i:j], validation_split=0.2, batch_size=64, epochs=15, verbose=0)\n",
        "    \n",
        "    expected.append(Y[j:k])\n",
        "    observed.append(model.predict(X[j:k]))\n",
        "    times.append(tm.time() - start)\n",
        "    \n",
        "    if VERBOSITY:\n",
        "      plot_history(hist, f\"{name} ({str(len(times)).zfill(2)} of {len(pointers)})\")\n",
        "    \n",
        "  evaluate(expected, observed, times, name)"
      ],
      "execution_count": 0,
      "outputs": []
    },
    {
      "cell_type": "code",
      "metadata": {
        "id": "ljCEF3v-L2tj",
        "colab_type": "code",
        "colab": {}
      },
      "source": [
        "rnn(X_uni, Y_uni, False)"
      ],
      "execution_count": 0,
      "outputs": []
    },
    {
      "cell_type": "code",
      "metadata": {
        "id": "3axOTwsBYA-s",
        "colab_type": "code",
        "colab": {}
      },
      "source": [
        "rnn(X_multi, Y_multi, True)"
      ],
      "execution_count": 0,
      "outputs": []
    },
    {
      "cell_type": "markdown",
      "metadata": {
        "id": "D7Nq3PsMTjYc",
        "colab_type": "text"
      },
      "source": [
        "# LSTM"
      ]
    },
    {
      "cell_type": "code",
      "metadata": {
        "id": "nTbbtAki29wT",
        "colab_type": "code",
        "colab": {}
      },
      "source": [
        "from keras.layers import LSTM"
      ],
      "execution_count": 0,
      "outputs": []
    },
    {
      "cell_type": "code",
      "metadata": {
        "id": "AGyRz8GzTp4e",
        "colab_type": "code",
        "colab": {}
      },
      "source": [
        "def lstm (X, Y, isMulti): \n",
        "  name = \"LSTM Multivariate\" if isMulti else \"LSTM Univariate\"\n",
        "  \n",
        "  model = Sequential()\n",
        "  \n",
        "  model.add(LSTM(50, activation='relu', input_shape=(X.shape[1], X.shape[2])))\n",
        "  model.add(Dense(1))\n",
        "  \n",
        "  model.compile(optimizer='adam', loss='mse', metrics = [\"accuracy\"])\n",
        "  \n",
        "  expected, observed, times = [], [], []\n",
        "  pointers = split_dataset(len(X))\n",
        "  \n",
        "  for i, j, k in pointers:\n",
        "    start = tm.time()\n",
        "    \n",
        "    hist = model.fit(X[i:j], Y[i:j], validation_split=0.2, batch_size=64, epochs=15, verbose=0)\n",
        "    \n",
        "    expected.append(Y[j:k])\n",
        "    observed.append(model.predict(X[j:k]))\n",
        "    times.append(tm.time() - start)\n",
        "    \n",
        "    if VERBOSITY:\n",
        "      plot_history(hist, f\"{name} ({str(len(times)).zfill(2)} of {len(pointers)})\")\n",
        "    \n",
        "  evaluate(expected, observed, times, name)"
      ],
      "execution_count": 0,
      "outputs": []
    },
    {
      "cell_type": "code",
      "metadata": {
        "id": "FIUUzGd2Lz-R",
        "colab_type": "code",
        "colab": {}
      },
      "source": [
        "lstm(X_uni, Y_uni, False)"
      ],
      "execution_count": 0,
      "outputs": []
    },
    {
      "cell_type": "code",
      "metadata": {
        "id": "UmdvQZIiYTya",
        "colab_type": "code",
        "colab": {}
      },
      "source": [
        "lstm(X_multi, Y_multi, True)"
      ],
      "execution_count": 0,
      "outputs": []
    },
    {
      "cell_type": "markdown",
      "metadata": {
        "id": "qhaufggBRABt",
        "colab_type": "text"
      },
      "source": [
        "# GRU"
      ]
    },
    {
      "cell_type": "code",
      "metadata": {
        "id": "rP_hAZNu3CS7",
        "colab_type": "code",
        "colab": {}
      },
      "source": [
        "from keras.layers import GRU"
      ],
      "execution_count": 0,
      "outputs": []
    },
    {
      "cell_type": "code",
      "metadata": {
        "id": "KD1GwF_b9P2h",
        "colab_type": "code",
        "colab": {}
      },
      "source": [
        "def gru (X, Y, isMulti): \n",
        "  name = \"GRU Multivariate\" if isMulti else \"GRU Univariate\"\n",
        "  \n",
        "  model = Sequential()\n",
        "  \n",
        "  model.add(GRU(50, activation='relu', input_shape=(X.shape[1], X.shape[2])))\n",
        "  model.add(Dense(1))\n",
        "  \n",
        "  model.compile(optimizer='adam', loss='mse', metrics = [\"accuracy\"])\n",
        "\n",
        "  expected, observed, times = [], [], []\n",
        "  pointers = split_dataset(len(X))\n",
        "  \n",
        "  for i, j, k in pointers:\n",
        "    start = tm.time()\n",
        "    \n",
        "    hist = model.fit(X[i:j], Y[i:j], validation_split=0.2, batch_size=64, epochs=15, verbose=0)\n",
        "    \n",
        "    expected.append(Y[j:k])\n",
        "    observed.append(model.predict(X[j:k]))\n",
        "    times.append(tm.time() - start)\n",
        "    \n",
        "    if VERBOSITY:\n",
        "      plot_history(hist, f\"{name} ({str(len(times)).zfill(2)} of {len(pointers)})\")\n",
        "    \n",
        "  evaluate(expected, observed, times, name)"
      ],
      "execution_count": 0,
      "outputs": []
    },
    {
      "cell_type": "code",
      "metadata": {
        "id": "FzkWaQv_LtFP",
        "colab_type": "code",
        "colab": {}
      },
      "source": [
        "gru(X_uni, Y_uni, False)"
      ],
      "execution_count": 0,
      "outputs": []
    },
    {
      "cell_type": "code",
      "metadata": {
        "id": "IAtUsPrKYZs4",
        "colab_type": "code",
        "colab": {}
      },
      "source": [
        "gru(X_multi, Y_multi, True)"
      ],
      "execution_count": 0,
      "outputs": []
    },
    {
      "cell_type": "markdown",
      "metadata": {
        "id": "1PypQpgeb3Nu",
        "colab_type": "text"
      },
      "source": [
        "# Results"
      ]
    },
    {
      "cell_type": "markdown",
      "metadata": {
        "id": "iEc1XLwM60xN",
        "colab_type": "text"
      },
      "source": [
        "## Store"
      ]
    },
    {
      "cell_type": "code",
      "metadata": {
        "id": "g1GduJyrb7Oq",
        "colab_type": "code",
        "colab": {}
      },
      "source": [
        "store_results()"
      ],
      "execution_count": 0,
      "outputs": []
    },
    {
      "cell_type": "markdown",
      "metadata": {
        "id": "d7RYTwKXkP4o",
        "colab_type": "text"
      },
      "source": [
        "## Plot"
      ]
    },
    {
      "cell_type": "code",
      "metadata": {
        "id": "gEOWGzNAlR61",
        "colab_type": "code",
        "outputId": "6faa28c9-8fa9-4a57-8cb2-9c729580944f",
        "colab": {
          "base_uri": "https://localhost:8080/",
          "height": 452
        }
      },
      "source": [
        "plot_performance_bar('TIME', 'Seconds', 'Training Time Comparison')"
      ],
      "execution_count": 78,
      "outputs": [
        {
          "output_type": "display_data",
          "data": {
            "image/png": "[encoded data removed]",
            "text/plain": [
              "<Figure size 640x480 with 1 Axes>"
            ]
          },
          "metadata": {
            "tags": []
          }
        }
      ]
    },
    {
      "cell_type": "code",
      "metadata": {
        "id": "l7nGtfoDjRtr",
        "colab_type": "code",
        "outputId": "bae96650-2465-4cb4-f23e-0708e93696eb",
        "colab": {
          "base_uri": "https://localhost:8080/",
          "height": 472
        }
      },
      "source": [
        "plot_performance_box('TIME', 'Seconds', 'Training Time Comparison')"
      ],
      "execution_count": 79,
      "outputs": [
        {
          "output_type": "display_data",
          "data": {
            "image/png": "[encoded data removed]",
            "text/plain": [
              "<Figure size 640x480 with 1 Axes>"
            ]
          },
          "metadata": {
            "tags": []
          }
        }
      ]
    },
    {
      "cell_type": "code",
      "metadata": {
        "id": "NrwrDmkKurHb",
        "colab_type": "code",
        "outputId": "17d23992-61f6-4039-80ce-0b0761467632",
        "colab": {
          "base_uri": "https://localhost:8080/",
          "height": 452
        }
      },
      "source": [
        "plot_performance_bar('RMSE', 'RMSE', 'Root Mean Square Error Comparison')"
      ],
      "execution_count": 80,
      "outputs": [
        {
          "output_type": "display_data",
          "data": {
            "image/png": "[encoded data removed]",
            "text/plain": [
              "<Figure size 640x480 with 1 Axes>"
            ]
          },
          "metadata": {
            "tags": []
          }
        }
      ]
    },
    {
      "cell_type": "code",
      "metadata": {
        "id": "wfkT6lp1jhfR",
        "colab_type": "code",
        "outputId": "c49c64a2-24b1-4b28-8093-91246ed293d1",
        "colab": {
          "base_uri": "https://localhost:8080/",
          "height": 472
        }
      },
      "source": [
        "plot_performance_box('RMSE', 'RMSE', 'Root Mean Square Error Comparison')"
      ],
      "execution_count": 81,
      "outputs": [
        {
          "output_type": "display_data",
          "data": {
            "image/png": "[encoded data removed]",
            "text/plain": [
              "<Figure size 640x480 with 1 Axes>"
            ]
          },
          "metadata": {
            "tags": []
          }
        }
      ]
    },
    {
      "cell_type": "code",
      "metadata": {
        "id": "qUXrwAeMuxTM",
        "colab_type": "code",
        "outputId": "3c3a6903-9c5a-49ef-d92a-b1ce32ef5420",
        "colab": {
          "base_uri": "https://localhost:8080/",
          "height": 452
        }
      },
      "source": [
        "plot_performance_bar('NRMSE', 'NRMSE', 'Normalized Root Mean Square Error Comparison')"
      ],
      "execution_count": 82,
      "outputs": [
        {
          "output_type": "display_data",
          "data": {
            "image/png": "[encoded data removed]",
            "text/plain": [
              "<Figure size 640x480 with 1 Axes>"
            ]
          },
          "metadata": {
            "tags": []
          }
        }
      ]
    },
    {
      "cell_type": "code",
      "metadata": {
        "id": "C_139ETyjiDH",
        "colab_type": "code",
        "colab": {}
      },
      "source": [
        "plot_performance_box('NRMSE', 'NRMSE', 'Normalized Root Mean Square Error Comparison')"
      ],
      "execution_count": 0,
      "outputs": []
    },
    {
      "cell_type": "code",
      "metadata": {
        "id": "vIfcKIkuEAWK",
        "colab_type": "code",
        "colab": {}
      },
      "source": [
        "plot_performance_bar('MAE', 'MAE', 'Max Absolute Error Comparison')"
      ],
      "execution_count": 0,
      "outputs": []
    },
    {
      "cell_type": "code",
      "metadata": {
        "id": "XTENlZJRjinW",
        "colab_type": "code",
        "colab": {}
      },
      "source": [
        "plot_performance_box('MAE', 'MAE', 'Max Absolute Error Comparison')"
      ],
      "execution_count": 0,
      "outputs": []
    },
    {
      "cell_type": "code",
      "metadata": {
        "id": "zAHZyuBZ9_AU",
        "colab_type": "code",
        "colab": {}
      },
      "source": [
        "plot_performance_bar('R2', 'R2', 'R Squared Comparison')"
      ],
      "execution_count": 0,
      "outputs": []
    },
    {
      "cell_type": "code",
      "metadata": {
        "id": "rno7b3eu-Aar",
        "colab_type": "code",
        "colab": {}
      },
      "source": [
        "plot_performance_box('R2', 'R2', 'R Squared Comparison')"
      ],
      "execution_count": 0,
      "outputs": []
    },
    {
      "cell_type": "code",
      "metadata": {
        "id": "EjSOL-7qeYhf",
        "colab_type": "code",
        "colab": {}
      },
      "source": [
        "plot_performance_bar('HR', 'HR', 'Hit Ratio Comparison')"
      ],
      "execution_count": 0,
      "outputs": []
    },
    {
      "cell_type": "code",
      "metadata": {
        "id": "fgzZvkngeY2n",
        "colab_type": "code",
        "colab": {}
      },
      "source": [
        "plot_performance_box('HR', 'HR', 'Hit Ratio Comparison')"
      ],
      "execution_count": 0,
      "outputs": []
    },
    {
      "cell_type": "markdown",
      "metadata": {
        "id": "b1QmFwC1k2NO",
        "colab_type": "text"
      },
      "source": [
        "# Compare By Window"
      ]
    },
    {
      "cell_type": "code",
      "metadata": {
        "id": "QdN_JTyQISlM",
        "colab_type": "code",
        "colab": {}
      },
      "source": [
        "def plot_results_by_window_split():\n",
        "  path = f\"{TCC_PATH}plots/window_comparison\"\n",
        "  models = [*comparison_data[0]['results']]\n",
        "  print(models)\n",
        "  \n",
        "  for model in models:\n",
        "    datapoints = [result['results'][model]['NRMSE'] for result in comparison_data]\n",
        "    plt.plot(datapoints)\n",
        "\n",
        "  plt.title('Windows Size for Training Comparison')\n",
        "  plt.ylabel('NRMSE')\n",
        "  plt.xlabel('Window Size')\n",
        "  plt.legend(models, loc='upper left')\n",
        "  plt.rcdefaults()\n",
        "\n",
        "  plt.savefig(path + \".png\", bbox_inches='tight')\n",
        "  plt.savefig(path + \".pdf\")\n",
        "\n",
        "  plt.close('all')"
      ],
      "execution_count": 0,
      "outputs": []
    },
    {
      "cell_type": "code",
      "metadata": {
        "id": "uVG-q8fvk32O",
        "colab_type": "code",
        "colab": {}
      },
      "source": [
        "def compare_results_by_window_split():\n",
        "  global SET_SPLIT\n",
        "  global VERBOSITY\n",
        "  global result_data\n",
        "  global comparison_data\n",
        "  \n",
        "  VERBOSITY = False\n",
        "  \n",
        "  #splitting_windows = [0.20, 0.25, 0.30, 0.35, 0.40, 0.45, 0.50, 0.55, 0.60, 0.65, 0.70, 0.75, 0.80, 0.85, 0.90]\n",
        "  \n",
        "  splitting_windows = [0.20, 0.30, 0.40, 0.50, 0.60]\n",
        "  \n",
        "  result_data = {\n",
        "      'results': {},\n",
        "      'meta': {}\n",
        "  }\n",
        "  comparison_data = []\n",
        "\n",
        "  for split in splitting_windows:\n",
        "    SET_SPLIT = split\n",
        "\n",
        "    random_guess_univariate(Y_uni)\n",
        "    mean_univariate(X_uni, Y_uni)\n",
        "    random_forest(X_uni, Y_uni)\n",
        "    support_vector_machine(X_uni, Y_uni)\n",
        "    rnn(X_uni, Y_uni, False)\n",
        "    rnn(X_multi, Y_multi, True)\n",
        "    lstm(X_uni, Y_uni, False)\n",
        "    gru(X_uni, Y_uni, False)\n",
        "    gru(X_multi, Y_multi, True)\n",
        "    \n",
        "    print([*result_data['results']])\n",
        "\n",
        "    comparison_data.append(copy.deepcopy(result_data))\n",
        "\n",
        "\n",
        "  store_comparisons()"
      ],
      "execution_count": 0,
      "outputs": []
    },
    {
      "cell_type": "code",
      "metadata": {
        "id": "7cRR0WElOJdS",
        "colab_type": "code",
        "colab": {}
      },
      "source": [
        "compare_results_by_window_split()"
      ],
      "execution_count": 0,
      "outputs": []
    },
    {
      "cell_type": "code",
      "metadata": {
        "id": "HHqYGnwuOJ1_",
        "colab_type": "code",
        "colab": {}
      },
      "source": [
        "plot_results_by_window_split()"
      ],
      "execution_count": 0,
      "outputs": []
    },
    {
      "cell_type": "markdown",
      "metadata": {
        "id": "rBjqtHAo_aFw",
        "colab_type": "text"
      },
      "source": [
        "# Observations:\n",
        "\n",
        "+ For the evaluation of the RNN and it's variations was used the Walking Forward methodology so that we had many test sessions and all training sessions where the same size [[1]](https://towardsdatascience.com/time-series-nested-cross-validation-76adba623eb9)"
      ]
    }
  ]
}