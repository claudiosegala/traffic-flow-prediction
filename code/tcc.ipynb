{
  "nbformat": 4,
  "nbformat_minor": 0,
  "metadata": {
    "colab": {
      "name": "tcc.ipynb",
      "version": "0.3.2",
      "provenance": [],
      "collapsed_sections": [
        "rlQKvD3_tqxd",
        "-4MRltPccIM2",
        "R14KefuiBycd",
        "k2GB0HWqc4F5",
        "nFv86fqFDDor"
      ],
      "include_colab_link": true
    },
    "kernelspec": {
      "name": "python3",
      "display_name": "Python 3"
    },
    "accelerator": "TPU"
  },
  "cells": [
    {
      "cell_type": "markdown",
      "metadata": {
        "id": "view-in-github",
        "colab_type": "text"
      },
      "source": [
        "<a href=\"https://colab.research.google.com/github/claudiosegala/Monografia/blob/master/code/tcc.ipynb\" target=\"_parent\"><img src=\"https://colab.research.google.com/assets/colab-badge.svg\" alt=\"Open In Colab\"/></a>"
      ]
    },
    {
      "cell_type": "markdown",
      "metadata": {
        "id": "estoJZd7_klb",
        "colab_type": "text"
      },
      "source": [
        "# TCC\n",
        "\n",
        "## Models\n",
        "\n",
        "- Random Guess\n",
        "- Mean\n",
        "- Random Forest\n",
        "- RNN\n",
        "- LSTM\n",
        "- GRU\n",
        "\n",
        "## Evaluation\n",
        "\n",
        "- RMSE\n",
        "- NRMSE\n",
        "  - Normalized by stardartization"
      ]
    },
    {
      "cell_type": "markdown",
      "metadata": {
        "id": "krd1GCLFBNn3",
        "colab_type": "text"
      },
      "source": [
        "# Mount Drive\n",
        "\n",
        "Connect to Google Drive of 'alfredcoinworth'"
      ]
    },
    {
      "cell_type": "code",
      "metadata": {
        "id": "ebzVayUNBP2L",
        "colab_type": "code",
        "outputId": "fcdac3da-88a8-4ce0-9580-bd3b098eda8e",
        "colab": {
          "base_uri": "https://localhost:8080/",
          "height": 124
        }
      },
      "source": [
        "import google as g # To connect with google drive\n",
        "g.colab.drive.mount('/content/drive')"
      ],
      "execution_count": 1,
      "outputs": [
        {
          "output_type": "stream",
          "text": [
            "Go to this URL in a browser: https://accounts.google.com/o/oauth2/auth?client_id=947318989803-6bn6qk8qdgf4n4g3pfee6491hc0brc4i.apps.googleusercontent.com&redirect_uri=urn%3Aietf%3Awg%3Aoauth%3A2.0%3Aoob&scope=email%20https%3A%2F%2Fwww.googleapis.com%2Fauth%2Fdocs.test%20https%3A%2F%2Fwww.googleapis.com%2Fauth%2Fdrive%20https%3A%2F%2Fwww.googleapis.com%2Fauth%2Fdrive.photos.readonly%20https%3A%2F%2Fwww.googleapis.com%2Fauth%2Fpeopleapi.readonly&response_type=code\n",
            "\n",
            "Enter your authorization code:\n",
            "··········\n",
            "Mounted at /content/drive\n"
          ],
          "name": "stdout"
        }
      ]
    },
    {
      "cell_type": "markdown",
      "metadata": {
        "id": "tD29g6RmWyjg",
        "colab_type": "text"
      },
      "source": [
        "# Install Dependencies\n",
        "\n",
        "In this phase we have to download all the dependencies that our code will need"
      ]
    },
    {
      "cell_type": "code",
      "metadata": {
        "id": "uDUNNEdAWJPx",
        "colab_type": "code",
        "outputId": "e2fb1a71-c04e-4ff4-afa1-a9a13c292cbf",
        "colab": {
          "base_uri": "https://localhost:8080/",
          "height": 987
        }
      },
      "source": [
        "!pip install tensorflow\n",
        "!pip install pandas\n",
        "!pip install matplotlib\n",
        "!pip install numpy\n",
        "!pip install sklearn\n",
        "!pip install keras\n",
        "!pip install statsmodels"
      ],
      "execution_count": 2,
      "outputs": [
        {
          "output_type": "stream",
          "text": [
            "Requirement already satisfied: tensorflow in /usr/local/lib/python3.6/dist-packages (1.14.0)\n",
            "Requirement already satisfied: numpy<2.0,>=1.14.5 in /usr/local/lib/python3.6/dist-packages (from tensorflow) (1.16.5)\n",
            "Requirement already satisfied: six>=1.10.0 in /usr/local/lib/python3.6/dist-packages (from tensorflow) (1.12.0)\n",
            "Requirement already satisfied: wrapt>=1.11.1 in /usr/local/lib/python3.6/dist-packages (from tensorflow) (1.11.2)\n",
            "Requirement already satisfied: tensorboard<1.15.0,>=1.14.0 in /usr/local/lib/python3.6/dist-packages (from tensorflow) (1.14.0)\n",
            "Requirement already satisfied: keras-applications>=1.0.6 in /usr/local/lib/python3.6/dist-packages (from tensorflow) (1.0.8)\n",
            "Requirement already satisfied: grpcio>=1.8.6 in /usr/local/lib/python3.6/dist-packages (from tensorflow) (1.15.0)\n",
            "Requirement already satisfied: wheel>=0.26 in /usr/local/lib/python3.6/dist-packages (from tensorflow) (0.33.6)\n",
            "Requirement already satisfied: astor>=0.6.0 in /usr/local/lib/python3.6/dist-packages (from tensorflow) (0.8.0)\n",
            "Requirement already satisfied: protobuf>=3.6.1 in /usr/local/lib/python3.6/dist-packages (from tensorflow) (3.7.1)\n",
            "Requirement already satisfied: google-pasta>=0.1.6 in /usr/local/lib/python3.6/dist-packages (from tensorflow) (0.1.7)\n",
            "Requirement already satisfied: termcolor>=1.1.0 in /usr/local/lib/python3.6/dist-packages (from tensorflow) (1.1.0)\n",
            "Requirement already satisfied: absl-py>=0.7.0 in /usr/local/lib/python3.6/dist-packages (from tensorflow) (0.8.0)\n",
            "Requirement already satisfied: tensorflow-estimator<1.15.0rc0,>=1.14.0rc0 in /usr/local/lib/python3.6/dist-packages (from tensorflow) (1.14.0)\n",
            "Requirement already satisfied: gast>=0.2.0 in /usr/local/lib/python3.6/dist-packages (from tensorflow) (0.2.2)\n",
            "Requirement already satisfied: keras-preprocessing>=1.0.5 in /usr/local/lib/python3.6/dist-packages (from tensorflow) (1.1.0)\n",
            "Requirement already satisfied: setuptools>=41.0.0 in /usr/local/lib/python3.6/dist-packages (from tensorboard<1.15.0,>=1.14.0->tensorflow) (41.2.0)\n",
            "Requirement already satisfied: werkzeug>=0.11.15 in /usr/local/lib/python3.6/dist-packages (from tensorboard<1.15.0,>=1.14.0->tensorflow) (0.15.6)\n",
            "Requirement already satisfied: markdown>=2.6.8 in /usr/local/lib/python3.6/dist-packages (from tensorboard<1.15.0,>=1.14.0->tensorflow) (3.1.1)\n",
            "Requirement already satisfied: h5py in /usr/local/lib/python3.6/dist-packages (from keras-applications>=1.0.6->tensorflow) (2.8.0)\n",
            "Requirement already satisfied: pandas in /usr/local/lib/python3.6/dist-packages (0.24.2)\n",
            "Requirement already satisfied: pytz>=2011k in /usr/local/lib/python3.6/dist-packages (from pandas) (2018.9)\n",
            "Requirement already satisfied: numpy>=1.12.0 in /usr/local/lib/python3.6/dist-packages (from pandas) (1.16.5)\n",
            "Requirement already satisfied: python-dateutil>=2.5.0 in /usr/local/lib/python3.6/dist-packages (from pandas) (2.5.3)\n",
            "Requirement already satisfied: six>=1.5 in /usr/local/lib/python3.6/dist-packages (from python-dateutil>=2.5.0->pandas) (1.12.0)\n",
            "Requirement already satisfied: matplotlib in /usr/local/lib/python3.6/dist-packages (3.0.3)\n",
            "Requirement already satisfied: python-dateutil>=2.1 in /usr/local/lib/python3.6/dist-packages (from matplotlib) (2.5.3)\n",
            "Requirement already satisfied: numpy>=1.10.0 in /usr/local/lib/python3.6/dist-packages (from matplotlib) (1.16.5)\n",
            "Requirement already satisfied: pyparsing!=2.0.4,!=2.1.2,!=2.1.6,>=2.0.1 in /usr/local/lib/python3.6/dist-packages (from matplotlib) (2.4.2)\n",
            "Requirement already satisfied: kiwisolver>=1.0.1 in /usr/local/lib/python3.6/dist-packages (from matplotlib) (1.1.0)\n",
            "Requirement already satisfied: cycler>=0.10 in /usr/local/lib/python3.6/dist-packages (from matplotlib) (0.10.0)\n",
            "Requirement already satisfied: six>=1.5 in /usr/local/lib/python3.6/dist-packages (from python-dateutil>=2.1->matplotlib) (1.12.0)\n",
            "Requirement already satisfied: setuptools in /usr/local/lib/python3.6/dist-packages (from kiwisolver>=1.0.1->matplotlib) (41.2.0)\n",
            "Requirement already satisfied: numpy in /usr/local/lib/python3.6/dist-packages (1.16.5)\n",
            "Requirement already satisfied: sklearn in /usr/local/lib/python3.6/dist-packages (0.0)\n",
            "Requirement already satisfied: scikit-learn in /usr/local/lib/python3.6/dist-packages (from sklearn) (0.21.3)\n",
            "Requirement already satisfied: scipy>=0.17.0 in /usr/local/lib/python3.6/dist-packages (from scikit-learn->sklearn) (1.3.1)\n",
            "Requirement already satisfied: joblib>=0.11 in /usr/local/lib/python3.6/dist-packages (from scikit-learn->sklearn) (0.13.2)\n",
            "Requirement already satisfied: numpy>=1.11.0 in /usr/local/lib/python3.6/dist-packages (from scikit-learn->sklearn) (1.16.5)\n",
            "Requirement already satisfied: keras in /usr/local/lib/python3.6/dist-packages (2.2.5)\n",
            "Requirement already satisfied: scipy>=0.14 in /usr/local/lib/python3.6/dist-packages (from keras) (1.3.1)\n",
            "Requirement already satisfied: keras-preprocessing>=1.1.0 in /usr/local/lib/python3.6/dist-packages (from keras) (1.1.0)\n",
            "Requirement already satisfied: h5py in /usr/local/lib/python3.6/dist-packages (from keras) (2.8.0)\n",
            "Requirement already satisfied: keras-applications>=1.0.8 in /usr/local/lib/python3.6/dist-packages (from keras) (1.0.8)\n",
            "Requirement already satisfied: six>=1.9.0 in /usr/local/lib/python3.6/dist-packages (from keras) (1.12.0)\n",
            "Requirement already satisfied: numpy>=1.9.1 in /usr/local/lib/python3.6/dist-packages (from keras) (1.16.5)\n",
            "Requirement already satisfied: pyyaml in /usr/local/lib/python3.6/dist-packages (from keras) (3.13)\n",
            "Requirement already satisfied: statsmodels in /usr/local/lib/python3.6/dist-packages (0.10.1)\n",
            "Requirement already satisfied: scipy>=0.18 in /usr/local/lib/python3.6/dist-packages (from statsmodels) (1.3.1)\n",
            "Requirement already satisfied: patsy>=0.4.0 in /usr/local/lib/python3.6/dist-packages (from statsmodels) (0.5.1)\n",
            "Requirement already satisfied: numpy>=1.11 in /usr/local/lib/python3.6/dist-packages (from statsmodels) (1.16.5)\n",
            "Requirement already satisfied: pandas>=0.19 in /usr/local/lib/python3.6/dist-packages (from statsmodels) (0.24.2)\n",
            "Requirement already satisfied: six in /usr/local/lib/python3.6/dist-packages (from patsy>=0.4.0->statsmodels) (1.12.0)\n",
            "Requirement already satisfied: pytz>=2011k in /usr/local/lib/python3.6/dist-packages (from pandas>=0.19->statsmodels) (2018.9)\n",
            "Requirement already satisfied: python-dateutil>=2.5.0 in /usr/local/lib/python3.6/dist-packages (from pandas>=0.19->statsmodels) (2.5.3)\n"
          ],
          "name": "stdout"
        }
      ]
    },
    {
      "cell_type": "markdown",
      "metadata": {
        "id": "NCSPqG1YXAfm",
        "colab_type": "text"
      },
      "source": [
        "# Define headers\n",
        "\n",
        "In this phase we have to declare all the libraries that we will use."
      ]
    },
    {
      "cell_type": "code",
      "metadata": {
        "id": "wD11PvxQXFT0",
        "colab_type": "code",
        "colab": {}
      },
      "source": [
        "import tensorflow as tf # machine learning library\n",
        "import pandas as pd # data manipulation library\n",
        "import matplotlib.pyplot as plt # plot library\n",
        "import numpy as np # math library\n",
        "import datetime as dt # to discover week day\n",
        "import time as tm # to convert to seconds\n",
        "import sklearn as skl # regression templates library\n",
        "import sklearn.metrics as sklm # metrics\n",
        "import statsmodels.api as sma # statistical models api\n",
        "import statistics as st # statistics\n",
        "import statsmodels as sm # statistical models"
      ],
      "execution_count": 0,
      "outputs": []
    },
    {
      "cell_type": "markdown",
      "metadata": {
        "id": "xw1p5NfaMKTk",
        "colab_type": "text"
      },
      "source": [
        "# Configurations\n",
        "\n",
        "Diminish the verbosity of tensorflow"
      ]
    },
    {
      "cell_type": "code",
      "metadata": {
        "id": "CpyxvqpIMMXX",
        "colab_type": "code",
        "colab": {}
      },
      "source": [
        "tf.logging.set_verbosity(tf.logging.ERROR)"
      ],
      "execution_count": 0,
      "outputs": []
    },
    {
      "cell_type": "markdown",
      "metadata": {
        "id": "rlQKvD3_tqxd",
        "colab_type": "text"
      },
      "source": [
        "# Util"
      ]
    },
    {
      "cell_type": "code",
      "metadata": {
        "id": "0UkGNiEE20gp",
        "colab_type": "code",
        "colab": {}
      },
      "source": [
        "def plot_prediction (Y, Y_hat):\n",
        "  plt.plot(Y)\n",
        "  plt.plot(Y_hat)\n",
        "  plt.title('Prediction')\n",
        "  plt.ylabel('Flow')\n",
        "  plt.xlabel('Time')\n",
        "  plt.legend(['actual', 'prediction'], loc='upper left')\n",
        "  plt.rcdefaults()\n",
        "  plt.show('Prediction')\n",
        "  plt.close('all')"
      ],
      "execution_count": 0,
      "outputs": []
    },
    {
      "cell_type": "code",
      "metadata": {
        "id": "5zIKDsGPtvOO",
        "colab_type": "code",
        "colab": {}
      },
      "source": [
        "def plot_history (history, name):\n",
        "  plt.plot(history.history['loss'])\n",
        "  plt.plot(history.history['val_loss'])\n",
        "  plt.title(name + ' Model Loss')\n",
        "  plt.ylabel('Loss')\n",
        "  plt.xlabel('Epoch')\n",
        "  plt.legend(['train', 'test'], loc='upper left')\n",
        "  plt.figure(figsize=(100, 100))\n",
        "  plt.show(name + \"ind\")\n",
        "  plt.close('all')"
      ],
      "execution_count": 0,
      "outputs": []
    },
    {
      "cell_type": "code",
      "metadata": {
        "id": "dEkfv5J3LMeC",
        "colab_type": "code",
        "colab": {}
      },
      "source": [
        "def print_metrics (Y_hat, Y_test):\n",
        "  #evs = sklm.explained_variance_score(Y_test, Y_hat)\n",
        "  mse = sklm.mean_squared_error(Y_test, Y_hat)\n",
        "  mae = sklm.mean_absolute_error(Y_test, Y_hat)\n",
        "  #msle = sklm.mean_squared_log_error(Y_test, Y_hat)\n",
        "  me = sklm.max_error(Y_test, Y_hat)\n",
        "  \n",
        "  #print(f\"EVS: {evs}\")\n",
        "  print(f\"RMSE: {np.sqrt(mse)}\")\n",
        "  #print(f\"MSE: {mse}\")\n",
        "  #print(f\"MAE: {mae}\")\n",
        "  #print(f\"MSLE: {msle}\")\n",
        "  #print(f\"Max Error: {me}\")"
      ],
      "execution_count": 0,
      "outputs": []
    },
    {
      "cell_type": "markdown",
      "metadata": {
        "id": "fXgVfuOmDcDH",
        "colab_type": "text"
      },
      "source": [
        "# Configure Hyperparameters"
      ]
    },
    {
      "cell_type": "code",
      "metadata": {
        "id": "3E2XPoL5DfY7",
        "colab_type": "code",
        "colab": {}
      },
      "source": [
        "TRAIN_SPLIT = 0.8\n",
        "\n",
        "SEEABLE_PAST = 100 # in minutes\n",
        "\n",
        "PREDICT_IN_FUTURE = 15 # in minutes\n",
        "\n",
        "FLOW_INTERVAL = 150 # the interval size for each flow\n",
        "\n",
        "MULTIVARIATE = False # if we are gonna use multiple data or not\n",
        "\n",
        "# Derivated\n",
        "\n",
        "N_STEPS = SEEABLE_PAST * 60 // FLOW_INTERVAL # the number of flows to see in the past\n",
        "\n",
        "N_FUTURE = PREDICT_IN_FUTURE * 60 // FLOW_INTERVAL # how much in the future we want to predict (0 = predict the flow on the next 5 minutes)\n",
        "\n",
        "N_FEATURES = 9 if MULTIVARIATE else 1\n",
        "\n",
        "DAY_SIZE = (24 * 3600) // FLOW_INTERVAL  \n",
        "\n",
        "WEEK_SIZE = 7 * DAY_SIZE"
      ],
      "execution_count": 0,
      "outputs": []
    },
    {
      "cell_type": "markdown",
      "metadata": {
        "id": "llW_Qq7sZk1U",
        "colab_type": "text"
      },
      "source": [
        "# Data Retrieval\n",
        "\n",
        "This phase we have to get the data stored in Google Drive.\n"
      ]
    },
    {
      "cell_type": "code",
      "metadata": {
        "id": "hd2t6KbqZlgU",
        "colab_type": "code",
        "colab": {}
      },
      "source": [
        "col_names = ['Sensor', 'Date', 'Time', 'Lane', 'Speed', 'Max Speed', 'Size']\n",
        "all_data = pd.read_csv('/content/drive/My Drive/TCC/chunks/all_data_sorted.csv', ';', header=None, names=col_names)"
      ],
      "execution_count": 0,
      "outputs": []
    },
    {
      "cell_type": "code",
      "metadata": {
        "id": "8cqeH0puKl37",
        "colab_type": "code",
        "outputId": "73c01441-ad27-429b-bb54-070fd59388c7",
        "colab": {
          "base_uri": "https://localhost:8080/",
          "height": 198
        }
      },
      "source": [
        "all_data.head()"
      ],
      "execution_count": 10,
      "outputs": [
        {
          "output_type": "execute_result",
          "data": {
            "text/html": [
              "<div>\n",
              "<style scoped>\n",
              "    .dataframe tbody tr th:only-of-type {\n",
              "        vertical-align: middle;\n",
              "    }\n",
              "\n",
              "    .dataframe tbody tr th {\n",
              "        vertical-align: top;\n",
              "    }\n",
              "\n",
              "    .dataframe thead th {\n",
              "        text-align: right;\n",
              "    }\n",
              "</style>\n",
              "<table border=\"1\" class=\"dataframe\">\n",
              "  <thead>\n",
              "    <tr style=\"text-align: right;\">\n",
              "      <th></th>\n",
              "      <th>Sensor</th>\n",
              "      <th>Date</th>\n",
              "      <th>Time</th>\n",
              "      <th>Lane</th>\n",
              "      <th>Speed</th>\n",
              "      <th>Max Speed</th>\n",
              "      <th>Size</th>\n",
              "    </tr>\n",
              "  </thead>\n",
              "  <tbody>\n",
              "    <tr>\n",
              "      <th>0</th>\n",
              "      <td>RSI128</td>\n",
              "      <td>2016/05/01</td>\n",
              "      <td>00:00:09</td>\n",
              "      <td>1</td>\n",
              "      <td>26.0</td>\n",
              "      <td>60.0</td>\n",
              "      <td>0.0</td>\n",
              "    </tr>\n",
              "    <tr>\n",
              "      <th>1</th>\n",
              "      <td>RSI131</td>\n",
              "      <td>2016/05/01</td>\n",
              "      <td>00:00:09</td>\n",
              "      <td>2</td>\n",
              "      <td>20.0</td>\n",
              "      <td>60.0</td>\n",
              "      <td>1.1</td>\n",
              "    </tr>\n",
              "    <tr>\n",
              "      <th>2</th>\n",
              "      <td>RSI132</td>\n",
              "      <td>2016/05/01</td>\n",
              "      <td>00:00:09</td>\n",
              "      <td>1</td>\n",
              "      <td>45.0</td>\n",
              "      <td>60.0</td>\n",
              "      <td>0.0</td>\n",
              "    </tr>\n",
              "    <tr>\n",
              "      <th>3</th>\n",
              "      <td>RSI131</td>\n",
              "      <td>2016/05/01</td>\n",
              "      <td>00:00:10</td>\n",
              "      <td>1</td>\n",
              "      <td>40.0</td>\n",
              "      <td>60.0</td>\n",
              "      <td>0.5</td>\n",
              "    </tr>\n",
              "    <tr>\n",
              "      <th>4</th>\n",
              "      <td>RSI129</td>\n",
              "      <td>2016/05/01</td>\n",
              "      <td>00:00:12</td>\n",
              "      <td>1</td>\n",
              "      <td>35.0</td>\n",
              "      <td>60.0</td>\n",
              "      <td>0.0</td>\n",
              "    </tr>\n",
              "  </tbody>\n",
              "</table>\n",
              "</div>"
            ],
            "text/plain": [
              "   Sensor        Date      Time  Lane  Speed  Max Speed  Size\n",
              "0  RSI128  2016/05/01  00:00:09     1   26.0       60.0   0.0\n",
              "1  RSI131  2016/05/01  00:00:09     2   20.0       60.0   1.1\n",
              "2  RSI132  2016/05/01  00:00:09     1   45.0       60.0   0.0\n",
              "3  RSI131  2016/05/01  00:00:10     1   40.0       60.0   0.5\n",
              "4  RSI129  2016/05/01  00:00:12     1   35.0       60.0   0.0"
            ]
          },
          "metadata": {
            "tags": []
          },
          "execution_count": 10
        }
      ]
    },
    {
      "cell_type": "markdown",
      "metadata": {
        "id": "-4MRltPccIM2",
        "colab_type": "text"
      },
      "source": [
        "# Data Pre-processing\n",
        "\n"
      ]
    },
    {
      "cell_type": "code",
      "metadata": {
        "id": "45BbPGsccOwL",
        "colab_type": "code",
        "colab": {}
      },
      "source": [
        "def adjust_data(data):\n",
        "  # Extract data from just one sensor\n",
        "  data = data[data['Sensor'] == 'RSI128']\n",
        "  \n",
        "  # Remove unnecessary columns\n",
        "  data = data.drop(columns=['Sensor','Lane','Max Speed','Size'])\n",
        "   \n",
        "  # Adjust type\n",
        "  data['Time'] = data['Time'].apply(lambda x : tm.strptime(x, '%H:%M:%S'))\n",
        "  data['Time'] = data['Time'].apply(lambda x : dt.timedelta(hours=x.tm_hour,minutes=x.tm_min,seconds=x.tm_sec).total_seconds())\n",
        "  data['Time'] = data['Time'].apply(lambda x : int(x))\n",
        "  data['Date'] = pd.to_datetime(data['Date'], format='%Y/%m/%d')\n",
        "  data['Speed'].apply(lambda x : float(x))\n",
        "  \n",
        "  # Create week day from date\n",
        "  data['WeekDay'] = data['Date'].apply(lambda x : x.weekday())\n",
        "  \n",
        "  return data"
      ],
      "execution_count": 0,
      "outputs": []
    },
    {
      "cell_type": "code",
      "metadata": {
        "id": "ZWyHB9uiLGyL",
        "colab_type": "code",
        "colab": {}
      },
      "source": [
        "data = adjust_data(all_data)"
      ],
      "execution_count": 0,
      "outputs": []
    },
    {
      "cell_type": "code",
      "metadata": {
        "id": "sa5nhAg4KNW4",
        "colab_type": "code",
        "outputId": "a98d625c-9ad7-4ac5-9544-81e3dd05c419",
        "colab": {
          "base_uri": "https://localhost:8080/",
          "height": 0
        }
      },
      "source": [
        "data.head()"
      ],
      "execution_count": 13,
      "outputs": [
        {
          "output_type": "execute_result",
          "data": {
            "text/html": [
              "<div>\n",
              "<style scoped>\n",
              "    .dataframe tbody tr th:only-of-type {\n",
              "        vertical-align: middle;\n",
              "    }\n",
              "\n",
              "    .dataframe tbody tr th {\n",
              "        vertical-align: top;\n",
              "    }\n",
              "\n",
              "    .dataframe thead th {\n",
              "        text-align: right;\n",
              "    }\n",
              "</style>\n",
              "<table border=\"1\" class=\"dataframe\">\n",
              "  <thead>\n",
              "    <tr style=\"text-align: right;\">\n",
              "      <th></th>\n",
              "      <th>Date</th>\n",
              "      <th>Time</th>\n",
              "      <th>Speed</th>\n",
              "      <th>WeekDay</th>\n",
              "    </tr>\n",
              "  </thead>\n",
              "  <tbody>\n",
              "    <tr>\n",
              "      <th>0</th>\n",
              "      <td>2016-05-01</td>\n",
              "      <td>9</td>\n",
              "      <td>26.0</td>\n",
              "      <td>6</td>\n",
              "    </tr>\n",
              "    <tr>\n",
              "      <th>7</th>\n",
              "      <td>2016-05-01</td>\n",
              "      <td>18</td>\n",
              "      <td>32.0</td>\n",
              "      <td>6</td>\n",
              "    </tr>\n",
              "    <tr>\n",
              "      <th>39</th>\n",
              "      <td>2016-05-01</td>\n",
              "      <td>104</td>\n",
              "      <td>16.0</td>\n",
              "      <td>6</td>\n",
              "    </tr>\n",
              "    <tr>\n",
              "      <th>108</th>\n",
              "      <td>2016-05-01</td>\n",
              "      <td>206</td>\n",
              "      <td>22.0</td>\n",
              "      <td>6</td>\n",
              "    </tr>\n",
              "    <tr>\n",
              "      <th>160</th>\n",
              "      <td>2016-05-01</td>\n",
              "      <td>305</td>\n",
              "      <td>25.0</td>\n",
              "      <td>6</td>\n",
              "    </tr>\n",
              "  </tbody>\n",
              "</table>\n",
              "</div>"
            ],
            "text/plain": [
              "          Date  Time  Speed  WeekDay\n",
              "0   2016-05-01     9   26.0        6\n",
              "7   2016-05-01    18   32.0        6\n",
              "39  2016-05-01   104   16.0        6\n",
              "108 2016-05-01   206   22.0        6\n",
              "160 2016-05-01   305   25.0        6"
            ]
          },
          "metadata": {
            "tags": []
          },
          "execution_count": 13
        }
      ]
    },
    {
      "cell_type": "code",
      "metadata": {
        "id": "kF9mjXWzKPX4",
        "colab_type": "code",
        "outputId": "dd2f1b09-302e-48d2-b776-8447738a78fb",
        "colab": {
          "base_uri": "https://localhost:8080/",
          "height": 0
        }
      },
      "source": [
        "data.describe()"
      ],
      "execution_count": 14,
      "outputs": [
        {
          "output_type": "execute_result",
          "data": {
            "text/html": [
              "<div>\n",
              "<style scoped>\n",
              "    .dataframe tbody tr th:only-of-type {\n",
              "        vertical-align: middle;\n",
              "    }\n",
              "\n",
              "    .dataframe tbody tr th {\n",
              "        vertical-align: top;\n",
              "    }\n",
              "\n",
              "    .dataframe thead th {\n",
              "        text-align: right;\n",
              "    }\n",
              "</style>\n",
              "<table border=\"1\" class=\"dataframe\">\n",
              "  <thead>\n",
              "    <tr style=\"text-align: right;\">\n",
              "      <th></th>\n",
              "      <th>Time</th>\n",
              "      <th>Speed</th>\n",
              "      <th>WeekDay</th>\n",
              "    </tr>\n",
              "  </thead>\n",
              "  <tbody>\n",
              "    <tr>\n",
              "      <th>count</th>\n",
              "      <td>536879.000000</td>\n",
              "      <td>536879.000000</td>\n",
              "      <td>536879.000000</td>\n",
              "    </tr>\n",
              "    <tr>\n",
              "      <th>mean</th>\n",
              "      <td>51715.214387</td>\n",
              "      <td>31.078891</td>\n",
              "      <td>2.951632</td>\n",
              "    </tr>\n",
              "    <tr>\n",
              "      <th>std</th>\n",
              "      <td>17952.214406</td>\n",
              "      <td>7.168803</td>\n",
              "      <td>1.959146</td>\n",
              "    </tr>\n",
              "    <tr>\n",
              "      <th>min</th>\n",
              "      <td>3.000000</td>\n",
              "      <td>2.000000</td>\n",
              "      <td>0.000000</td>\n",
              "    </tr>\n",
              "    <tr>\n",
              "      <th>25%</th>\n",
              "      <td>38412.500000</td>\n",
              "      <td>26.000000</td>\n",
              "      <td>1.000000</td>\n",
              "    </tr>\n",
              "    <tr>\n",
              "      <th>50%</th>\n",
              "      <td>52364.000000</td>\n",
              "      <td>31.000000</td>\n",
              "      <td>3.000000</td>\n",
              "    </tr>\n",
              "    <tr>\n",
              "      <th>75%</th>\n",
              "      <td>65757.000000</td>\n",
              "      <td>35.000000</td>\n",
              "      <td>5.000000</td>\n",
              "    </tr>\n",
              "    <tr>\n",
              "      <th>max</th>\n",
              "      <td>86399.000000</td>\n",
              "      <td>67.000000</td>\n",
              "      <td>6.000000</td>\n",
              "    </tr>\n",
              "  </tbody>\n",
              "</table>\n",
              "</div>"
            ],
            "text/plain": [
              "                Time          Speed        WeekDay\n",
              "count  536879.000000  536879.000000  536879.000000\n",
              "mean    51715.214387      31.078891       2.951632\n",
              "std     17952.214406       7.168803       1.959146\n",
              "min         3.000000       2.000000       0.000000\n",
              "25%     38412.500000      26.000000       1.000000\n",
              "50%     52364.000000      31.000000       3.000000\n",
              "75%     65757.000000      35.000000       5.000000\n",
              "max     86399.000000      67.000000       6.000000"
            ]
          },
          "metadata": {
            "tags": []
          },
          "execution_count": 14
        }
      ]
    },
    {
      "cell_type": "code",
      "metadata": {
        "id": "qUWNjjBFKhHJ",
        "colab_type": "code",
        "outputId": "3fb9f990-becc-45ae-fd61-f60f81cafce7",
        "colab": {
          "base_uri": "https://localhost:8080/",
          "height": 0
        }
      },
      "source": [
        "print(f\"This data is from <{data['Date'].min()}> to <{data['Date'].max()}>\\n\")\n",
        "\n",
        "print(f\"It contains {len(data['Date'])} entries\\n\")\n",
        "\n",
        "for col, cont in data.iteritems():\n",
        "    print(f\"Column {col} has {cont.isnull().sum()} null elements and {cont.isna().sum()} nan elements\")"
      ],
      "execution_count": 15,
      "outputs": [
        {
          "output_type": "stream",
          "text": [
            "This data is from <2016-05-01 00:00:00> to <2016-07-31 00:00:00>\n",
            "\n",
            "It contains 536879 entries\n",
            "\n",
            "Column Date has 0 null elements and 0 nan elements\n",
            "Column Time has 0 null elements and 0 nan elements\n",
            "Column Speed has 0 null elements and 0 nan elements\n",
            "Column WeekDay has 0 null elements and 0 nan elements\n"
          ],
          "name": "stdout"
        }
      ]
    },
    {
      "cell_type": "markdown",
      "metadata": {
        "id": "R14KefuiBycd",
        "colab_type": "text"
      },
      "source": [
        "# Flow Retrieval\n",
        "\n",
        "This will transform the time series of register cars that passed in a array of flow per k minute."
      ]
    },
    {
      "cell_type": "code",
      "metadata": {
        "id": "RmF8FxOBB2T0",
        "colab_type": "code",
        "colab": {}
      },
      "source": [
        "def get_flow_data(n, accSpeed, weekDay):\n",
        "  avgSpeed = accSpeed // n if n else 0\n",
        "  wd = [1 if weekDay == i else 0 for i in range(7)] # weekday\n",
        "  \n",
        "  return (n, avgSpeed, wd[0], wd[1], wd[2], wd[3], wd[4], wd[5], wd[6])"
      ],
      "execution_count": 0,
      "outputs": []
    },
    {
      "cell_type": "code",
      "metadata": {
        "id": "c-x0DKOmMnmz",
        "colab_type": "code",
        "colab": {}
      },
      "source": [
        "def get_flow (data):\n",
        "  date = np.asarray(data['Date'])\n",
        "  weekDay = np.asarray(data['WeekDay'])\n",
        "  time = np.asarray(data['Time'])\n",
        "  speed = np.asarray(data['Speed'])\n",
        "  \n",
        "  dateControl = date[0] #seta o controle de data com o primeiro dia do chunk\n",
        "  timeBlock = FLOW_INTERVAL\n",
        "  countFlow = 0\n",
        "  accSpeed = 0\n",
        "  flowData = []\n",
        "\n",
        "  for i in range(len(date)):\n",
        "    if time[i] >= timeBlock: # init a new time block\n",
        "      flowData.append(get_flow_data(countFlow, accSpeed, weekDay[i])) \n",
        "      timeBlock += FLOW_INTERVAL\n",
        "      accSpeed = 0\n",
        "      countFlow = 0\n",
        "      \n",
        "    if date[i] > dateControl: # reset on day change\n",
        "      dateControl = date[i]\n",
        "      timeBlock = FLOW_INTERVAL \n",
        "      countFlow = 0\n",
        "      accSpeed = 0\n",
        "      \n",
        "    if time[i] < timeBlock: # add car on flow\n",
        "      countFlow += 1\n",
        "      accSpeed += speed[i]\n",
        "      \n",
        "  flowDataColumns = ['Flow', 'AverageSpeed', 'Sunday', 'Monday', 'Tuesday', 'Wednesday', 'Thursday', 'Friday', 'Saturday']\n",
        "  flowData = pd.DataFrame(flowData, columns=flowDataColumns) \n",
        "  \n",
        "  return flowData"
      ],
      "execution_count": 0,
      "outputs": []
    },
    {
      "cell_type": "code",
      "metadata": {
        "id": "6s-x1G__MlUQ",
        "colab_type": "code",
        "colab": {}
      },
      "source": [
        "multivariateData = get_flow(data)\n",
        "univariateData = multivariateData['Flow']"
      ],
      "execution_count": 0,
      "outputs": []
    },
    {
      "cell_type": "code",
      "metadata": {
        "id": "XolQH37ZKXGz",
        "colab_type": "code",
        "outputId": "58a67258-d8ec-492b-d471-6b33462d5dda",
        "colab": {
          "base_uri": "https://localhost:8080/",
          "height": 0
        }
      },
      "source": [
        "multivariateData.describe()"
      ],
      "execution_count": 19,
      "outputs": [
        {
          "output_type": "execute_result",
          "data": {
            "text/html": [
              "<div>\n",
              "<style scoped>\n",
              "    .dataframe tbody tr th:only-of-type {\n",
              "        vertical-align: middle;\n",
              "    }\n",
              "\n",
              "    .dataframe tbody tr th {\n",
              "        vertical-align: top;\n",
              "    }\n",
              "\n",
              "    .dataframe thead th {\n",
              "        text-align: right;\n",
              "    }\n",
              "</style>\n",
              "<table border=\"1\" class=\"dataframe\">\n",
              "  <thead>\n",
              "    <tr style=\"text-align: right;\">\n",
              "      <th></th>\n",
              "      <th>Flow</th>\n",
              "      <th>AverageSpeed</th>\n",
              "      <th>Sunday</th>\n",
              "      <th>Monday</th>\n",
              "      <th>Tuesday</th>\n",
              "      <th>Wednesday</th>\n",
              "      <th>Thursday</th>\n",
              "      <th>Friday</th>\n",
              "      <th>Saturday</th>\n",
              "    </tr>\n",
              "  </thead>\n",
              "  <tbody>\n",
              "    <tr>\n",
              "      <th>count</th>\n",
              "      <td>52897.000000</td>\n",
              "      <td>52897.000000</td>\n",
              "      <td>52897.000000</td>\n",
              "      <td>52897.000000</td>\n",
              "      <td>52897.000000</td>\n",
              "      <td>52897.000000</td>\n",
              "      <td>52897.000000</td>\n",
              "      <td>52897.000000</td>\n",
              "      <td>52897.000000</td>\n",
              "    </tr>\n",
              "    <tr>\n",
              "      <th>mean</th>\n",
              "      <td>9.935649</td>\n",
              "      <td>23.848555</td>\n",
              "      <td>0.141312</td>\n",
              "      <td>0.141293</td>\n",
              "      <td>0.141312</td>\n",
              "      <td>0.141312</td>\n",
              "      <td>0.141312</td>\n",
              "      <td>0.141312</td>\n",
              "      <td>0.152145</td>\n",
              "    </tr>\n",
              "    <tr>\n",
              "      <th>std</th>\n",
              "      <td>8.453318</td>\n",
              "      <td>13.100536</td>\n",
              "      <td>0.348347</td>\n",
              "      <td>0.348327</td>\n",
              "      <td>0.348347</td>\n",
              "      <td>0.348347</td>\n",
              "      <td>0.348347</td>\n",
              "      <td>0.348347</td>\n",
              "      <td>0.359165</td>\n",
              "    </tr>\n",
              "    <tr>\n",
              "      <th>min</th>\n",
              "      <td>0.000000</td>\n",
              "      <td>0.000000</td>\n",
              "      <td>0.000000</td>\n",
              "      <td>0.000000</td>\n",
              "      <td>0.000000</td>\n",
              "      <td>0.000000</td>\n",
              "      <td>0.000000</td>\n",
              "      <td>0.000000</td>\n",
              "      <td>0.000000</td>\n",
              "    </tr>\n",
              "    <tr>\n",
              "      <th>25%</th>\n",
              "      <td>2.000000</td>\n",
              "      <td>21.000000</td>\n",
              "      <td>0.000000</td>\n",
              "      <td>0.000000</td>\n",
              "      <td>0.000000</td>\n",
              "      <td>0.000000</td>\n",
              "      <td>0.000000</td>\n",
              "      <td>0.000000</td>\n",
              "      <td>0.000000</td>\n",
              "    </tr>\n",
              "    <tr>\n",
              "      <th>50%</th>\n",
              "      <td>9.000000</td>\n",
              "      <td>29.000000</td>\n",
              "      <td>0.000000</td>\n",
              "      <td>0.000000</td>\n",
              "      <td>0.000000</td>\n",
              "      <td>0.000000</td>\n",
              "      <td>0.000000</td>\n",
              "      <td>0.000000</td>\n",
              "      <td>0.000000</td>\n",
              "    </tr>\n",
              "    <tr>\n",
              "      <th>75%</th>\n",
              "      <td>17.000000</td>\n",
              "      <td>32.000000</td>\n",
              "      <td>0.000000</td>\n",
              "      <td>0.000000</td>\n",
              "      <td>0.000000</td>\n",
              "      <td>0.000000</td>\n",
              "      <td>0.000000</td>\n",
              "      <td>0.000000</td>\n",
              "      <td>0.000000</td>\n",
              "    </tr>\n",
              "    <tr>\n",
              "      <th>max</th>\n",
              "      <td>41.000000</td>\n",
              "      <td>66.000000</td>\n",
              "      <td>1.000000</td>\n",
              "      <td>1.000000</td>\n",
              "      <td>1.000000</td>\n",
              "      <td>1.000000</td>\n",
              "      <td>1.000000</td>\n",
              "      <td>1.000000</td>\n",
              "      <td>1.000000</td>\n",
              "    </tr>\n",
              "  </tbody>\n",
              "</table>\n",
              "</div>"
            ],
            "text/plain": [
              "               Flow  AverageSpeed  ...        Friday      Saturday\n",
              "count  52897.000000  52897.000000  ...  52897.000000  52897.000000\n",
              "mean       9.935649     23.848555  ...      0.141312      0.152145\n",
              "std        8.453318     13.100536  ...      0.348347      0.359165\n",
              "min        0.000000      0.000000  ...      0.000000      0.000000\n",
              "25%        2.000000     21.000000  ...      0.000000      0.000000\n",
              "50%        9.000000     29.000000  ...      0.000000      0.000000\n",
              "75%       17.000000     32.000000  ...      0.000000      0.000000\n",
              "max       41.000000     66.000000  ...      1.000000      1.000000\n",
              "\n",
              "[8 rows x 9 columns]"
            ]
          },
          "metadata": {
            "tags": []
          },
          "execution_count": 19
        }
      ]
    },
    {
      "cell_type": "code",
      "metadata": {
        "id": "WExHYIBBKUtt",
        "colab_type": "code",
        "outputId": "165122b2-b2a9-4da8-8a40-52f8c93d7943",
        "colab": {
          "base_uri": "https://localhost:8080/",
          "height": 0
        }
      },
      "source": [
        "univariateData.describe()"
      ],
      "execution_count": 20,
      "outputs": [
        {
          "output_type": "execute_result",
          "data": {
            "text/plain": [
              "count    52897.000000\n",
              "mean         9.935649\n",
              "std          8.453318\n",
              "min          0.000000\n",
              "25%          2.000000\n",
              "50%          9.000000\n",
              "75%         17.000000\n",
              "max         41.000000\n",
              "Name: Flow, dtype: float64"
            ]
          },
          "metadata": {
            "tags": []
          },
          "execution_count": 20
        }
      ]
    },
    {
      "cell_type": "markdown",
      "metadata": {
        "id": "k2GB0HWqc4F5",
        "colab_type": "text"
      },
      "source": [
        "# Flow Analysis\n",
        "\n",
        "This is based on [A Guide to Time Series Visualization with Python 3](https://www.digitalocean.com/community/tutorials/a-guide-to-time-series-visualization-with-python-3).\n",
        "\n"
      ]
    },
    {
      "cell_type": "code",
      "metadata": {
        "id": "8D5jfFyKc6Mn",
        "colab_type": "code",
        "outputId": "3615b6fc-24bb-4303-fc51-817d43bae329",
        "colab": {
          "base_uri": "https://localhost:8080/",
          "height": 0
        }
      },
      "source": [
        "decomposition = sm.tsa.seasonal.seasonal_decompose(univariateData, model='additive', freq=WEEK_SIZE)\n",
        "fig = decomposition.plot()\n",
        "\n",
        "plt.rcdefaults()\n",
        "plt.plot()"
      ],
      "execution_count": 21,
      "outputs": [
        {
          "output_type": "execute_result",
          "data": {
            "text/plain": [
              "[]"
            ]
          },
          "metadata": {
            "tags": []
          },
          "execution_count": 21
        },
        {
          "output_type": "display_data",
          "data": {
            "image/png": "[encoded data removed]",
            "text/plain": [
              "<Figure size 432x288 with 4 Axes>"
            ]
          },
          "metadata": {
            "tags": []
          }
        }
      ]
    },
    {
      "cell_type": "markdown",
      "metadata": {
        "id": "nFv86fqFDDor",
        "colab_type": "text"
      },
      "source": [
        "# Prepare Dataset\n",
        "\n",
        "This phase will form the input (X) and the output (Y)"
      ]
    },
    {
      "cell_type": "code",
      "metadata": {
        "id": "lr0HX0aMDKOf",
        "colab_type": "code",
        "colab": {}
      },
      "source": [
        "# split_sequence([1, 2, 3, 4, 5], 3) #=> ([[1, 2, 3], [2, 3, 4]], [4, 5])\n",
        "def split_sequence(sequence):\n",
        "  n = len(sequence)\n",
        "  X, Y = list(), list()\n",
        "  \n",
        "  for i in range(n):\n",
        "    # find the end of this pattern\n",
        "    end_ix = i + N_STEPS\n",
        "\n",
        "    # check if we are beyond the sequence\n",
        "    if end_ix + N_FUTURE > n-1:\n",
        "      break\n",
        "\n",
        "    # gather input and output parts of the pattern\n",
        "    seq_x, seq_y = sequence[i:end_ix], sequence[end_ix + N_FUTURE]\n",
        "    X.append(seq_x)\n",
        "    Y.append(seq_y[0] if MULTIVARIATE else seq_y)\n",
        "\n",
        "  return np.array(X), np.array(Y)"
      ],
      "execution_count": 0,
      "outputs": []
    },
    {
      "cell_type": "code",
      "metadata": {
        "id": "FamxaqEGKxdQ",
        "colab_type": "code",
        "colab": {}
      },
      "source": [
        "def reshape_flow (raw_seq):  \n",
        "  # split into samples\n",
        "  X, Y = split_sequence(raw_seq)\n",
        "\n",
        "  # reshape from [samples, timesteps] into [samples, timesteps, features]\n",
        "  X = X.reshape((X.shape[0], X.shape[1], N_FEATURES))\n",
        "  \n",
        "  return X, Y"
      ],
      "execution_count": 0,
      "outputs": []
    },
    {
      "cell_type": "code",
      "metadata": {
        "id": "-UhLdQivK1Bb",
        "colab_type": "code",
        "colab": {}
      },
      "source": [
        "X, Y = reshape_flow(multivariateData if MULTIVARIATE else univariateData)"
      ],
      "execution_count": 0,
      "outputs": []
    },
    {
      "cell_type": "code",
      "metadata": {
        "id": "lQtK7Os6Q7AB",
        "colab_type": "code",
        "outputId": "baf6d267-7b9f-4448-d04f-1b4ad3201597",
        "colab": {
          "base_uri": "https://localhost:8080/",
          "height": 0
        }
      },
      "source": [
        "print(X.shape)"
      ],
      "execution_count": 25,
      "outputs": [
        {
          "output_type": "stream",
          "text": [
            "(52851, 40, 1)\n"
          ],
          "name": "stdout"
        }
      ]
    },
    {
      "cell_type": "code",
      "metadata": {
        "id": "b7BwDH_ERFNc",
        "colab_type": "code",
        "outputId": "6ca33b07-db68-4774-bb7a-12f6413a8313",
        "colab": {
          "base_uri": "https://localhost:8080/",
          "height": 0
        }
      },
      "source": [
        "print(Y.shape)"
      ],
      "execution_count": 26,
      "outputs": [
        {
          "output_type": "stream",
          "text": [
            "(52851,)\n"
          ],
          "name": "stdout"
        }
      ]
    },
    {
      "cell_type": "markdown",
      "metadata": {
        "id": "QYQ-2RhUqtZu",
        "colab_type": "text"
      },
      "source": [
        "# Util\n"
      ]
    },
    {
      "cell_type": "code",
      "metadata": {
        "id": "H7MpMTUy4wuW",
        "colab_type": "code",
        "colab": {
          "base_uri": "https://localhost:8080/",
          "height": 35
        },
        "outputId": "52872218-e7d4-49c8-93b8-19f19ee3c938"
      },
      "source": [
        "from keras.models import Sequential\n",
        "from keras.layers import SimpleRNN, Dense"
      ],
      "execution_count": 27,
      "outputs": [
        {
          "output_type": "stream",
          "text": [
            "Using TensorFlow backend.\n"
          ],
          "name": "stderr"
        }
      ]
    },
    {
      "cell_type": "code",
      "metadata": {
        "id": "KH648TIGLVKg",
        "colab_type": "code",
        "colab": {}
      },
      "source": [
        "def split (n, window_size, test_split):\n",
        "  test_size = int(window_size * test_split)\n",
        "  jump_size = test_size\n",
        "  train_size = window_size - tes_size\n",
        "  \n",
        "  i, j, k = 0, train_size, min(n, train_size + test_size)\n",
        "  \n",
        "  res = []\n",
        "  \n",
        "  while j < size:\n",
        "    res.append((i, j, k))\n",
        "    \n",
        "    i = i + jump_size\n",
        "    j = i + train_size\n",
        "    k = min(size, j + test_size)\n",
        "    \n",
        "  return res"
      ],
      "execution_count": 0,
      "outputs": []
    },
    {
      "cell_type": "code",
      "metadata": {
        "id": "nW3-LAmDNpYL",
        "colab_type": "code",
        "colab": {}
      },
      "source": [
        "def evaluate (expected, observed, times, verbose=0):\n",
        "  n = len(expected)\n",
        "  RMSE = [0] * n\n",
        "  NRMSE = [0] * n\n",
        "  MAE = [0] * n\n",
        "  \n",
        "  for i in range(n):\n",
        "    Y = expected[i]\n",
        "    Y_hat = observed[i]\n",
        "    time = times[i]\n",
        "    \n",
        "    MAE[i] = sklm.mean_absolute_error(Y, Y_hat)\n",
        "    RMSE[i] = np.sqrt(sklm.mean_squared_error(Y, Y_hat))\n",
        "    NRMSE[i] = rmse / np.std(Y)\n",
        "    \n",
        "    if verbose > 0:\n",
        "      print(f\"({i}/{n}) ({time}s) - RMSE: {RMSE[i]}, NRMSE: {NRMSE[i]}, MAE: {MAE[i]}\")\n",
        "      \n",
        "  if verbose > 0:\n",
        "    flatten = lambda l: [i for sl in l for i in sl]\n",
        "    plot_prediction(flatten(expected), flatten(observed))\n",
        "      \n",
        "  time = sum(times)\n",
        "  rmse = sum(RMSE) / n\n",
        "  nrmse = sum(NRMSE) / n\n",
        "  mae = sum(MAE) / n\n",
        "  \n",
        "  return (time, rmse, nrmse, mae)"
      ],
      "execution_count": 0,
      "outputs": []
    },
    {
      "cell_type": "code",
      "metadata": {
        "id": "ZHTp4hkGQPID",
        "colab_type": "code",
        "colab": {}
      },
      "source": [
        "def run(model, X, Y):\n",
        "  expected, observed, times = [], [], []\n",
        "  pointers = split(len(X), 24000, 0.2)\n",
        "  \n",
        "  for i, j, k in pointers:\n",
        "    start = tm.time()\n",
        "    \n",
        "    model.fit(X[i:j], Y[i:j])\n",
        "    \n",
        "    expected.append(Y[j:k])\n",
        "    observed.append(model.predict(X[j:k]))\n",
        "    times.append(tm.time() - start)\n",
        "    \n",
        "  return evaluate(expected, observed, times)"
      ],
      "execution_count": 0,
      "outputs": []
    },
    {
      "cell_type": "code",
      "metadata": {
        "id": "l0o6e33nrc2J",
        "colab_type": "code",
        "colab": {}
      },
      "source": [
        "def evaluate_model (model, X, Y, train_size=20000, test_size=2000, validation_split=0.25, batch_size=64, epochs=15, verbose=0):\n",
        "  RMSE, NRMSE, MAE = [], [], []\n",
        "  size = len(X)\n",
        "  i, j, k = 0, train_size, min(size, train_size + test_size)\n",
        "  start = tm.time()\n",
        "  jump_size = int(train_size * validation_split)\n",
        "  \n",
        "  while j < size:\n",
        "    _start = tm.time()\n",
        "    \n",
        "    hist = model.fit(X[i:j], Y[i:j], validation_split=validation_split, batch_size=batch_size, epochs=epochs, verbose=verbose)\n",
        "    \n",
        "    Y_hat = model.predict(X[j:k], verbose=verbose)\n",
        "    \n",
        "    rmse = np.sqrt(sklm.mean_squared_error(Y[j:k], Y_hat))\n",
        "    \n",
        "    nrmse = rmse / np.std(Y[j:k])\n",
        "    \n",
        "    mae = sklm.mean_absolute_error(Y[j:k], Y_hat)\n",
        "  \n",
        "    RMSE.append(rmse)\n",
        "    \n",
        "    NRMSE.append(nrmse)\n",
        "    \n",
        "    MAE.append(mae)\n",
        "    \n",
        "    if verbose > 1:\n",
        "      print(f\" - {len(RMSE)}/{(size - train_size + jump_size - 1) // jump_size} ({tm.time() - _start}s) - RMSE: {rmse}, NRMSE: {nrmse}\")\n",
        "      \n",
        "    if i == 0:\n",
        "      plot_prediction(Y[j:k], Y_hat)\n",
        "      \n",
        "    i = i + jump_size\n",
        "    j = i + train_size\n",
        "    k = min(size, j + test_size)\n",
        "  \n",
        "  time = tm.time() - start\n",
        "  rmse = sum(RMSE) / len(RMSE)\n",
        "  nrmse = sum(NRMSE) / len(NRMSE)\n",
        "  mae = sum(MAE) / len(MAE)\n",
        "  \n",
        "  print(f\"Training Time {int(time)}s, RMSE: {rmse}, NRMSE: {nrmse}, MAE: {mae}\")\n",
        "  \n",
        "  return (time, rmse, nrmse, mae)\n"
      ],
      "execution_count": 0,
      "outputs": []
    },
    {
      "cell_type": "code",
      "metadata": {
        "id": "Ykl5tnvBo6K5",
        "colab_type": "code",
        "colab": {}
      },
      "source": [
        "results = {}"
      ],
      "execution_count": 0,
      "outputs": []
    },
    {
      "cell_type": "markdown",
      "metadata": {
        "id": "5atl1RAeso-d",
        "colab_type": "text"
      },
      "source": [
        "# Baseline: Random\n",
        "\n",
        "This implementation just guess a random number in the [0, 100] interval for every output."
      ]
    },
    {
      "cell_type": "code",
      "metadata": {
        "id": "Y3Bq_mfg3m8D",
        "colab_type": "code",
        "colab": {}
      },
      "source": [
        "import random as rnd # random"
      ],
      "execution_count": 0,
      "outputs": []
    },
    {
      "cell_type": "code",
      "metadata": {
        "id": "H4uy_XVyswCC",
        "colab_type": "code",
        "colab": {}
      },
      "source": [
        "def random_guess (Y):\n",
        "  m = max(Y)\n",
        "  \n",
        "  expected, observed, times = [], [], []\n",
        "  pointers = split(len(X), 24000, 0.2)\n",
        "  \n",
        "  for i, j, k in pointers:\n",
        "    start = tm.time()\n",
        "    \n",
        "    expected.append(Y[j:k])\n",
        "    observed.append([rnd.randint(0, m) for i in range(k - j)])\n",
        "    times.append(tm.time() - start)\n",
        "    \n",
        "  return evaluate(expected, observed, times)"
      ],
      "execution_count": 0,
      "outputs": []
    },
    {
      "cell_type": "markdown",
      "metadata": {
        "id": "j2hH4Og160vf",
        "colab_type": "text"
      },
      "source": [
        "# Baseline: Default\n",
        "\n",
        "This implementation just get the mean of every flow value in the input and place it as output."
      ]
    },
    {
      "cell_type": "code",
      "metadata": {
        "id": "7tffuEQJ63Sv",
        "colab_type": "code",
        "colab": {}
      },
      "source": [
        "def default_mean (X, Y):\n",
        "  expected, observed, times = [], [], []\n",
        "  pointers = split(len(X), 24000, 0.2)\n",
        "  \n",
        "  for i, j, k in pointers:\n",
        "    start = tm.time()\n",
        "    \n",
        "    expected.append(Y[j:k])\n",
        "    observed.append([np.mean([v[0] for v in x]) for x in X[j:k]])\n",
        "    times.append(tm.time() - start)\n",
        "    \n",
        "  return evaluate(expected, observed, times)"
      ],
      "execution_count": 0,
      "outputs": []
    },
    {
      "cell_type": "markdown",
      "metadata": {
        "id": "GVUHvQxwWVrW",
        "colab_type": "text"
      },
      "source": [
        "# Random Forest\n",
        "\n",
        "This implementation is based on [Random Forest Algorithm with Python and Scikit-Learn](https://stackabuse.com/random-forest-algorithm-with-python-and-scikit-learn/)"
      ]
    },
    {
      "cell_type": "code",
      "metadata": {
        "id": "CY4FoU_7aqcL",
        "colab_type": "code",
        "colab": {}
      },
      "source": [
        "from sklearn.ensemble.forest import RandomForestRegressor"
      ],
      "execution_count": 0,
      "outputs": []
    },
    {
      "cell_type": "code",
      "metadata": {
        "id": "aphhugpvWYkP",
        "colab_type": "code",
        "colab": {}
      },
      "source": [
        "def random_forest(X, Y):\n",
        "  model = skl.ensemble.RandomForestRegressor(n_estimators=100, max_features='auto', random_state=0)\n",
        "\n",
        "  expected, observed, times = [], [], []\n",
        "  pointers = split(len(X), 24000, 0.2)\n",
        "  \n",
        "  for i, j, k in pointers:\n",
        "    start = tm.time()\n",
        "    \n",
        "    model.fit(X[i:j], Y[i:j])\n",
        "    \n",
        "    expected.append(Y[j:k])\n",
        "    observed.append(model.predict(X[j:k]))\n",
        "    times.append(tm.time() - start)\n",
        "    \n",
        "  return evaluate(expected, observed, times)"
      ],
      "execution_count": 0,
      "outputs": []
    },
    {
      "cell_type": "markdown",
      "metadata": {
        "id": "8WICqU265GQ2",
        "colab_type": "text"
      },
      "source": [
        "# Support Vector Machine"
      ]
    },
    {
      "cell_type": "code",
      "metadata": {
        "id": "6O3aVV1s5KdL",
        "colab_type": "code",
        "colab": {}
      },
      "source": [
        "from sklearn import svm"
      ],
      "execution_count": 0,
      "outputs": []
    },
    {
      "cell_type": "code",
      "metadata": {
        "id": "scKSmSyk5Awm",
        "colab_type": "code",
        "colab": {}
      },
      "source": [
        "def support_vector_machine(X,Y):\n",
        "  model = svm.SVR(gamma='scale', C=1.0, epsilon=0.2)\n",
        "\n",
        "  expected, observed, times = [], [], []\n",
        "  pointers = split(len(X), 24000, 0.2)\n",
        "  \n",
        "  for i, j, k in pointers:\n",
        "    start = tm.time()\n",
        "    \n",
        "    model.fit(X[i:j], Y[i:j])\n",
        "    \n",
        "    expected.append(Y[j:k])\n",
        "    observed.append(model.predict(X[j:k]))\n",
        "    times.append(tm.time() - start)\n",
        "    \n",
        "  return evaluate(expected, observed, times)"
      ],
      "execution_count": 0,
      "outputs": []
    },
    {
      "cell_type": "markdown",
      "metadata": {
        "id": "B3dQ_nM_TgDC",
        "colab_type": "text"
      },
      "source": [
        "# RNN"
      ]
    },
    {
      "cell_type": "code",
      "metadata": {
        "id": "BH_62Q8G2s9a",
        "colab_type": "code",
        "colab": {}
      },
      "source": [
        "from keras.layers import SimpleRNN"
      ],
      "execution_count": 0,
      "outputs": []
    },
    {
      "cell_type": "code",
      "metadata": {
        "id": "st9EurMVT5gj",
        "colab_type": "code",
        "colab": {}
      },
      "source": [
        "def rnn (X, Y): \n",
        "  model = Sequential()\n",
        "  \n",
        "  model.add(SimpleRNN(50, activation='relu', input_shape=(N_STEPS, N_FEATURES)))\n",
        "  model.add(Dense(1))\n",
        "  \n",
        "  model.compile(optimizer='adam', loss='mse', metrics = [\"accuracy\"])\n",
        "  \n",
        "  expected, observed, times = [], [], []\n",
        "  pointers = split(len(X), 24000, 0.2)\n",
        "  \n",
        "  for i, j, k in pointers:\n",
        "    start = tm.time()\n",
        "    \n",
        "    model.fit(X[i:j], Y[i:j], validation_split=0.2, batch_size=64, epochs=15, verbose=0)\n",
        "    \n",
        "    expected.append(Y[j:k])\n",
        "    observed.append(model.predict(X[j:k]))\n",
        "    times.append(tm.time() - start)\n",
        "    \n",
        "  return evaluate(expected, observed, times)"
      ],
      "execution_count": 0,
      "outputs": []
    },
    {
      "cell_type": "markdown",
      "metadata": {
        "id": "D7Nq3PsMTjYc",
        "colab_type": "text"
      },
      "source": [
        "# LSTM"
      ]
    },
    {
      "cell_type": "code",
      "metadata": {
        "id": "nTbbtAki29wT",
        "colab_type": "code",
        "colab": {}
      },
      "source": [
        "from keras.layers import LSTM"
      ],
      "execution_count": 0,
      "outputs": []
    },
    {
      "cell_type": "code",
      "metadata": {
        "id": "AGyRz8GzTp4e",
        "colab_type": "code",
        "colab": {}
      },
      "source": [
        "def lstm (X, Y): \n",
        "  model = Sequential()\n",
        "  \n",
        "  model.add(LSTM(50, activation='relu', input_shape=(N_STEPS, N_FEATURES)))\n",
        "  model.add(Dense(1))\n",
        "  \n",
        "  model.compile(optimizer='adam', loss='mse', metrics = [\"accuracy\"])\n",
        "  \n",
        "  expected, observed, times = [], [], []\n",
        "  pointers = split(len(X), 24000, 0.2)\n",
        "  \n",
        "  for i, j, k in pointers:\n",
        "    start = tm.time()\n",
        "    \n",
        "    model.fit(X[i:j], Y[i:j], validation_split=0.2, batch_size=64, epochs=15, verbose=0)\n",
        "    \n",
        "    expected.append(Y[j:k])\n",
        "    observed.append(model.predict(X[j:k]))\n",
        "    times.append(tm.time() - start)\n",
        "    \n",
        "  return evaluate(expected, observed, times)"
      ],
      "execution_count": 0,
      "outputs": []
    },
    {
      "cell_type": "markdown",
      "metadata": {
        "id": "qhaufggBRABt",
        "colab_type": "text"
      },
      "source": [
        "# GRU"
      ]
    },
    {
      "cell_type": "code",
      "metadata": {
        "id": "rP_hAZNu3CS7",
        "colab_type": "code",
        "colab": {}
      },
      "source": [
        "from keras.layers import GRU"
      ],
      "execution_count": 0,
      "outputs": []
    },
    {
      "cell_type": "code",
      "metadata": {
        "id": "KD1GwF_b9P2h",
        "colab_type": "code",
        "colab": {}
      },
      "source": [
        "def gru (X, Y): \n",
        "  model = Sequential()\n",
        "  \n",
        "  model.add(GRU(50, activation='relu', input_shape=(N_STEPS, N_FEATURES)))\n",
        "  model.add(Dense(1))\n",
        "  \n",
        "  model.compile(optimizer='adam', loss='mse', metrics = [\"accuracy\"])\n",
        "\n",
        "  expected, observed, times = [], [], []\n",
        "  pointers = split(len(X), 24000, 0.2)\n",
        "  \n",
        "  for i, j, k in pointers:\n",
        "    start = tm.time()\n",
        "    \n",
        "    model.fit(X[i:j], Y[i:j], validation_split=0.2, batch_size=64, epochs=15, verbose=0)\n",
        "    \n",
        "    expected.append(Y[j:k])\n",
        "    observed.append(model.predict(X[j:k]))\n",
        "    times.append(tm.time() - start)\n",
        "    \n",
        "  return evaluate(expected, observed, times)"
      ],
      "execution_count": 0,
      "outputs": []
    },
    {
      "cell_type": "markdown",
      "metadata": {
        "id": "tD-1zv9xV8Gz",
        "colab_type": "text"
      },
      "source": [
        "# Running"
      ]
    },
    {
      "cell_type": "code",
      "metadata": {
        "id": "q6uiP9GHLSab",
        "colab_type": "code",
        "outputId": "d34171cd-ab08-4b1d-8380-fff4375c764e",
        "colab": {
          "base_uri": "https://localhost:8080/",
          "height": 489
        }
      },
      "source": [
        "results['Random'] = random_guess(Y)"
      ],
      "execution_count": 44,
      "outputs": [
        {
          "output_type": "display_data",
          "data": {
            "image/png": "[encoded data removed]",
            "text/plain": [
              "<Figure size 640x480 with 1 Axes>"
            ]
          },
          "metadata": {
            "tags": []
          }
        },
        {
          "output_type": "stream",
          "text": [
            "Training Time: 3s, RMSE: 18.16825592765375, NRMSE: 2.148895206139771, MAE: 14.865981722200148\n"
          ],
          "name": "stdout"
        }
      ]
    },
    {
      "cell_type": "code",
      "metadata": {
        "id": "ZmgiKJdGLV9_",
        "colab_type": "code",
        "outputId": "9039ab2b-dcc7-4212-df03-63390311e048",
        "colab": {
          "base_uri": "https://localhost:8080/",
          "height": 489
        }
      },
      "source": [
        "results['Mean'] = default_mean(X, Y)"
      ],
      "execution_count": 45,
      "outputs": [
        {
          "output_type": "display_data",
          "data": {
            "image/png": "[encoded data removed]",
            "text/plain": [
              "<Figure size 640x480 with 1 Axes>"
            ]
          },
          "metadata": {
            "tags": []
          }
        },
        {
          "output_type": "stream",
          "text": [
            "Training Time: 2s, RMSE: 6.01633097190576, NRMSE: 0.7115963599125775, MAE: 4.37553121038391\n"
          ],
          "name": "stdout"
        }
      ]
    },
    {
      "cell_type": "code",
      "metadata": {
        "id": "ngS3IfNTWd2N",
        "colab_type": "code",
        "outputId": "deaee7ce-815e-4bad-d3ce-7070d664d436",
        "colab": {
          "base_uri": "https://localhost:8080/",
          "height": 310
        }
      },
      "source": [
        "results['RF'] = random_forest(X, Y)"
      ],
      "execution_count": 46,
      "outputs": [
        {
          "output_type": "error",
          "ename": "TypeError",
          "evalue": "ignored",
          "traceback": [
            "\u001b[0;31m---------------------------------------------------------------------------\u001b[0m",
            "\u001b[0;31mTypeError\u001b[0m                                 Traceback (most recent call last)",
            "\u001b[0;32m<ipython-input-46-70903a5f9cca>\u001b[0m in \u001b[0;36m<module>\u001b[0;34m()\u001b[0m\n\u001b[0;32m----> 1\u001b[0;31m \u001b[0mresults\u001b[0m\u001b[0;34m[\u001b[0m\u001b[0;34m'RF'\u001b[0m\u001b[0;34m]\u001b[0m \u001b[0;34m=\u001b[0m \u001b[0mrandom_forest\u001b[0m\u001b[0;34m(\u001b[0m\u001b[0mX\u001b[0m\u001b[0;34m,\u001b[0m \u001b[0mY\u001b[0m\u001b[0;34m)\u001b[0m\u001b[0;34m\u001b[0m\u001b[0;34m\u001b[0m\u001b[0m\n\u001b[0m",
            "\u001b[0;32m<ipython-input-35-1610e7683812>\u001b[0m in \u001b[0;36mrandom_forest\u001b[0;34m(X, Y)\u001b[0m\n\u001b[1;32m     18\u001b[0m \u001b[0;31m#   return evaluate_method(Y_test, Y_hat, start)\u001b[0m\u001b[0;34m\u001b[0m\u001b[0;34m\u001b[0m\u001b[0;34m\u001b[0m\u001b[0m\n\u001b[1;32m     19\u001b[0m \u001b[0;34m\u001b[0m\u001b[0m\n\u001b[0;32m---> 20\u001b[0;31m   \u001b[0;32mreturn\u001b[0m \u001b[0mevaluate_model\u001b[0m\u001b[0;34m(\u001b[0m\u001b[0mmodel\u001b[0m\u001b[0;34m,\u001b[0m \u001b[0mX\u001b[0m\u001b[0;34m,\u001b[0m \u001b[0mY\u001b[0m\u001b[0;34m)\u001b[0m\u001b[0;34m\u001b[0m\u001b[0;34m\u001b[0m\u001b[0m\n\u001b[0m",
            "\u001b[0;32m<ipython-input-28-a8bbdb95fe6c>\u001b[0m in \u001b[0;36mevaluate_model\u001b[0;34m(model, X, Y, train_size, test_size, validation_split, batch_size, epochs, verbose)\u001b[0m\n\u001b[1;32m      9\u001b[0m     \u001b[0m_start\u001b[0m \u001b[0;34m=\u001b[0m \u001b[0mtm\u001b[0m\u001b[0;34m.\u001b[0m\u001b[0mtime\u001b[0m\u001b[0;34m(\u001b[0m\u001b[0;34m)\u001b[0m\u001b[0;34m\u001b[0m\u001b[0;34m\u001b[0m\u001b[0m\n\u001b[1;32m     10\u001b[0m \u001b[0;34m\u001b[0m\u001b[0m\n\u001b[0;32m---> 11\u001b[0;31m     \u001b[0mhist\u001b[0m \u001b[0;34m=\u001b[0m \u001b[0mmodel\u001b[0m\u001b[0;34m.\u001b[0m\u001b[0mfit\u001b[0m\u001b[0;34m(\u001b[0m\u001b[0mX\u001b[0m\u001b[0;34m[\u001b[0m\u001b[0mi\u001b[0m\u001b[0;34m:\u001b[0m\u001b[0mj\u001b[0m\u001b[0;34m]\u001b[0m\u001b[0;34m,\u001b[0m \u001b[0mY\u001b[0m\u001b[0;34m[\u001b[0m\u001b[0mi\u001b[0m\u001b[0;34m:\u001b[0m\u001b[0mj\u001b[0m\u001b[0;34m]\u001b[0m\u001b[0;34m,\u001b[0m \u001b[0mvalidation_split\u001b[0m\u001b[0;34m=\u001b[0m\u001b[0mvalidation_split\u001b[0m\u001b[0;34m,\u001b[0m \u001b[0mbatch_size\u001b[0m\u001b[0;34m=\u001b[0m\u001b[0mbatch_size\u001b[0m\u001b[0;34m,\u001b[0m \u001b[0mepochs\u001b[0m\u001b[0;34m=\u001b[0m\u001b[0mepochs\u001b[0m\u001b[0;34m,\u001b[0m \u001b[0mverbose\u001b[0m\u001b[0;34m=\u001b[0m\u001b[0mverbose\u001b[0m\u001b[0;34m)\u001b[0m\u001b[0;34m\u001b[0m\u001b[0;34m\u001b[0m\u001b[0m\n\u001b[0m\u001b[1;32m     12\u001b[0m \u001b[0;34m\u001b[0m\u001b[0m\n\u001b[1;32m     13\u001b[0m     \u001b[0mY_hat\u001b[0m \u001b[0;34m=\u001b[0m \u001b[0mmodel\u001b[0m\u001b[0;34m.\u001b[0m\u001b[0mpredict\u001b[0m\u001b[0;34m(\u001b[0m\u001b[0mX\u001b[0m\u001b[0;34m[\u001b[0m\u001b[0mj\u001b[0m\u001b[0;34m:\u001b[0m\u001b[0mk\u001b[0m\u001b[0;34m]\u001b[0m\u001b[0;34m,\u001b[0m \u001b[0mverbose\u001b[0m\u001b[0;34m=\u001b[0m\u001b[0mverbose\u001b[0m\u001b[0;34m)\u001b[0m\u001b[0;34m\u001b[0m\u001b[0;34m\u001b[0m\u001b[0m\n",
            "\u001b[0;31mTypeError\u001b[0m: fit() got an unexpected keyword argument 'validation_split'"
          ]
        }
      ]
    },
    {
      "cell_type": "code",
      "metadata": {
        "id": "J1D1OCE_5kAW",
        "colab_type": "code",
        "colab": {}
      },
      "source": [
        "results['SVM'] = support_vector_machine(X, Y)"
      ],
      "execution_count": 0,
      "outputs": []
    },
    {
      "cell_type": "code",
      "metadata": {
        "id": "ljCEF3v-L2tj",
        "colab_type": "code",
        "colab": {}
      },
      "source": [
        "results['RNN'] = rnn(X, Y)"
      ],
      "execution_count": 0,
      "outputs": []
    },
    {
      "cell_type": "code",
      "metadata": {
        "id": "FIUUzGd2Lz-R",
        "colab_type": "code",
        "colab": {}
      },
      "source": [
        "results['LSTM'] = lstm(X, Y)"
      ],
      "execution_count": 0,
      "outputs": []
    },
    {
      "cell_type": "code",
      "metadata": {
        "id": "FzkWaQv_LtFP",
        "colab_type": "code",
        "colab": {}
      },
      "source": [
        "results['GRU'] = gru(X, Y)"
      ],
      "execution_count": 0,
      "outputs": []
    },
    {
      "cell_type": "markdown",
      "metadata": {
        "id": "d7RYTwKXkP4o",
        "colab_type": "text"
      },
      "source": [
        "# Results"
      ]
    },
    {
      "cell_type": "code",
      "metadata": {
        "id": "7yXGNb5uDcXP",
        "colab_type": "code",
        "colab": {}
      },
      "source": [
        "def plot_performance(i, y_label, title):\n",
        "  models = tuple(results.keys())\n",
        "  y_pos = np.arange(len(models))\n",
        "  print(results.values())\n",
        "  performance = [v[i] for v in results.values()]\n",
        "\n",
        "  plt.rcdefaults()\n",
        "  plt.bar(y_pos, performance, align='center', alpha=0.5)\n",
        "  plt.xticks(y_pos, models)\n",
        "  plt.ylabel(y_label)\n",
        "  plt.title(title)\n",
        "\n",
        "  plt.show()"
      ],
      "execution_count": 0,
      "outputs": []
    },
    {
      "cell_type": "code",
      "metadata": {
        "id": "gEOWGzNAlR61",
        "colab_type": "code",
        "colab": {}
      },
      "source": [
        "plot_performance(0, 'Seconds', 'Training Time Comparison')"
      ],
      "execution_count": 0,
      "outputs": []
    },
    {
      "cell_type": "code",
      "metadata": {
        "id": "NrwrDmkKurHb",
        "colab_type": "code",
        "colab": {}
      },
      "source": [
        "plot_performance(1, 'RMSE', 'Root Mean Square Error Comparison')"
      ],
      "execution_count": 0,
      "outputs": []
    },
    {
      "cell_type": "code",
      "metadata": {
        "id": "qUXrwAeMuxTM",
        "colab_type": "code",
        "colab": {}
      },
      "source": [
        "plot_performance(2, 'NRMSE', 'Normalized Root Mean Square Error Comparison')"
      ],
      "execution_count": 0,
      "outputs": []
    },
    {
      "cell_type": "code",
      "metadata": {
        "id": "vIfcKIkuEAWK",
        "colab_type": "code",
        "colab": {}
      },
      "source": [
        "plot_performance(3, 'MAE', 'Max Absolute Error Comparison')"
      ],
      "execution_count": 0,
      "outputs": []
    },
    {
      "cell_type": "markdown",
      "metadata": {
        "id": "rBjqtHAo_aFw",
        "colab_type": "text"
      },
      "source": [
        "# Observations:\n",
        "\n",
        "+ For the evaluation of the RNN and it's variations was used the Walking Forward methodology so that we had many test sessions and all training sessions where the same size [[1]](https://towardsdatascience.com/time-series-nested-cross-validation-76adba623eb9)"
      ]
    }
  ]
}