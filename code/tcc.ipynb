{
  "nbformat": 4,
  "nbformat_minor": 0,
  "metadata": {
    "colab": {
      "name": "tcc.ipynb",
      "provenance": [],
      "collapsed_sections": [
        "tD29g6RmWyjg",
        "YDFS5Hap5F8m",
        "E_WxxHUW5Apn",
        "fXgVfuOmDcDH",
        "L8F3EjLv4nBh",
        "XRo7xTjh4YTs",
        "llW_Qq7sZk1U",
        "6dClOlAE54P-",
        "-4MRltPccIM2",
        "R14KefuiBycd",
        "k2GB0HWqc4F5",
        "nFv86fqFDDor",
        "5atl1RAeso-d",
        "j2hH4Og160vf",
        "GVUHvQxwWVrW",
        "8WICqU265GQ2",
        "B3dQ_nM_TgDC",
        "D7Nq3PsMTjYc",
        "qhaufggBRABt",
        "iEc1XLwM60xN",
        "d7RYTwKXkP4o"
      ],
      "include_colab_link": true
    },
    "kernelspec": {
      "name": "python3",
      "display_name": "Python 3"
    },
    "accelerator": "TPU"
  },
  "cells": [
    {
      "cell_type": "markdown",
      "metadata": {
        "id": "view-in-github",
        "colab_type": "text"
      },
      "source": [
        "<a href=\"https://colab.research.google.com/github/claudiosegala/Monografia/blob/master/code/tcc.ipynb\" target=\"_parent\"><img src=\"https://colab.research.google.com/assets/colab-badge.svg\" alt=\"Open In Colab\"/></a>"
      ]
    },
    {
      "cell_type": "markdown",
      "metadata": {
        "id": "estoJZd7_klb",
        "colab_type": "text"
      },
      "source": [
        "# TCC\n",
        "\n",
        "## Models\n",
        "\n",
        "- Random Guess\n",
        "- Mean\n",
        "- Random Forest\n",
        "- RNN\n",
        "- LSTM\n",
        "- GRU\n",
        "\n",
        "## Evaluation\n",
        "\n",
        "- RMSE\n",
        "- NRMSE\n",
        "  - Normalized by stardartization"
      ]
    },
    {
      "cell_type": "markdown",
      "metadata": {
        "id": "krd1GCLFBNn3",
        "colab_type": "text"
      },
      "source": [
        "# Mount Drive\n",
        "\n",
        "Connect to Google Drive of 'alfredcoinworth'"
      ]
    },
    {
      "cell_type": "code",
      "metadata": {
        "id": "ebzVayUNBP2L",
        "colab_type": "code",
        "outputId": "504f7d7a-43ba-4a17-fa48-e9f16e2c91b0",
        "colab": {
          "base_uri": "https://localhost:8080/",
          "height": 55
        }
      },
      "source": [
        "import google as g # To connect with google drive\n",
        "g.colab.drive.mount('/content/drive')"
      ],
      "execution_count": 47,
      "outputs": [
        {
          "output_type": "stream",
          "text": [
            "Drive already mounted at /content/drive; to attempt to forcibly remount, call drive.mount(\"/content/drive\", force_remount=True).\n"
          ],
          "name": "stdout"
        }
      ]
    },
    {
      "cell_type": "markdown",
      "metadata": {
        "id": "tD29g6RmWyjg",
        "colab_type": "text"
      },
      "source": [
        "# Instanciate Dependencies\n"
      ]
    },
    {
      "cell_type": "code",
      "metadata": {
        "id": "uDUNNEdAWJPx",
        "colab_type": "code",
        "outputId": "63d08380-f9c1-4076-e588-5afe99bb601c",
        "colab": {
          "base_uri": "https://localhost:8080/",
          "height": 0
        }
      },
      "source": [
        "!pip install tensorflow\n",
        "!pip install pandas\n",
        "!pip install matplotlib\n",
        "!pip install numpy\n",
        "!pip install sklearn\n",
        "!pip install keras\n",
        "!pip install statsmodels"
      ],
      "execution_count": 48,
      "outputs": [
        {
          "output_type": "stream",
          "text": [
            "Requirement already satisfied: tensorflow in /usr/local/lib/python3.6/dist-packages (1.14.0)\n",
            "Requirement already satisfied: protobuf>=3.6.1 in /usr/local/lib/python3.6/dist-packages (from tensorflow) (3.7.1)\n",
            "Requirement already satisfied: google-pasta>=0.1.6 in /usr/local/lib/python3.6/dist-packages (from tensorflow) (0.1.7)\n",
            "Requirement already satisfied: numpy<2.0,>=1.14.5 in /usr/local/lib/python3.6/dist-packages (from tensorflow) (1.16.5)\n",
            "Requirement already satisfied: tensorflow-estimator<1.15.0rc0,>=1.14.0rc0 in /usr/local/lib/python3.6/dist-packages (from tensorflow) (1.14.0)\n",
            "Requirement already satisfied: wheel>=0.26 in /usr/local/lib/python3.6/dist-packages (from tensorflow) (0.33.6)\n",
            "Requirement already satisfied: astor>=0.6.0 in /usr/local/lib/python3.6/dist-packages (from tensorflow) (0.8.0)\n",
            "Requirement already satisfied: keras-preprocessing>=1.0.5 in /usr/local/lib/python3.6/dist-packages (from tensorflow) (1.1.0)\n",
            "Requirement already satisfied: keras-applications>=1.0.6 in /usr/local/lib/python3.6/dist-packages (from tensorflow) (1.0.8)\n",
            "Requirement already satisfied: tensorboard<1.15.0,>=1.14.0 in /usr/local/lib/python3.6/dist-packages (from tensorflow) (1.14.0)\n",
            "Requirement already satisfied: absl-py>=0.7.0 in /usr/local/lib/python3.6/dist-packages (from tensorflow) (0.8.0)\n",
            "Requirement already satisfied: termcolor>=1.1.0 in /usr/local/lib/python3.6/dist-packages (from tensorflow) (1.1.0)\n",
            "Requirement already satisfied: grpcio>=1.8.6 in /usr/local/lib/python3.6/dist-packages (from tensorflow) (1.15.0)\n",
            "Requirement already satisfied: gast>=0.2.0 in /usr/local/lib/python3.6/dist-packages (from tensorflow) (0.3.2)\n",
            "Requirement already satisfied: six>=1.10.0 in /usr/local/lib/python3.6/dist-packages (from tensorflow) (1.12.0)\n",
            "Requirement already satisfied: wrapt>=1.11.1 in /usr/local/lib/python3.6/dist-packages (from tensorflow) (1.11.2)\n",
            "Requirement already satisfied: setuptools in /usr/local/lib/python3.6/dist-packages (from protobuf>=3.6.1->tensorflow) (41.2.0)\n",
            "Requirement already satisfied: h5py in /usr/local/lib/python3.6/dist-packages (from keras-applications>=1.0.6->tensorflow) (2.8.0)\n",
            "Requirement already satisfied: markdown>=2.6.8 in /usr/local/lib/python3.6/dist-packages (from tensorboard<1.15.0,>=1.14.0->tensorflow) (3.1.1)\n",
            "Requirement already satisfied: werkzeug>=0.11.15 in /usr/local/lib/python3.6/dist-packages (from tensorboard<1.15.0,>=1.14.0->tensorflow) (0.16.0)\n",
            "Requirement already satisfied: pandas in /usr/local/lib/python3.6/dist-packages (0.24.2)\n",
            "Requirement already satisfied: python-dateutil>=2.5.0 in /usr/local/lib/python3.6/dist-packages (from pandas) (2.5.3)\n",
            "Requirement already satisfied: pytz>=2011k in /usr/local/lib/python3.6/dist-packages (from pandas) (2018.9)\n",
            "Requirement already satisfied: numpy>=1.12.0 in /usr/local/lib/python3.6/dist-packages (from pandas) (1.16.5)\n",
            "Requirement already satisfied: six>=1.5 in /usr/local/lib/python3.6/dist-packages (from python-dateutil>=2.5.0->pandas) (1.12.0)\n",
            "Requirement already satisfied: matplotlib in /usr/local/lib/python3.6/dist-packages (3.0.3)\n",
            "Requirement already satisfied: kiwisolver>=1.0.1 in /usr/local/lib/python3.6/dist-packages (from matplotlib) (1.1.0)\n",
            "Requirement already satisfied: pyparsing!=2.0.4,!=2.1.2,!=2.1.6,>=2.0.1 in /usr/local/lib/python3.6/dist-packages (from matplotlib) (2.4.2)\n",
            "Requirement already satisfied: cycler>=0.10 in /usr/local/lib/python3.6/dist-packages (from matplotlib) (0.10.0)\n",
            "Requirement already satisfied: numpy>=1.10.0 in /usr/local/lib/python3.6/dist-packages (from matplotlib) (1.16.5)\n",
            "Requirement already satisfied: python-dateutil>=2.1 in /usr/local/lib/python3.6/dist-packages (from matplotlib) (2.5.3)\n",
            "Requirement already satisfied: setuptools in /usr/local/lib/python3.6/dist-packages (from kiwisolver>=1.0.1->matplotlib) (41.2.0)\n",
            "Requirement already satisfied: six in /usr/local/lib/python3.6/dist-packages (from cycler>=0.10->matplotlib) (1.12.0)\n",
            "Requirement already satisfied: numpy in /usr/local/lib/python3.6/dist-packages (1.16.5)\n",
            "Requirement already satisfied: sklearn in /usr/local/lib/python3.6/dist-packages (0.0)\n",
            "Requirement already satisfied: scikit-learn in /usr/local/lib/python3.6/dist-packages (from sklearn) (0.21.3)\n",
            "Requirement already satisfied: joblib>=0.11 in /usr/local/lib/python3.6/dist-packages (from scikit-learn->sklearn) (0.13.2)\n",
            "Requirement already satisfied: scipy>=0.17.0 in /usr/local/lib/python3.6/dist-packages (from scikit-learn->sklearn) (1.3.1)\n",
            "Requirement already satisfied: numpy>=1.11.0 in /usr/local/lib/python3.6/dist-packages (from scikit-learn->sklearn) (1.16.5)\n",
            "Requirement already satisfied: keras in /usr/local/lib/python3.6/dist-packages (2.2.5)\n",
            "Requirement already satisfied: numpy>=1.9.1 in /usr/local/lib/python3.6/dist-packages (from keras) (1.16.5)\n",
            "Requirement already satisfied: h5py in /usr/local/lib/python3.6/dist-packages (from keras) (2.8.0)\n",
            "Requirement already satisfied: keras-applications>=1.0.8 in /usr/local/lib/python3.6/dist-packages (from keras) (1.0.8)\n",
            "Requirement already satisfied: keras-preprocessing>=1.1.0 in /usr/local/lib/python3.6/dist-packages (from keras) (1.1.0)\n",
            "Requirement already satisfied: pyyaml in /usr/local/lib/python3.6/dist-packages (from keras) (3.13)\n",
            "Requirement already satisfied: six>=1.9.0 in /usr/local/lib/python3.6/dist-packages (from keras) (1.12.0)\n",
            "Requirement already satisfied: scipy>=0.14 in /usr/local/lib/python3.6/dist-packages (from keras) (1.3.1)\n",
            "Requirement already satisfied: statsmodels in /usr/local/lib/python3.6/dist-packages (0.10.1)\n",
            "Requirement already satisfied: numpy>=1.11 in /usr/local/lib/python3.6/dist-packages (from statsmodels) (1.16.5)\n",
            "Requirement already satisfied: scipy>=0.18 in /usr/local/lib/python3.6/dist-packages (from statsmodels) (1.3.1)\n",
            "Requirement already satisfied: pandas>=0.19 in /usr/local/lib/python3.6/dist-packages (from statsmodels) (0.24.2)\n",
            "Requirement already satisfied: patsy>=0.4.0 in /usr/local/lib/python3.6/dist-packages (from statsmodels) (0.5.1)\n",
            "Requirement already satisfied: python-dateutil>=2.5.0 in /usr/local/lib/python3.6/dist-packages (from pandas>=0.19->statsmodels) (2.5.3)\n",
            "Requirement already satisfied: pytz>=2011k in /usr/local/lib/python3.6/dist-packages (from pandas>=0.19->statsmodels) (2018.9)\n",
            "Requirement already satisfied: six in /usr/local/lib/python3.6/dist-packages (from patsy>=0.4.0->statsmodels) (1.12.0)\n"
          ],
          "name": "stdout"
        }
      ]
    },
    {
      "cell_type": "code",
      "metadata": {
        "id": "wD11PvxQXFT0",
        "colab_type": "code",
        "colab": {}
      },
      "source": [
        "import tensorflow as tf # machine learning library\n",
        "import pandas as pd # data manipulation library\n",
        "import matplotlib.pyplot as plt # plot library\n",
        "import numpy as np # math library\n",
        "import datetime as dt # to discover week day\n",
        "import time as tm # to convert to seconds\n",
        "import sklearn as skl # regression templates library\n",
        "import sklearn.metrics as sklm # metrics\n",
        "import statsmodels.api as sma # statistical models api\n",
        "import statistics as st # statistics\n",
        "import statsmodels as sm # statistical models\n",
        "\n",
        "import math\n",
        "import json\n",
        "import copy\n",
        "\n",
        "from sklearn.preprocessing import MinMaxScaler"
      ],
      "execution_count": 0,
      "outputs": []
    },
    {
      "cell_type": "markdown",
      "metadata": {
        "id": "xw1p5NfaMKTk",
        "colab_type": "text"
      },
      "source": [
        "# Configurations\n"
      ]
    },
    {
      "cell_type": "markdown",
      "metadata": {
        "id": "YDFS5Hap5F8m",
        "colab_type": "text"
      },
      "source": [
        "## Tensorflow"
      ]
    },
    {
      "cell_type": "code",
      "metadata": {
        "id": "CpyxvqpIMMXX",
        "colab_type": "code",
        "colab": {}
      },
      "source": [
        "tf.compat.v1.logging.set_verbosity(tf.compat.v1.logging.ERROR)"
      ],
      "execution_count": 0,
      "outputs": []
    },
    {
      "cell_type": "markdown",
      "metadata": {
        "id": "E_WxxHUW5Apn",
        "colab_type": "text"
      },
      "source": [
        "## Paths"
      ]
    },
    {
      "cell_type": "code",
      "metadata": {
        "id": "NUw3rkY-vDar",
        "colab_type": "code",
        "colab": {}
      },
      "source": [
        "# Colab\n",
        "TCC_PATH = '/content/drive/My Drive/TCC/'\n",
        "\n",
        "# Local\n",
        "# TCC_PATH = ''"
      ],
      "execution_count": 0,
      "outputs": []
    },
    {
      "cell_type": "markdown",
      "metadata": {
        "id": "fXgVfuOmDcDH",
        "colab_type": "text"
      },
      "source": [
        "## Parametes"
      ]
    },
    {
      "cell_type": "code",
      "metadata": {
        "id": "3E2XPoL5DfY7",
        "colab_type": "code",
        "colab": {}
      },
      "source": [
        "SEEABLE_PAST = 180 # in minutes\n",
        "\n",
        "PREDICT_IN_FUTURE = 15 # in minutes\n",
        "\n",
        "FLOW_INTERVAL = 450 # the interval size for each flow\n",
        "\n",
        "NORMALIZE_FEATS = False #Decide if we gonna use normalized flow and speed values, or not\n",
        "\n",
        "SET_SPLIT = 0.75\n",
        "\n",
        "TEST_SPLIT = 0.2\n",
        "\n",
        "VALIDATION_SPLIT = 0.2\n",
        "\n",
        "VERBOSITY = False\n",
        "\n",
        "\n",
        "# Derivated\n",
        "\n",
        "N_STEPS = SEEABLE_PAST * 60 // FLOW_INTERVAL # the number of flows to see in the past\n",
        "\n",
        "N_FUTURE = PREDICT_IN_FUTURE * 60 // FLOW_INTERVAL # how much in the future we want to predict (0 = predict the flow on the next 5 minutes)\n",
        "\n",
        "DAY_SIZE = (24 * 3600) // FLOW_INTERVAL  \n",
        "\n",
        "WEEK_SIZE = 7 * DAY_SIZE"
      ],
      "execution_count": 0,
      "outputs": []
    },
    {
      "cell_type": "markdown",
      "metadata": {
        "id": "DbjUKcm45u3H",
        "colab_type": "text"
      },
      "source": [
        "## Global"
      ]
    },
    {
      "cell_type": "code",
      "metadata": {
        "id": "qD88udfA5sdx",
        "colab_type": "code",
        "colab": {}
      },
      "source": [
        "result_data = {\n",
        "    'results': {},\n",
        "    'meta': {}\n",
        "}"
      ],
      "execution_count": 0,
      "outputs": []
    },
    {
      "cell_type": "code",
      "metadata": {
        "id": "PJR4B4bSHew9",
        "colab_type": "code",
        "colab": {}
      },
      "source": [
        "comparison_data = []"
      ],
      "execution_count": 0,
      "outputs": []
    },
    {
      "cell_type": "markdown",
      "metadata": {
        "id": "rlQKvD3_tqxd",
        "colab_type": "text"
      },
      "source": [
        "# Util"
      ]
    },
    {
      "cell_type": "markdown",
      "metadata": {
        "id": "L8F3EjLv4nBh",
        "colab_type": "text"
      },
      "source": [
        "## Data\n"
      ]
    },
    {
      "cell_type": "code",
      "metadata": {
        "id": "lr0HX0aMDKOf",
        "colab_type": "code",
        "colab": {}
      },
      "source": [
        "# split_sequence([1, 2, 3, 4, 5], 3) #=> ([[1, 2, 3], [2, 3, 4]], [4, 5])\n",
        "def split_sequence(sequence, isMulti):\n",
        "  n = len(sequence)\n",
        "  X, Y = list(), list()\n",
        "  \n",
        "  for i in range(n):\n",
        "    j = i + N_STEPS\n",
        "    k = j + N_FUTURE\n",
        "\n",
        "    if k >= n:\n",
        "      break\n",
        "\n",
        "    seq_x, seq_y = sequence[i:j], sequence[k]\n",
        "    X.append(seq_x)\n",
        "    Y.append(seq_y[0] if isMulti else seq_y)\n",
        "\n",
        "  return np.array(X), np.array(Y)"
      ],
      "execution_count": 0,
      "outputs": []
    },
    {
      "cell_type": "code",
      "metadata": {
        "id": "FamxaqEGKxdQ",
        "colab_type": "code",
        "colab": {}
      },
      "source": [
        "def reshape_flow (raw_seq, isMulti):  \n",
        "  # split into samples\n",
        "  X, Y = split_sequence(np.array(raw_seq), isMulti)\n",
        "  \n",
        "  print(X.shape)\n",
        "  \n",
        "  if not isMulti: # reshape from [samples, timesteps] into [samples, timesteps, features]\n",
        "    X = X.reshape((X.shape[0], X.shape[1], 1))\n",
        "\n",
        "  return X, Y"
      ],
      "execution_count": 0,
      "outputs": []
    },
    {
      "cell_type": "markdown",
      "metadata": {
        "id": "XRo7xTjh4YTs",
        "colab_type": "text"
      },
      "source": [
        "## Plot"
      ]
    },
    {
      "cell_type": "code",
      "metadata": {
        "id": "5zIKDsGPtvOO",
        "colab_type": "code",
        "colab": {}
      },
      "source": [
        "def plot_history (history, name):\n",
        "  path = f\"{TCC_PATH}plots/histories/{name}\"\n",
        "  \n",
        "  plt.plot(history.history['loss'])\n",
        "  plt.plot(history.history['val_loss'])\n",
        "  plt.title(name + ' Model Loss')\n",
        "  plt.ylabel('Loss')\n",
        "  plt.xlabel('Epoch')\n",
        "  plt.legend(['train', 'test'], loc='upper left')\n",
        "  plt.rcdefaults()\n",
        "  \n",
        "  plt.savefig(path + \".png\", bbox_inches='tight')\n",
        "  plt.savefig(path + \".pdf\")\n",
        "  \n",
        "  #plt.show(name + \"ind\")\n",
        "  plt.close('all')"
      ],
      "execution_count": 0,
      "outputs": []
    },
    {
      "cell_type": "code",
      "metadata": {
        "id": "0UkGNiEE20gp",
        "colab_type": "code",
        "colab": {}
      },
      "source": [
        "def plot_prediction (Y, Y_hat, title):\n",
        "  flatten = lambda l: [i for sl in l for i in sl]\n",
        "  \n",
        "  n = math.floor(len(Y) / DAY_SIZE)\n",
        "  Y = flatten(Y)\n",
        "  Y_hat = flatten(Y_hat)\n",
        "  \n",
        "  for r in range(n):\n",
        "    i = r * DAY_SIZE\n",
        "    j = min(i + DAY_SIZE, len(Y))\n",
        "    \n",
        "    path = f\"{TCC_PATH}plots/predictions/{title} ({str(r+1).zfill(2)} of {n})\"\n",
        "    \n",
        "    plt.plot(Y[i:j])\n",
        "    plt.plot(Y_hat[i:j])\n",
        "    plt.title(title + 'Prediction')\n",
        "    plt.ylabel('Flow')\n",
        "    plt.xlabel('Time')\n",
        "    plt.legend(['actual', 'prediction'], loc='upper left')\n",
        "    plt.rcdefaults()\n",
        "\n",
        "    plt.savefig(path + \".png\", bbox_inches='tight')\n",
        "    plt.savefig(path + \".pdf\")\n",
        "\n",
        "    plt.close('all')"
      ],
      "execution_count": 0,
      "outputs": []
    },
    {
      "cell_type": "code",
      "metadata": {
        "id": "7yXGNb5uDcXP",
        "colab_type": "code",
        "colab": {}
      },
      "source": [
        "def plot_performance_bar(i, y_label, title):\n",
        "  path = f\"{TCC_PATH}plots/performances/bars/{title}\"\n",
        "  \n",
        "  models = tuple(results.keys())\n",
        "  y_pos = np.arange(len(models))\n",
        "  performance = [sum(v[i]) / len(v[i]) for v in results.values()]\n",
        "\n",
        "  plt.rcdefaults()\n",
        "  plt.bar(y_pos, performance, align='center', alpha=0.5)\n",
        "  plt.xticks(y_pos, models)\n",
        "  plt.ylabel(y_label)\n",
        "  plt.title(title)\n",
        "\n",
        "  plt.savefig(path + \".png\", bbox_inches='tight')\n",
        "  plt.savefig(path + \".pdf\")\n",
        "  \n",
        "  plt.show()\n",
        "  plt.close('all')"
      ],
      "execution_count": 0,
      "outputs": []
    },
    {
      "cell_type": "code",
      "metadata": {
        "id": "ebIh6HxWbUyo",
        "colab_type": "code",
        "colab": {}
      },
      "source": [
        "def plot_performance_box(i, y_label, title):\n",
        "  path = f\"{TCC_PATH}plots/performances/boxes/{title}\"\n",
        "  \n",
        "  fig, ax_plot = plt.subplots()\n",
        "  \n",
        "  ax_plot.set_title(title)\n",
        "  ax_plot.set_xlabel('Model')\n",
        "  ax_plot.set_ylabel(y_label)\n",
        "  \n",
        "  bplot = ax_plot.boxplot([v[i] for v in results.values()])\n",
        "  ax_plot.set_xticklabels(list(results.keys()))\n",
        "  \n",
        "  plt.savefig(path + \".png\", bbox_inches='tight')\n",
        "  plt.savefig(path + \".pdf\")\n",
        "  \n",
        "  plt.show()\n",
        "  plt.close('all')"
      ],
      "execution_count": 0,
      "outputs": []
    },
    {
      "cell_type": "markdown",
      "metadata": {
        "id": "QYQ-2RhUqtZu",
        "colab_type": "text"
      },
      "source": [
        "## Model\n"
      ]
    },
    {
      "cell_type": "code",
      "metadata": {
        "id": "H7MpMTUy4wuW",
        "colab_type": "code",
        "colab": {}
      },
      "source": [
        "from keras.models import Sequential\n",
        "from keras.layers import Dense"
      ],
      "execution_count": 0,
      "outputs": []
    },
    {
      "cell_type": "code",
      "metadata": {
        "id": "KH648TIGLVKg",
        "colab_type": "code",
        "colab": {}
      },
      "source": [
        "def split_dataset (n):\n",
        "  window_size = int(n * SET_SPLIT)\n",
        "  test_size = int(window_size * TEST_SPLIT)\n",
        "  jump_size = test_size\n",
        "  train_size = window_size - test_size\n",
        "    \n",
        "  i, j, k = 0, train_size, min(n, train_size + test_size)\n",
        "  \n",
        "  res = []\n",
        "  \n",
        "  while j < n:\n",
        "    res.append((i, j, k))\n",
        "    \n",
        "    i = i + jump_size\n",
        "    j = i + train_size\n",
        "    k = min(n, j + test_size)\n",
        "    \n",
        "  return res"
      ],
      "execution_count": 0,
      "outputs": []
    },
    {
      "cell_type": "code",
      "metadata": {
        "id": "65Zypk5Cbiv0",
        "colab_type": "code",
        "colab": {}
      },
      "source": [
        "def hit_ratio (Y, Y_hat):\n",
        "  cnt = 0\n",
        "  \n",
        "  for i in range(len(Y)):\n",
        "    if i == 0:\n",
        "      continue\n",
        "      \n",
        "    exp = Y[i] - Y[i-1]\n",
        "    obs = Y_hat[i] - Y_hat[i-1]\n",
        "    \n",
        "    if exp * obs > 0:\n",
        "      cnt += 1\n",
        "    \n",
        "  return cnt / len(Y)\n",
        "    "
      ],
      "execution_count": 0,
      "outputs": []
    },
    {
      "cell_type": "code",
      "metadata": {
        "id": "gTes33wAe1zg",
        "colab_type": "code",
        "colab": {}
      },
      "source": [
        "def precision (Y, Y_hat):\n",
        "  n_buckets = 7;\n",
        "  buckets = [0] * n_buckets\n",
        "  \n",
        "  for i in range(len(Y)):\n",
        "    diff = abs(Y[i] - Y_hat[i])\n",
        "    \n",
        "    for i in range (n_buckets):\n",
        "      if diff <= 2**i:\n",
        "        buckets[i] += 1\n",
        "        break\n",
        "\n",
        "  for i in range (n_buckets):\n",
        "     buckets[i] = buckets[i] / len(Y)\n",
        "\n",
        "  return tuple(buckets)"
      ],
      "execution_count": 0,
      "outputs": []
    },
    {
      "cell_type": "code",
      "metadata": {
        "id": "nW3-LAmDNpYL",
        "colab_type": "code",
        "colab": {}
      },
      "source": [
        "def evaluate (expected, observed, times, title):\n",
        "  global result_data\n",
        "  \n",
        "  n = len(expected)\n",
        "  \n",
        "  expected = list(map(list, expected))\n",
        "  observed = list(map(list, observed))\n",
        "  \n",
        "  # Make the arrays serializable\n",
        "  for i in range(n):\n",
        "    expected[i] = list(map(float, expected[i]))\n",
        "    observed[i] = list(map(float, observed[i]))\n",
        "\n",
        "  \n",
        "  if NORMALIZE_FEATS:\n",
        "    for i in range(n):\n",
        "      expected[i] = list(scaler.inverse_transform(expected[i]))\n",
        "      observed[i] = list(scaler.inverse_transform(observed[i]))\n",
        "  \n",
        "  result_data['results'][title] = {\n",
        "    'TIME': 0,\n",
        "    'RMSE': 0.0,\n",
        "    'NRMSE': 0.0,\n",
        "    'MAE': 0.0,\n",
        "    'R2': 0.0,\n",
        "    'HR': 0.0,\n",
        "    'PRE': [],\n",
        "    'raw': {\n",
        "      'expected': expected,\n",
        "      'observed': observed,\n",
        "      'execution_time': times,\n",
        "      'RMSE': [0] * n,\n",
        "      'NRMSE': [0] * n,\n",
        "      'MAE': [0] * n,\n",
        "      'R2': [0] * n,\n",
        "      'HR': [0] * n,\n",
        "      'PRE': [0] * n,\n",
        "    }\n",
        "  }\n",
        "  \n",
        "  eva = result_data['results'][title]\n",
        "  raw = result_data['results'][title]['raw']\n",
        "  \n",
        "  for i in range(n):\n",
        "    Y = expected[i]\n",
        "    Y_hat = observed[i]\n",
        "    time = times[i]\n",
        "\n",
        "    raw['MAE'][i] = sklm.mean_absolute_error(Y, Y_hat)\n",
        "    raw['RMSE'][i] = np.sqrt(sklm.mean_squared_error(Y, Y_hat))\n",
        "    raw['NRMSE'][i] = raw['RMSE'][i] / np.std(Y)\n",
        "    raw['R2'][i] = sklm.r2_score(Y, Y_hat)\n",
        "    raw['HR'][i] = hit_ratio(Y, Y_hat)\n",
        "    raw['PRE'][i] = precision(Y, Y_hat)\n",
        "    \n",
        "    if VERBOSITY:\n",
        "      print(f\"({i+1}/{n}) Test Size: {len(Y)}, Time: {time}s, RMSE: {raw['RMSE'][i]}, NRMSE: {raw['NRMSE'][i]}, MAE: {raw['MAE'][i]}, R2: {raw['R2'][i]}, Hit Ratio: {raw['HR'][i] * 100}%\")\n",
        "    \n",
        "  eva['TIME'] = int(sum(times))\n",
        "  eva['RMSE'] = sum(raw['RMSE']) / len(raw['RMSE'])\n",
        "  eva['NRMSE'] = sum(raw['NRMSE']) / len(raw['NRMSE'])\n",
        "  eva['MAE'] = sum(raw['MAE']) / len(raw['MAE'])\n",
        "  eva['R2'] = sum(raw['R2']) / len(raw['R2'])\n",
        "  eva['HR'] = sum(raw['HR']) / len(raw['HR'])\n",
        "  eva['PRE'] = list(map(sum, zip(*raw['PRE'])))\n",
        "      \n",
        "  if VERBOSITY:\n",
        "    plot_prediction(expected, observed, title)\n",
        "    print(f\"=> Total Time: {eva['TIME']}s, RMSE: {eva['RMSE']}, NRMSE: {eva['NRMSE']}, MAE: {eva['MAE']}, R2: {eva['R2']}, Hit Ratio: {eva['HR'] * 100}%, Precision: {eva['PRE']}\")"
      ],
      "execution_count": 0,
      "outputs": []
    },
    {
      "cell_type": "markdown",
      "metadata": {
        "id": "8BkdL8EE5pl3",
        "colab_type": "text"
      },
      "source": [
        "## Storage"
      ]
    },
    {
      "cell_type": "code",
      "metadata": {
        "id": "9OWaLFzKSG2A",
        "colab_type": "code",
        "colab": {}
      },
      "source": [
        "def print_json ():\n",
        "  print(json.dumps(result_data, sort_keys=True, indent=4))"
      ],
      "execution_count": 0,
      "outputs": []
    },
    {
      "cell_type": "code",
      "metadata": {
        "id": "y4OjfpS8R-ZC",
        "colab_type": "code",
        "colab": {}
      },
      "source": [
        "def store_results ():\n",
        "  name = int(tm.time())\n",
        "  \n",
        "  result_data['meta'] = {\n",
        "    \"SEEABLE_PAST\": SEEABLE_PAST,\n",
        "    \"PREDICT_IN_FUTURE\": PREDICT_IN_FUTURE,\n",
        "    \"FLOW_INTERVAL\": FLOW_INTERVAL,\n",
        "    \"NORMALIZE_FEATS\": NORMALIZE_FEATS,\n",
        "    \"SET_SPLIT\": SET_SPLIT,\n",
        "    \"TEST_SPLIT\": TEST_SPLIT,\n",
        "    \"VALIDATION_SPLIT\": VALIDATION_SPLIT,\n",
        "  }\n",
        "  \n",
        "  with open(f\"{TCC_PATH}results/{name}.json\", 'w') as json_file:\n",
        "    json.dump(result_data, json_file)\n",
        "    \n",
        "  slim_result_data = copy.deepcopy(result_data)\n",
        "  for model in slim_result_data['results']:\n",
        "      del slim_result_data['results'][model]['raw']\n",
        "    \n",
        "    \n",
        "  with open(f\"{TCC_PATH}results/{name}_slim.json\", 'w') as json_file:\n",
        "    json.dump(slim_result_data, json_file)"
      ],
      "execution_count": 0,
      "outputs": []
    },
    {
      "cell_type": "code",
      "metadata": {
        "id": "K_UiuJG3GwME",
        "colab_type": "code",
        "colab": {}
      },
      "source": [
        "def store_comparisons ():\n",
        "  name = int(tm.time())\n",
        "  \n",
        "  with open(f\"{TCC_PATH}results/comparison/{name}.json\", 'w') as json_file:\n",
        "    json.dump(comparison_data, json_file)\n",
        "    \n",
        "  slim_comparison_data = copy.deepcopy(comparison_data)\n",
        "  for i in range(len(slim_comparison_data)):\n",
        "    print([*slim_comparison_data[i]['results']])\n",
        "    for model in slim_comparison_data[i]['results']:\n",
        "      del slim_comparison_data[i]['results'][model]['raw']\n",
        "    \n",
        "    \n",
        "  with open(f\"{TCC_PATH}results/comparison/{name}_slim.json\", 'w') as json_file:\n",
        "    json.dump(slim_comparison_data, json_file)"
      ],
      "execution_count": 0,
      "outputs": []
    },
    {
      "cell_type": "markdown",
      "metadata": {
        "id": "llW_Qq7sZk1U",
        "colab_type": "text"
      },
      "source": [
        "# Dataset Generation\n",
        "\n",
        "This phase we have to get the data stored in Google Drive and transform into a dataset for prediction.\n"
      ]
    },
    {
      "cell_type": "markdown",
      "metadata": {
        "id": "6dClOlAE54P-",
        "colab_type": "text"
      },
      "source": [
        "## Retrieval"
      ]
    },
    {
      "cell_type": "code",
      "metadata": {
        "id": "hd2t6KbqZlgU",
        "colab_type": "code",
        "colab": {}
      },
      "source": [
        "col_names = ['Sensor', 'Date', 'Time', 'Lane', 'Speed', 'Max Speed', 'Size']\n",
        "all_data = pd.read_csv(f\"{TCC_PATH}dataset/all_data_sorted.csv\", ';', header=None, names=col_names)"
      ],
      "execution_count": 0,
      "outputs": []
    },
    {
      "cell_type": "code",
      "metadata": {
        "id": "8cqeH0puKl37",
        "colab_type": "code",
        "outputId": "2aa98d4f-63ae-4309-ed1d-e632a6edee9e",
        "colab": {
          "base_uri": "https://localhost:8080/",
          "height": 0
        }
      },
      "source": [
        "all_data.head()"
      ],
      "execution_count": 70,
      "outputs": [
        {
          "output_type": "execute_result",
          "data": {
            "text/html": [
              "<div>\n",
              "<style scoped>\n",
              "    .dataframe tbody tr th:only-of-type {\n",
              "        vertical-align: middle;\n",
              "    }\n",
              "\n",
              "    .dataframe tbody tr th {\n",
              "        vertical-align: top;\n",
              "    }\n",
              "\n",
              "    .dataframe thead th {\n",
              "        text-align: right;\n",
              "    }\n",
              "</style>\n",
              "<table border=\"1\" class=\"dataframe\">\n",
              "  <thead>\n",
              "    <tr style=\"text-align: right;\">\n",
              "      <th></th>\n",
              "      <th>Sensor</th>\n",
              "      <th>Date</th>\n",
              "      <th>Time</th>\n",
              "      <th>Lane</th>\n",
              "      <th>Speed</th>\n",
              "      <th>Max Speed</th>\n",
              "      <th>Size</th>\n",
              "    </tr>\n",
              "  </thead>\n",
              "  <tbody>\n",
              "    <tr>\n",
              "      <th>0</th>\n",
              "      <td>RSI128</td>\n",
              "      <td>2016/05/01</td>\n",
              "      <td>00:00:09</td>\n",
              "      <td>1</td>\n",
              "      <td>26.0</td>\n",
              "      <td>60.0</td>\n",
              "      <td>0.0</td>\n",
              "    </tr>\n",
              "    <tr>\n",
              "      <th>1</th>\n",
              "      <td>RSI131</td>\n",
              "      <td>2016/05/01</td>\n",
              "      <td>00:00:09</td>\n",
              "      <td>2</td>\n",
              "      <td>20.0</td>\n",
              "      <td>60.0</td>\n",
              "      <td>1.1</td>\n",
              "    </tr>\n",
              "    <tr>\n",
              "      <th>2</th>\n",
              "      <td>RSI132</td>\n",
              "      <td>2016/05/01</td>\n",
              "      <td>00:00:09</td>\n",
              "      <td>1</td>\n",
              "      <td>45.0</td>\n",
              "      <td>60.0</td>\n",
              "      <td>0.0</td>\n",
              "    </tr>\n",
              "    <tr>\n",
              "      <th>3</th>\n",
              "      <td>RSI131</td>\n",
              "      <td>2016/05/01</td>\n",
              "      <td>00:00:10</td>\n",
              "      <td>1</td>\n",
              "      <td>40.0</td>\n",
              "      <td>60.0</td>\n",
              "      <td>0.5</td>\n",
              "    </tr>\n",
              "    <tr>\n",
              "      <th>4</th>\n",
              "      <td>RSI129</td>\n",
              "      <td>2016/05/01</td>\n",
              "      <td>00:00:12</td>\n",
              "      <td>1</td>\n",
              "      <td>35.0</td>\n",
              "      <td>60.0</td>\n",
              "      <td>0.0</td>\n",
              "    </tr>\n",
              "  </tbody>\n",
              "</table>\n",
              "</div>"
            ],
            "text/plain": [
              "   Sensor        Date      Time  Lane  Speed  Max Speed  Size\n",
              "0  RSI128  2016/05/01  00:00:09     1   26.0       60.0   0.0\n",
              "1  RSI131  2016/05/01  00:00:09     2   20.0       60.0   1.1\n",
              "2  RSI132  2016/05/01  00:00:09     1   45.0       60.0   0.0\n",
              "3  RSI131  2016/05/01  00:00:10     1   40.0       60.0   0.5\n",
              "4  RSI129  2016/05/01  00:00:12     1   35.0       60.0   0.0"
            ]
          },
          "metadata": {
            "tags": []
          },
          "execution_count": 70
        }
      ]
    },
    {
      "cell_type": "markdown",
      "metadata": {
        "id": "-4MRltPccIM2",
        "colab_type": "text"
      },
      "source": [
        "## Pre-processing\n",
        "\n"
      ]
    },
    {
      "cell_type": "code",
      "metadata": {
        "id": "45BbPGsccOwL",
        "colab_type": "code",
        "colab": {}
      },
      "source": [
        "def adjust_data(data):\n",
        "  # Extract data from just one sensor\n",
        "  data = data[data['Sensor'] == 'RSI128']\n",
        "  \n",
        "  # Remove unnecessary columns\n",
        "  data = data.drop(columns=['Sensor','Lane','Max Speed','Size'])\n",
        "   \n",
        "  # Adjust type\n",
        "  data['Time'] = data['Time'].apply(lambda x : tm.strptime(x, '%H:%M:%S'))\n",
        "  data['Time'] = data['Time'].apply(lambda x : dt.timedelta(hours=x.tm_hour,minutes=x.tm_min,seconds=x.tm_sec).total_seconds())\n",
        "  data['Time'] = data['Time'].apply(lambda x : int(x))\n",
        "  data['Date'] = pd.to_datetime(data['Date'], format='%Y/%m/%d')\n",
        "  data['Speed'].apply(lambda x : float(x))\n",
        "  \n",
        "  # Create week day from date\n",
        "  data['WeekDay'] = data['Date'].apply(lambda x : x.weekday())\n",
        "  \n",
        "  return data"
      ],
      "execution_count": 0,
      "outputs": []
    },
    {
      "cell_type": "code",
      "metadata": {
        "id": "ZWyHB9uiLGyL",
        "colab_type": "code",
        "colab": {}
      },
      "source": [
        "data = adjust_data(all_data)"
      ],
      "execution_count": 0,
      "outputs": []
    },
    {
      "cell_type": "code",
      "metadata": {
        "id": "sa5nhAg4KNW4",
        "colab_type": "code",
        "outputId": "c3e7ff4a-37e6-444b-d7c6-176a3bff4348",
        "colab": {
          "base_uri": "https://localhost:8080/",
          "height": 0
        }
      },
      "source": [
        "data.head()"
      ],
      "execution_count": 73,
      "outputs": [
        {
          "output_type": "execute_result",
          "data": {
            "text/html": [
              "<div>\n",
              "<style scoped>\n",
              "    .dataframe tbody tr th:only-of-type {\n",
              "        vertical-align: middle;\n",
              "    }\n",
              "\n",
              "    .dataframe tbody tr th {\n",
              "        vertical-align: top;\n",
              "    }\n",
              "\n",
              "    .dataframe thead th {\n",
              "        text-align: right;\n",
              "    }\n",
              "</style>\n",
              "<table border=\"1\" class=\"dataframe\">\n",
              "  <thead>\n",
              "    <tr style=\"text-align: right;\">\n",
              "      <th></th>\n",
              "      <th>Date</th>\n",
              "      <th>Time</th>\n",
              "      <th>Speed</th>\n",
              "      <th>WeekDay</th>\n",
              "    </tr>\n",
              "  </thead>\n",
              "  <tbody>\n",
              "    <tr>\n",
              "      <th>0</th>\n",
              "      <td>2016-05-01</td>\n",
              "      <td>9</td>\n",
              "      <td>26.0</td>\n",
              "      <td>6</td>\n",
              "    </tr>\n",
              "    <tr>\n",
              "      <th>7</th>\n",
              "      <td>2016-05-01</td>\n",
              "      <td>18</td>\n",
              "      <td>32.0</td>\n",
              "      <td>6</td>\n",
              "    </tr>\n",
              "    <tr>\n",
              "      <th>39</th>\n",
              "      <td>2016-05-01</td>\n",
              "      <td>104</td>\n",
              "      <td>16.0</td>\n",
              "      <td>6</td>\n",
              "    </tr>\n",
              "    <tr>\n",
              "      <th>108</th>\n",
              "      <td>2016-05-01</td>\n",
              "      <td>206</td>\n",
              "      <td>22.0</td>\n",
              "      <td>6</td>\n",
              "    </tr>\n",
              "    <tr>\n",
              "      <th>160</th>\n",
              "      <td>2016-05-01</td>\n",
              "      <td>305</td>\n",
              "      <td>25.0</td>\n",
              "      <td>6</td>\n",
              "    </tr>\n",
              "  </tbody>\n",
              "</table>\n",
              "</div>"
            ],
            "text/plain": [
              "          Date  Time  Speed  WeekDay\n",
              "0   2016-05-01     9   26.0        6\n",
              "7   2016-05-01    18   32.0        6\n",
              "39  2016-05-01   104   16.0        6\n",
              "108 2016-05-01   206   22.0        6\n",
              "160 2016-05-01   305   25.0        6"
            ]
          },
          "metadata": {
            "tags": []
          },
          "execution_count": 73
        }
      ]
    },
    {
      "cell_type": "code",
      "metadata": {
        "id": "kF9mjXWzKPX4",
        "colab_type": "code",
        "outputId": "c1841156-1572-47de-9c45-ea1544573edf",
        "colab": {
          "base_uri": "https://localhost:8080/",
          "height": 0
        }
      },
      "source": [
        "data.describe()"
      ],
      "execution_count": 74,
      "outputs": [
        {
          "output_type": "execute_result",
          "data": {
            "text/html": [
              "<div>\n",
              "<style scoped>\n",
              "    .dataframe tbody tr th:only-of-type {\n",
              "        vertical-align: middle;\n",
              "    }\n",
              "\n",
              "    .dataframe tbody tr th {\n",
              "        vertical-align: top;\n",
              "    }\n",
              "\n",
              "    .dataframe thead th {\n",
              "        text-align: right;\n",
              "    }\n",
              "</style>\n",
              "<table border=\"1\" class=\"dataframe\">\n",
              "  <thead>\n",
              "    <tr style=\"text-align: right;\">\n",
              "      <th></th>\n",
              "      <th>Time</th>\n",
              "      <th>Speed</th>\n",
              "      <th>WeekDay</th>\n",
              "    </tr>\n",
              "  </thead>\n",
              "  <tbody>\n",
              "    <tr>\n",
              "      <th>count</th>\n",
              "      <td>536879.000000</td>\n",
              "      <td>536879.000000</td>\n",
              "      <td>536879.000000</td>\n",
              "    </tr>\n",
              "    <tr>\n",
              "      <th>mean</th>\n",
              "      <td>51715.214387</td>\n",
              "      <td>31.078891</td>\n",
              "      <td>2.951632</td>\n",
              "    </tr>\n",
              "    <tr>\n",
              "      <th>std</th>\n",
              "      <td>17952.214406</td>\n",
              "      <td>7.168803</td>\n",
              "      <td>1.959146</td>\n",
              "    </tr>\n",
              "    <tr>\n",
              "      <th>min</th>\n",
              "      <td>3.000000</td>\n",
              "      <td>2.000000</td>\n",
              "      <td>0.000000</td>\n",
              "    </tr>\n",
              "    <tr>\n",
              "      <th>25%</th>\n",
              "      <td>38412.500000</td>\n",
              "      <td>26.000000</td>\n",
              "      <td>1.000000</td>\n",
              "    </tr>\n",
              "    <tr>\n",
              "      <th>50%</th>\n",
              "      <td>52364.000000</td>\n",
              "      <td>31.000000</td>\n",
              "      <td>3.000000</td>\n",
              "    </tr>\n",
              "    <tr>\n",
              "      <th>75%</th>\n",
              "      <td>65757.000000</td>\n",
              "      <td>35.000000</td>\n",
              "      <td>5.000000</td>\n",
              "    </tr>\n",
              "    <tr>\n",
              "      <th>max</th>\n",
              "      <td>86399.000000</td>\n",
              "      <td>67.000000</td>\n",
              "      <td>6.000000</td>\n",
              "    </tr>\n",
              "  </tbody>\n",
              "</table>\n",
              "</div>"
            ],
            "text/plain": [
              "                Time          Speed        WeekDay\n",
              "count  536879.000000  536879.000000  536879.000000\n",
              "mean    51715.214387      31.078891       2.951632\n",
              "std     17952.214406       7.168803       1.959146\n",
              "min         3.000000       2.000000       0.000000\n",
              "25%     38412.500000      26.000000       1.000000\n",
              "50%     52364.000000      31.000000       3.000000\n",
              "75%     65757.000000      35.000000       5.000000\n",
              "max     86399.000000      67.000000       6.000000"
            ]
          },
          "metadata": {
            "tags": []
          },
          "execution_count": 74
        }
      ]
    },
    {
      "cell_type": "code",
      "metadata": {
        "id": "qUWNjjBFKhHJ",
        "colab_type": "code",
        "outputId": "1994ab0b-83c6-4981-f57e-32eebfb45457",
        "colab": {
          "base_uri": "https://localhost:8080/",
          "height": 0
        }
      },
      "source": [
        "start = data['Date'].min()\n",
        "end = data['Date'].max()\n",
        "print(f\"This data is from <{start}> to <{end}>. That is {end - start} days.\\n\")\n",
        "\n",
        "print(f\"It contains {len(data['Date'])} entries\\n\")\n",
        "\n",
        "for col, cont in data.iteritems():\n",
        "    print(f\"Column {col} has {cont.isnull().sum()} null elements and {cont.isna().sum()} nan elements\")"
      ],
      "execution_count": 75,
      "outputs": [
        {
          "output_type": "stream",
          "text": [
            "This data is from <2016-05-01 00:00:00> to <2016-07-31 00:00:00>. That is 91 days 00:00:00 days.\n",
            "\n",
            "It contains 536879 entries\n",
            "\n",
            "Column Date has 0 null elements and 0 nan elements\n",
            "Column Time has 0 null elements and 0 nan elements\n",
            "Column Speed has 0 null elements and 0 nan elements\n",
            "Column WeekDay has 0 null elements and 0 nan elements\n"
          ],
          "name": "stdout"
        }
      ]
    },
    {
      "cell_type": "markdown",
      "metadata": {
        "id": "R14KefuiBycd",
        "colab_type": "text"
      },
      "source": [
        "## Flow Generation\n",
        "\n",
        "This will transform the time series of register cars that passed in a array of flow per k minute."
      ]
    },
    {
      "cell_type": "code",
      "metadata": {
        "id": "RmF8FxOBB2T0",
        "colab_type": "code",
        "colab": {}
      },
      "source": [
        "def get_flow_data(n, accSpeed, weekDay):\n",
        "  avgSpeed = accSpeed // n if n else 0\n",
        "  wd = [1 if weekDay == i else 0 for i in range(7)] # weekday\n",
        "  \n",
        "  return (n, avgSpeed, wd[0], wd[1], wd[2], wd[3], wd[4], wd[5], wd[6])"
      ],
      "execution_count": 0,
      "outputs": []
    },
    {
      "cell_type": "code",
      "metadata": {
        "id": "c-x0DKOmMnmz",
        "colab_type": "code",
        "colab": {}
      },
      "source": [
        "def get_flow (data):\n",
        "  date = np.asarray(data['Date'])\n",
        "  weekDay = np.asarray(data['WeekDay'])\n",
        "  time = np.asarray(data['Time'])\n",
        "  speed = np.asarray(data['Speed'])\n",
        "  \n",
        "  dateControl = date[0] #seta o controle de data com o primeiro dia do chunk\n",
        "  timeBlock = FLOW_INTERVAL\n",
        "  countFlow = 0\n",
        "  accSpeed = 0\n",
        "  flowData = []\n",
        "\n",
        "  for i in range(len(date)):\n",
        "    if time[i] >= timeBlock: # init a new time block\n",
        "      flowData.append(get_flow_data(countFlow, accSpeed, weekDay[i])) \n",
        "      timeBlock += FLOW_INTERVAL\n",
        "      accSpeed = 0\n",
        "      countFlow = 0\n",
        "      \n",
        "    if date[i] > dateControl: # reset on day change\n",
        "      dateControl = date[i]\n",
        "      timeBlock = FLOW_INTERVAL \n",
        "      countFlow = 0\n",
        "      accSpeed = 0\n",
        "      \n",
        "    if time[i] < timeBlock: # add car on flow\n",
        "      countFlow += 1\n",
        "      accSpeed += speed[i]\n",
        "      \n",
        "  flowDataColumns = ['Flow', 'AverageSpeed', 'Sunday', 'Monday', 'Tuesday', 'Wednesday', 'Thursday', 'Friday', 'Saturday']\n",
        "  flowData = pd.DataFrame(flowData, columns=flowDataColumns) \n",
        "  \n",
        "  return flowData"
      ],
      "execution_count": 0,
      "outputs": []
    },
    {
      "cell_type": "code",
      "metadata": {
        "id": "6s-x1G__MlUQ",
        "colab_type": "code",
        "colab": {}
      },
      "source": [
        "multivariateData = get_flow(data)\n",
        "univariateData = multivariateData['Flow']\n"
      ],
      "execution_count": 0,
      "outputs": []
    },
    {
      "cell_type": "code",
      "metadata": {
        "id": "nd5UlEa0ZjFY",
        "colab_type": "code",
        "colab": {}
      },
      "source": [
        "if NORMALIZE_FEATS:\n",
        "  lenth = len(univariateData)\n",
        "  univariateData = np.asarray(univariateData).reshape((-1, 1))\n",
        "  scaler = MinMaxScaler(feature_range=(0,1))\n",
        "  scaler = scaler.fit(univariateData)\n",
        "  normalizedData = scaler.transform(univariateData)\n",
        "  univariateData = np.asarray(normalizedData).reshape(lenth,)\n",
        "  univariateData = pd.DataFrame(univariateData)"
      ],
      "execution_count": 0,
      "outputs": []
    },
    {
      "cell_type": "code",
      "metadata": {
        "id": "XolQH37ZKXGz",
        "colab_type": "code",
        "outputId": "7e46624f-ce5e-4046-e788-95ac32532b6e",
        "colab": {
          "base_uri": "https://localhost:8080/",
          "height": 0
        }
      },
      "source": [
        "multivariateData.describe()"
      ],
      "execution_count": 80,
      "outputs": [
        {
          "output_type": "execute_result",
          "data": {
            "text/html": [
              "<div>\n",
              "<style scoped>\n",
              "    .dataframe tbody tr th:only-of-type {\n",
              "        vertical-align: middle;\n",
              "    }\n",
              "\n",
              "    .dataframe tbody tr th {\n",
              "        vertical-align: top;\n",
              "    }\n",
              "\n",
              "    .dataframe thead th {\n",
              "        text-align: right;\n",
              "    }\n",
              "</style>\n",
              "<table border=\"1\" class=\"dataframe\">\n",
              "  <thead>\n",
              "    <tr style=\"text-align: right;\">\n",
              "      <th></th>\n",
              "      <th>Flow</th>\n",
              "      <th>AverageSpeed</th>\n",
              "      <th>Sunday</th>\n",
              "      <th>Monday</th>\n",
              "      <th>Tuesday</th>\n",
              "      <th>Wednesday</th>\n",
              "      <th>Thursday</th>\n",
              "      <th>Friday</th>\n",
              "      <th>Saturday</th>\n",
              "    </tr>\n",
              "  </thead>\n",
              "  <tbody>\n",
              "    <tr>\n",
              "      <th>count</th>\n",
              "      <td>17572.000000</td>\n",
              "      <td>17572.000000</td>\n",
              "      <td>17572.000000</td>\n",
              "      <td>17572.000000</td>\n",
              "      <td>17572.000000</td>\n",
              "      <td>17572.000000</td>\n",
              "      <td>17572.000000</td>\n",
              "      <td>17572.000000</td>\n",
              "      <td>17572.000000</td>\n",
              "    </tr>\n",
              "    <tr>\n",
              "      <th>mean</th>\n",
              "      <td>30.440758</td>\n",
              "      <td>27.849192</td>\n",
              "      <td>0.141304</td>\n",
              "      <td>0.141304</td>\n",
              "      <td>0.141304</td>\n",
              "      <td>0.141304</td>\n",
              "      <td>0.141304</td>\n",
              "      <td>0.141304</td>\n",
              "      <td>0.152174</td>\n",
              "    </tr>\n",
              "    <tr>\n",
              "      <th>std</th>\n",
              "      <td>20.564449</td>\n",
              "      <td>7.772322</td>\n",
              "      <td>0.348345</td>\n",
              "      <td>0.348345</td>\n",
              "      <td>0.348345</td>\n",
              "      <td>0.348345</td>\n",
              "      <td>0.348345</td>\n",
              "      <td>0.348345</td>\n",
              "      <td>0.359200</td>\n",
              "    </tr>\n",
              "    <tr>\n",
              "      <th>min</th>\n",
              "      <td>0.000000</td>\n",
              "      <td>0.000000</td>\n",
              "      <td>0.000000</td>\n",
              "      <td>0.000000</td>\n",
              "      <td>0.000000</td>\n",
              "      <td>0.000000</td>\n",
              "      <td>0.000000</td>\n",
              "      <td>0.000000</td>\n",
              "      <td>0.000000</td>\n",
              "    </tr>\n",
              "    <tr>\n",
              "      <th>25%</th>\n",
              "      <td>10.000000</td>\n",
              "      <td>28.000000</td>\n",
              "      <td>0.000000</td>\n",
              "      <td>0.000000</td>\n",
              "      <td>0.000000</td>\n",
              "      <td>0.000000</td>\n",
              "      <td>0.000000</td>\n",
              "      <td>0.000000</td>\n",
              "      <td>0.000000</td>\n",
              "    </tr>\n",
              "    <tr>\n",
              "      <th>50%</th>\n",
              "      <td>32.000000</td>\n",
              "      <td>30.000000</td>\n",
              "      <td>0.000000</td>\n",
              "      <td>0.000000</td>\n",
              "      <td>0.000000</td>\n",
              "      <td>0.000000</td>\n",
              "      <td>0.000000</td>\n",
              "      <td>0.000000</td>\n",
              "      <td>0.000000</td>\n",
              "    </tr>\n",
              "    <tr>\n",
              "      <th>75%</th>\n",
              "      <td>46.000000</td>\n",
              "      <td>32.000000</td>\n",
              "      <td>0.000000</td>\n",
              "      <td>0.000000</td>\n",
              "      <td>0.000000</td>\n",
              "      <td>0.000000</td>\n",
              "      <td>0.000000</td>\n",
              "      <td>0.000000</td>\n",
              "      <td>0.000000</td>\n",
              "    </tr>\n",
              "    <tr>\n",
              "      <th>max</th>\n",
              "      <td>94.000000</td>\n",
              "      <td>57.000000</td>\n",
              "      <td>1.000000</td>\n",
              "      <td>1.000000</td>\n",
              "      <td>1.000000</td>\n",
              "      <td>1.000000</td>\n",
              "      <td>1.000000</td>\n",
              "      <td>1.000000</td>\n",
              "      <td>1.000000</td>\n",
              "    </tr>\n",
              "  </tbody>\n",
              "</table>\n",
              "</div>"
            ],
            "text/plain": [
              "               Flow  AverageSpeed  ...        Friday      Saturday\n",
              "count  17572.000000  17572.000000  ...  17572.000000  17572.000000\n",
              "mean      30.440758     27.849192  ...      0.141304      0.152174\n",
              "std       20.564449      7.772322  ...      0.348345      0.359200\n",
              "min        0.000000      0.000000  ...      0.000000      0.000000\n",
              "25%       10.000000     28.000000  ...      0.000000      0.000000\n",
              "50%       32.000000     30.000000  ...      0.000000      0.000000\n",
              "75%       46.000000     32.000000  ...      0.000000      0.000000\n",
              "max       94.000000     57.000000  ...      1.000000      1.000000\n",
              "\n",
              "[8 rows x 9 columns]"
            ]
          },
          "metadata": {
            "tags": []
          },
          "execution_count": 80
        }
      ]
    },
    {
      "cell_type": "code",
      "metadata": {
        "id": "WExHYIBBKUtt",
        "colab_type": "code",
        "outputId": "42b267a8-0db1-44cc-917d-5d0b8c49dccf",
        "colab": {
          "base_uri": "https://localhost:8080/",
          "height": 0
        }
      },
      "source": [
        "univariateData.describe()"
      ],
      "execution_count": 81,
      "outputs": [
        {
          "output_type": "execute_result",
          "data": {
            "text/plain": [
              "count    17572.000000\n",
              "mean        30.440758\n",
              "std         20.564449\n",
              "min          0.000000\n",
              "25%         10.000000\n",
              "50%         32.000000\n",
              "75%         46.000000\n",
              "max         94.000000\n",
              "Name: Flow, dtype: float64"
            ]
          },
          "metadata": {
            "tags": []
          },
          "execution_count": 81
        }
      ]
    },
    {
      "cell_type": "markdown",
      "metadata": {
        "id": "k2GB0HWqc4F5",
        "colab_type": "text"
      },
      "source": [
        "## Flow Analysis\n",
        "\n",
        "This is based on [A Guide to Time Series Visualization with Python 3](https://www.digitalocean.com/community/tutorials/a-guide-to-time-series-visualization-with-python-3).\n",
        "\n"
      ]
    },
    {
      "cell_type": "code",
      "metadata": {
        "id": "8D5jfFyKc6Mn",
        "colab_type": "code",
        "outputId": "43663618-2dde-4e7e-e37f-4903fdee57e5",
        "colab": {
          "base_uri": "https://localhost:8080/",
          "height": 0
        }
      },
      "source": [
        "decomposition = sm.tsa.seasonal.seasonal_decompose(univariateData, model='additive', freq=WEEK_SIZE)\n",
        "fig = decomposition.plot()\n",
        "\n",
        "plt.rcdefaults()\n",
        "plt.plot()"
      ],
      "execution_count": 82,
      "outputs": [
        {
          "output_type": "execute_result",
          "data": {
            "text/plain": [
              "[]"
            ]
          },
          "metadata": {
            "tags": []
          },
          "execution_count": 82
        },
        {
          "output_type": "display_data",
          "data": {
            "image/png": "[encoded data removed]",
            "text/plain": [
              "<Figure size 640x480 with 4 Axes>"
            ]
          },
          "metadata": {
            "tags": []
          }
        }
      ]
    },
    {
      "cell_type": "markdown",
      "metadata": {
        "id": "nFv86fqFDDor",
        "colab_type": "text"
      },
      "source": [
        "## I/O Generation\n",
        "\n",
        "This phase will form the input (X) and the output (Y)"
      ]
    },
    {
      "cell_type": "code",
      "metadata": {
        "id": "-UhLdQivK1Bb",
        "colab_type": "code",
        "outputId": "37777c98-cfd4-40a0-b8b8-d2ade8d8bbe4",
        "colab": {
          "base_uri": "https://localhost:8080/",
          "height": 0
        }
      },
      "source": [
        "X_uni, Y_uni= reshape_flow(univariateData, False)"
      ],
      "execution_count": 83,
      "outputs": [
        {
          "output_type": "stream",
          "text": [
            "(17546, 24)\n"
          ],
          "name": "stdout"
        }
      ]
    },
    {
      "cell_type": "code",
      "metadata": {
        "id": "QrSyndY7KNMK",
        "colab_type": "code",
        "colab": {}
      },
      "source": [
        "if VERBOSITY:\n",
        "  print(f\"X Univariate Shape: {X_uni.shape}\")\n",
        "  print(f\"Y Univariate Shape: {Y_uni.shape}\")"
      ],
      "execution_count": 0,
      "outputs": []
    },
    {
      "cell_type": "code",
      "metadata": {
        "id": "SrvzQXFgW6L2",
        "colab_type": "code",
        "outputId": "4d9b216a-27bb-4b08-92a5-5ddb9ebe916a",
        "colab": {
          "base_uri": "https://localhost:8080/",
          "height": 0
        }
      },
      "source": [
        "X_multi, Y_multi= reshape_flow(multivariateData, True)"
      ],
      "execution_count": 85,
      "outputs": [
        {
          "output_type": "stream",
          "text": [
            "(17546, 24, 9)\n"
          ],
          "name": "stdout"
        }
      ]
    },
    {
      "cell_type": "code",
      "metadata": {
        "colab_type": "code",
        "id": "-ITTBOj1W_WH",
        "colab": {}
      },
      "source": [
        "if VERBOSITY:\n",
        "  print(f\"X Multivariate Shape: {X_multi.shape}\")\n",
        "  print(f\"Y Multivariate Shape: {Y_multi.shape}\")"
      ],
      "execution_count": 0,
      "outputs": []
    },
    {
      "cell_type": "markdown",
      "metadata": {
        "id": "5atl1RAeso-d",
        "colab_type": "text"
      },
      "source": [
        "# Random (Baseline)\n",
        "\n",
        "This implementation just guess a random number in the [0, 100] interval for every output."
      ]
    },
    {
      "cell_type": "code",
      "metadata": {
        "id": "Y3Bq_mfg3m8D",
        "colab_type": "code",
        "colab": {}
      },
      "source": [
        "import random as rnd # random"
      ],
      "execution_count": 0,
      "outputs": []
    },
    {
      "cell_type": "code",
      "metadata": {
        "id": "H4uy_XVyswCC",
        "colab_type": "code",
        "colab": {}
      },
      "source": [
        "def random_guess_univariate (Y):\n",
        "  m = max(Y)\n",
        "  \n",
        "  expected, observed, times = [], [], []\n",
        "  pointers = split_dataset(len(Y))\n",
        "  \n",
        "  for i, j, k in pointers:\n",
        "    start = tm.time()\n",
        "    \n",
        "    expected.append(Y[j:k])\n",
        "    observed.append([rnd.randint(0, m) for i in range(k - j)])\n",
        "    times.append(tm.time() - start)\n",
        "    \n",
        "  evaluate(expected, observed, times, \"Random Guess\")"
      ],
      "execution_count": 0,
      "outputs": []
    },
    {
      "cell_type": "code",
      "metadata": {
        "id": "q6uiP9GHLSab",
        "colab_type": "code",
        "colab": {}
      },
      "source": [
        "random_guess_univariate(Y_uni)"
      ],
      "execution_count": 0,
      "outputs": []
    },
    {
      "cell_type": "markdown",
      "metadata": {
        "id": "j2hH4Og160vf",
        "colab_type": "text"
      },
      "source": [
        "# Mean (Baseline)\n",
        "\n",
        "This implementation just get the mean of every flow value in the input and place it as output."
      ]
    },
    {
      "cell_type": "code",
      "metadata": {
        "id": "7tffuEQJ63Sv",
        "colab_type": "code",
        "colab": {}
      },
      "source": [
        "def mean_univariate (X, Y):\n",
        "  expected, observed, times = [], [], []\n",
        "  pointers = split_dataset(len(X))\n",
        "  \n",
        "  for i, j, k in pointers:\n",
        "    start = tm.time()\n",
        "    \n",
        "    expected.append(Y[j:k])\n",
        "    observed.append([np.mean(x) for x in X[j:k]])\n",
        "    times.append(tm.time() - start)\n",
        "    \n",
        "  evaluate(expected, observed, times, \"Mean\")"
      ],
      "execution_count": 0,
      "outputs": []
    },
    {
      "cell_type": "code",
      "metadata": {
        "id": "ZmgiKJdGLV9_",
        "colab_type": "code",
        "colab": {}
      },
      "source": [
        "mean_univariate(X_uni, Y_uni)"
      ],
      "execution_count": 0,
      "outputs": []
    },
    {
      "cell_type": "markdown",
      "metadata": {
        "id": "GVUHvQxwWVrW",
        "colab_type": "text"
      },
      "source": [
        "# Random Forest\n",
        "\n",
        "This implementation is based on [Random Forest Algorithm with Python and Scikit-Learn](https://stackabuse.com/random-forest-algorithm-with-python-and-scikit-learn/)"
      ]
    },
    {
      "cell_type": "code",
      "metadata": {
        "id": "CY4FoU_7aqcL",
        "colab_type": "code",
        "colab": {}
      },
      "source": [
        "from sklearn.ensemble.forest import RandomForestRegressor"
      ],
      "execution_count": 0,
      "outputs": []
    },
    {
      "cell_type": "code",
      "metadata": {
        "id": "aphhugpvWYkP",
        "colab_type": "code",
        "colab": {}
      },
      "source": [
        "def random_forest(X, Y):\n",
        "  model = skl.ensemble.RandomForestRegressor(n_estimators=100, max_features='auto', random_state=0)\n",
        "\n",
        "  expected, observed, times = [], [], []\n",
        "  pointers = split_dataset(len(X))\n",
        "  \n",
        "  X = X.reshape(X.shape[0], X.shape[1])\n",
        "  \n",
        "  for i, j, k in pointers:\n",
        "    start = tm.time()\n",
        "    \n",
        "    model.fit(X[i:j], Y[i:j])\n",
        "    \n",
        "    expected.append(Y[j:k])\n",
        "    observed.append(model.predict(X[j:k]))\n",
        "    times.append(tm.time() - start)\n",
        "    \n",
        "  evaluate(expected, observed, times, \"Random Forest\")"
      ],
      "execution_count": 0,
      "outputs": []
    },
    {
      "cell_type": "code",
      "metadata": {
        "id": "ngS3IfNTWd2N",
        "colab_type": "code",
        "colab": {}
      },
      "source": [
        "random_forest(X_uni, Y_uni)"
      ],
      "execution_count": 0,
      "outputs": []
    },
    {
      "cell_type": "markdown",
      "metadata": {
        "id": "8WICqU265GQ2",
        "colab_type": "text"
      },
      "source": [
        "# Support Vector Machine"
      ]
    },
    {
      "cell_type": "code",
      "metadata": {
        "id": "6O3aVV1s5KdL",
        "colab_type": "code",
        "colab": {}
      },
      "source": [
        "from sklearn import svm"
      ],
      "execution_count": 0,
      "outputs": []
    },
    {
      "cell_type": "code",
      "metadata": {
        "id": "scKSmSyk5Awm",
        "colab_type": "code",
        "colab": {}
      },
      "source": [
        "def support_vector_machine(X,Y):\n",
        "  model = svm.SVR(gamma='scale', C=1.0, epsilon=0.2)\n",
        "\n",
        "  expected, observed, times = [], [], []\n",
        "  pointers = split_dataset(len(X))\n",
        "  \n",
        "  X = X.reshape(X.shape[0], X.shape[1])\n",
        "  \n",
        "  for i, j, k in pointers:\n",
        "    start = tm.time()\n",
        "    \n",
        "    model.fit(X[i:j], Y[i:j])\n",
        "    \n",
        "    expected.append(Y[j:k])\n",
        "    observed.append(model.predict(X[j:k]))\n",
        "    times.append(tm.time() - start)\n",
        "    \n",
        "  evaluate(expected, observed, times, \"SVM\")"
      ],
      "execution_count": 0,
      "outputs": []
    },
    {
      "cell_type": "code",
      "metadata": {
        "id": "J1D1OCE_5kAW",
        "colab_type": "code",
        "colab": {}
      },
      "source": [
        "support_vector_machine(X_uni, Y_uni)"
      ],
      "execution_count": 0,
      "outputs": []
    },
    {
      "cell_type": "markdown",
      "metadata": {
        "id": "B3dQ_nM_TgDC",
        "colab_type": "text"
      },
      "source": [
        "# RNN"
      ]
    },
    {
      "cell_type": "code",
      "metadata": {
        "id": "BH_62Q8G2s9a",
        "colab_type": "code",
        "colab": {}
      },
      "source": [
        "from keras.layers import SimpleRNN"
      ],
      "execution_count": 0,
      "outputs": []
    },
    {
      "cell_type": "code",
      "metadata": {
        "id": "st9EurMVT5gj",
        "colab_type": "code",
        "colab": {}
      },
      "source": [
        "def rnn (X, Y, isMulti): \n",
        "  name = \"RNN Multivariate\" if isMulti else \"RNN Univariate\"\n",
        "  \n",
        "  model = Sequential()\n",
        "  \n",
        "  model.add(SimpleRNN(50, activation='relu', input_shape=(X.shape[1], X.shape[2])))\n",
        "  model.add(Dense(1))\n",
        "  \n",
        "  model.compile(optimizer='adam', loss='mse', metrics = [\"accuracy\"])\n",
        "  \n",
        "  expected, observed, times = [], [], []\n",
        "  pointers = split_dataset(len(X))\n",
        "  \n",
        "  for i, j, k in pointers:\n",
        "    start = tm.time()\n",
        "    \n",
        "    hist = model.fit(X[i:j], Y[i:j], validation_split=0.2, batch_size=64, epochs=15, verbose=0)\n",
        "    \n",
        "    expected.append(Y[j:k])\n",
        "    observed.append(model.predict(X[j:k]))\n",
        "    times.append(tm.time() - start)\n",
        "    \n",
        "    if VERBOSITY:\n",
        "      plot_history(hist, f\"{name} ({str(len(times)).zfill(2)} of {len(pointers)})\")\n",
        "    \n",
        "  evaluate(expected, observed, times, name)"
      ],
      "execution_count": 0,
      "outputs": []
    },
    {
      "cell_type": "code",
      "metadata": {
        "id": "ljCEF3v-L2tj",
        "colab_type": "code",
        "colab": {}
      },
      "source": [
        "rnn(X_uni, Y_uni, False)"
      ],
      "execution_count": 0,
      "outputs": []
    },
    {
      "cell_type": "code",
      "metadata": {
        "id": "3axOTwsBYA-s",
        "colab_type": "code",
        "colab": {}
      },
      "source": [
        "rnn(X_multi, Y_multi, True)"
      ],
      "execution_count": 0,
      "outputs": []
    },
    {
      "cell_type": "markdown",
      "metadata": {
        "id": "D7Nq3PsMTjYc",
        "colab_type": "text"
      },
      "source": [
        "# LSTM"
      ]
    },
    {
      "cell_type": "code",
      "metadata": {
        "id": "nTbbtAki29wT",
        "colab_type": "code",
        "colab": {}
      },
      "source": [
        "from keras.layers import LSTM"
      ],
      "execution_count": 0,
      "outputs": []
    },
    {
      "cell_type": "code",
      "metadata": {
        "id": "AGyRz8GzTp4e",
        "colab_type": "code",
        "colab": {}
      },
      "source": [
        "def lstm (X, Y, isMulti): \n",
        "  name = \"LSTM Multivariate\" if isMulti else \"LSTM Univariate\"\n",
        "  \n",
        "  model = Sequential()\n",
        "  \n",
        "  model.add(LSTM(50, activation='relu', input_shape=(X.shape[1], X.shape[2])))\n",
        "  model.add(Dense(1))\n",
        "  \n",
        "  model.compile(optimizer='adam', loss='mse', metrics = [\"accuracy\"])\n",
        "  \n",
        "  expected, observed, times = [], [], []\n",
        "  pointers = split_dataset(len(X))\n",
        "  \n",
        "  for i, j, k in pointers:\n",
        "    start = tm.time()\n",
        "    \n",
        "    hist = model.fit(X[i:j], Y[i:j], validation_split=0.2, batch_size=64, epochs=15, verbose=0)\n",
        "    \n",
        "    expected.append(Y[j:k])\n",
        "    observed.append(model.predict(X[j:k]))\n",
        "    times.append(tm.time() - start)\n",
        "    \n",
        "    if VERBOSITY:\n",
        "      plot_history(hist, f\"{name} ({str(len(times)).zfill(2)} of {len(pointers)})\")\n",
        "    \n",
        "  evaluate(expected, observed, times, name)"
      ],
      "execution_count": 0,
      "outputs": []
    },
    {
      "cell_type": "code",
      "metadata": {
        "id": "FIUUzGd2Lz-R",
        "colab_type": "code",
        "colab": {}
      },
      "source": [
        "lstm(X_uni, Y_uni, False)"
      ],
      "execution_count": 0,
      "outputs": []
    },
    {
      "cell_type": "code",
      "metadata": {
        "id": "UmdvQZIiYTya",
        "colab_type": "code",
        "colab": {}
      },
      "source": [
        "lstm(X_multi, Y_multi, True)"
      ],
      "execution_count": 0,
      "outputs": []
    },
    {
      "cell_type": "markdown",
      "metadata": {
        "id": "qhaufggBRABt",
        "colab_type": "text"
      },
      "source": [
        "# GRU"
      ]
    },
    {
      "cell_type": "code",
      "metadata": {
        "id": "rP_hAZNu3CS7",
        "colab_type": "code",
        "colab": {}
      },
      "source": [
        "from keras.layers import GRU"
      ],
      "execution_count": 0,
      "outputs": []
    },
    {
      "cell_type": "code",
      "metadata": {
        "id": "KD1GwF_b9P2h",
        "colab_type": "code",
        "colab": {}
      },
      "source": [
        "def gru (X, Y, isMulti): \n",
        "  name = \"GRU Multivariate\" if isMulti else \"GRU Univariate\"\n",
        "  \n",
        "  model = Sequential()\n",
        "  \n",
        "  model.add(GRU(50, activation='relu', input_shape=(X.shape[1], X.shape[2])))\n",
        "  model.add(Dense(1))\n",
        "  \n",
        "  model.compile(optimizer='adam', loss='mse', metrics = [\"accuracy\"])\n",
        "\n",
        "  expected, observed, times = [], [], []\n",
        "  pointers = split_dataset(len(X))\n",
        "  \n",
        "  for i, j, k in pointers:\n",
        "    start = tm.time()\n",
        "    \n",
        "    hist = model.fit(X[i:j], Y[i:j], validation_split=0.2, batch_size=64, epochs=15, verbose=0)\n",
        "    \n",
        "    expected.append(Y[j:k])\n",
        "    observed.append(model.predict(X[j:k]))\n",
        "    times.append(tm.time() - start)\n",
        "    \n",
        "    if VERBOSITY:\n",
        "      plot_history(hist, f\"{name} ({str(len(times)).zfill(2)} of {len(pointers)})\")\n",
        "    \n",
        "  evaluate(expected, observed, times, name)"
      ],
      "execution_count": 0,
      "outputs": []
    },
    {
      "cell_type": "code",
      "metadata": {
        "id": "FzkWaQv_LtFP",
        "colab_type": "code",
        "colab": {}
      },
      "source": [
        "gru(X_uni, Y_uni, False)"
      ],
      "execution_count": 0,
      "outputs": []
    },
    {
      "cell_type": "code",
      "metadata": {
        "id": "IAtUsPrKYZs4",
        "colab_type": "code",
        "colab": {}
      },
      "source": [
        "gru(X_multi, Y_multi, True)"
      ],
      "execution_count": 0,
      "outputs": []
    },
    {
      "cell_type": "markdown",
      "metadata": {
        "id": "1PypQpgeb3Nu",
        "colab_type": "text"
      },
      "source": [
        "# Results"
      ]
    },
    {
      "cell_type": "markdown",
      "metadata": {
        "id": "iEc1XLwM60xN",
        "colab_type": "text"
      },
      "source": [
        "## Store"
      ]
    },
    {
      "cell_type": "code",
      "metadata": {
        "id": "g1GduJyrb7Oq",
        "colab_type": "code",
        "colab": {}
      },
      "source": [
        "store_results()"
      ],
      "execution_count": 0,
      "outputs": []
    },
    {
      "cell_type": "markdown",
      "metadata": {
        "id": "d7RYTwKXkP4o",
        "colab_type": "text"
      },
      "source": [
        "## Plot"
      ]
    },
    {
      "cell_type": "code",
      "metadata": {
        "id": "gEOWGzNAlR61",
        "colab_type": "code",
        "colab": {}
      },
      "source": [
        "plot_performance_bar(0, 'Seconds', 'Training Time Comparison')"
      ],
      "execution_count": 0,
      "outputs": []
    },
    {
      "cell_type": "code",
      "metadata": {
        "id": "l7nGtfoDjRtr",
        "colab_type": "code",
        "colab": {}
      },
      "source": [
        "plot_performance_box(0, 'Seconds', 'Training Time Comparison')"
      ],
      "execution_count": 0,
      "outputs": []
    },
    {
      "cell_type": "code",
      "metadata": {
        "id": "NrwrDmkKurHb",
        "colab_type": "code",
        "colab": {}
      },
      "source": [
        "plot_performance_bar(1, 'RMSE', 'Root Mean Square Error Comparison')"
      ],
      "execution_count": 0,
      "outputs": []
    },
    {
      "cell_type": "code",
      "metadata": {
        "id": "wfkT6lp1jhfR",
        "colab_type": "code",
        "colab": {}
      },
      "source": [
        "plot_performance_box(1, 'RMSE', 'Root Mean Square Error Comparison')"
      ],
      "execution_count": 0,
      "outputs": []
    },
    {
      "cell_type": "code",
      "metadata": {
        "id": "qUXrwAeMuxTM",
        "colab_type": "code",
        "colab": {}
      },
      "source": [
        "plot_performance_bar(2, 'NRMSE', 'Normalized Root Mean Square Error Comparison')"
      ],
      "execution_count": 0,
      "outputs": []
    },
    {
      "cell_type": "code",
      "metadata": {
        "id": "C_139ETyjiDH",
        "colab_type": "code",
        "colab": {}
      },
      "source": [
        "plot_performance_box(2, 'NRMSE', 'Normalized Root Mean Square Error Comparison')"
      ],
      "execution_count": 0,
      "outputs": []
    },
    {
      "cell_type": "code",
      "metadata": {
        "id": "vIfcKIkuEAWK",
        "colab_type": "code",
        "colab": {}
      },
      "source": [
        "plot_performance_bar(3, 'MAE', 'Max Absolute Error Comparison')"
      ],
      "execution_count": 0,
      "outputs": []
    },
    {
      "cell_type": "code",
      "metadata": {
        "id": "XTENlZJRjinW",
        "colab_type": "code",
        "colab": {}
      },
      "source": [
        "plot_performance_box(3, 'MAE', 'Max Absolute Error Comparison')"
      ],
      "execution_count": 0,
      "outputs": []
    },
    {
      "cell_type": "code",
      "metadata": {
        "id": "zAHZyuBZ9_AU",
        "colab_type": "code",
        "colab": {}
      },
      "source": [
        "plot_performance_bar(4, 'R2', 'R Squared Comparison')"
      ],
      "execution_count": 0,
      "outputs": []
    },
    {
      "cell_type": "code",
      "metadata": {
        "id": "rno7b3eu-Aar",
        "colab_type": "code",
        "colab": {}
      },
      "source": [
        "plot_performance_box(4, 'R2', 'R Squared Comparison')"
      ],
      "execution_count": 0,
      "outputs": []
    },
    {
      "cell_type": "code",
      "metadata": {
        "id": "EjSOL-7qeYhf",
        "colab_type": "code",
        "colab": {}
      },
      "source": [
        "plot_performance_bar(5, 'HR', 'Hit Ratio Comparison')"
      ],
      "execution_count": 0,
      "outputs": []
    },
    {
      "cell_type": "code",
      "metadata": {
        "id": "fgzZvkngeY2n",
        "colab_type": "code",
        "colab": {}
      },
      "source": [
        "plot_performance_box(5, 'HR', 'Hit Ratio Comparison')"
      ],
      "execution_count": 0,
      "outputs": []
    },
    {
      "cell_type": "markdown",
      "metadata": {
        "id": "b1QmFwC1k2NO",
        "colab_type": "text"
      },
      "source": [
        "# Compare By Window"
      ]
    },
    {
      "cell_type": "code",
      "metadata": {
        "id": "QdN_JTyQISlM",
        "colab_type": "code",
        "colab": {}
      },
      "source": [
        "def plot_results_by_window_split():\n",
        "  path = f\"{TCC_PATH}plots/window_comparison\"\n",
        "  models = [*comparison_data[0]['results']]\n",
        "  print(models)\n",
        "  \n",
        "  for model in models:\n",
        "    datapoints = [result['results'][model]['NRMSE'] for result in comparison_data]\n",
        "    plt.plot(datapoints)\n",
        "\n",
        "  plt.title('Windows Size for Training Comparison')\n",
        "  plt.ylabel('NRMSE')\n",
        "  plt.xlabel('Window Size')\n",
        "  plt.legend(models, loc='upper left')\n",
        "  plt.rcdefaults()\n",
        "\n",
        "  plt.savefig(path + \".png\", bbox_inches='tight')\n",
        "  plt.savefig(path + \".pdf\")\n",
        "\n",
        "  plt.close('all')"
      ],
      "execution_count": 0,
      "outputs": []
    },
    {
      "cell_type": "code",
      "metadata": {
        "id": "uVG-q8fvk32O",
        "colab_type": "code",
        "colab": {}
      },
      "source": [
        "def compare_results_by_window_split():\n",
        "  global SET_SPLIT\n",
        "  global result_data\n",
        "  global comparison_data\n",
        "  \n",
        "  splitting_windows = [0.20, 0.25, 0.35, 0.40, 0.45, 0.50, 0.55, 0.60, 0.65, 0.70, 0.75, 0.80, 0.85, 0.90]\n",
        "  \n",
        "  result_data = {\n",
        "      'results': {},\n",
        "      'meta': {}\n",
        "  }\n",
        "  comparison_data = []\n",
        "\n",
        "  for split in splitting_windows:\n",
        "    SET_SPLIT = split\n",
        "\n",
        "    random_guess_univariate(Y_uni)\n",
        "    mean_univariate(X_uni, Y_uni)\n",
        "    random_forest(X_uni, Y_uni)\n",
        "    support_vector_machine(X_uni, Y_uni)\n",
        "    rnn(X_uni, Y_uni, False)\n",
        "    rnn(X_multi, Y_multi, True)\n",
        "    lstm(X_uni, Y_uni, False)\n",
        "    gru(X_uni, Y_uni, False)\n",
        "    gru(X_multi, Y_multi, True)\n",
        "    \n",
        "    print([*result_data['results']])\n",
        "\n",
        "    comparison_data.append(copy.deepcopy(result_data))\n",
        "\n",
        "\n",
        "  store_comparisons()"
      ],
      "execution_count": 0,
      "outputs": []
    },
    {
      "cell_type": "code",
      "metadata": {
        "id": "7cRR0WElOJdS",
        "colab_type": "code",
        "colab": {
          "base_uri": "https://localhost:8080/",
          "height": 86
        },
        "outputId": "5d23f49f-52fa-4fe5-ac11-3853fe28705b"
      },
      "source": [
        "compare_results_by_window_split()"
      ],
      "execution_count": 147,
      "outputs": [
        {
          "output_type": "stream",
          "text": [
            "['Random Guess', 'Mean']\n",
            "['Random Guess', 'Mean']\n",
            "['Random Guess', 'Mean']\n",
            "['Random Guess', 'Mean']\n"
          ],
          "name": "stdout"
        }
      ]
    },
    {
      "cell_type": "code",
      "metadata": {
        "id": "HHqYGnwuOJ1_",
        "colab_type": "code",
        "colab": {
          "base_uri": "https://localhost:8080/",
          "height": 35
        },
        "outputId": "70aeeb6b-d23b-4a47-8605-df34bc1c9da8"
      },
      "source": [
        "plot_results_by_window_split()"
      ],
      "execution_count": 148,
      "outputs": [
        {
          "output_type": "stream",
          "text": [
            "['Random Guess', 'Mean']\n"
          ],
          "name": "stdout"
        }
      ]
    },
    {
      "cell_type": "markdown",
      "metadata": {
        "id": "rBjqtHAo_aFw",
        "colab_type": "text"
      },
      "source": [
        "# Observations:\n",
        "\n",
        "+ For the evaluation of the RNN and it's variations was used the Walking Forward methodology so that we had many test sessions and all training sessions where the same size [[1]](https://towardsdatascience.com/time-series-nested-cross-validation-76adba623eb9)"
      ]
    }
  ]
}